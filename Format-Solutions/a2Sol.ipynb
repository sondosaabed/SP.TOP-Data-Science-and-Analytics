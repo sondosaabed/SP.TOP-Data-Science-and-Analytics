{
 "cells": [
  {
   "cell_type": "markdown",
   "id": "e0779e3e",
   "metadata": {},
   "source": [
    "## Assignment #2\n",
    "\n",
    "**Name**: your name\n",
    "\n",
    "**ID**: your id\n"
   ]
  },
  {
   "cell_type": "markdown",
   "id": "a40ab1f6",
   "metadata": {},
   "source": [
    "### Import libraries"
   ]
  },
  {
   "cell_type": "code",
   "execution_count": 3,
   "id": "6ba40663",
   "metadata": {},
   "outputs": [],
   "source": [
    "import numpy as np\n",
    "import os"
   ]
  },
  {
   "cell_type": "markdown",
   "id": "7b69037d",
   "metadata": {},
   "source": [
    "### Read data files"
   ]
  },
  {
   "cell_type": "code",
   "execution_count": 34,
   "id": "f951914a",
   "metadata": {},
   "outputs": [
    {
     "data": {
      "text/plain": [
       "[('Baghdad', array([ 3.1,  3. ,  3.5,  3. ,  8. ,  5. , 10. ,  5. ])),\n",
       " ('Abo Ahmad', array([2. , 2. , 3.3, 1.5, 8. , 2.5, 7. , 3.3])),\n",
       " ('Bravo', array([3. , 3. , 3.3, 1.5, 8. , 3. , 9. , 3. ])),\n",
       " ('Gardens', array([ 4. ,  2.4,  3.5,  3. , 10. ,  5. , 12. ,  5. ])),\n",
       " ('Karaz', array([3. , 2.5, 4. , 1.5, 8. , 3. , 7. , 4. ])),\n",
       " ('Mawares', array([ 2.3,  2. ,  3.3,  1. , 12. ,  3. ,  7. ,  3.3])),\n",
       " ('Max mar', array([ 3.5,  3. ,  5. ,  3. , 12. ,  5. , 13. ,  4. ])),\n",
       " ('Shini', array([2.7, 2. , 3. , 2. , 7. , 2. , 8. , 3.5]))]"
      ]
     },
     "execution_count": 34,
     "metadata": {},
     "output_type": "execute_result"
    }
   ],
   "source": [
    "data_folder = \"groceries\"\n",
    "\n",
    "groceries = [\"Baghdad\", \"Abo Ahmad\", \"Bravo\", \"Gardens\", \"Karaz\", \"Mawares\", \"Max mar\", \"Shini\"]\n",
    "\n",
    "#Define amounts to purchase from each item\n",
    "amounts_to_purchase = np.array([2,1.5,3,6,1,1,2,3])\n",
    "\n",
    "#Read numpy arrays from data folder\n",
    "groceries_prices = [ (name,np.load(f'{os.path.join(data_folder, name)}.npy')) for name in groceries]\n",
    "\n",
    "groceries_prices"
   ]
  },
  {
   "cell_type": "markdown",
   "id": "22bcc451",
   "metadata": {},
   "source": [
    "### Find the grocery with minimum cost"
   ]
  },
  {
   "cell_type": "code",
   "execution_count": 36,
   "id": "15f560a0",
   "metadata": {},
   "outputs": [
    {
     "name": "stdout",
     "output_type": "stream",
     "text": [
      "I will choose grocery Abo Ahmad since it has the lowest total cost 60.3\n"
     ]
    }
   ],
   "source": [
    "#Populate one array for all groceries prices\n",
    "all_prices = np.array([p[1] for p in groceries_prices])\n",
    "\n",
    "#Calculate the total cost for each grocery\n",
    "cost_per_grocery = all_prices.dot(amounts_to_purchase)\n",
    "\n",
    "#Find the minimum cost\n",
    "min_name, min_cost = groceries_prices[cost.argmin()][0], cost.min()\n",
    "\n",
    "print(f\"I will choose grocery {min_name} since it has the lowest total cost {min_cost}\")"
   ]
  }
 ],
 "metadata": {
  "kernelspec": {
   "display_name": "Python 3 (ipykernel)",
   "language": "python",
   "name": "python3"
  },
  "language_info": {
   "codemirror_mode": {
    "name": "ipython",
    "version": 3
   },
   "file_extension": ".py",
   "mimetype": "text/x-python",
   "name": "python",
   "nbconvert_exporter": "python",
   "pygments_lexer": "ipython3",
   "version": "3.10.9"
  }
 },
 "nbformat": 4,
 "nbformat_minor": 5
}