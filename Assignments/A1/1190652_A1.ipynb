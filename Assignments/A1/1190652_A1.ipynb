{
 "cells": [
  {
   "cell_type": "markdown",
   "metadata": {},
   "source": [
    "## Assignment #1\n",
    "<p>Sondos Aabed</p>\n",
    "<b>ID:</b> 1190652"
   ]
  },
  {
   "cell_type": "markdown",
   "metadata": {},
   "source": [
    "<i>This notebook is written as part of Data Science Course work by Dr. Hussein Soboh As a simple introductory exercise to python variables and interactive python notebooks. </i>"
   ]
  },
  {
   "cell_type": "markdown",
   "metadata": {},
   "source": [
    "#### Creating a new notebook\n",
    "\n",
    "- First, to create a new notebook a file with extension <i>.ipynb</i> is created in the working directory.\n",
    "- Then the following command is run in the working directory, that is to start the jupyter server from the command line "
   ]
  },
  {
   "cell_type": "code",
   "execution_count": 1,
   "metadata": {},
   "outputs": [],
   "source": [
    "!python -m notebook  \"\"\" Note: Don't run this cell here as it will re open the jupyeter server \"\"\""
   ]
  },
  {
   "cell_type": "markdown",
   "metadata": {},
   "source": [
    "#### Defining Variables\n",
    "- 5 diffrent variables are defined that contains diffrent information "
   ]
  },
  {
   "cell_type": "code",
   "execution_count": 2,
   "metadata": {},
   "outputs": [],
   "source": [
    "first_name = \"Sondos\"\n",
    "last_name = \"Aabed\"\n",
    "university_id = 1190652\n",
    "expected_graduation_date = \"2024-July-13\"\n",
    "main_reason_for_joining_the_course = \"of my enthusiasim about Data with aspiration to contribute to Palestinian Data Incubaters\\\n",
    " with the extensive knowledge needed to do so\""
   ]
  },
  {
   "cell_type": "markdown",
   "metadata": {},
   "source": [
    "#### format function\n",
    "- using the format function to combine all the information defined in the prev. cell"
   ]
  },
  {
   "cell_type": "code",
   "execution_count": 3,
   "metadata": {},
   "outputs": [],
   "source": [
    "about = \"My name is {}. \".format(first_name +\" \"+ last_name) + \"I am a senior Computer Science Student at BZU and my ID is {}. \".format(university_id) + \"I am glad to be graduating this year in {}. \".format(expected_graduation_date) +\"I am also excited to join this course mainly because {}. \".format(main_reason_for_joining_the_course)"
   ]
  },
  {
   "cell_type": "code",
   "execution_count": 4,
   "metadata": {},
   "outputs": [
    {
     "name": "stdout",
     "output_type": "stream",
     "text": [
      "My name is Sondos Aabed. I am a senior Computer Science Student at BZU and my ID is 1190652. I am glad to be graduating this year in 2024-July-13. I am also excited to join this course mainly because of my enthusiasim about Data with aspiration to contribute to Palestinian Data Incubaters with the extensive knowledge needed to do so. \n"
     ]
    }
   ],
   "source": [
    "print(about)"
   ]
  },
  {
   "cell_type": "markdown",
   "metadata": {},
   "source": [
    "#### Resources\n",
    "- https://docs.jupyter.org/en/latest/running.html \n",
    "- https://docs.python.org/3/library/stdtypes.html#str.format"
   ]
  }
 ],
 "metadata": {
  "kernelspec": {
   "display_name": "Python 3 (ipykernel)",
   "language": "python",
   "name": "python3"
  },
  "language_info": {
   "codemirror_mode": {
    "name": "ipython",
    "version": 3
   },
   "file_extension": ".py",
   "mimetype": "text/x-python",
   "name": "python",
   "nbconvert_exporter": "python",
   "pygments_lexer": "ipython3",
   "version": "3.11.0"
  }
 },
 "nbformat": 4,
 "nbformat_minor": 2
}
