{
 "cells": [
  {
   "cell_type": "markdown",
   "metadata": {},
   "source": [
    "    Department Of Computer Science\n",
    "    COMP4381, SP.TOP: DATA SCIENCE AND ANALYTICS\n",
    "    Dr. Hussein Soboh\n",
    "    COMP4381 | Section 1 "
   ]
  },
  {
   "cell_type": "markdown",
   "metadata": {},
   "source": [
    "## <div align=center> Assignment #7 </div>\n",
    "<div align=center><b> 3D prints roughness dataset</b></div>\n",
    "<div align=center>Linear Regression pipeline for the Roughness of the 3D prints</div>\n",
    "\n",
    "    Prepeared by: Sondos Aabed\n",
    "    ID: 1190652"
   ]
  },
  {
   "cell_type": "markdown",
   "metadata": {},
   "source": [
    "## Table of Contents\n",
    "\n",
    "- Introduction\n",
    "- Tools and Versions\n",
    "- Data Analysis Process\n",
    "    - Data Wrangling\n",
    "    - Data preparation for modeling\n",
    "        - Feature scaling.\n",
    "        - Feature selection.\n",
    "        - Data splitting.\n",
    "- Data Modeling Processing\n",
    "    - Algorithm\n",
    "    - Training \n",
    "    - Testing\n",
    "    - Evaluation\n",
    "- Insights and Conclusions\n",
    "    \n",
    "<hr>"
   ]
  },
  {
   "cell_type": "markdown",
   "metadata": {},
   "source": [
    "## Introduction\n",
    "\n",
    "### About the dataset\n"
   ]
  },
  {
   "cell_type": "markdown",
   "metadata": {},
   "source": [
    "<hr>"
   ]
  },
  {
   "cell_type": "markdown",
   "metadata": {},
   "source": [
    "## Tools and Versions\n",
    "\n",
    "The following tools and versions are utiliize through this reporting:\n",
    "\n",
    "|Tool | Version |\n",
    "|-----|---------|\n",
    "|Python|3.12.2|\n",
    "|Numpy|1.26.4|\n",
    "|Matplotlib|3.8.2|\n",
    "|Pandas|2.2.1|\n",
    "|Visual Studio Code |Updated|\n",
    "|Git & github|[Repo.](https://github.com/sondosaabed/SP.TOP-Data-Science-and-Analytics/blob/main/Assignments/A7-3D-prints-Roughness/1190652_A7.ipynb)|"
   ]
  },
  {
   "cell_type": "markdown",
   "metadata": {},
   "source": [
    "<hr>"
   ]
  },
  {
   "cell_type": "markdown",
   "metadata": {},
   "source": [
    "## Data Analysis Process"
   ]
  },
  {
   "cell_type": "markdown",
   "metadata": {},
   "source": [
    "### Data Wrangling\n",
    "\n",
    "In this section, the data wrangling process is followed wehre first the dataset is loaded and it goes through assessment and cleansing. Inluding aspectes of structural probelms and outliers, duplicaes or missing values."
   ]
  },
  {
   "cell_type": "markdown",
   "metadata": {},
   "source": [
    "#### Loading the Dataset"
   ]
  },
  {
   "cell_type": "markdown",
   "metadata": {},
   "source": [
    "[Kaggle Link of the Dataset](https://www.kaggle.com/datasets/afumetto/3dprinter/data?select=data.csv)"
   ]
  },
  {
   "cell_type": "code",
   "execution_count": 18,
   "metadata": {},
   "outputs": [],
   "source": [
    "import pandas as pd\n",
    "from sklearn.model_selection import train_test_split\n",
    "import matplotlib.pyplot as plt"
   ]
  },
  {
   "cell_type": "code",
   "execution_count": 4,
   "metadata": {},
   "outputs": [],
   "source": [
    "def load_data(path=\"./3d-printing-roughness.csv\"):\n",
    "    \"\"\"\n",
    "    Loads the csv data into the pandas data frame\n",
    "    Args:\n",
    "        path (string): path to the data, deafult value is the file name\n",
    "    Returns:\n",
    "        (pd.DataFrame): data frame contains the file data (pd.DataFrame)\n",
    "    \"\"\"\n",
    "    df = None\n",
    "    if path.endswith(\".csv\"):\n",
    "        df = pd.read_csv(path)\n",
    "    return df"
   ]
  },
  {
   "cell_type": "code",
   "execution_count": 7,
   "metadata": {},
   "outputs": [
    {
     "data": {
      "text/html": [
       "<div>\n",
       "<style scoped>\n",
       "    .dataframe tbody tr th:only-of-type {\n",
       "        vertical-align: middle;\n",
       "    }\n",
       "\n",
       "    .dataframe tbody tr th {\n",
       "        vertical-align: top;\n",
       "    }\n",
       "\n",
       "    .dataframe thead th {\n",
       "        text-align: right;\n",
       "    }\n",
       "</style>\n",
       "<table border=\"1\" class=\"dataframe\">\n",
       "  <thead>\n",
       "    <tr style=\"text-align: right;\">\n",
       "      <th></th>\n",
       "      <th>layer_height</th>\n",
       "      <th>wall_thickness</th>\n",
       "      <th>infill_density</th>\n",
       "      <th>infill_pattern</th>\n",
       "      <th>nozzle_temperature</th>\n",
       "      <th>bed_temperature</th>\n",
       "      <th>print_speed</th>\n",
       "      <th>material</th>\n",
       "      <th>fan_speed</th>\n",
       "      <th>roughness</th>\n",
       "      <th>tension_strenght</th>\n",
       "      <th>elongation</th>\n",
       "    </tr>\n",
       "  </thead>\n",
       "  <tbody>\n",
       "    <tr>\n",
       "      <th>0</th>\n",
       "      <td>0.02</td>\n",
       "      <td>8</td>\n",
       "      <td>90</td>\n",
       "      <td>grid</td>\n",
       "      <td>220</td>\n",
       "      <td>60</td>\n",
       "      <td>40</td>\n",
       "      <td>abs</td>\n",
       "      <td>0</td>\n",
       "      <td>25</td>\n",
       "      <td>18</td>\n",
       "      <td>1.2</td>\n",
       "    </tr>\n",
       "    <tr>\n",
       "      <th>1</th>\n",
       "      <td>0.02</td>\n",
       "      <td>7</td>\n",
       "      <td>90</td>\n",
       "      <td>honeycomb</td>\n",
       "      <td>225</td>\n",
       "      <td>65</td>\n",
       "      <td>40</td>\n",
       "      <td>abs</td>\n",
       "      <td>25</td>\n",
       "      <td>32</td>\n",
       "      <td>16</td>\n",
       "      <td>1.4</td>\n",
       "    </tr>\n",
       "    <tr>\n",
       "      <th>2</th>\n",
       "      <td>0.02</td>\n",
       "      <td>1</td>\n",
       "      <td>80</td>\n",
       "      <td>grid</td>\n",
       "      <td>230</td>\n",
       "      <td>70</td>\n",
       "      <td>40</td>\n",
       "      <td>abs</td>\n",
       "      <td>50</td>\n",
       "      <td>40</td>\n",
       "      <td>8</td>\n",
       "      <td>0.8</td>\n",
       "    </tr>\n",
       "    <tr>\n",
       "      <th>3</th>\n",
       "      <td>0.02</td>\n",
       "      <td>4</td>\n",
       "      <td>70</td>\n",
       "      <td>honeycomb</td>\n",
       "      <td>240</td>\n",
       "      <td>75</td>\n",
       "      <td>40</td>\n",
       "      <td>abs</td>\n",
       "      <td>75</td>\n",
       "      <td>68</td>\n",
       "      <td>10</td>\n",
       "      <td>0.5</td>\n",
       "    </tr>\n",
       "    <tr>\n",
       "      <th>4</th>\n",
       "      <td>0.02</td>\n",
       "      <td>6</td>\n",
       "      <td>90</td>\n",
       "      <td>grid</td>\n",
       "      <td>250</td>\n",
       "      <td>80</td>\n",
       "      <td>40</td>\n",
       "      <td>abs</td>\n",
       "      <td>100</td>\n",
       "      <td>92</td>\n",
       "      <td>5</td>\n",
       "      <td>0.7</td>\n",
       "    </tr>\n",
       "  </tbody>\n",
       "</table>\n",
       "</div>"
      ],
      "text/plain": [
       "   layer_height  wall_thickness  infill_density infill_pattern  \\\n",
       "0          0.02               8              90           grid   \n",
       "1          0.02               7              90      honeycomb   \n",
       "2          0.02               1              80           grid   \n",
       "3          0.02               4              70      honeycomb   \n",
       "4          0.02               6              90           grid   \n",
       "\n",
       "   nozzle_temperature  bed_temperature  print_speed material  fan_speed  \\\n",
       "0                 220               60           40      abs          0   \n",
       "1                 225               65           40      abs         25   \n",
       "2                 230               70           40      abs         50   \n",
       "3                 240               75           40      abs         75   \n",
       "4                 250               80           40      abs        100   \n",
       "\n",
       "   roughness  tension_strenght  elongation  \n",
       "0         25                18         1.2  \n",
       "1         32                16         1.4  \n",
       "2         40                 8         0.8  \n",
       "3         68                10         0.5  \n",
       "4         92                 5         0.7  "
      ]
     },
     "execution_count": 7,
     "metadata": {},
     "output_type": "execute_result"
    }
   ],
   "source": [
    "df = load_data()\n",
    "df.head()"
   ]
  },
  {
   "cell_type": "markdown",
   "metadata": {},
   "source": [
    "<hr>"
   ]
  },
  {
   "cell_type": "markdown",
   "metadata": {},
   "source": [
    "#### Assessing and Cleaning the datasets\n",
    "In this section the following steps will be conducted:\n",
    "- Assess and handle Columns and Data types\n",
    "- Assess and handle Duplicates\n",
    "- Assess and handle Missing Values\n",
    "-  Assess and handle Outliers"
   ]
  },
  {
   "cell_type": "markdown",
   "metadata": {},
   "source": [
    "##### Assessing and handling Columns and Data types"
   ]
  },
  {
   "cell_type": "markdown",
   "metadata": {},
   "source": [
    "- Since one the requiremnts is to have an ordinal feature this feature has the notion of order on it regarding the structure and the infill pattern used where the higher the rank the more complex the pattern used in the design."
   ]
  },
  {
   "cell_type": "code",
   "execution_count": 4,
   "metadata": {},
   "outputs": [],
   "source": [
    "\"\"\"\n",
    "Checkou the refrence [1] for the order:\n",
    "    1- Wiggle\n",
    "    2- Rectilinear\n",
    "    3- Fast honeycomb\n",
    "    4- Full honeycomb\n",
    "    5- Grid\n",
    "    6- Triangular\n",
    "    [1]\n",
    "\"\"\"\n",
    "infill_pattern_mapping = {\n",
    "    'grid': 2,\n",
    "    'honeycomb': 1,\n",
    "}"
   ]
  },
  {
   "cell_type": "code",
   "execution_count": 16,
   "metadata": {},
   "outputs": [
    {
     "name": "stdout",
     "output_type": "stream",
     "text": [
      "<class 'pandas.core.frame.DataFrame'>\n",
      "RangeIndex: 50 entries, 0 to 49\n",
      "Data columns (total 12 columns):\n",
      " #   Column              Non-Null Count  Dtype  \n",
      "---  ------              --------------  -----  \n",
      " 0   layer_height        50 non-null     float64\n",
      " 1   wall_thickness      50 non-null     int64  \n",
      " 2   infill_density      50 non-null     int64  \n",
      " 3   infill_pattern      50 non-null     object \n",
      " 4   nozzle_temperature  50 non-null     int64  \n",
      " 5   bed_temperature     50 non-null     int64  \n",
      " 6   print_speed         50 non-null     int64  \n",
      " 7   material            50 non-null     object \n",
      " 8   fan_speed           50 non-null     int64  \n",
      " 9   roughness           50 non-null     int64  \n",
      " 10  tension_strenght    50 non-null     int64  \n",
      " 11  elongation          50 non-null     float64\n",
      "dtypes: float64(2), int64(8), object(2)\n",
      "memory usage: 4.8+ KB\n"
     ]
    }
   ],
   "source": [
    "df.info()"
   ]
  },
  {
   "cell_type": "code",
   "execution_count": 17,
   "metadata": {},
   "outputs": [
    {
     "data": {
      "text/plain": [
       "layer_height           5\n",
       "wall_thickness        10\n",
       "infill_density         9\n",
       "infill_pattern         2\n",
       "nozzle_temperature     9\n",
       "bed_temperature        5\n",
       "print_speed            3\n",
       "material               2\n",
       "fan_speed              5\n",
       "roughness             44\n",
       "tension_strenght      26\n",
       "elongation            27\n",
       "dtype: int64"
      ]
     },
     "execution_count": 17,
     "metadata": {},
     "output_type": "execute_result"
    }
   ],
   "source": [
    "df.nunique()"
   ]
  },
  {
   "cell_type": "markdown",
   "metadata": {},
   "source": [
    "##### Assess and handle Duplicates\n",
    "Now let's check for duplicates and handle them"
   ]
  },
  {
   "cell_type": "code",
   "execution_count": 14,
   "metadata": {},
   "outputs": [
    {
     "data": {
      "text/plain": [
       "False"
      ]
     },
     "execution_count": 14,
     "metadata": {},
     "output_type": "execute_result"
    }
   ],
   "source": [
    "df.duplicated().any()"
   ]
  },
  {
   "cell_type": "markdown",
   "metadata": {},
   "source": [
    "> There are no duplicates records found."
   ]
  },
  {
   "cell_type": "markdown",
   "metadata": {},
   "source": [
    "##### Assess and handle Missing Values\n",
    "This is the final section of cleaning the dataset, it is about detecting and handling the missing values."
   ]
  },
  {
   "cell_type": "code",
   "execution_count": 15,
   "metadata": {},
   "outputs": [
    {
     "data": {
      "text/plain": [
       "layer_height          0\n",
       "wall_thickness        0\n",
       "infill_density        0\n",
       "infill_pattern        0\n",
       "nozzle_temperature    0\n",
       "bed_temperature       0\n",
       "print_speed           0\n",
       "material              0\n",
       "fan_speed             0\n",
       "roughness             0\n",
       "tension_strenght      0\n",
       "elongation            0\n",
       "dtype: int64"
      ]
     },
     "execution_count": 15,
     "metadata": {},
     "output_type": "execute_result"
    }
   ],
   "source": [
    "df.isna().sum().sort_values()"
   ]
  },
  {
   "cell_type": "markdown",
   "metadata": {},
   "source": [
    "> There are no missing records found."
   ]
  },
  {
   "cell_type": "markdown",
   "metadata": {},
   "source": [
    "##### Assess and handle Outliers\n",
    "Now let's check for outliers with visualization using boxplot."
   ]
  },
  {
   "cell_type": "code",
   "execution_count": 19,
   "metadata": {},
   "outputs": [
    {
     "data": {
      "image/png": "[encoded data removed]",
      "text/plain": [
       "<Figure size 1500x600 with 1 Axes>"
      ]
     },
     "metadata": {},
     "output_type": "display_data"
    }
   ],
   "source": [
    "df.plot(kind='box',figsize=(15, 6));\n",
    "plt.xlabel('Columns')  \n",
    "plt.ylabel('Values') \n",
    "plt.grid(True, alpha=0.2)\n",
    "plt.minorticks_on()\n",
    "plt.title('Boxlotting the 3D prints Roughness Dataset')\n",
    "plt.tick_params(axis='x', rotation=70) \n",
    "plt.show()"
   ]
  },
  {
   "cell_type": "markdown",
   "metadata": {},
   "source": [
    "> The print_speed has an upper bound outlier."
   ]
  },
  {
   "cell_type": "code",
   "execution_count": 32,
   "metadata": {},
   "outputs": [
    {
     "data": {
      "image/png": "[encoded data removed]",
      "text/plain": [
       "<Figure size 400x400 with 1 Axes>"
      ]
     },
     "metadata": {},
     "output_type": "display_data"
    }
   ],
   "source": [
    "df['print_speed'].plot(kind='box',figsize=(4, 4));\n",
    "plt.xlabel('Column')  \n",
    "plt.ylabel('Values') \n",
    "plt.grid(True, alpha=0.2)\n",
    "plt.minorticks_on()\n",
    "plt.title('Boxlotting the 3D prints Roughness Dataset')\n",
    "plt.tick_params(axis='x') \n",
    "plt.show()"
   ]
  },
  {
   "cell_type": "markdown",
   "metadata": {},
   "source": [
    "> The outlier is the record that has the speed of printing as 120, let's take a further look into the records that has that speed."
   ]
  },
  {
   "cell_type": "code",
   "execution_count": 30,
   "metadata": {},
   "outputs": [
    {
     "data": {
      "text/html": [
       "<div>\n",
       "<style scoped>\n",
       "    .dataframe tbody tr th:only-of-type {\n",
       "        vertical-align: middle;\n",
       "    }\n",
       "\n",
       "    .dataframe tbody tr th {\n",
       "        vertical-align: top;\n",
       "    }\n",
       "\n",
       "    .dataframe thead th {\n",
       "        text-align: right;\n",
       "    }\n",
       "</style>\n",
       "<table border=\"1\" class=\"dataframe\">\n",
       "  <thead>\n",
       "    <tr style=\"text-align: right;\">\n",
       "      <th></th>\n",
       "      <th>layer_height</th>\n",
       "      <th>wall_thickness</th>\n",
       "      <th>infill_density</th>\n",
       "      <th>infill_pattern</th>\n",
       "      <th>nozzle_temperature</th>\n",
       "      <th>bed_temperature</th>\n",
       "      <th>print_speed</th>\n",
       "      <th>material</th>\n",
       "      <th>fan_speed</th>\n",
       "      <th>roughness</th>\n",
       "      <th>tension_strenght</th>\n",
       "      <th>elongation</th>\n",
       "    </tr>\n",
       "  </thead>\n",
       "  <tbody>\n",
       "    <tr>\n",
       "      <th>20</th>\n",
       "      <td>0.1</td>\n",
       "      <td>1</td>\n",
       "      <td>40</td>\n",
       "      <td>grid</td>\n",
       "      <td>220</td>\n",
       "      <td>60</td>\n",
       "      <td>120</td>\n",
       "      <td>abs</td>\n",
       "      <td>0</td>\n",
       "      <td>120</td>\n",
       "      <td>16</td>\n",
       "      <td>1.2</td>\n",
       "    </tr>\n",
       "    <tr>\n",
       "      <th>21</th>\n",
       "      <td>0.1</td>\n",
       "      <td>2</td>\n",
       "      <td>30</td>\n",
       "      <td>honeycomb</td>\n",
       "      <td>225</td>\n",
       "      <td>65</td>\n",
       "      <td>120</td>\n",
       "      <td>abs</td>\n",
       "      <td>25</td>\n",
       "      <td>144</td>\n",
       "      <td>12</td>\n",
       "      <td>1.1</td>\n",
       "    </tr>\n",
       "    <tr>\n",
       "      <th>22</th>\n",
       "      <td>0.1</td>\n",
       "      <td>1</td>\n",
       "      <td>50</td>\n",
       "      <td>grid</td>\n",
       "      <td>230</td>\n",
       "      <td>70</td>\n",
       "      <td>120</td>\n",
       "      <td>abs</td>\n",
       "      <td>50</td>\n",
       "      <td>265</td>\n",
       "      <td>10</td>\n",
       "      <td>0.9</td>\n",
       "    </tr>\n",
       "    <tr>\n",
       "      <th>23</th>\n",
       "      <td>0.1</td>\n",
       "      <td>9</td>\n",
       "      <td>80</td>\n",
       "      <td>honeycomb</td>\n",
       "      <td>240</td>\n",
       "      <td>75</td>\n",
       "      <td>120</td>\n",
       "      <td>abs</td>\n",
       "      <td>75</td>\n",
       "      <td>312</td>\n",
       "      <td>19</td>\n",
       "      <td>0.8</td>\n",
       "    </tr>\n",
       "    <tr>\n",
       "      <th>24</th>\n",
       "      <td>0.1</td>\n",
       "      <td>2</td>\n",
       "      <td>60</td>\n",
       "      <td>grid</td>\n",
       "      <td>250</td>\n",
       "      <td>80</td>\n",
       "      <td>120</td>\n",
       "      <td>abs</td>\n",
       "      <td>100</td>\n",
       "      <td>368</td>\n",
       "      <td>8</td>\n",
       "      <td>0.4</td>\n",
       "    </tr>\n",
       "    <tr>\n",
       "      <th>25</th>\n",
       "      <td>0.1</td>\n",
       "      <td>1</td>\n",
       "      <td>50</td>\n",
       "      <td>honeycomb</td>\n",
       "      <td>200</td>\n",
       "      <td>60</td>\n",
       "      <td>120</td>\n",
       "      <td>pla</td>\n",
       "      <td>0</td>\n",
       "      <td>180</td>\n",
       "      <td>11</td>\n",
       "      <td>1.6</td>\n",
       "    </tr>\n",
       "    <tr>\n",
       "      <th>26</th>\n",
       "      <td>0.1</td>\n",
       "      <td>4</td>\n",
       "      <td>40</td>\n",
       "      <td>grid</td>\n",
       "      <td>205</td>\n",
       "      <td>65</td>\n",
       "      <td>120</td>\n",
       "      <td>pla</td>\n",
       "      <td>25</td>\n",
       "      <td>176</td>\n",
       "      <td>12</td>\n",
       "      <td>1.2</td>\n",
       "    </tr>\n",
       "    <tr>\n",
       "      <th>27</th>\n",
       "      <td>0.1</td>\n",
       "      <td>3</td>\n",
       "      <td>50</td>\n",
       "      <td>honeycomb</td>\n",
       "      <td>210</td>\n",
       "      <td>70</td>\n",
       "      <td>120</td>\n",
       "      <td>pla</td>\n",
       "      <td>50</td>\n",
       "      <td>128</td>\n",
       "      <td>18</td>\n",
       "      <td>1.8</td>\n",
       "    </tr>\n",
       "    <tr>\n",
       "      <th>28</th>\n",
       "      <td>0.1</td>\n",
       "      <td>4</td>\n",
       "      <td>90</td>\n",
       "      <td>grid</td>\n",
       "      <td>215</td>\n",
       "      <td>75</td>\n",
       "      <td>120</td>\n",
       "      <td>pla</td>\n",
       "      <td>75</td>\n",
       "      <td>138</td>\n",
       "      <td>34</td>\n",
       "      <td>2.9</td>\n",
       "    </tr>\n",
       "    <tr>\n",
       "      <th>29</th>\n",
       "      <td>0.1</td>\n",
       "      <td>1</td>\n",
       "      <td>30</td>\n",
       "      <td>honeycomb</td>\n",
       "      <td>220</td>\n",
       "      <td>80</td>\n",
       "      <td>120</td>\n",
       "      <td>pla</td>\n",
       "      <td>100</td>\n",
       "      <td>121</td>\n",
       "      <td>14</td>\n",
       "      <td>1.5</td>\n",
       "    </tr>\n",
       "  </tbody>\n",
       "</table>\n",
       "</div>"
      ],
      "text/plain": [
       "    layer_height  wall_thickness  infill_density infill_pattern  \\\n",
       "20           0.1               1              40           grid   \n",
       "21           0.1               2              30      honeycomb   \n",
       "22           0.1               1              50           grid   \n",
       "23           0.1               9              80      honeycomb   \n",
       "24           0.1               2              60           grid   \n",
       "25           0.1               1              50      honeycomb   \n",
       "26           0.1               4              40           grid   \n",
       "27           0.1               3              50      honeycomb   \n",
       "28           0.1               4              90           grid   \n",
       "29           0.1               1              30      honeycomb   \n",
       "\n",
       "    nozzle_temperature  bed_temperature  print_speed material  fan_speed  \\\n",
       "20                 220               60          120      abs          0   \n",
       "21                 225               65          120      abs         25   \n",
       "22                 230               70          120      abs         50   \n",
       "23                 240               75          120      abs         75   \n",
       "24                 250               80          120      abs        100   \n",
       "25                 200               60          120      pla          0   \n",
       "26                 205               65          120      pla         25   \n",
       "27                 210               70          120      pla         50   \n",
       "28                 215               75          120      pla         75   \n",
       "29                 220               80          120      pla        100   \n",
       "\n",
       "    roughness  tension_strenght  elongation  \n",
       "20        120                16         1.2  \n",
       "21        144                12         1.1  \n",
       "22        265                10         0.9  \n",
       "23        312                19         0.8  \n",
       "24        368                 8         0.4  \n",
       "25        180                11         1.6  \n",
       "26        176                12         1.2  \n",
       "27        128                18         1.8  \n",
       "28        138                34         2.9  \n",
       "29        121                14         1.5  "
      ]
     },
     "execution_count": 30,
     "metadata": {},
     "output_type": "execute_result"
    }
   ],
   "source": [
    "df[df['print_speed']== 120]"
   ]
  },
  {
   "cell_type": "markdown",
   "metadata": {},
   "source": [
    "> There seem to be many records that have the printing speed of 120, it is decided to keep these records as a reasonable speed of printing."
   ]
  },
  {
   "cell_type": "markdown",
   "metadata": {},
   "source": [
    "## Data preparation for modeling\n",
    "In this section the following steps will be conducted:\n",
    "- Feature scaling.\n",
    "- Feature Selection and correlation.\n",
    "- Spliting into testing and training subsets."
   ]
  },
  {
   "cell_type": "markdown",
   "metadata": {},
   "source": [
    "### Feature scaling\n",
    "Since numerical outliers were detected, the feature scaling will be performed using the standard scaler. "
   ]
  },
  {
   "cell_type": "code",
   "execution_count": 28,
   "metadata": {},
   "outputs": [
    {
     "data": {
      "text/html": [
       "<div>\n",
       "<style scoped>\n",
       "    .dataframe tbody tr th:only-of-type {\n",
       "        vertical-align: middle;\n",
       "    }\n",
       "\n",
       "    .dataframe tbody tr th {\n",
       "        vertical-align: top;\n",
       "    }\n",
       "\n",
       "    .dataframe thead th {\n",
       "        text-align: right;\n",
       "    }\n",
       "</style>\n",
       "<table border=\"1\" class=\"dataframe\">\n",
       "  <thead>\n",
       "    <tr style=\"text-align: right;\">\n",
       "      <th></th>\n",
       "      <th>count</th>\n",
       "      <th>mean</th>\n",
       "      <th>std</th>\n",
       "      <th>min</th>\n",
       "      <th>25%</th>\n",
       "      <th>50%</th>\n",
       "      <th>75%</th>\n",
       "      <th>max</th>\n",
       "    </tr>\n",
       "  </thead>\n",
       "  <tbody>\n",
       "    <tr>\n",
       "      <th>layer_height</th>\n",
       "      <td>50.0</td>\n",
       "      <td>0.106</td>\n",
       "      <td>0.064397</td>\n",
       "      <td>0.02</td>\n",
       "      <td>0.06</td>\n",
       "      <td>0.10</td>\n",
       "      <td>0.150</td>\n",
       "      <td>0.2</td>\n",
       "    </tr>\n",
       "    <tr>\n",
       "      <th>wall_thickness</th>\n",
       "      <td>50.0</td>\n",
       "      <td>5.220</td>\n",
       "      <td>2.922747</td>\n",
       "      <td>1.00</td>\n",
       "      <td>3.00</td>\n",
       "      <td>5.00</td>\n",
       "      <td>7.000</td>\n",
       "      <td>10.0</td>\n",
       "    </tr>\n",
       "    <tr>\n",
       "      <th>infill_density</th>\n",
       "      <td>50.0</td>\n",
       "      <td>53.400</td>\n",
       "      <td>25.363480</td>\n",
       "      <td>10.00</td>\n",
       "      <td>40.00</td>\n",
       "      <td>50.00</td>\n",
       "      <td>80.000</td>\n",
       "      <td>90.0</td>\n",
       "    </tr>\n",
       "    <tr>\n",
       "      <th>nozzle_temperature</th>\n",
       "      <td>50.0</td>\n",
       "      <td>221.500</td>\n",
       "      <td>14.820353</td>\n",
       "      <td>200.00</td>\n",
       "      <td>210.00</td>\n",
       "      <td>220.00</td>\n",
       "      <td>230.000</td>\n",
       "      <td>250.0</td>\n",
       "    </tr>\n",
       "    <tr>\n",
       "      <th>bed_temperature</th>\n",
       "      <td>50.0</td>\n",
       "      <td>70.000</td>\n",
       "      <td>7.142857</td>\n",
       "      <td>60.00</td>\n",
       "      <td>65.00</td>\n",
       "      <td>70.00</td>\n",
       "      <td>75.000</td>\n",
       "      <td>80.0</td>\n",
       "    </tr>\n",
       "    <tr>\n",
       "      <th>print_speed</th>\n",
       "      <td>50.0</td>\n",
       "      <td>64.000</td>\n",
       "      <td>29.692300</td>\n",
       "      <td>40.00</td>\n",
       "      <td>40.00</td>\n",
       "      <td>60.00</td>\n",
       "      <td>60.000</td>\n",
       "      <td>120.0</td>\n",
       "    </tr>\n",
       "    <tr>\n",
       "      <th>fan_speed</th>\n",
       "      <td>50.0</td>\n",
       "      <td>50.000</td>\n",
       "      <td>35.714286</td>\n",
       "      <td>0.00</td>\n",
       "      <td>25.00</td>\n",
       "      <td>50.00</td>\n",
       "      <td>75.000</td>\n",
       "      <td>100.0</td>\n",
       "    </tr>\n",
       "    <tr>\n",
       "      <th>roughness</th>\n",
       "      <td>50.0</td>\n",
       "      <td>170.580</td>\n",
       "      <td>99.034129</td>\n",
       "      <td>21.00</td>\n",
       "      <td>92.00</td>\n",
       "      <td>165.50</td>\n",
       "      <td>239.250</td>\n",
       "      <td>368.0</td>\n",
       "    </tr>\n",
       "    <tr>\n",
       "      <th>tension_strenght</th>\n",
       "      <td>50.0</td>\n",
       "      <td>20.080</td>\n",
       "      <td>8.925634</td>\n",
       "      <td>4.00</td>\n",
       "      <td>12.00</td>\n",
       "      <td>19.00</td>\n",
       "      <td>27.000</td>\n",
       "      <td>37.0</td>\n",
       "    </tr>\n",
       "    <tr>\n",
       "      <th>elongation</th>\n",
       "      <td>50.0</td>\n",
       "      <td>1.672</td>\n",
       "      <td>0.788188</td>\n",
       "      <td>0.40</td>\n",
       "      <td>1.10</td>\n",
       "      <td>1.55</td>\n",
       "      <td>2.175</td>\n",
       "      <td>3.3</td>\n",
       "    </tr>\n",
       "  </tbody>\n",
       "</table>\n",
       "</div>"
      ],
      "text/plain": [
       "                    count     mean        std     min     25%     50%  \\\n",
       "layer_height         50.0    0.106   0.064397    0.02    0.06    0.10   \n",
       "wall_thickness       50.0    5.220   2.922747    1.00    3.00    5.00   \n",
       "infill_density       50.0   53.400  25.363480   10.00   40.00   50.00   \n",
       "nozzle_temperature   50.0  221.500  14.820353  200.00  210.00  220.00   \n",
       "bed_temperature      50.0   70.000   7.142857   60.00   65.00   70.00   \n",
       "print_speed          50.0   64.000  29.692300   40.00   40.00   60.00   \n",
       "fan_speed            50.0   50.000  35.714286    0.00   25.00   50.00   \n",
       "roughness            50.0  170.580  99.034129   21.00   92.00  165.50   \n",
       "tension_strenght     50.0   20.080   8.925634    4.00   12.00   19.00   \n",
       "elongation           50.0    1.672   0.788188    0.40    1.10    1.55   \n",
       "\n",
       "                        75%    max  \n",
       "layer_height          0.150    0.2  \n",
       "wall_thickness        7.000   10.0  \n",
       "infill_density       80.000   90.0  \n",
       "nozzle_temperature  230.000  250.0  \n",
       "bed_temperature      75.000   80.0  \n",
       "print_speed          60.000  120.0  \n",
       "fan_speed            75.000  100.0  \n",
       "roughness           239.250  368.0  \n",
       "tension_strenght     27.000   37.0  \n",
       "elongation            2.175    3.3  "
      ]
     },
     "execution_count": 28,
     "metadata": {},
     "output_type": "execute_result"
    }
   ],
   "source": [
    "df.describe().T"
   ]
  },
  {
   "cell_type": "markdown",
   "metadata": {},
   "source": [
    "> Looking at the maximum and minimum values or the range of each of the numerical feature, the data contains diffrent scales of features so the decision is to make the step of feature scaling."
   ]
  },
  {
   "cell_type": "markdown",
   "metadata": {},
   "source": [
    "### Feature Selection and correlation\n",
    "Since numerical outliers were detected, the feature scaling will be performed using the standard scaler. "
   ]
  },
  {
   "cell_type": "code",
   "execution_count": null,
   "metadata": {},
   "outputs": [],
   "source": []
  },
  {
   "cell_type": "markdown",
   "metadata": {},
   "source": [
    "### Dataset Splitting\n",
    "The splitting rule used is the 80:20 split train:test."
   ]
  },
  {
   "cell_type": "code",
   "execution_count": null,
   "metadata": {},
   "outputs": [],
   "source": [
    "X_train, X_test, y_train, y_test = train_test_split(x_scaled, y, test_size=0.2, random_state=1190652)"
   ]
  },
  {
   "cell_type": "markdown",
   "metadata": {},
   "source": [
    "## Data Modeling Process"
   ]
  },
  {
   "cell_type": "markdown",
   "metadata": {},
   "source": [
    "## Refrences\n",
    "- [1] https://the3dbros.com/3d-print-infill-patterns-explained/"
   ]
  }
 ],
 "metadata": {
  "kernelspec": {
   "display_name": "Python 3",
   "language": "python",
   "name": "python3"
  },
  "language_info": {
   "codemirror_mode": {
    "name": "ipython",
    "version": 3
   },
   "file_extension": ".py",
   "mimetype": "text/x-python",
   "name": "python",
   "nbconvert_exporter": "python",
   "pygments_lexer": "ipython3",
   "version": "3.11.0"
  }
 },
 "nbformat": 4,
 "nbformat_minor": 2
}
