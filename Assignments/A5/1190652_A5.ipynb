{
 "cells": [
  {
   "cell_type": "markdown",
   "metadata": {},
   "source": [
    "    Department Of Computer Science\n",
    "    COMP4381, SP.TOP: DATA SCIENCE AND ANALYTICS\n",
    "    Dr. Hussein Soboh\n",
    "    COMP4381 | Section 1 \n",
    "\n",
    "\n",
    "## <div align=center> Assignment #5 </div>\n",
    "<div align=center><b>Analyis of a UK-based online retail transactions </b></div>\n",
    "<div align=center>Occurring between 01/12/2009 and 09/12/2011</div>\n",
    "\n",
    "<a href=\"https://www.kaggle.com/datasets/mashlyn/online-retail-ii-uci\">https://www.kaggle.com/datasets/mashlyn/online-retail-ii-uci</a>\n",
    "\n",
    "    Prepeared by: Sondos Aabed   \n",
    "    ID: 1190652\n",
    "<a id='intro'></a>\n",
    "<hr>"
   ]
  },
  {
   "cell_type": "markdown",
   "metadata": {},
   "source": [
    "**Dear Online Retail company representative,**\n",
    "\n",
    "The follwing report is written to inform you about the analysis results condocted on the data collected between 01/12/2009 and 09/12/2011 from your UK-based online retail transactions. \n",
    "\n",
    "In this analysis report, several key aspects based on your requirements provided earlier are addressed:\n",
    "\n",
    "1. **Top 5 invoices based on their Total sales**\n",
    "2. **Top 5 customers based on their Total buying**\n",
    "3. **Top 5 Selling Items during that Period**\n",
    "4. **Top 20 Pairs, Most Frequently Purchased Item Pairs by Customers**\n",
    "5. **Recommendations for a New Promotion Targeting Items with Low Sales Volume**\n",
    "\n",
    "Please note that this report follows the follwing structure, and you are able to get back up within the notebook.\n",
    "\n",
    "- Your question and its corresponding number.\n",
    "- Code cell(s) implementing the necessary calculations and data manipulations. (as a non-technincal reveiwer you can look at the results and the onterpretation)\n",
    "- Markdown cell presenting the results obtained and providing interpretation.\n",
    "- You can also check the table of contents, list of figures, and list of tables.\n",
    "\n",
    "For your information, a random sample of 200k rows from the dataset using (1190652) as the seed to ensure reproducibility.\n",
    "\n",
    "Insights of this analysis will help in strategic decisions for optimizing sales and customer satisfaction.\n",
    "\n",
    "Should you have any further queries or require additional clarifications, please do not hesitate to reach out.\n",
    "\n",
    "Best regards,\n",
    "\n",
    "<i>Sondos Aabed,</i>\n",
    "\n",
    "<hr>"
   ]
  },
  {
   "cell_type": "markdown",
   "metadata": {},
   "source": [
    "#### <b>Table of Contents</b>\n",
    "- <b>Introduction</b>\n",
    "- <b>Objectives</b>\n",
    "- <b>Software Listenings</b>\n",
    "- <b>Dataset Analysis</b>\n",
    "    - Load and Sample Data\n",
    "    - Dataset Initial Exploration\n",
    "    - Date and total price handling\n",
    "    - Visualization\n",
    "- <b>Conclusion</b>\n",
    "- <b>Refrences</b>\n",
    "\n",
    "#### <b>List of Figures</b>\n",
    "- Figure 0: \n",
    "- Figure 1: Number of Invoices by Year\n",
    "- Figure 2: Number of Invoices Over Months\n",
    "- Figure 3: Word Cloud of Product Descriptions\n",
    "\n",
    "#### <b>List of Tables</b>\n",
    "- Table 0: Software Litening\n",
    "- Table 1: Standard Error of Means for numerical columns\n",
    "- Table 2: Dataset Head\n",
    "- Table 3: Dataset Tail\n",
    "- Table 4: Dataset Numerical Describtion\n",
    "- Table 5: Missing Values By Percentage \n",
    "- Table 6: Dataset Columns Data types\n",
    "- Table 7: Number of uniques in the datasets\n",
    "- Table 8: Is Na for datasets\n",
    "\n",
    "<hr>"
   ]
  },
  {
   "cell_type": "markdown",
   "metadata": {},
   "source": [
    "#### <b>Introduction</b>\n",
    "\n",
    "<hr>"
   ]
  },
  {
   "cell_type": "markdown",
   "metadata": {},
   "source": [
    "#### <b>Objectives</b>\n",
    "[Back](#intro)\n",
    "\n",
    "\n",
    "<hr>"
   ]
  },
  {
   "cell_type": "markdown",
   "metadata": {},
   "source": [
    "#### <b>Software Listenings</b>\n",
    "[Back](#intro)\n",
    "\n",
    "The followning table shows the software tools and versions used in this experimnet.\n",
    "\n",
    "Table 0: Software Listenings\n",
    "\n",
    "|Tool | Version |\n",
    "|-----|---------|\n",
    "|Python|3.12.2|\n",
    "|Numpy|1.26.4|\n",
    "|Matplotlib|3.8.2|\n",
    "|Pandas|2.2.1|\n",
    "|Visual Studio Code |Updated|\n",
    "|Git & github|[Repo.](https://github.com/sondosaabed/SP.TOP-Data-Science-and-Analytics/blob/main/Assignments/A4/1190652_A4.ipynb)|\n",
    "\n",
    "<hr>"
   ]
  },
  {
   "cell_type": "markdown",
   "metadata": {},
   "source": [
    "#### <b>Dataset Analysis</b>\n",
    "[Back](#intro)"
   ]
  },
  {
   "cell_type": "markdown",
   "metadata": {},
   "source": [
    "- Neccessary Imports"
   ]
  },
  {
   "cell_type": "code",
   "execution_count": 1,
   "metadata": {},
   "outputs": [],
   "source": [
    "import pandas as pd\n",
    "import numpy as np\n",
    "import matplotlib.pyplot as plt\n",
    "from IPython.display import display\n",
    "import seaborn as sns\n",
    "from wordcloud import WordCloud"
   ]
  },
  {
   "cell_type": "markdown",
   "metadata": {},
   "source": [
    "><b>Loading Data and Sampling</b>"
   ]
  },
  {
   "cell_type": "markdown",
   "metadata": {},
   "source": [
    "- Read a 200k sample with 1190652 random seed, and calculate sample error"
   ]
  },
  {
   "cell_type": "code",
   "execution_count": 5,
   "metadata": {},
   "outputs": [],
   "source": [
    "def read_sample(sample_size = 200000, path='./online_retail_II.csv', seed = 1190652):\n",
    "    \"\"\"\n",
    "    Read a csv file into dataframe and take a sample\n",
    "    Args:\n",
    "        path (str): the path of the dataset takes a deafult value (relative path)\n",
    "        seed (int): the seed for randomness so each time it have the same random selcetd\n",
    "    Returns:\n",
    "        sample (pd.Dataframe): sample taken from the read df with specific seed\n",
    "    \"\"\"\n",
    "    df = pd.read_csv(path)\n",
    "    sample = df.sample(sample_size, random_state=seed)\n",
    "    return sample"
   ]
  },
  {
   "cell_type": "code",
   "execution_count": 6,
   "metadata": {},
   "outputs": [
    {
     "name": "stdout",
     "output_type": "stream",
     "text": [
      "(1067371, 8)\n",
      "Table 1: Standard Error of Means for numerical columns:\n"
     ]
    },
    {
     "data": {
      "text/html": [
       "<div>\n",
       "<style scoped>\n",
       "    .dataframe tbody tr th:only-of-type {\n",
       "        vertical-align: middle;\n",
       "    }\n",
       "\n",
       "    .dataframe tbody tr th {\n",
       "        vertical-align: top;\n",
       "    }\n",
       "\n",
       "    .dataframe thead th {\n",
       "        text-align: right;\n",
       "    }\n",
       "</style>\n",
       "<table border=\"1\" class=\"dataframe\">\n",
       "  <thead>\n",
       "    <tr style=\"text-align: right;\">\n",
       "      <th></th>\n",
       "      <th>SEM</th>\n",
       "    </tr>\n",
       "  </thead>\n",
       "  <tbody>\n",
       "    <tr>\n",
       "      <th>Quantity</th>\n",
       "      <td>0.413771</td>\n",
       "    </tr>\n",
       "    <tr>\n",
       "      <th>Price</th>\n",
       "      <td>0.287015</td>\n",
       "    </tr>\n",
       "    <tr>\n",
       "      <th>Customer ID</th>\n",
       "      <td>4.313394</td>\n",
       "    </tr>\n",
       "  </tbody>\n",
       "</table>\n",
       "</div>"
      ],
      "text/plain": [
       "                  SEM\n",
       "Quantity     0.413771\n",
       "Price        0.287015\n",
       "Customer ID  4.313394"
      ]
     },
     "metadata": {},
     "output_type": "display_data"
    }
   ],
   "source": [
    "sample = read_sample()\n",
    "sem = pd.DataFrame(sample.sem(numeric_only= True), columns=['SEM'])\n",
    "print(\"Table 1: Standard Error of Means for numerical columns:\")\n",
    "display(sem)"
   ]
  },
  {
   "cell_type": "markdown",
   "metadata": {},
   "source": [
    "A sample of 200k is taken from 1,067,371 population. \n"
   ]
  },
  {
   "cell_type": "markdown",
   "metadata": {},
   "source": [
    "> <b>Dataset Exploration</b>"
   ]
  },
  {
   "cell_type": "markdown",
   "metadata": {},
   "source": [
    "- Get the missing Values percentages"
   ]
  },
  {
   "cell_type": "code",
   "execution_count": null,
   "metadata": {},
   "outputs": [],
   "source": [
    "def missing_values(df):\n",
    "    \"\"\"\n",
    "    This is to get the percetages of missing data\n",
    "    Args:\n",
    "        df (pd.Dataframe): contains the data\n",
    "    Returns:\n",
    "        missing_percetanges(pd.Dataframe): contains Column,\tCounts, and\tPercentage\n",
    "            of the missing values for eah colmn\n",
    "    \"\"\"\n",
    "    missing_count = df.isnull().sum()\n",
    "    missing_percetanges = pd.DataFrame({\n",
    "        'Column': missing_count.index,\n",
    "        'Counts': missing_count.values,\n",
    "        'Percentage': missing_count.values / len(df) * 100  \n",
    "    })\n",
    "    return  missing_percetanges"
   ]
  },
  {
   "cell_type": "markdown",
   "metadata": {},
   "source": [
    "- Explore the data including: head, tail, number of uniques, number of NA, statistical describtion for numerical, and data types"
   ]
  },
  {
   "cell_type": "code",
   "execution_count": null,
   "metadata": {},
   "outputs": [],
   "source": [
    "def explore_sample(sample):\n",
    "    \"\"\"\n",
    "    Exploring a dataset sample\n",
    "    Args:\n",
    "        sample (pd.Dataframe): the dataset sample to explore.\n",
    "    Returns:\n",
    "        results (dict): containing results of each exploration with the title as key\n",
    "    \"\"\"\n",
    "    head = pd.DataFrame(sample.head())\n",
    "    tail = pd.DataFrame(sample.tail())\n",
    "    nunique = pd.DataFrame(sample.nunique(), columns=[\"#_of_Unique\"])\n",
    "    describe = pd.DataFrame(sample.describe())\n",
    "    isna =  pd.DataFrame(sample.isna().sum(), columns=[\"#_of_IsNa\"])\n",
    "    dtypes =  pd.DataFrame(sample.dtypes, columns=[\"Datatype\"])\n",
    "    results = {\n",
    "        'Table 2: Dataset Head:':head,\n",
    "        'Table 3: Dataset Tail:':tail,\n",
    "        'Table 4: Dataset Numerical Describtion: ':describe,\n",
    "        'Table 5: Missing Values By Percentage': missing_values(sample), \n",
    "        'Table 6: Dataset Columns Data types: ':dtypes,\n",
    "        'Table 7: Number of uniques in the datasets:':nunique,\n",
    "        'Table 8: Is Na for datasets':isna}\n",
    "    return results"
   ]
  },
  {
   "cell_type": "markdown",
   "metadata": {},
   "source": [
    "- Print the dataframes of exploration results."
   ]
  },
  {
   "cell_type": "code",
   "execution_count": null,
   "metadata": {},
   "outputs": [],
   "source": [
    "def print_sample_exploration(results):\n",
    "    \"\"\"\n",
    "    Prints a beautufil display of each of the exploration dataframe\n",
    "    Args:\n",
    "        results (dict): contains exploration outputs with the title as key\n",
    "    Returns:\n",
    "        nothing\n",
    "    \"\"\"\n",
    "    for operation, dataframe in results.items():\n",
    "        print(f\"{operation}\")\n",
    "        if operation == 'Missing Values':\n",
    "            print(\"Total Sum of Missing Percetange: \", dataframe['Percentage'].sum())\n",
    "        display(dataframe)"
   ]
  },
  {
   "cell_type": "code",
   "execution_count": null,
   "metadata": {},
   "outputs": [],
   "source": [
    "results = explore_sample(sample)\n",
    "print_sample_exploration(results)"
   ]
  },
  {
   "cell_type": "markdown",
   "metadata": {},
   "source": [
    "> <b>Handle Date and Get total Price per inovice</b>\n",
    "\n",
    "[Back](#intro)"
   ]
  },
  {
   "cell_type": "code",
   "execution_count": null,
   "metadata": {},
   "outputs": [],
   "source": [
    "def handle_date(sample):\n",
    "    \"\"\" \n",
    "    Handles date high cardenality\n",
    "    Args: \n",
    "        sample (pd.Dataframe): contains datset\n",
    "    Return:\n",
    "        (pd.Dataframe) handeled with day, month, year and time columns added\n",
    "    \"\"\"    \n",
    "    sample['InvoiceDate'] = pd.to_datetime(sample['InvoiceDate'])\n",
    "    sample['InvoiceYear'] = sample['InvoiceDate'].dt.year\n",
    "    sample['InvoiceMonth'] = sample['InvoiceDate'].dt.month\n",
    "    sample['InvoiceDay'] = sample['InvoiceDate'].dt.day\n",
    "    sample['InvoiceTime'] = sample['InvoiceDate'].dt.time\n",
    "    sample = sample.drop('InvoiceDate', axis=1)\n",
    "    return sample"
   ]
  },
  {
   "cell_type": "code",
   "execution_count": null,
   "metadata": {},
   "outputs": [],
   "source": [
    "def get_total(row):\n",
    "    \"\"\"\n",
    "    Calcualtes the total prices by multiplication and considering quantity\n",
    "    Args:\n",
    "        row of the dataframe\n",
    "    Returns:\n",
    "        Total price  that is calculated by multiplication of Quantity*Price \n",
    "    \"\"\"\n",
    "    return row[\"Quantity\"] * row[\"Price\"]"
   ]
  },
  {
   "cell_type": "code",
   "execution_count": null,
   "metadata": {},
   "outputs": [],
   "source": [
    "sample = handle_date(sample)\n",
    "sample['total_price'] = sample.apply(get_total, axis=1)\n",
    "sample.head()"
   ]
  },
  {
   "cell_type": "markdown",
   "metadata": {},
   "source": [
    "> <b>Visualization</b>\n",
    "\n",
    "[Back](#intro)"
   ]
  },
  {
   "cell_type": "code",
   "execution_count": null,
   "metadata": {},
   "outputs": [],
   "source": [
    "sample['InvoiceYear'].value_counts().sort_index().plot(kind='bar')\n",
    "plt.title('Figure 1: Number of Invoices by Year')\n",
    "plt.xlabel('Year')\n",
    "plt.ylabel('Number of Invoices')"
   ]
  },
  {
   "cell_type": "code",
   "execution_count": null,
   "metadata": {},
   "outputs": [],
   "source": [
    "sample.groupby('InvoiceMonth')['Invoice'].count().plot(marker='o')\n",
    "plt.title('Figure 2: Number of Invoices Over Months')\n",
    "plt.xlabel('Month')\n",
    "plt.ylabel('Number of Invoices')"
   ]
  },
  {
   "cell_type": "code",
   "execution_count": null,
   "metadata": {},
   "outputs": [],
   "source": [
    "words = ' '.join(sample['Description'].dropna())\n",
    "wordcloud = WordCloud(background_color='white').generate(words)\n",
    "plt.imshow(wordcloud)\n",
    "plt.title('Figure 3: Word Cloud of Product Descriptions')\n",
    "plt.axis('off')"
   ]
  },
  {
   "cell_type": "code",
   "execution_count": null,
   "metadata": {},
   "outputs": [],
   "source": [
    "hourly_sales = sample.groupby('InvoiceTime')['total_price'].sum()\n",
    "peak_sales_hour = hourly_sales.idxmax()\n",
    "print(f\"The peak sales hour is at {peak_sales_hour} o'clock.\")"
   ]
  },
  {
   "cell_type": "markdown",
   "metadata": {},
   "source": [
    "><b>Data Insights</b>\n",
    "\n",
    "[Back](#intro)"
   ]
  },
  {
   "cell_type": "markdown",
   "metadata": {},
   "source": [
    "1. Determine the total sales per invoice and identify the top 5 invoices."
   ]
  },
  {
   "cell_type": "code",
   "execution_count": null,
   "metadata": {},
   "outputs": [],
   "source": [
    "print(\"The top 5 total Sales and their invovice:\")\n",
    "sample.groupby(sample['Invoice'])['total_price'].sum().nlargest(5)"
   ]
  },
  {
   "cell_type": "markdown",
   "metadata": {},
   "source": [
    "2. Compute the total sales per customer and list the top 5 customers."
   ]
  },
  {
   "cell_type": "code",
   "execution_count": null,
   "metadata": {},
   "outputs": [],
   "source": [
    "print(\"The top 5 buyers by Id:\")\n",
    "sample.groupby(sample['Customer ID'])['total_price'].sum().nlargest(5)"
   ]
  },
  {
   "cell_type": "markdown",
   "metadata": {},
   "source": [
    "3. Identify the top 5 selling items during this period."
   ]
  },
  {
   "cell_type": "code",
   "execution_count": null,
   "metadata": {},
   "outputs": [],
   "source": [
    "print(\"The top 5 selling items:\")\n",
    "sample.groupby(sample['Description'])['total_price'].sum().nlargest(5)"
   ]
  },
  {
   "cell_type": "markdown",
   "metadata": {},
   "source": [
    "4. Determine the most frequently purchased item pairs by customers and display the top 20 pairs."
   ]
  },
  {
   "cell_type": "code",
   "execution_count": null,
   "metadata": {},
   "outputs": [],
   "source": []
  },
  {
   "cell_type": "markdown",
   "metadata": {},
   "source": [
    "5. The retail store aims to introduce a new promotion targeting items with low sales volume. This promotion entails offering a discounted price for a pair of two different items, with one item being among the top 10 best sellers and the other from the bottom 10 sellers. Customers who purchase these two items together will qualify for the special pricing. Your task is to recommend 10 pairs of items to kickstart this campaign."
   ]
  },
  {
   "cell_type": "code",
   "execution_count": null,
   "metadata": {},
   "outputs": [],
   "source": []
  },
  {
   "cell_type": "markdown",
   "metadata": {},
   "source": [
    "<hr>"
   ]
  },
  {
   "cell_type": "markdown",
   "metadata": {},
   "source": [
    "#### <b>Conclusion</b>\n",
    "[Back](#intro)\n",
    "\n",
    "<hr>"
   ]
  },
  {
   "cell_type": "markdown",
   "metadata": {},
   "source": [
    "#### <b>Refrences</b>\n",
    "[Back](#intro)\n",
    "\n",
    "- [1] https://pandas.pydata.org/pandas-docs/stable/reference/api/pandas.DataFrame.nlargest.html\n",
    "- [2] https://stackoverflow.com/questions/26873127/show-dataframe-as-table-in-ipython-notebook\n",
    "<hr>"
   ]
  }
 ],
 "metadata": {
  "kernelspec": {
   "display_name": ".venv",
   "language": "python",
   "name": "python3"
  },
  "language_info": {
   "codemirror_mode": {
    "name": "ipython",
    "version": 3
   },
   "file_extension": ".py",
   "mimetype": "text/x-python",
   "name": "python",
   "nbconvert_exporter": "python",
   "pygments_lexer": "ipython3",
   "version": "3.12.2"
  }
 },
 "nbformat": 4,
 "nbformat_minor": 2
}
