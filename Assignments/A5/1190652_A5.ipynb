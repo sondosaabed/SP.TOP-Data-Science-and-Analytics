{
 "cells": [
  {
   "cell_type": "markdown",
   "metadata": {},
   "source": [
    ">   Department Of Computer Science\n",
    "\n",
    ">   COMP4381, SP.TOP: DATA SCIENCE AND ANALYTICS\n",
    "\n",
    ">  Dr. Hussein Soboh\n",
    "\n",
    "> COMP4381 | Section 1 \n",
    "<hr>"
   ]
  },
  {
   "cell_type": "markdown",
   "metadata": {},
   "source": [
    "## <div align=center> Assignment #5 </div>\n",
    "<div align=center><b>Coffee Reviews Dataset Exploration</b></div>\n",
    "<div align=center>Bean to Cup: Coffee rankings from around the world</div>\n",
    "\n",
    "> Prepeared by: Sondos Aabed   \n",
    "\n",
    "> ID: 1190652\n",
    "\n",
    "<hr>"
   ]
  },
  {
   "cell_type": "markdown",
   "metadata": {},
   "source": [
    "#### <b>Table of Contents</b>\n",
    "- <b>Introduction</b>\n",
    "    - About this dataset\n",
    "- <b>Objectives</b>\n",
    "- <b>Software Listenings</b>\n",
    "- <b>Dataset Analysis</b>\n",
    "- <b>Conclusion</b>"
   ]
  }
 ],
 "metadata": {
  "language_info": {
   "name": "python"
  }
 },
 "nbformat": 4,
 "nbformat_minor": 2
}
