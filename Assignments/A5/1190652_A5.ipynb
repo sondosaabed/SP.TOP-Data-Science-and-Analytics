{
 "cells": [
  {
   "cell_type": "markdown",
   "metadata": {},
   "source": [
    ">   Department Of Computer Science\n",
    "\n",
    ">   COMP4381, SP.TOP: DATA SCIENCE AND ANALYTICS\n",
    "\n",
    ">  Dr. Hussein Soboh\n",
    "\n",
    "> COMP4381 | Section 1 \n",
    "\n",
    "\n",
    "## <div align=center> Assignment #5 </div>\n",
    "<div align=center><b>Title</b></div>\n",
    "<div align=center>sub title</div>\n",
    "\n",
    "> Prepeared by: Sondos Aabed   \n",
    "\n",
    "> ID: 1190652\n",
    "\n",
    "<hr>"
   ]
  },
  {
   "cell_type": "markdown",
   "metadata": {},
   "source": [
    "#### <b>Table of Contents</b>\n",
    "- <b>Introduction</b>\n",
    "    - About this dataset\n",
    "- <b>Objectives</b>\n",
    "- <b>Software Listenings</b>\n",
    "- <b>Dataset Analysis</b>\n",
    "- <b>Conclusion</b>\n",
    "\n",
    "#### <b>List of Figures</b>\n",
    "- Figure 0: \n",
    "- Figure 1: \n",
    "- Figure 2: \n",
    "- Figure 3:\n",
    "- Figure 4: \n",
    "\n",
    "#### <b>List of Tables</b>\n",
    "- Table 1: \n",
    "- Table 2: \n",
    "\n",
    "<hr>"
   ]
  },
  {
   "cell_type": "code",
   "execution_count": 4,
   "metadata": {},
   "outputs": [],
   "source": [
    "import pandas as pd"
   ]
  },
  {
   "cell_type": "code",
   "execution_count": 5,
   "metadata": {},
   "outputs": [],
   "source": [
    "df = pd.read_csv('./online_retail_II.csv')"
   ]
  },
  {
   "cell_type": "code",
   "execution_count": 7,
   "metadata": {},
   "outputs": [],
   "source": [
    "sample = df.sample(200000)"
   ]
  },
  {
   "cell_type": "code",
   "execution_count": 8,
   "metadata": {},
   "outputs": [
    {
     "data": {
      "text/html": [
       "<div>\n",
       "<style scoped>\n",
       "    .dataframe tbody tr th:only-of-type {\n",
       "        vertical-align: middle;\n",
       "    }\n",
       "\n",
       "    .dataframe tbody tr th {\n",
       "        vertical-align: top;\n",
       "    }\n",
       "\n",
       "    .dataframe thead th {\n",
       "        text-align: right;\n",
       "    }\n",
       "</style>\n",
       "<table border=\"1\" class=\"dataframe\">\n",
       "  <thead>\n",
       "    <tr style=\"text-align: right;\">\n",
       "      <th></th>\n",
       "      <th>Invoice</th>\n",
       "      <th>StockCode</th>\n",
       "      <th>Description</th>\n",
       "      <th>Quantity</th>\n",
       "      <th>InvoiceDate</th>\n",
       "      <th>Price</th>\n",
       "      <th>Customer ID</th>\n",
       "      <th>Country</th>\n",
       "    </tr>\n",
       "  </thead>\n",
       "  <tbody>\n",
       "    <tr>\n",
       "      <th>879243</th>\n",
       "      <td>567823</td>\n",
       "      <td>23505</td>\n",
       "      <td>PLAYING CARDS I LOVE LONDON</td>\n",
       "      <td>12</td>\n",
       "      <td>2011-09-22 12:55:00</td>\n",
       "      <td>1.25</td>\n",
       "      <td>12910.0</td>\n",
       "      <td>United Kingdom</td>\n",
       "    </tr>\n",
       "    <tr>\n",
       "      <th>576738</th>\n",
       "      <td>540646</td>\n",
       "      <td>21675</td>\n",
       "      <td>BUTTERFLIES STICKERS</td>\n",
       "      <td>1</td>\n",
       "      <td>2011-01-10 14:32:00</td>\n",
       "      <td>0.81</td>\n",
       "      <td>NaN</td>\n",
       "      <td>United Kingdom</td>\n",
       "    </tr>\n",
       "    <tr>\n",
       "      <th>1013637</th>\n",
       "      <td>577798</td>\n",
       "      <td>84836</td>\n",
       "      <td>ZINC METAL HEART DECORATION</td>\n",
       "      <td>12</td>\n",
       "      <td>2011-11-21 16:54:00</td>\n",
       "      <td>1.25</td>\n",
       "      <td>17757.0</td>\n",
       "      <td>United Kingdom</td>\n",
       "    </tr>\n",
       "    <tr>\n",
       "      <th>631800</th>\n",
       "      <td>545324</td>\n",
       "      <td>48173C</td>\n",
       "      <td>DOORMAT BLACK FLOCK</td>\n",
       "      <td>1</td>\n",
       "      <td>2011-03-01 14:58:00</td>\n",
       "      <td>7.95</td>\n",
       "      <td>13110.0</td>\n",
       "      <td>United Kingdom</td>\n",
       "    </tr>\n",
       "    <tr>\n",
       "      <th>369639</th>\n",
       "      <td>525081</td>\n",
       "      <td>85049E</td>\n",
       "      <td>SCANDINAVIAN REDS RIBBONS</td>\n",
       "      <td>36</td>\n",
       "      <td>2010-10-03 15:41:00</td>\n",
       "      <td>1.25</td>\n",
       "      <td>17069.0</td>\n",
       "      <td>United Kingdom</td>\n",
       "    </tr>\n",
       "  </tbody>\n",
       "</table>\n",
       "</div>"
      ],
      "text/plain": [
       "        Invoice StockCode                   Description  Quantity  \\\n",
       "879243   567823     23505  PLAYING CARDS I LOVE LONDON         12   \n",
       "576738   540646     21675          BUTTERFLIES STICKERS         1   \n",
       "1013637  577798     84836   ZINC METAL HEART DECORATION        12   \n",
       "631800   545324    48173C          DOORMAT BLACK FLOCK          1   \n",
       "369639   525081    85049E     SCANDINAVIAN REDS RIBBONS        36   \n",
       "\n",
       "                 InvoiceDate  Price  Customer ID         Country  \n",
       "879243   2011-09-22 12:55:00   1.25      12910.0  United Kingdom  \n",
       "576738   2011-01-10 14:32:00   0.81          NaN  United Kingdom  \n",
       "1013637  2011-11-21 16:54:00   1.25      17757.0  United Kingdom  \n",
       "631800   2011-03-01 14:58:00   7.95      13110.0  United Kingdom  \n",
       "369639   2010-10-03 15:41:00   1.25      17069.0  United Kingdom  "
      ]
     },
     "execution_count": 8,
     "metadata": {},
     "output_type": "execute_result"
    }
   ],
   "source": [
    "sample.head()"
   ]
  },
  {
   "cell_type": "code",
   "execution_count": 9,
   "metadata": {},
   "outputs": [
    {
     "data": {
      "text/plain": [
       "Invoice        36200\n",
       "StockCode       4685\n",
       "Description     5076\n",
       "Quantity         496\n",
       "InvoiceDate    33896\n",
       "Price           1006\n",
       "Customer ID     5597\n",
       "Country           43\n",
       "dtype: int64"
      ]
     },
     "execution_count": 9,
     "metadata": {},
     "output_type": "execute_result"
    }
   ],
   "source": [
    "sample.nunique()"
   ]
  },
  {
   "cell_type": "code",
   "execution_count": 13,
   "metadata": {},
   "outputs": [
    {
     "data": {
      "text/html": [
       "<div>\n",
       "<style scoped>\n",
       "    .dataframe tbody tr th:only-of-type {\n",
       "        vertical-align: middle;\n",
       "    }\n",
       "\n",
       "    .dataframe tbody tr th {\n",
       "        vertical-align: top;\n",
       "    }\n",
       "\n",
       "    .dataframe thead th {\n",
       "        text-align: right;\n",
       "    }\n",
       "</style>\n",
       "<table border=\"1\" class=\"dataframe\">\n",
       "  <thead>\n",
       "    <tr style=\"text-align: right;\">\n",
       "      <th></th>\n",
       "      <th>Quantity</th>\n",
       "      <th>Price</th>\n",
       "      <th>Customer ID</th>\n",
       "    </tr>\n",
       "  </thead>\n",
       "  <tbody>\n",
       "    <tr>\n",
       "      <th>count</th>\n",
       "      <td>200000.000000</td>\n",
       "      <td>200000.000000</td>\n",
       "      <td>154424.000000</td>\n",
       "    </tr>\n",
       "    <tr>\n",
       "      <th>mean</th>\n",
       "      <td>9.947615</td>\n",
       "      <td>4.456517</td>\n",
       "      <td>15324.974395</td>\n",
       "    </tr>\n",
       "    <tr>\n",
       "      <th>std</th>\n",
       "      <td>183.757658</td>\n",
       "      <td>124.868763</td>\n",
       "      <td>1697.123600</td>\n",
       "    </tr>\n",
       "    <tr>\n",
       "      <th>min</th>\n",
       "      <td>-9600.000000</td>\n",
       "      <td>-44031.790000</td>\n",
       "      <td>12346.000000</td>\n",
       "    </tr>\n",
       "    <tr>\n",
       "      <th>25%</th>\n",
       "      <td>1.000000</td>\n",
       "      <td>1.250000</td>\n",
       "      <td>13975.000000</td>\n",
       "    </tr>\n",
       "    <tr>\n",
       "      <th>50%</th>\n",
       "      <td>3.000000</td>\n",
       "      <td>2.100000</td>\n",
       "      <td>15254.000000</td>\n",
       "    </tr>\n",
       "    <tr>\n",
       "      <th>75%</th>\n",
       "      <td>10.000000</td>\n",
       "      <td>4.150000</td>\n",
       "      <td>16795.000000</td>\n",
       "    </tr>\n",
       "    <tr>\n",
       "      <th>max</th>\n",
       "      <td>74215.000000</td>\n",
       "      <td>13541.330000</td>\n",
       "      <td>18287.000000</td>\n",
       "    </tr>\n",
       "  </tbody>\n",
       "</table>\n",
       "</div>"
      ],
      "text/plain": [
       "            Quantity          Price    Customer ID\n",
       "count  200000.000000  200000.000000  154424.000000\n",
       "mean        9.947615       4.456517   15324.974395\n",
       "std       183.757658     124.868763    1697.123600\n",
       "min     -9600.000000  -44031.790000   12346.000000\n",
       "25%         1.000000       1.250000   13975.000000\n",
       "50%         3.000000       2.100000   15254.000000\n",
       "75%        10.000000       4.150000   16795.000000\n",
       "max     74215.000000   13541.330000   18287.000000"
      ]
     },
     "execution_count": 13,
     "metadata": {},
     "output_type": "execute_result"
    }
   ],
   "source": [
    "sample.describe()"
   ]
  },
  {
   "cell_type": "code",
   "execution_count": 15,
   "metadata": {},
   "outputs": [
    {
     "data": {
      "text/plain": [
       "Invoice            0\n",
       "StockCode          0\n",
       "Description      784\n",
       "Quantity           0\n",
       "InvoiceDate        0\n",
       "Price              0\n",
       "Customer ID    45576\n",
       "Country            0\n",
       "dtype: int64"
      ]
     },
     "execution_count": 15,
     "metadata": {},
     "output_type": "execute_result"
    }
   ],
   "source": [
    "sample.isna().sum()"
   ]
  },
  {
   "cell_type": "markdown",
   "metadata": {},
   "source": [
    "1. Determine the total sales per invoice and identify the top 5 invoices."
   ]
  },
  {
   "cell_type": "code",
   "execution_count": null,
   "metadata": {},
   "outputs": [],
   "source": []
  },
  {
   "cell_type": "markdown",
   "metadata": {},
   "source": [
    "2. Compute the total sales per customer and list the top 5 customers."
   ]
  },
  {
   "cell_type": "code",
   "execution_count": null,
   "metadata": {},
   "outputs": [],
   "source": []
  },
  {
   "cell_type": "markdown",
   "metadata": {},
   "source": [
    "3. Identify the top 5 selling items during this period."
   ]
  },
  {
   "cell_type": "code",
   "execution_count": null,
   "metadata": {},
   "outputs": [],
   "source": []
  },
  {
   "cell_type": "markdown",
   "metadata": {},
   "source": [
    "4. Determine the most frequently purchased item pairs by customers and display the top 20 pairs."
   ]
  },
  {
   "cell_type": "code",
   "execution_count": null,
   "metadata": {},
   "outputs": [],
   "source": []
  },
  {
   "cell_type": "markdown",
   "metadata": {},
   "source": [
    "5. The retail store aims to introduce a new promotion targeting items with low sales volume. This promotion entails offering a discounted price for a pair of two different items, with one item being among the top 10 best sellers and the other from the bottom 10 sellers. Customers who purchase these two items together will qualify for the special pricing. Your task is to recommend 10 pairs of items to kickstart this campaign."
   ]
  },
  {
   "cell_type": "code",
   "execution_count": null,
   "metadata": {},
   "outputs": [],
   "source": []
  }
 ],
 "metadata": {
  "kernelspec": {
   "display_name": ".venv",
   "language": "python",
   "name": "python3"
  },
  "language_info": {
   "codemirror_mode": {
    "name": "ipython",
    "version": 3
   },
   "file_extension": ".py",
   "mimetype": "text/x-python",
   "name": "python",
   "nbconvert_exporter": "python",
   "pygments_lexer": "ipython3",
   "version": "3.12.2"
  }
 },
 "nbformat": 4,
 "nbformat_minor": 2
}
