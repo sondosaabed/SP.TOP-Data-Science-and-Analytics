{
 "cells": [
  {
   "cell_type": "markdown",
   "metadata": {},
   "source": [
    ">   Department Of Computer Science\n",
    "\n",
    ">   COMP4381, SP.TOP: DATA SCIENCE AND ANALYTICS\n",
    "\n",
    ">  Dr. Hussein Soboh\n",
    "\n",
    "> COMP4381 | Section 1 \n",
    "\n",
    "\n",
    "## <div align=center> Assignment #5 </div>\n",
    "<div align=center><b>Title</b></div>\n",
    "<div align=center>sub title</div>\n",
    "\n",
    "> Prepeared by: Sondos Aabed   \n",
    "\n",
    "> ID: 1190652\n",
    "\n",
    "<hr>"
   ]
  },
  {
   "cell_type": "markdown",
   "metadata": {},
   "source": [
    "#### <b>Table of Contents</b>\n",
    "- <b>Introduction</b>\n",
    "    - About this dataset\n",
    "- <b>Objectives</b>\n",
    "- <b>Software Listenings</b>\n",
    "- <b>Dataset Analysis</b>\n",
    "- <b>Conclusion</b>\n",
    "\n",
    "#### <b>List of Figures</b>\n",
    "- Figure 0: \n",
    "- Figure 1: \n",
    "- Figure 2: \n",
    "- Figure 3:\n",
    "- Figure 4: \n",
    "\n",
    "#### <b>List of Tables</b>\n",
    "- Table 1: \n",
    "- Table 2: \n",
    "\n",
    "<hr>"
   ]
  }
 ],
 "metadata": {
  "kernelspec": {
   "display_name": ".venv",
   "language": "python",
   "name": "python3"
  },
  "language_info": {
   "codemirror_mode": {
    "name": "ipython",
    "version": 3
   },
   "file_extension": ".py",
   "mimetype": "text/x-python",
   "name": "python",
   "nbconvert_exporter": "python",
   "pygments_lexer": "ipython3",
   "version": "3.12.2"
  }
 },
 "nbformat": 4,
 "nbformat_minor": 2
}
