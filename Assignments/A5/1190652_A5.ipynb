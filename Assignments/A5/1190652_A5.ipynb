{
 "cells": [
  {
   "cell_type": "markdown",
   "metadata": {},
   "source": [
    "    Department Of Computer Science\n",
    "    COMP4381, SP.TOP: DATA SCIENCE AND ANALYTICS\n",
    "    Dr. Hussein Soboh\n",
    "    COMP4381 | Section 1 \n",
    "\n",
    "\n",
    "## <div align=center> Assignment #5 </div>\n",
    "<div align=center><b>Analyis of a UK-based online retail transactions </b></div>\n",
    "<div align=center>Occurring between 01/12/2009 and 09/12/2011</div>\n",
    "\n",
    "    Prepeared by: Sondos Aabed   \n",
    "    ID: 1190652"
   ]
  },
  {
   "cell_type": "markdown",
   "metadata": {},
   "source": [
    "#### <b>Table of Contents</b>\n",
    "- <b>Introduction</b>\n",
    "    - About this dataset\n",
    "- <b>Objectives</b>\n",
    "- <b>Software Listenings</b>\n",
    "- <b>Dataset Analysis</b>\n",
    "- <b>Conclusion</b>\n",
    "- <b>Refrences</b>\n",
    "\n",
    "#### <b>List of Figures</b>\n",
    "- Figure 0: \n",
    "- Figure 1: Number of Invoices by Year\n",
    "- Figure 2: Number of Invoices Over Months\n",
    "- Figure 3: Word Cloud of Product Descriptions\n",
    "\n",
    "#### <b>List of Tables</b>\n",
    "- Table 1: Dataset Head\n",
    "- Table 2: Dataset Tail\n",
    "- Table 3: Dataset Numerical Describtion\n",
    "- Table 4: Missing Values By Percentage \n",
    "- Table 5: Dataset Columns Data types\n",
    "- Table 6: Number of uniques in the datasets\n",
    "- Table 7: Is Na for datasets\n",
    "- Table 8: Standard Error of Means for numerical columns\n",
    "\n",
    "<hr>"
   ]
  },
  {
   "cell_type": "markdown",
   "metadata": {},
   "source": [
    "#### <b>Introduction</b>\n"
   ]
  },
  {
   "cell_type": "markdown",
   "metadata": {},
   "source": [
    "#### <b>Objectives</b>\n"
   ]
  },
  {
   "cell_type": "markdown",
   "metadata": {},
   "source": [
    "#### <b>Software Listenings</b>\n"
   ]
  },
  {
   "cell_type": "markdown",
   "metadata": {},
   "source": [
    "#### <b>Dataset Analysis</b>\n"
   ]
  },
  {
   "cell_type": "code",
   "execution_count": 29,
   "metadata": {},
   "outputs": [],
   "source": [
    "import pandas as pd\n",
    "import numpy as np\n",
    "import matplotlib.pyplot as plt\n",
    "from IPython.display import display\n",
    "import seaborn as sns\n",
    "from wordcloud import WordCloud"
   ]
  },
  {
   "cell_type": "markdown",
   "metadata": {},
   "source": [
    "><b>Loading Data and Sampling</b"
   ]
  },
  {
   "cell_type": "code",
   "execution_count": 3,
   "metadata": {},
   "outputs": [],
   "source": [
    "def read_sample(sample_size = 200000, path='./online_retail_II.csv', seed = 1190652):\n",
    "    \"\"\"\n",
    "    Read a csv file into dataframe and take a sample\n",
    "    Args:\n",
    "        path (str): the path of the dataset takes a deafult value (relative path)\n",
    "        seed (int): the seed for randomness so each time it have the same random selcetd\n",
    "    Returns:\n",
    "        sample (pd.Dataframe): sample taken from the read df with specific seed\n",
    "    \"\"\"\n",
    "    df = pd.read_csv(path)\n",
    "    sample = df.sample(sample_size, random_state=seed)\n",
    "    return sample"
   ]
  },
  {
   "cell_type": "code",
   "execution_count": 4,
   "metadata": {},
   "outputs": [],
   "source": [
    "sample = read_sample()"
   ]
  },
  {
   "cell_type": "markdown",
   "metadata": {},
   "source": [
    "> <b>Dataset Exploration</b>"
   ]
  },
  {
   "cell_type": "code",
   "execution_count": 5,
   "metadata": {},
   "outputs": [],
   "source": [
    "def missing_values(df):\n",
    "    \"\"\"\n",
    "    This is to get the percetages of missing data\n",
    "    Args:\n",
    "        df (pd.Dataframe): contains the data\n",
    "    Returns:\n",
    "        missing_percetanges(pd.Dataframe): contains Column,\tCounts, and\tPercentage\n",
    "            of the missing values for eah colmn\n",
    "    \"\"\"\n",
    "    missing_count = df.isnull().sum()\n",
    "    missing_percetanges = pd.DataFrame({\n",
    "        'Column': missing_count.index,\n",
    "        'Counts': missing_count.values,\n",
    "        'Percentage': missing_count.values / len(df) * 100  \n",
    "    })\n",
    "    return  missing_percetanges"
   ]
  },
  {
   "cell_type": "code",
   "execution_count": 6,
   "metadata": {},
   "outputs": [],
   "source": [
    "def explore_sample(sample):\n",
    "    \"\"\"\n",
    "    Exploring a dataset sample\n",
    "    Args:\n",
    "        sample (pd.Dataframe): the dataset sample to explore.\n",
    "    Returns:\n",
    "        results (dict): containing results of each exploration with the title as key\n",
    "    \"\"\"\n",
    "    head = pd.DataFrame(sample.head())\n",
    "    tail = pd.DataFrame(sample.tail())\n",
    "    nunique = pd.DataFrame(sample.nunique(), columns=[\"#_of_Unique\"])\n",
    "    describe = pd.DataFrame(sample.describe())\n",
    "    isna =  pd.DataFrame(sample.isna().sum(), columns=[\"#_of_IsNa\"])\n",
    "    dtypes =  pd.DataFrame(sample.dtypes, columns=[\"Datatype\"])\n",
    "    sem = pd.DataFrame(sample.sem(numeric_only= True), columns=['SEM'])\n",
    "    results = {\n",
    "        'Table 1: Dataset Head:':head,\n",
    "        'Table 2: Dataset Tail:':tail,\n",
    "        'Table 3: Dataset Numerical Describtion: ':describe,\n",
    "        'Table 4: Missing Values By Percentage': missing_values(sample), \n",
    "        'Table 5: Dataset Columns Data types: ':dtypes,\n",
    "        'Table 6: Number of uniques in the datasets:':nunique,\n",
    "        'Table 7: Is Na for datasets':isna,\n",
    "        'Table 8: Standard Error of Means for numerical columns: ':sem}\n",
    "    return results"
   ]
  },
  {
   "cell_type": "code",
   "execution_count": 34,
   "metadata": {},
   "outputs": [],
   "source": [
    "def print_sample_exploration(results):\n",
    "    \"\"\"\n",
    "    Prints a beautufil display of each of the exploration dataframe\n",
    "    Args:\n",
    "        results (dict): contains exploration outputs with the title as key\n",
    "    Returns:\n",
    "        nothing\n",
    "    \"\"\"\n",
    "    for operation, dataframe in results.items():\n",
    "        print(f\"{operation}\")\n",
    "        if operation == 'Missing Values':\n",
    "            print(\"Total Sum of Missing Percetange: \", dataframe['Percentage'].sum())\n",
    "        display(dataframe)"
   ]
  },
  {
   "cell_type": "code",
   "execution_count": 35,
   "metadata": {},
   "outputs": [
    {
     "name": "stdout",
     "output_type": "stream",
     "text": [
      "Table 1: Dataset Head:\n"
     ]
    },
    {
     "data": {
      "text/html": [
       "<div>\n",
       "<style scoped>\n",
       "    .dataframe tbody tr th:only-of-type {\n",
       "        vertical-align: middle;\n",
       "    }\n",
       "\n",
       "    .dataframe tbody tr th {\n",
       "        vertical-align: top;\n",
       "    }\n",
       "\n",
       "    .dataframe thead th {\n",
       "        text-align: right;\n",
       "    }\n",
       "</style>\n",
       "<table border=\"1\" class=\"dataframe\">\n",
       "  <thead>\n",
       "    <tr style=\"text-align: right;\">\n",
       "      <th></th>\n",
       "      <th>Invoice</th>\n",
       "      <th>StockCode</th>\n",
       "      <th>Description</th>\n",
       "      <th>Quantity</th>\n",
       "      <th>Price</th>\n",
       "      <th>Customer ID</th>\n",
       "      <th>Country</th>\n",
       "      <th>InvoiceYear</th>\n",
       "      <th>InvoiceMonth</th>\n",
       "      <th>InvoiceDay</th>\n",
       "      <th>InvoiceTime</th>\n",
       "      <th>total_price</th>\n",
       "    </tr>\n",
       "  </thead>\n",
       "  <tbody>\n",
       "    <tr>\n",
       "      <th>803443</th>\n",
       "      <td>561203</td>\n",
       "      <td>22953</td>\n",
       "      <td>BIRTHDAY PARTY CORDON BARRIER TAPE</td>\n",
       "      <td>12</td>\n",
       "      <td>1.25</td>\n",
       "      <td>14232.0</td>\n",
       "      <td>United Kingdom</td>\n",
       "      <td>2011</td>\n",
       "      <td>7</td>\n",
       "      <td>25</td>\n",
       "      <td>15:17:00</td>\n",
       "      <td>15.00</td>\n",
       "    </tr>\n",
       "    <tr>\n",
       "      <th>607418</th>\n",
       "      <td>543182</td>\n",
       "      <td>22726</td>\n",
       "      <td>ALARM CLOCK BAKELIKE GREEN</td>\n",
       "      <td>3</td>\n",
       "      <td>7.46</td>\n",
       "      <td>NaN</td>\n",
       "      <td>United Kingdom</td>\n",
       "      <td>2011</td>\n",
       "      <td>2</td>\n",
       "      <td>4</td>\n",
       "      <td>10:40:00</td>\n",
       "      <td>22.38</td>\n",
       "    </tr>\n",
       "    <tr>\n",
       "      <th>117428</th>\n",
       "      <td>500567</td>\n",
       "      <td>47586A</td>\n",
       "      <td>PINK FAIRY CAKE CUSHION COVER</td>\n",
       "      <td>24</td>\n",
       "      <td>0.85</td>\n",
       "      <td>13694.0</td>\n",
       "      <td>United Kingdom</td>\n",
       "      <td>2010</td>\n",
       "      <td>3</td>\n",
       "      <td>8</td>\n",
       "      <td>15:49:00</td>\n",
       "      <td>20.40</td>\n",
       "    </tr>\n",
       "    <tr>\n",
       "      <th>299616</th>\n",
       "      <td>518570</td>\n",
       "      <td>35961</td>\n",
       "      <td>FOLKART ZINC HEART CHRISTMAS DEC</td>\n",
       "      <td>1</td>\n",
       "      <td>1.66</td>\n",
       "      <td>NaN</td>\n",
       "      <td>United Kingdom</td>\n",
       "      <td>2010</td>\n",
       "      <td>8</td>\n",
       "      <td>10</td>\n",
       "      <td>11:49:00</td>\n",
       "      <td>1.66</td>\n",
       "    </tr>\n",
       "    <tr>\n",
       "      <th>613909</th>\n",
       "      <td>543803</td>\n",
       "      <td>22525</td>\n",
       "      <td>CHILDRENS GARDEN GLOVES PINK</td>\n",
       "      <td>5</td>\n",
       "      <td>1.25</td>\n",
       "      <td>17126.0</td>\n",
       "      <td>United Kingdom</td>\n",
       "      <td>2011</td>\n",
       "      <td>2</td>\n",
       "      <td>13</td>\n",
       "      <td>12:05:00</td>\n",
       "      <td>6.25</td>\n",
       "    </tr>\n",
       "  </tbody>\n",
       "</table>\n",
       "</div>"
      ],
      "text/plain": [
       "       Invoice StockCode                         Description  Quantity  Price  \\\n",
       "803443  561203     22953  BIRTHDAY PARTY CORDON BARRIER TAPE        12   1.25   \n",
       "607418  543182     22726          ALARM CLOCK BAKELIKE GREEN         3   7.46   \n",
       "117428  500567    47586A       PINK FAIRY CAKE CUSHION COVER        24   0.85   \n",
       "299616  518570     35961    FOLKART ZINC HEART CHRISTMAS DEC         1   1.66   \n",
       "613909  543803     22525        CHILDRENS GARDEN GLOVES PINK         5   1.25   \n",
       "\n",
       "        Customer ID         Country  InvoiceYear  InvoiceMonth  InvoiceDay  \\\n",
       "803443      14232.0  United Kingdom         2011             7          25   \n",
       "607418          NaN  United Kingdom         2011             2           4   \n",
       "117428      13694.0  United Kingdom         2010             3           8   \n",
       "299616          NaN  United Kingdom         2010             8          10   \n",
       "613909      17126.0  United Kingdom         2011             2          13   \n",
       "\n",
       "       InvoiceTime  total_price  \n",
       "803443    15:17:00        15.00  \n",
       "607418    10:40:00        22.38  \n",
       "117428    15:49:00        20.40  \n",
       "299616    11:49:00         1.66  \n",
       "613909    12:05:00         6.25  "
      ]
     },
     "metadata": {},
     "output_type": "display_data"
    },
    {
     "name": "stdout",
     "output_type": "stream",
     "text": [
      "Table 2: Dataset Tail:\n"
     ]
    },
    {
     "data": {
      "text/html": [
       "<div>\n",
       "<style scoped>\n",
       "    .dataframe tbody tr th:only-of-type {\n",
       "        vertical-align: middle;\n",
       "    }\n",
       "\n",
       "    .dataframe tbody tr th {\n",
       "        vertical-align: top;\n",
       "    }\n",
       "\n",
       "    .dataframe thead th {\n",
       "        text-align: right;\n",
       "    }\n",
       "</style>\n",
       "<table border=\"1\" class=\"dataframe\">\n",
       "  <thead>\n",
       "    <tr style=\"text-align: right;\">\n",
       "      <th></th>\n",
       "      <th>Invoice</th>\n",
       "      <th>StockCode</th>\n",
       "      <th>Description</th>\n",
       "      <th>Quantity</th>\n",
       "      <th>Price</th>\n",
       "      <th>Customer ID</th>\n",
       "      <th>Country</th>\n",
       "      <th>InvoiceYear</th>\n",
       "      <th>InvoiceMonth</th>\n",
       "      <th>InvoiceDay</th>\n",
       "      <th>InvoiceTime</th>\n",
       "      <th>total_price</th>\n",
       "    </tr>\n",
       "  </thead>\n",
       "  <tbody>\n",
       "    <tr>\n",
       "      <th>107865</th>\n",
       "      <td>499765</td>\n",
       "      <td>21916</td>\n",
       "      <td>SET 12 RETRO WHITE CHALK STICKS</td>\n",
       "      <td>1</td>\n",
       "      <td>0.81</td>\n",
       "      <td>NaN</td>\n",
       "      <td>United Kingdom</td>\n",
       "      <td>2010</td>\n",
       "      <td>3</td>\n",
       "      <td>2</td>\n",
       "      <td>13:15:00</td>\n",
       "      <td>0.81</td>\n",
       "    </tr>\n",
       "    <tr>\n",
       "      <th>1000423</th>\n",
       "      <td>576857</td>\n",
       "      <td>23102</td>\n",
       "      <td>SILVER HEARTS TABLE DECORATION</td>\n",
       "      <td>2</td>\n",
       "      <td>0.83</td>\n",
       "      <td>12748.0</td>\n",
       "      <td>United Kingdom</td>\n",
       "      <td>2011</td>\n",
       "      <td>11</td>\n",
       "      <td>16</td>\n",
       "      <td>15:52:00</td>\n",
       "      <td>1.66</td>\n",
       "    </tr>\n",
       "    <tr>\n",
       "      <th>827091</th>\n",
       "      <td>563350</td>\n",
       "      <td>22111</td>\n",
       "      <td>SCOTTIE DOG HOT WATER BOTTLE</td>\n",
       "      <td>2</td>\n",
       "      <td>4.95</td>\n",
       "      <td>14498.0</td>\n",
       "      <td>United Kingdom</td>\n",
       "      <td>2011</td>\n",
       "      <td>8</td>\n",
       "      <td>15</td>\n",
       "      <td>14:10:00</td>\n",
       "      <td>9.90</td>\n",
       "    </tr>\n",
       "    <tr>\n",
       "      <th>553404</th>\n",
       "      <td>538576</td>\n",
       "      <td>21187</td>\n",
       "      <td>WHITE BELL HONEYCOMB PAPER GARLAND</td>\n",
       "      <td>2</td>\n",
       "      <td>1.65</td>\n",
       "      <td>14498.0</td>\n",
       "      <td>United Kingdom</td>\n",
       "      <td>2010</td>\n",
       "      <td>12</td>\n",
       "      <td>13</td>\n",
       "      <td>11:29:00</td>\n",
       "      <td>3.30</td>\n",
       "    </tr>\n",
       "    <tr>\n",
       "      <th>47491</th>\n",
       "      <td>493817</td>\n",
       "      <td>21306</td>\n",
       "      <td>SET/4 DAISY MIRROR MAGNETS</td>\n",
       "      <td>6</td>\n",
       "      <td>2.10</td>\n",
       "      <td>16641.0</td>\n",
       "      <td>United Kingdom</td>\n",
       "      <td>2010</td>\n",
       "      <td>1</td>\n",
       "      <td>7</td>\n",
       "      <td>12:22:00</td>\n",
       "      <td>12.60</td>\n",
       "    </tr>\n",
       "  </tbody>\n",
       "</table>\n",
       "</div>"
      ],
      "text/plain": [
       "        Invoice StockCode                          Description  Quantity  \\\n",
       "107865   499765     21916      SET 12 RETRO WHITE CHALK STICKS         1   \n",
       "1000423  576857     23102       SILVER HEARTS TABLE DECORATION         2   \n",
       "827091   563350     22111         SCOTTIE DOG HOT WATER BOTTLE         2   \n",
       "553404   538576     21187  WHITE BELL HONEYCOMB PAPER GARLAND          2   \n",
       "47491    493817     21306           SET/4 DAISY MIRROR MAGNETS         6   \n",
       "\n",
       "         Price  Customer ID         Country  InvoiceYear  InvoiceMonth  \\\n",
       "107865    0.81          NaN  United Kingdom         2010             3   \n",
       "1000423   0.83      12748.0  United Kingdom         2011            11   \n",
       "827091    4.95      14498.0  United Kingdom         2011             8   \n",
       "553404    1.65      14498.0  United Kingdom         2010            12   \n",
       "47491     2.10      16641.0  United Kingdom         2010             1   \n",
       "\n",
       "         InvoiceDay InvoiceTime  total_price  \n",
       "107865            2    13:15:00         0.81  \n",
       "1000423          16    15:52:00         1.66  \n",
       "827091           15    14:10:00         9.90  \n",
       "553404           13    11:29:00         3.30  \n",
       "47491             7    12:22:00        12.60  "
      ]
     },
     "metadata": {},
     "output_type": "display_data"
    },
    {
     "name": "stdout",
     "output_type": "stream",
     "text": [
      "Table 3: Dataset Numerical Describtion: \n"
     ]
    },
    {
     "data": {
      "text/html": [
       "<div>\n",
       "<style scoped>\n",
       "    .dataframe tbody tr th:only-of-type {\n",
       "        vertical-align: middle;\n",
       "    }\n",
       "\n",
       "    .dataframe tbody tr th {\n",
       "        vertical-align: top;\n",
       "    }\n",
       "\n",
       "    .dataframe thead th {\n",
       "        text-align: right;\n",
       "    }\n",
       "</style>\n",
       "<table border=\"1\" class=\"dataframe\">\n",
       "  <thead>\n",
       "    <tr style=\"text-align: right;\">\n",
       "      <th></th>\n",
       "      <th>Quantity</th>\n",
       "      <th>Price</th>\n",
       "      <th>Customer ID</th>\n",
       "      <th>InvoiceYear</th>\n",
       "      <th>InvoiceMonth</th>\n",
       "      <th>InvoiceDay</th>\n",
       "      <th>total_price</th>\n",
       "    </tr>\n",
       "  </thead>\n",
       "  <tbody>\n",
       "    <tr>\n",
       "      <th>count</th>\n",
       "      <td>200000.000000</td>\n",
       "      <td>200000.000000</td>\n",
       "      <td>154545.000000</td>\n",
       "      <td>200000.00000</td>\n",
       "      <td>200000.000000</td>\n",
       "      <td>200000.000000</td>\n",
       "      <td>200000.000000</td>\n",
       "    </tr>\n",
       "    <tr>\n",
       "      <th>mean</th>\n",
       "      <td>9.487405</td>\n",
       "      <td>4.505168</td>\n",
       "      <td>15324.988269</td>\n",
       "      <td>2010.42597</td>\n",
       "      <td>7.505050</td>\n",
       "      <td>15.149385</td>\n",
       "      <td>17.724614</td>\n",
       "    </tr>\n",
       "    <tr>\n",
       "      <th>std</th>\n",
       "      <td>185.044141</td>\n",
       "      <td>128.357150</td>\n",
       "      <td>1695.690684</td>\n",
       "      <td>0.57336</td>\n",
       "      <td>3.523962</td>\n",
       "      <td>8.682052</td>\n",
       "      <td>243.359768</td>\n",
       "    </tr>\n",
       "    <tr>\n",
       "      <th>min</th>\n",
       "      <td>-74215.000000</td>\n",
       "      <td>-44031.790000</td>\n",
       "      <td>12346.000000</td>\n",
       "      <td>2009.00000</td>\n",
       "      <td>1.000000</td>\n",
       "      <td>1.000000</td>\n",
       "      <td>-77183.600000</td>\n",
       "    </tr>\n",
       "    <tr>\n",
       "      <th>25%</th>\n",
       "      <td>1.000000</td>\n",
       "      <td>1.250000</td>\n",
       "      <td>13975.000000</td>\n",
       "      <td>2010.00000</td>\n",
       "      <td>5.000000</td>\n",
       "      <td>8.000000</td>\n",
       "      <td>3.750000</td>\n",
       "    </tr>\n",
       "    <tr>\n",
       "      <th>50%</th>\n",
       "      <td>3.000000</td>\n",
       "      <td>2.100000</td>\n",
       "      <td>15251.000000</td>\n",
       "      <td>2010.00000</td>\n",
       "      <td>8.000000</td>\n",
       "      <td>15.000000</td>\n",
       "      <td>9.900000</td>\n",
       "    </tr>\n",
       "    <tr>\n",
       "      <th>75%</th>\n",
       "      <td>10.000000</td>\n",
       "      <td>4.130000</td>\n",
       "      <td>16797.000000</td>\n",
       "      <td>2011.00000</td>\n",
       "      <td>11.000000</td>\n",
       "      <td>22.000000</td>\n",
       "      <td>17.700000</td>\n",
       "    </tr>\n",
       "    <tr>\n",
       "      <th>max</th>\n",
       "      <td>12960.000000</td>\n",
       "      <td>18910.690000</td>\n",
       "      <td>18287.000000</td>\n",
       "      <td>2011.00000</td>\n",
       "      <td>12.000000</td>\n",
       "      <td>31.000000</td>\n",
       "      <td>38970.000000</td>\n",
       "    </tr>\n",
       "  </tbody>\n",
       "</table>\n",
       "</div>"
      ],
      "text/plain": [
       "            Quantity          Price    Customer ID   InvoiceYear  \\\n",
       "count  200000.000000  200000.000000  154545.000000  200000.00000   \n",
       "mean        9.487405       4.505168   15324.988269    2010.42597   \n",
       "std       185.044141     128.357150    1695.690684       0.57336   \n",
       "min    -74215.000000  -44031.790000   12346.000000    2009.00000   \n",
       "25%         1.000000       1.250000   13975.000000    2010.00000   \n",
       "50%         3.000000       2.100000   15251.000000    2010.00000   \n",
       "75%        10.000000       4.130000   16797.000000    2011.00000   \n",
       "max     12960.000000   18910.690000   18287.000000    2011.00000   \n",
       "\n",
       "        InvoiceMonth     InvoiceDay    total_price  \n",
       "count  200000.000000  200000.000000  200000.000000  \n",
       "mean        7.505050      15.149385      17.724614  \n",
       "std         3.523962       8.682052     243.359768  \n",
       "min         1.000000       1.000000  -77183.600000  \n",
       "25%         5.000000       8.000000       3.750000  \n",
       "50%         8.000000      15.000000       9.900000  \n",
       "75%        11.000000      22.000000      17.700000  \n",
       "max        12.000000      31.000000   38970.000000  "
      ]
     },
     "metadata": {},
     "output_type": "display_data"
    },
    {
     "name": "stdout",
     "output_type": "stream",
     "text": [
      "Table 4: Missing Values By Percentage\n"
     ]
    },
    {
     "data": {
      "text/html": [
       "<div>\n",
       "<style scoped>\n",
       "    .dataframe tbody tr th:only-of-type {\n",
       "        vertical-align: middle;\n",
       "    }\n",
       "\n",
       "    .dataframe tbody tr th {\n",
       "        vertical-align: top;\n",
       "    }\n",
       "\n",
       "    .dataframe thead th {\n",
       "        text-align: right;\n",
       "    }\n",
       "</style>\n",
       "<table border=\"1\" class=\"dataframe\">\n",
       "  <thead>\n",
       "    <tr style=\"text-align: right;\">\n",
       "      <th></th>\n",
       "      <th>Column</th>\n",
       "      <th>Counts</th>\n",
       "      <th>Percentage</th>\n",
       "    </tr>\n",
       "  </thead>\n",
       "  <tbody>\n",
       "    <tr>\n",
       "      <th>0</th>\n",
       "      <td>Invoice</td>\n",
       "      <td>0</td>\n",
       "      <td>0.0000</td>\n",
       "    </tr>\n",
       "    <tr>\n",
       "      <th>1</th>\n",
       "      <td>StockCode</td>\n",
       "      <td>0</td>\n",
       "      <td>0.0000</td>\n",
       "    </tr>\n",
       "    <tr>\n",
       "      <th>2</th>\n",
       "      <td>Description</td>\n",
       "      <td>818</td>\n",
       "      <td>0.4090</td>\n",
       "    </tr>\n",
       "    <tr>\n",
       "      <th>3</th>\n",
       "      <td>Quantity</td>\n",
       "      <td>0</td>\n",
       "      <td>0.0000</td>\n",
       "    </tr>\n",
       "    <tr>\n",
       "      <th>4</th>\n",
       "      <td>Price</td>\n",
       "      <td>0</td>\n",
       "      <td>0.0000</td>\n",
       "    </tr>\n",
       "    <tr>\n",
       "      <th>5</th>\n",
       "      <td>Customer ID</td>\n",
       "      <td>45455</td>\n",
       "      <td>22.7275</td>\n",
       "    </tr>\n",
       "    <tr>\n",
       "      <th>6</th>\n",
       "      <td>Country</td>\n",
       "      <td>0</td>\n",
       "      <td>0.0000</td>\n",
       "    </tr>\n",
       "    <tr>\n",
       "      <th>7</th>\n",
       "      <td>InvoiceYear</td>\n",
       "      <td>0</td>\n",
       "      <td>0.0000</td>\n",
       "    </tr>\n",
       "    <tr>\n",
       "      <th>8</th>\n",
       "      <td>InvoiceMonth</td>\n",
       "      <td>0</td>\n",
       "      <td>0.0000</td>\n",
       "    </tr>\n",
       "    <tr>\n",
       "      <th>9</th>\n",
       "      <td>InvoiceDay</td>\n",
       "      <td>0</td>\n",
       "      <td>0.0000</td>\n",
       "    </tr>\n",
       "    <tr>\n",
       "      <th>10</th>\n",
       "      <td>InvoiceTime</td>\n",
       "      <td>0</td>\n",
       "      <td>0.0000</td>\n",
       "    </tr>\n",
       "    <tr>\n",
       "      <th>11</th>\n",
       "      <td>total_price</td>\n",
       "      <td>0</td>\n",
       "      <td>0.0000</td>\n",
       "    </tr>\n",
       "  </tbody>\n",
       "</table>\n",
       "</div>"
      ],
      "text/plain": [
       "          Column  Counts  Percentage\n",
       "0        Invoice       0      0.0000\n",
       "1      StockCode       0      0.0000\n",
       "2    Description     818      0.4090\n",
       "3       Quantity       0      0.0000\n",
       "4          Price       0      0.0000\n",
       "5    Customer ID   45455     22.7275\n",
       "6        Country       0      0.0000\n",
       "7    InvoiceYear       0      0.0000\n",
       "8   InvoiceMonth       0      0.0000\n",
       "9     InvoiceDay       0      0.0000\n",
       "10   InvoiceTime       0      0.0000\n",
       "11   total_price       0      0.0000"
      ]
     },
     "metadata": {},
     "output_type": "display_data"
    },
    {
     "name": "stdout",
     "output_type": "stream",
     "text": [
      "Table 5: Dataset Columns Data types: \n"
     ]
    },
    {
     "data": {
      "text/html": [
       "<div>\n",
       "<style scoped>\n",
       "    .dataframe tbody tr th:only-of-type {\n",
       "        vertical-align: middle;\n",
       "    }\n",
       "\n",
       "    .dataframe tbody tr th {\n",
       "        vertical-align: top;\n",
       "    }\n",
       "\n",
       "    .dataframe thead th {\n",
       "        text-align: right;\n",
       "    }\n",
       "</style>\n",
       "<table border=\"1\" class=\"dataframe\">\n",
       "  <thead>\n",
       "    <tr style=\"text-align: right;\">\n",
       "      <th></th>\n",
       "      <th>Datatype</th>\n",
       "    </tr>\n",
       "  </thead>\n",
       "  <tbody>\n",
       "    <tr>\n",
       "      <th>Invoice</th>\n",
       "      <td>object</td>\n",
       "    </tr>\n",
       "    <tr>\n",
       "      <th>StockCode</th>\n",
       "      <td>object</td>\n",
       "    </tr>\n",
       "    <tr>\n",
       "      <th>Description</th>\n",
       "      <td>object</td>\n",
       "    </tr>\n",
       "    <tr>\n",
       "      <th>Quantity</th>\n",
       "      <td>int64</td>\n",
       "    </tr>\n",
       "    <tr>\n",
       "      <th>Price</th>\n",
       "      <td>float64</td>\n",
       "    </tr>\n",
       "    <tr>\n",
       "      <th>Customer ID</th>\n",
       "      <td>float64</td>\n",
       "    </tr>\n",
       "    <tr>\n",
       "      <th>Country</th>\n",
       "      <td>object</td>\n",
       "    </tr>\n",
       "    <tr>\n",
       "      <th>InvoiceYear</th>\n",
       "      <td>int32</td>\n",
       "    </tr>\n",
       "    <tr>\n",
       "      <th>InvoiceMonth</th>\n",
       "      <td>int32</td>\n",
       "    </tr>\n",
       "    <tr>\n",
       "      <th>InvoiceDay</th>\n",
       "      <td>int32</td>\n",
       "    </tr>\n",
       "    <tr>\n",
       "      <th>InvoiceTime</th>\n",
       "      <td>object</td>\n",
       "    </tr>\n",
       "    <tr>\n",
       "      <th>total_price</th>\n",
       "      <td>float64</td>\n",
       "    </tr>\n",
       "  </tbody>\n",
       "</table>\n",
       "</div>"
      ],
      "text/plain": [
       "             Datatype\n",
       "Invoice        object\n",
       "StockCode      object\n",
       "Description    object\n",
       "Quantity        int64\n",
       "Price         float64\n",
       "Customer ID   float64\n",
       "Country        object\n",
       "InvoiceYear     int32\n",
       "InvoiceMonth    int32\n",
       "InvoiceDay      int32\n",
       "InvoiceTime    object\n",
       "total_price   float64"
      ]
     },
     "metadata": {},
     "output_type": "display_data"
    },
    {
     "name": "stdout",
     "output_type": "stream",
     "text": [
      "Table 6: Number of uniques in the datasets:\n"
     ]
    },
    {
     "data": {
      "text/html": [
       "<div>\n",
       "<style scoped>\n",
       "    .dataframe tbody tr th:only-of-type {\n",
       "        vertical-align: middle;\n",
       "    }\n",
       "\n",
       "    .dataframe tbody tr th {\n",
       "        vertical-align: top;\n",
       "    }\n",
       "\n",
       "    .dataframe thead th {\n",
       "        text-align: right;\n",
       "    }\n",
       "</style>\n",
       "<table border=\"1\" class=\"dataframe\">\n",
       "  <thead>\n",
       "    <tr style=\"text-align: right;\">\n",
       "      <th></th>\n",
       "      <th>#_of_Unique</th>\n",
       "    </tr>\n",
       "  </thead>\n",
       "  <tbody>\n",
       "    <tr>\n",
       "      <th>Invoice</th>\n",
       "      <td>36313</td>\n",
       "    </tr>\n",
       "    <tr>\n",
       "      <th>StockCode</th>\n",
       "      <td>4698</td>\n",
       "    </tr>\n",
       "    <tr>\n",
       "      <th>Description</th>\n",
       "      <td>5043</td>\n",
       "    </tr>\n",
       "    <tr>\n",
       "      <th>Quantity</th>\n",
       "      <td>533</td>\n",
       "    </tr>\n",
       "    <tr>\n",
       "      <th>Price</th>\n",
       "      <td>1009</td>\n",
       "    </tr>\n",
       "    <tr>\n",
       "      <th>Customer ID</th>\n",
       "      <td>5575</td>\n",
       "    </tr>\n",
       "    <tr>\n",
       "      <th>Country</th>\n",
       "      <td>43</td>\n",
       "    </tr>\n",
       "    <tr>\n",
       "      <th>InvoiceYear</th>\n",
       "      <td>3</td>\n",
       "    </tr>\n",
       "    <tr>\n",
       "      <th>InvoiceMonth</th>\n",
       "      <td>12</td>\n",
       "    </tr>\n",
       "    <tr>\n",
       "      <th>InvoiceDay</th>\n",
       "      <td>31</td>\n",
       "    </tr>\n",
       "    <tr>\n",
       "      <th>InvoiceTime</th>\n",
       "      <td>780</td>\n",
       "    </tr>\n",
       "    <tr>\n",
       "      <th>total_price</th>\n",
       "      <td>4203</td>\n",
       "    </tr>\n",
       "  </tbody>\n",
       "</table>\n",
       "</div>"
      ],
      "text/plain": [
       "              #_of_Unique\n",
       "Invoice             36313\n",
       "StockCode            4698\n",
       "Description          5043\n",
       "Quantity              533\n",
       "Price                1009\n",
       "Customer ID          5575\n",
       "Country                43\n",
       "InvoiceYear             3\n",
       "InvoiceMonth           12\n",
       "InvoiceDay             31\n",
       "InvoiceTime           780\n",
       "total_price          4203"
      ]
     },
     "metadata": {},
     "output_type": "display_data"
    },
    {
     "name": "stdout",
     "output_type": "stream",
     "text": [
      "Table 7: Is Na for datasets\n"
     ]
    },
    {
     "data": {
      "text/html": [
       "<div>\n",
       "<style scoped>\n",
       "    .dataframe tbody tr th:only-of-type {\n",
       "        vertical-align: middle;\n",
       "    }\n",
       "\n",
       "    .dataframe tbody tr th {\n",
       "        vertical-align: top;\n",
       "    }\n",
       "\n",
       "    .dataframe thead th {\n",
       "        text-align: right;\n",
       "    }\n",
       "</style>\n",
       "<table border=\"1\" class=\"dataframe\">\n",
       "  <thead>\n",
       "    <tr style=\"text-align: right;\">\n",
       "      <th></th>\n",
       "      <th>#_of_IsNa</th>\n",
       "    </tr>\n",
       "  </thead>\n",
       "  <tbody>\n",
       "    <tr>\n",
       "      <th>Invoice</th>\n",
       "      <td>0</td>\n",
       "    </tr>\n",
       "    <tr>\n",
       "      <th>StockCode</th>\n",
       "      <td>0</td>\n",
       "    </tr>\n",
       "    <tr>\n",
       "      <th>Description</th>\n",
       "      <td>818</td>\n",
       "    </tr>\n",
       "    <tr>\n",
       "      <th>Quantity</th>\n",
       "      <td>0</td>\n",
       "    </tr>\n",
       "    <tr>\n",
       "      <th>Price</th>\n",
       "      <td>0</td>\n",
       "    </tr>\n",
       "    <tr>\n",
       "      <th>Customer ID</th>\n",
       "      <td>45455</td>\n",
       "    </tr>\n",
       "    <tr>\n",
       "      <th>Country</th>\n",
       "      <td>0</td>\n",
       "    </tr>\n",
       "    <tr>\n",
       "      <th>InvoiceYear</th>\n",
       "      <td>0</td>\n",
       "    </tr>\n",
       "    <tr>\n",
       "      <th>InvoiceMonth</th>\n",
       "      <td>0</td>\n",
       "    </tr>\n",
       "    <tr>\n",
       "      <th>InvoiceDay</th>\n",
       "      <td>0</td>\n",
       "    </tr>\n",
       "    <tr>\n",
       "      <th>InvoiceTime</th>\n",
       "      <td>0</td>\n",
       "    </tr>\n",
       "    <tr>\n",
       "      <th>total_price</th>\n",
       "      <td>0</td>\n",
       "    </tr>\n",
       "  </tbody>\n",
       "</table>\n",
       "</div>"
      ],
      "text/plain": [
       "              #_of_IsNa\n",
       "Invoice               0\n",
       "StockCode             0\n",
       "Description         818\n",
       "Quantity              0\n",
       "Price                 0\n",
       "Customer ID       45455\n",
       "Country               0\n",
       "InvoiceYear           0\n",
       "InvoiceMonth          0\n",
       "InvoiceDay            0\n",
       "InvoiceTime           0\n",
       "total_price           0"
      ]
     },
     "metadata": {},
     "output_type": "display_data"
    },
    {
     "name": "stdout",
     "output_type": "stream",
     "text": [
      "Table 8: Standard Error of Means for numerical columns: \n"
     ]
    },
    {
     "data": {
      "text/html": [
       "<div>\n",
       "<style scoped>\n",
       "    .dataframe tbody tr th:only-of-type {\n",
       "        vertical-align: middle;\n",
       "    }\n",
       "\n",
       "    .dataframe tbody tr th {\n",
       "        vertical-align: top;\n",
       "    }\n",
       "\n",
       "    .dataframe thead th {\n",
       "        text-align: right;\n",
       "    }\n",
       "</style>\n",
       "<table border=\"1\" class=\"dataframe\">\n",
       "  <thead>\n",
       "    <tr style=\"text-align: right;\">\n",
       "      <th></th>\n",
       "      <th>SEM</th>\n",
       "    </tr>\n",
       "  </thead>\n",
       "  <tbody>\n",
       "    <tr>\n",
       "      <th>Quantity</th>\n",
       "      <td>0.413771</td>\n",
       "    </tr>\n",
       "    <tr>\n",
       "      <th>Price</th>\n",
       "      <td>0.287015</td>\n",
       "    </tr>\n",
       "    <tr>\n",
       "      <th>Customer ID</th>\n",
       "      <td>4.313394</td>\n",
       "    </tr>\n",
       "    <tr>\n",
       "      <th>InvoiceYear</th>\n",
       "      <td>0.001282</td>\n",
       "    </tr>\n",
       "    <tr>\n",
       "      <th>InvoiceMonth</th>\n",
       "      <td>0.007880</td>\n",
       "    </tr>\n",
       "    <tr>\n",
       "      <th>InvoiceDay</th>\n",
       "      <td>0.019414</td>\n",
       "    </tr>\n",
       "    <tr>\n",
       "      <th>total_price</th>\n",
       "      <td>0.544169</td>\n",
       "    </tr>\n",
       "  </tbody>\n",
       "</table>\n",
       "</div>"
      ],
      "text/plain": [
       "                   SEM\n",
       "Quantity      0.413771\n",
       "Price         0.287015\n",
       "Customer ID   4.313394\n",
       "InvoiceYear   0.001282\n",
       "InvoiceMonth  0.007880\n",
       "InvoiceDay    0.019414\n",
       "total_price   0.544169"
      ]
     },
     "metadata": {},
     "output_type": "display_data"
    }
   ],
   "source": [
    "results = explore_sample(sample)\n",
    "print_sample_exploration(results)"
   ]
  },
  {
   "cell_type": "markdown",
   "metadata": {},
   "source": [
    "> <b>Handle Date and Get total Price per inovice</b>"
   ]
  },
  {
   "cell_type": "code",
   "execution_count": 9,
   "metadata": {},
   "outputs": [],
   "source": [
    "def handle_date(sample):\n",
    "    \"\"\" \n",
    "    Handles date high cardenality\n",
    "    Args: \n",
    "        sample (pd.Dataframe): contains datset\n",
    "    Return:\n",
    "        (pd.Dataframe) handeled with day, month, year and time columns added\n",
    "    \"\"\"    \n",
    "    sample['InvoiceDate'] = pd.to_datetime(sample['InvoiceDate'])\n",
    "    sample['InvoiceYear'] = sample['InvoiceDate'].dt.year\n",
    "    sample['InvoiceMonth'] = sample['InvoiceDate'].dt.month\n",
    "    sample['InvoiceDay'] = sample['InvoiceDate'].dt.day\n",
    "    sample['InvoiceTime'] = sample['InvoiceDate'].dt.time\n",
    "    sample = sample.drop('InvoiceDate', axis=1)\n",
    "    return sample"
   ]
  },
  {
   "cell_type": "code",
   "execution_count": 10,
   "metadata": {},
   "outputs": [],
   "source": [
    "def get_total(row):\n",
    "    \"\"\"\n",
    "    Calcualtes the total prices by multiplication and considering quantity\n",
    "    Args:\n",
    "        row of the dataframe\n",
    "    Returns:\n",
    "        Total price  that is calculated by multiplication of Quantity*Price \n",
    "    \"\"\"\n",
    "    return row[\"Quantity\"] * row[\"Price\"]"
   ]
  },
  {
   "cell_type": "code",
   "execution_count": 11,
   "metadata": {},
   "outputs": [
    {
     "data": {
      "text/html": [
       "<div>\n",
       "<style scoped>\n",
       "    .dataframe tbody tr th:only-of-type {\n",
       "        vertical-align: middle;\n",
       "    }\n",
       "\n",
       "    .dataframe tbody tr th {\n",
       "        vertical-align: top;\n",
       "    }\n",
       "\n",
       "    .dataframe thead th {\n",
       "        text-align: right;\n",
       "    }\n",
       "</style>\n",
       "<table border=\"1\" class=\"dataframe\">\n",
       "  <thead>\n",
       "    <tr style=\"text-align: right;\">\n",
       "      <th></th>\n",
       "      <th>Invoice</th>\n",
       "      <th>StockCode</th>\n",
       "      <th>Description</th>\n",
       "      <th>Quantity</th>\n",
       "      <th>Price</th>\n",
       "      <th>Customer ID</th>\n",
       "      <th>Country</th>\n",
       "      <th>InvoiceYear</th>\n",
       "      <th>InvoiceMonth</th>\n",
       "      <th>InvoiceDay</th>\n",
       "      <th>InvoiceTime</th>\n",
       "      <th>total_price</th>\n",
       "    </tr>\n",
       "  </thead>\n",
       "  <tbody>\n",
       "    <tr>\n",
       "      <th>803443</th>\n",
       "      <td>561203</td>\n",
       "      <td>22953</td>\n",
       "      <td>BIRTHDAY PARTY CORDON BARRIER TAPE</td>\n",
       "      <td>12</td>\n",
       "      <td>1.25</td>\n",
       "      <td>14232.0</td>\n",
       "      <td>United Kingdom</td>\n",
       "      <td>2011</td>\n",
       "      <td>7</td>\n",
       "      <td>25</td>\n",
       "      <td>15:17:00</td>\n",
       "      <td>15.00</td>\n",
       "    </tr>\n",
       "    <tr>\n",
       "      <th>607418</th>\n",
       "      <td>543182</td>\n",
       "      <td>22726</td>\n",
       "      <td>ALARM CLOCK BAKELIKE GREEN</td>\n",
       "      <td>3</td>\n",
       "      <td>7.46</td>\n",
       "      <td>NaN</td>\n",
       "      <td>United Kingdom</td>\n",
       "      <td>2011</td>\n",
       "      <td>2</td>\n",
       "      <td>4</td>\n",
       "      <td>10:40:00</td>\n",
       "      <td>22.38</td>\n",
       "    </tr>\n",
       "    <tr>\n",
       "      <th>117428</th>\n",
       "      <td>500567</td>\n",
       "      <td>47586A</td>\n",
       "      <td>PINK FAIRY CAKE CUSHION COVER</td>\n",
       "      <td>24</td>\n",
       "      <td>0.85</td>\n",
       "      <td>13694.0</td>\n",
       "      <td>United Kingdom</td>\n",
       "      <td>2010</td>\n",
       "      <td>3</td>\n",
       "      <td>8</td>\n",
       "      <td>15:49:00</td>\n",
       "      <td>20.40</td>\n",
       "    </tr>\n",
       "    <tr>\n",
       "      <th>299616</th>\n",
       "      <td>518570</td>\n",
       "      <td>35961</td>\n",
       "      <td>FOLKART ZINC HEART CHRISTMAS DEC</td>\n",
       "      <td>1</td>\n",
       "      <td>1.66</td>\n",
       "      <td>NaN</td>\n",
       "      <td>United Kingdom</td>\n",
       "      <td>2010</td>\n",
       "      <td>8</td>\n",
       "      <td>10</td>\n",
       "      <td>11:49:00</td>\n",
       "      <td>1.66</td>\n",
       "    </tr>\n",
       "    <tr>\n",
       "      <th>613909</th>\n",
       "      <td>543803</td>\n",
       "      <td>22525</td>\n",
       "      <td>CHILDRENS GARDEN GLOVES PINK</td>\n",
       "      <td>5</td>\n",
       "      <td>1.25</td>\n",
       "      <td>17126.0</td>\n",
       "      <td>United Kingdom</td>\n",
       "      <td>2011</td>\n",
       "      <td>2</td>\n",
       "      <td>13</td>\n",
       "      <td>12:05:00</td>\n",
       "      <td>6.25</td>\n",
       "    </tr>\n",
       "  </tbody>\n",
       "</table>\n",
       "</div>"
      ],
      "text/plain": [
       "       Invoice StockCode                         Description  Quantity  Price  \\\n",
       "803443  561203     22953  BIRTHDAY PARTY CORDON BARRIER TAPE        12   1.25   \n",
       "607418  543182     22726          ALARM CLOCK BAKELIKE GREEN         3   7.46   \n",
       "117428  500567    47586A       PINK FAIRY CAKE CUSHION COVER        24   0.85   \n",
       "299616  518570     35961    FOLKART ZINC HEART CHRISTMAS DEC         1   1.66   \n",
       "613909  543803     22525        CHILDRENS GARDEN GLOVES PINK         5   1.25   \n",
       "\n",
       "        Customer ID         Country  InvoiceYear  InvoiceMonth  InvoiceDay  \\\n",
       "803443      14232.0  United Kingdom         2011             7          25   \n",
       "607418          NaN  United Kingdom         2011             2           4   \n",
       "117428      13694.0  United Kingdom         2010             3           8   \n",
       "299616          NaN  United Kingdom         2010             8          10   \n",
       "613909      17126.0  United Kingdom         2011             2          13   \n",
       "\n",
       "       InvoiceTime  total_price  \n",
       "803443    15:17:00        15.00  \n",
       "607418    10:40:00        22.38  \n",
       "117428    15:49:00        20.40  \n",
       "299616    11:49:00         1.66  \n",
       "613909    12:05:00         6.25  "
      ]
     },
     "execution_count": 11,
     "metadata": {},
     "output_type": "execute_result"
    }
   ],
   "source": [
    "sample = handle_date(sample)\n",
    "sample['total_price'] = sample.apply(get_total, axis=1)\n",
    "sample.head()"
   ]
  },
  {
   "cell_type": "markdown",
   "metadata": {},
   "source": [
    "> <b>Visualization</b>"
   ]
  },
  {
   "cell_type": "code",
   "execution_count": 20,
   "metadata": {},
   "outputs": [
    {
     "data": {
      "text/plain": [
       "Text(0, 0.5, 'Number of Invoices')"
      ]
     },
     "execution_count": 20,
     "metadata": {},
     "output_type": "execute_result"
    },
    {
     "data": {
      "image/png": "[encoded data removed]",
      "text/plain": [
       "<Figure size 640x480 with 1 Axes>"
      ]
     },
     "metadata": {},
     "output_type": "display_data"
    }
   ],
   "source": [
    "sample['InvoiceYear'].value_counts().sort_index().plot(kind='bar')\n",
    "plt.title('Figure 1: Number of Invoices by Year')\n",
    "plt.xlabel('Year')\n",
    "plt.ylabel('Number of Invoices')"
   ]
  },
  {
   "cell_type": "code",
   "execution_count": 21,
   "metadata": {},
   "outputs": [
    {
     "data": {
      "text/plain": [
       "Text(0, 0.5, 'Number of Invoices')"
      ]
     },
     "execution_count": 21,
     "metadata": {},
     "output_type": "execute_result"
    },
    {
     "data": {
      "image/png": "[encoded data removed]",
      "text/plain": [
       "<Figure size 640x480 with 1 Axes>"
      ]
     },
     "metadata": {},
     "output_type": "display_data"
    }
   ],
   "source": [
    "sample.groupby('InvoiceMonth')['Invoice'].count().plot(marker='o')\n",
    "plt.title('Figure 2: Number of Invoices Over Months')\n",
    "plt.xlabel('Month')\n",
    "plt.ylabel('Number of Invoices')"
   ]
  },
  {
   "cell_type": "code",
   "execution_count": 22,
   "metadata": {},
   "outputs": [
    {
     "data": {
      "text/plain": [
       "(-0.5, 399.5, 199.5, -0.5)"
      ]
     },
     "execution_count": 22,
     "metadata": {},
     "output_type": "execute_result"
    },
    {
     "data": {
      "image/png": "[encoded data removed]",
      "text/plain": [
       "<Figure size 640x480 with 1 Axes>"
      ]
     },
     "metadata": {},
     "output_type": "display_data"
    }
   ],
   "source": [
    "words = ' '.join(sample['Description'].dropna())\n",
    "wordcloud = WordCloud(background_color='white').generate(words)\n",
    "plt.imshow(wordcloud)\n",
    "plt.title('Figure 3: Word Cloud of Product Descriptions')\n",
    "plt.axis('off')"
   ]
  },
  {
   "cell_type": "markdown",
   "metadata": {},
   "source": [
    "## "
   ]
  },
  {
   "cell_type": "code",
   "execution_count": 15,
   "metadata": {},
   "outputs": [
    {
     "name": "stdout",
     "output_type": "stream",
     "text": [
      "The peak sales hour is at 15:28:00 o'clock.\n"
     ]
    }
   ],
   "source": [
    "hourly_sales = sample.groupby('InvoiceTime')['total_price'].sum()\n",
    "peak_sales_hour = hourly_sales.idxmax()\n",
    "print(f\"The peak sales hour is at {peak_sales_hour} o'clock.\")"
   ]
  },
  {
   "cell_type": "markdown",
   "metadata": {},
   "source": [
    "><b>Data Insights</b>"
   ]
  },
  {
   "cell_type": "markdown",
   "metadata": {},
   "source": [
    "1. Determine the total sales per invoice and identify the top 5 invoices."
   ]
  },
  {
   "cell_type": "code",
   "execution_count": 17,
   "metadata": {},
   "outputs": [
    {
     "name": "stdout",
     "output_type": "stream",
     "text": [
      "The top 5 total Sales and their invovice:\n"
     ]
    },
    {
     "data": {
      "text/plain": [
       "Invoice\n",
       "556444    38970.00\n",
       "530715    15818.40\n",
       "537632    13541.33\n",
       "574941    11318.40\n",
       "572209     9855.00\n",
       "Name: total_price, dtype: float64"
      ]
     },
     "execution_count": 17,
     "metadata": {},
     "output_type": "execute_result"
    }
   ],
   "source": [
    "print(\"The top 5 total Sales and their invovice:\")\n",
    "sample.groupby(sample['Invoice'])['total_price'].sum().nlargest(5)"
   ]
  },
  {
   "cell_type": "markdown",
   "metadata": {},
   "source": [
    "2. Compute the total sales per customer and list the top 5 customers."
   ]
  },
  {
   "cell_type": "code",
   "execution_count": 18,
   "metadata": {},
   "outputs": [
    {
     "name": "stdout",
     "output_type": "stream",
     "text": [
      "The top 5 buyers by Id:\n"
     ]
    },
    {
     "data": {
      "text/plain": [
       "Customer ID\n",
       "18102.0    103610.73\n",
       "14646.0     94118.39\n",
       "17450.0     53062.80\n",
       "14156.0     48606.45\n",
       "14911.0     46425.48\n",
       "Name: total_price, dtype: float64"
      ]
     },
     "execution_count": 18,
     "metadata": {},
     "output_type": "execute_result"
    }
   ],
   "source": [
    "print(\"The top 5 buyers by Id:\")\n",
    "sample.groupby(sample['Customer ID'])['total_price'].sum().nlargest(5)"
   ]
  },
  {
   "cell_type": "markdown",
   "metadata": {},
   "source": [
    "3. Identify the top 5 selling items during this period."
   ]
  },
  {
   "cell_type": "code",
   "execution_count": 19,
   "metadata": {},
   "outputs": [
    {
     "name": "stdout",
     "output_type": "stream",
     "text": [
      "The top 5 selling items:\n"
     ]
    },
    {
     "data": {
      "text/plain": [
       "Description\n",
       "DOTCOM POSTAGE                        62097.73\n",
       "REGENCY CAKESTAND 3 TIER              57765.86\n",
       "WHITE HANGING HEART T-LIGHT HOLDER    49873.17\n",
       "PICNIC BASKET WICKER 60 PIECES        38970.00\n",
       "PARTY BUNTING                         28979.89\n",
       "Name: total_price, dtype: float64"
      ]
     },
     "execution_count": 19,
     "metadata": {},
     "output_type": "execute_result"
    }
   ],
   "source": [
    "print(\"The top 5 selling items:\")\n",
    "sample.groupby(sample['Description'])['total_price'].sum().nlargest(5)"
   ]
  },
  {
   "cell_type": "markdown",
   "metadata": {},
   "source": [
    "4. Determine the most frequently purchased item pairs by customers and display the top 20 pairs."
   ]
  },
  {
   "cell_type": "code",
   "execution_count": null,
   "metadata": {},
   "outputs": [],
   "source": []
  },
  {
   "cell_type": "markdown",
   "metadata": {},
   "source": [
    "5. The retail store aims to introduce a new promotion targeting items with low sales volume. This promotion entails offering a discounted price for a pair of two different items, with one item being among the top 10 best sellers and the other from the bottom 10 sellers. Customers who purchase these two items together will qualify for the special pricing. Your task is to recommend 10 pairs of items to kickstart this campaign."
   ]
  },
  {
   "cell_type": "code",
   "execution_count": null,
   "metadata": {},
   "outputs": [],
   "source": []
  },
  {
   "cell_type": "markdown",
   "metadata": {},
   "source": [
    "#### <b>Conclusion</b>\n"
   ]
  },
  {
   "cell_type": "markdown",
   "metadata": {},
   "source": [
    "#### <b>Refrences</b>\n",
    "- [1] https://pandas.pydata.org/pandas-docs/stable/reference/api/pandas.DataFrame.nlargest.html"
   ]
  }
 ],
 "metadata": {
  "kernelspec": {
   "display_name": ".venv",
   "language": "python",
   "name": "python3"
  },
  "language_info": {
   "codemirror_mode": {
    "name": "ipython",
    "version": 3
   },
   "file_extension": ".py",
   "mimetype": "text/x-python",
   "name": "python",
   "nbconvert_exporter": "python",
   "pygments_lexer": "ipython3",
   "version": "3.12.2"
  }
 },
 "nbformat": 4,
 "nbformat_minor": 2
}
