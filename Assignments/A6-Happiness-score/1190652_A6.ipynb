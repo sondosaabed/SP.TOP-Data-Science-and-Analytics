{
 "cells": [
  {
   "cell_type": "markdown",
   "metadata": {},
   "source": [
    "    Department Of Computer Science\n",
    "    COMP4381, SP.TOP: DATA SCIENCE AND ANALYTICS\n",
    "    Dr. Hussein Soboh\n",
    "    COMP4381 | Section 1 "
   ]
  },
  {
   "cell_type": "markdown",
   "metadata": {},
   "source": [
    "## <div align=center> Assignment #6 </div>\n",
    "<div align=center><b>Happiness Score Datasets (2015-2019)</b></div>\n",
    "<div align=center>Cleaning and EDA</div>\n",
    "\n",
    "    Prepeared by: Sondos Aabed\n",
    "    ID: 1190652"
   ]
  },
  {
   "cell_type": "markdown",
   "metadata": {},
   "source": [
    "## Table of Contents\n",
    "\n",
    "- Introduction\n",
    "- Tools and Versions\n",
    "- Data Analysis Process\n",
    "    - Data Wrangling\n",
    "    - Exploratory Data Analysis\n",
    "- Insights and Conclusions\n",
    "\n",
    "<hr>"
   ]
  },
  {
   "cell_type": "markdown",
   "metadata": {},
   "source": [
    "## Introduction\n",
    "The World Happiness Report is a landmark survey of the state of global happiness. The first report was published in 2012, the second in 2013, the third in 2015, and the fourth in the 2016 Update. The World Happiness 2017, which ranks 155 countries by their happiness levels, was released at the United Nations at an event celebrating International Day of Happiness on March 20th. [1]\n",
    "\n",
    "Leading experts across fields – economics, psychology, survey analysis, national statistics, health, public policy and more – describe how measurements of well-being can be used effectively to assess the progress of nations. The reports review the state of happiness in the world today and show how the new science of happiness explains personal and national variations in happiness. [1]\n",
    "\n",
    "Through this report, multiple analatical questioned are asked and answered."
   ]
  },
  {
   "cell_type": "markdown",
   "metadata": {},
   "source": [
    "### About the Datasets (2015-2019)\n",
    "\n",
    "These datasets used had been collected between the years 2015-2019. The datset consists of the follwing columns:\n",
    "\n",
    "|Attribute |Data Type| Describtion |\n",
    "|-----|------|------|\n",
    "|country|object|The country place of the record|\n",
    "|region|object|The region that the country is in|\n",
    "|happiness_rank|int64|The rank of the country among all the countries (has the notion of order)|\n",
    "|economy_gdp_per_capita|float64|metric the mesures Econmony|\n",
    "|family|float64|How suuportive teh family is|\n",
    "|health_life_expectancy|float64|Metric that mesures how healthy they are|\n",
    "|freedom|float64|Metric that mesure how the country has freedom|\n",
    "|trust_government_corruption| float64|Metric that mesure how much the trust in goverment|\n",
    "|Generosity|float64|The measure of the people's genoritsy in couuntry|\n",
    "|year|int32|The year the record was collected|"
   ]
  },
  {
   "cell_type": "markdown",
   "metadata": {},
   "source": [
    "### Analysis Questions\n",
    "\n",
    "In this notebook, the writer is going to use the dataset to answer the follwing analatical questions:\n",
    "- Q1: What are the highest and the lowest happiness score for regions across all the year?\n",
    "- Q2: How does the happiness score changes over the yeas?\n",
    "- Q3: What would the next two years look like?\n",
    "- Q4: How does the happiness score changes over the yeas by the regions?"
   ]
  },
  {
   "cell_type": "markdown",
   "metadata": {},
   "source": [
    "<hr>"
   ]
  },
  {
   "cell_type": "markdown",
   "metadata": {},
   "source": [
    "## Tools and Versions\n",
    "\n",
    "The following tools and versions are utiliize through this reporting:\n",
    "\n",
    "|Tool | Version |\n",
    "|-----|---------|\n",
    "|Python|3.12.2|\n",
    "|Numpy|1.26.4|\n",
    "|Matplotlib|3.8.2|\n",
    "|Pandas|2.2.1|\n",
    "|Visual Studio Code |Updated|\n",
    "|Git & github|[Repo.](https://github.com/sondosaabed/SP.TOP-Data-Science-and-Analytics/blob/main/Assignments/A6-Happiness-score/1190652_A6.ipynb)|"
   ]
  },
  {
   "cell_type": "markdown",
   "metadata": {},
   "source": [
    "<hr>"
   ]
  },
  {
   "cell_type": "markdown",
   "metadata": {},
   "source": [
    "## Data Analysis Process"
   ]
  },
  {
   "cell_type": "markdown",
   "metadata": {},
   "source": [
    "### Data Wrangling\n",
    "\n",
    "In this section, the data wrangling process is followed wehre first the dataset is loaded and it goes through assessment and cleansing. Inluding aspectes of structural probelms and outliers, duplicaes or missing values."
   ]
  },
  {
   "cell_type": "markdown",
   "metadata": {},
   "source": [
    "#### Loading the Dataset"
   ]
  },
  {
   "cell_type": "code",
   "execution_count": 1,
   "metadata": {},
   "outputs": [],
   "source": [
    "import pandas as pd\n",
    "import os\n",
    "from IPython.display import display\n",
    "import matplotlib.pyplot as plt"
   ]
  },
  {
   "cell_type": "code",
   "execution_count": 2,
   "metadata": {},
   "outputs": [],
   "source": [
    "def load_data(path=\"./happiness-score-datasets\"):\n",
    "    \"\"\"\n",
    "    Loads the data into the pandas data frame, add the year column\n",
    "    Args:\n",
    "        path (string): path to the data, deafult value is the directory name\n",
    "    Returns:\n",
    "        (list): list of data frames (pd.DataFrame)\n",
    "    \"\"\"\n",
    "    dfs = []\n",
    "    for file in os.listdir(path):\n",
    "        if file.endswith(\".csv\"):\n",
    "            data = pd.read_csv(path+'/'+file)\n",
    "            data['year'] = file.strip(\".csv\")\n",
    "            dfs.append(data)\n",
    "    return dfs"
   ]
  },
  {
   "cell_type": "markdown",
   "metadata": {},
   "source": [
    "The reason for loading each dataframe separately is to first check if the columns are identical and to make data optimization using Numpy based on the datatypes."
   ]
  },
  {
   "cell_type": "code",
   "execution_count": 3,
   "metadata": {},
   "outputs": [],
   "source": [
    "dfs = load_data()"
   ]
  },
  {
   "cell_type": "markdown",
   "metadata": {},
   "source": [
    "<hr>"
   ]
  },
  {
   "cell_type": "markdown",
   "metadata": {},
   "source": [
    "#### Assessing and Cleaning the datasets\n",
    "In this section the following steps will be conducted:\n",
    "- Assess and handle Columns and Data types\n",
    "- Assess and handle Duplicates\n",
    "- Assess and handle Missing Values\n",
    "-  Assess and handle Outliers"
   ]
  },
  {
   "cell_type": "markdown",
   "metadata": {},
   "source": [
    "##### Assessing and handling Columns and Data types"
   ]
  },
  {
   "cell_type": "markdown",
   "metadata": {},
   "source": [
    "Fixing structural issue to merge datasets, let's first take a look into the loaded datasets to make assessment of columns names and types:"
   ]
  },
  {
   "cell_type": "code",
   "execution_count": 4,
   "metadata": {},
   "outputs": [
    {
     "data": {
      "text/html": [
       "<div>\n",
       "<style scoped>\n",
       "    .dataframe tbody tr th:only-of-type {\n",
       "        vertical-align: middle;\n",
       "    }\n",
       "\n",
       "    .dataframe tbody tr th {\n",
       "        vertical-align: top;\n",
       "    }\n",
       "\n",
       "    .dataframe thead th {\n",
       "        text-align: right;\n",
       "    }\n",
       "</style>\n",
       "<table border=\"1\" class=\"dataframe\">\n",
       "  <thead>\n",
       "    <tr style=\"text-align: right;\">\n",
       "      <th></th>\n",
       "      <th>Country</th>\n",
       "      <th>Region</th>\n",
       "      <th>Happiness Rank</th>\n",
       "      <th>Happiness Score</th>\n",
       "      <th>Standard Error</th>\n",
       "      <th>Economy (GDP per Capita)</th>\n",
       "      <th>Family</th>\n",
       "      <th>Health (Life Expectancy)</th>\n",
       "      <th>Freedom</th>\n",
       "      <th>Trust (Government Corruption)</th>\n",
       "      <th>Generosity</th>\n",
       "      <th>Dystopia Residual</th>\n",
       "      <th>year</th>\n",
       "    </tr>\n",
       "  </thead>\n",
       "  <tbody>\n",
       "    <tr>\n",
       "      <th>0</th>\n",
       "      <td>Switzerland</td>\n",
       "      <td>Western Europe</td>\n",
       "      <td>1</td>\n",
       "      <td>7.587</td>\n",
       "      <td>0.03411</td>\n",
       "      <td>1.39651</td>\n",
       "      <td>1.34951</td>\n",
       "      <td>0.94143</td>\n",
       "      <td>0.66557</td>\n",
       "      <td>0.41978</td>\n",
       "      <td>0.29678</td>\n",
       "      <td>2.51738</td>\n",
       "      <td>2015</td>\n",
       "    </tr>\n",
       "    <tr>\n",
       "      <th>1</th>\n",
       "      <td>Iceland</td>\n",
       "      <td>Western Europe</td>\n",
       "      <td>2</td>\n",
       "      <td>7.561</td>\n",
       "      <td>0.04884</td>\n",
       "      <td>1.30232</td>\n",
       "      <td>1.40223</td>\n",
       "      <td>0.94784</td>\n",
       "      <td>0.62877</td>\n",
       "      <td>0.14145</td>\n",
       "      <td>0.43630</td>\n",
       "      <td>2.70201</td>\n",
       "      <td>2015</td>\n",
       "    </tr>\n",
       "    <tr>\n",
       "      <th>2</th>\n",
       "      <td>Denmark</td>\n",
       "      <td>Western Europe</td>\n",
       "      <td>3</td>\n",
       "      <td>7.527</td>\n",
       "      <td>0.03328</td>\n",
       "      <td>1.32548</td>\n",
       "      <td>1.36058</td>\n",
       "      <td>0.87464</td>\n",
       "      <td>0.64938</td>\n",
       "      <td>0.48357</td>\n",
       "      <td>0.34139</td>\n",
       "      <td>2.49204</td>\n",
       "      <td>2015</td>\n",
       "    </tr>\n",
       "    <tr>\n",
       "      <th>3</th>\n",
       "      <td>Norway</td>\n",
       "      <td>Western Europe</td>\n",
       "      <td>4</td>\n",
       "      <td>7.522</td>\n",
       "      <td>0.03880</td>\n",
       "      <td>1.45900</td>\n",
       "      <td>1.33095</td>\n",
       "      <td>0.88521</td>\n",
       "      <td>0.66973</td>\n",
       "      <td>0.36503</td>\n",
       "      <td>0.34699</td>\n",
       "      <td>2.46531</td>\n",
       "      <td>2015</td>\n",
       "    </tr>\n",
       "    <tr>\n",
       "      <th>4</th>\n",
       "      <td>Canada</td>\n",
       "      <td>North America</td>\n",
       "      <td>5</td>\n",
       "      <td>7.427</td>\n",
       "      <td>0.03553</td>\n",
       "      <td>1.32629</td>\n",
       "      <td>1.32261</td>\n",
       "      <td>0.90563</td>\n",
       "      <td>0.63297</td>\n",
       "      <td>0.32957</td>\n",
       "      <td>0.45811</td>\n",
       "      <td>2.45176</td>\n",
       "      <td>2015</td>\n",
       "    </tr>\n",
       "  </tbody>\n",
       "</table>\n",
       "</div>"
      ],
      "text/plain": [
       "       Country          Region  Happiness Rank  Happiness Score  \\\n",
       "0  Switzerland  Western Europe               1            7.587   \n",
       "1      Iceland  Western Europe               2            7.561   \n",
       "2      Denmark  Western Europe               3            7.527   \n",
       "3       Norway  Western Europe               4            7.522   \n",
       "4       Canada   North America               5            7.427   \n",
       "\n",
       "   Standard Error  Economy (GDP per Capita)   Family  \\\n",
       "0         0.03411                   1.39651  1.34951   \n",
       "1         0.04884                   1.30232  1.40223   \n",
       "2         0.03328                   1.32548  1.36058   \n",
       "3         0.03880                   1.45900  1.33095   \n",
       "4         0.03553                   1.32629  1.32261   \n",
       "\n",
       "   Health (Life Expectancy)  Freedom  Trust (Government Corruption)  \\\n",
       "0                   0.94143  0.66557                        0.41978   \n",
       "1                   0.94784  0.62877                        0.14145   \n",
       "2                   0.87464  0.64938                        0.48357   \n",
       "3                   0.88521  0.66973                        0.36503   \n",
       "4                   0.90563  0.63297                        0.32957   \n",
       "\n",
       "   Generosity  Dystopia Residual  year  \n",
       "0     0.29678            2.51738  2015  \n",
       "1     0.43630            2.70201  2015  \n",
       "2     0.34139            2.49204  2015  \n",
       "3     0.34699            2.46531  2015  \n",
       "4     0.45811            2.45176  2015  "
      ]
     },
     "metadata": {},
     "output_type": "display_data"
    },
    {
     "data": {
      "text/html": [
       "<div>\n",
       "<style scoped>\n",
       "    .dataframe tbody tr th:only-of-type {\n",
       "        vertical-align: middle;\n",
       "    }\n",
       "\n",
       "    .dataframe tbody tr th {\n",
       "        vertical-align: top;\n",
       "    }\n",
       "\n",
       "    .dataframe thead th {\n",
       "        text-align: right;\n",
       "    }\n",
       "</style>\n",
       "<table border=\"1\" class=\"dataframe\">\n",
       "  <thead>\n",
       "    <tr style=\"text-align: right;\">\n",
       "      <th></th>\n",
       "      <th>Country</th>\n",
       "      <th>Region</th>\n",
       "      <th>Happiness Rank</th>\n",
       "      <th>Happiness Score</th>\n",
       "      <th>Lower Confidence Interval</th>\n",
       "      <th>Upper Confidence Interval</th>\n",
       "      <th>Economy (GDP per Capita)</th>\n",
       "      <th>Family</th>\n",
       "      <th>Health (Life Expectancy)</th>\n",
       "      <th>Freedom</th>\n",
       "      <th>Trust (Government Corruption)</th>\n",
       "      <th>Generosity</th>\n",
       "      <th>Dystopia Residual</th>\n",
       "      <th>year</th>\n",
       "    </tr>\n",
       "  </thead>\n",
       "  <tbody>\n",
       "    <tr>\n",
       "      <th>0</th>\n",
       "      <td>Denmark</td>\n",
       "      <td>Western Europe</td>\n",
       "      <td>1</td>\n",
       "      <td>7.526</td>\n",
       "      <td>7.460</td>\n",
       "      <td>7.592</td>\n",
       "      <td>1.44178</td>\n",
       "      <td>1.16374</td>\n",
       "      <td>0.79504</td>\n",
       "      <td>0.57941</td>\n",
       "      <td>0.44453</td>\n",
       "      <td>0.36171</td>\n",
       "      <td>2.73939</td>\n",
       "      <td>2016</td>\n",
       "    </tr>\n",
       "    <tr>\n",
       "      <th>1</th>\n",
       "      <td>Switzerland</td>\n",
       "      <td>Western Europe</td>\n",
       "      <td>2</td>\n",
       "      <td>7.509</td>\n",
       "      <td>7.428</td>\n",
       "      <td>7.590</td>\n",
       "      <td>1.52733</td>\n",
       "      <td>1.14524</td>\n",
       "      <td>0.86303</td>\n",
       "      <td>0.58557</td>\n",
       "      <td>0.41203</td>\n",
       "      <td>0.28083</td>\n",
       "      <td>2.69463</td>\n",
       "      <td>2016</td>\n",
       "    </tr>\n",
       "    <tr>\n",
       "      <th>2</th>\n",
       "      <td>Iceland</td>\n",
       "      <td>Western Europe</td>\n",
       "      <td>3</td>\n",
       "      <td>7.501</td>\n",
       "      <td>7.333</td>\n",
       "      <td>7.669</td>\n",
       "      <td>1.42666</td>\n",
       "      <td>1.18326</td>\n",
       "      <td>0.86733</td>\n",
       "      <td>0.56624</td>\n",
       "      <td>0.14975</td>\n",
       "      <td>0.47678</td>\n",
       "      <td>2.83137</td>\n",
       "      <td>2016</td>\n",
       "    </tr>\n",
       "    <tr>\n",
       "      <th>3</th>\n",
       "      <td>Norway</td>\n",
       "      <td>Western Europe</td>\n",
       "      <td>4</td>\n",
       "      <td>7.498</td>\n",
       "      <td>7.421</td>\n",
       "      <td>7.575</td>\n",
       "      <td>1.57744</td>\n",
       "      <td>1.12690</td>\n",
       "      <td>0.79579</td>\n",
       "      <td>0.59609</td>\n",
       "      <td>0.35776</td>\n",
       "      <td>0.37895</td>\n",
       "      <td>2.66465</td>\n",
       "      <td>2016</td>\n",
       "    </tr>\n",
       "    <tr>\n",
       "      <th>4</th>\n",
       "      <td>Finland</td>\n",
       "      <td>Western Europe</td>\n",
       "      <td>5</td>\n",
       "      <td>7.413</td>\n",
       "      <td>7.351</td>\n",
       "      <td>7.475</td>\n",
       "      <td>1.40598</td>\n",
       "      <td>1.13464</td>\n",
       "      <td>0.81091</td>\n",
       "      <td>0.57104</td>\n",
       "      <td>0.41004</td>\n",
       "      <td>0.25492</td>\n",
       "      <td>2.82596</td>\n",
       "      <td>2016</td>\n",
       "    </tr>\n",
       "  </tbody>\n",
       "</table>\n",
       "</div>"
      ],
      "text/plain": [
       "       Country          Region  Happiness Rank  Happiness Score  \\\n",
       "0      Denmark  Western Europe               1            7.526   \n",
       "1  Switzerland  Western Europe               2            7.509   \n",
       "2      Iceland  Western Europe               3            7.501   \n",
       "3       Norway  Western Europe               4            7.498   \n",
       "4      Finland  Western Europe               5            7.413   \n",
       "\n",
       "   Lower Confidence Interval  Upper Confidence Interval  \\\n",
       "0                      7.460                      7.592   \n",
       "1                      7.428                      7.590   \n",
       "2                      7.333                      7.669   \n",
       "3                      7.421                      7.575   \n",
       "4                      7.351                      7.475   \n",
       "\n",
       "   Economy (GDP per Capita)   Family  Health (Life Expectancy)  Freedom  \\\n",
       "0                   1.44178  1.16374                   0.79504  0.57941   \n",
       "1                   1.52733  1.14524                   0.86303  0.58557   \n",
       "2                   1.42666  1.18326                   0.86733  0.56624   \n",
       "3                   1.57744  1.12690                   0.79579  0.59609   \n",
       "4                   1.40598  1.13464                   0.81091  0.57104   \n",
       "\n",
       "   Trust (Government Corruption)  Generosity  Dystopia Residual  year  \n",
       "0                        0.44453     0.36171            2.73939  2016  \n",
       "1                        0.41203     0.28083            2.69463  2016  \n",
       "2                        0.14975     0.47678            2.83137  2016  \n",
       "3                        0.35776     0.37895            2.66465  2016  \n",
       "4                        0.41004     0.25492            2.82596  2016  "
      ]
     },
     "metadata": {},
     "output_type": "display_data"
    },
    {
     "data": {
      "text/html": [
       "<div>\n",
       "<style scoped>\n",
       "    .dataframe tbody tr th:only-of-type {\n",
       "        vertical-align: middle;\n",
       "    }\n",
       "\n",
       "    .dataframe tbody tr th {\n",
       "        vertical-align: top;\n",
       "    }\n",
       "\n",
       "    .dataframe thead th {\n",
       "        text-align: right;\n",
       "    }\n",
       "</style>\n",
       "<table border=\"1\" class=\"dataframe\">\n",
       "  <thead>\n",
       "    <tr style=\"text-align: right;\">\n",
       "      <th></th>\n",
       "      <th>Country</th>\n",
       "      <th>Happiness.Rank</th>\n",
       "      <th>Happiness.Score</th>\n",
       "      <th>Whisker.high</th>\n",
       "      <th>Whisker.low</th>\n",
       "      <th>Economy..GDP.per.Capita.</th>\n",
       "      <th>Family</th>\n",
       "      <th>Health..Life.Expectancy.</th>\n",
       "      <th>Freedom</th>\n",
       "      <th>Generosity</th>\n",
       "      <th>Trust..Government.Corruption.</th>\n",
       "      <th>Dystopia.Residual</th>\n",
       "      <th>year</th>\n",
       "    </tr>\n",
       "  </thead>\n",
       "  <tbody>\n",
       "    <tr>\n",
       "      <th>0</th>\n",
       "      <td>Norway</td>\n",
       "      <td>1</td>\n",
       "      <td>7.537</td>\n",
       "      <td>7.594445</td>\n",
       "      <td>7.479556</td>\n",
       "      <td>1.616463</td>\n",
       "      <td>1.533524</td>\n",
       "      <td>0.796667</td>\n",
       "      <td>0.635423</td>\n",
       "      <td>0.362012</td>\n",
       "      <td>0.315964</td>\n",
       "      <td>2.277027</td>\n",
       "      <td>2017</td>\n",
       "    </tr>\n",
       "    <tr>\n",
       "      <th>1</th>\n",
       "      <td>Denmark</td>\n",
       "      <td>2</td>\n",
       "      <td>7.522</td>\n",
       "      <td>7.581728</td>\n",
       "      <td>7.462272</td>\n",
       "      <td>1.482383</td>\n",
       "      <td>1.551122</td>\n",
       "      <td>0.792566</td>\n",
       "      <td>0.626007</td>\n",
       "      <td>0.355280</td>\n",
       "      <td>0.400770</td>\n",
       "      <td>2.313707</td>\n",
       "      <td>2017</td>\n",
       "    </tr>\n",
       "    <tr>\n",
       "      <th>2</th>\n",
       "      <td>Iceland</td>\n",
       "      <td>3</td>\n",
       "      <td>7.504</td>\n",
       "      <td>7.622030</td>\n",
       "      <td>7.385970</td>\n",
       "      <td>1.480633</td>\n",
       "      <td>1.610574</td>\n",
       "      <td>0.833552</td>\n",
       "      <td>0.627163</td>\n",
       "      <td>0.475540</td>\n",
       "      <td>0.153527</td>\n",
       "      <td>2.322715</td>\n",
       "      <td>2017</td>\n",
       "    </tr>\n",
       "    <tr>\n",
       "      <th>3</th>\n",
       "      <td>Switzerland</td>\n",
       "      <td>4</td>\n",
       "      <td>7.494</td>\n",
       "      <td>7.561772</td>\n",
       "      <td>7.426227</td>\n",
       "      <td>1.564980</td>\n",
       "      <td>1.516912</td>\n",
       "      <td>0.858131</td>\n",
       "      <td>0.620071</td>\n",
       "      <td>0.290549</td>\n",
       "      <td>0.367007</td>\n",
       "      <td>2.276716</td>\n",
       "      <td>2017</td>\n",
       "    </tr>\n",
       "    <tr>\n",
       "      <th>4</th>\n",
       "      <td>Finland</td>\n",
       "      <td>5</td>\n",
       "      <td>7.469</td>\n",
       "      <td>7.527542</td>\n",
       "      <td>7.410458</td>\n",
       "      <td>1.443572</td>\n",
       "      <td>1.540247</td>\n",
       "      <td>0.809158</td>\n",
       "      <td>0.617951</td>\n",
       "      <td>0.245483</td>\n",
       "      <td>0.382612</td>\n",
       "      <td>2.430182</td>\n",
       "      <td>2017</td>\n",
       "    </tr>\n",
       "  </tbody>\n",
       "</table>\n",
       "</div>"
      ],
      "text/plain": [
       "       Country  Happiness.Rank  Happiness.Score  Whisker.high  Whisker.low  \\\n",
       "0       Norway               1            7.537      7.594445     7.479556   \n",
       "1      Denmark               2            7.522      7.581728     7.462272   \n",
       "2      Iceland               3            7.504      7.622030     7.385970   \n",
       "3  Switzerland               4            7.494      7.561772     7.426227   \n",
       "4      Finland               5            7.469      7.527542     7.410458   \n",
       "\n",
       "   Economy..GDP.per.Capita.    Family  Health..Life.Expectancy.   Freedom  \\\n",
       "0                  1.616463  1.533524                  0.796667  0.635423   \n",
       "1                  1.482383  1.551122                  0.792566  0.626007   \n",
       "2                  1.480633  1.610574                  0.833552  0.627163   \n",
       "3                  1.564980  1.516912                  0.858131  0.620071   \n",
       "4                  1.443572  1.540247                  0.809158  0.617951   \n",
       "\n",
       "   Generosity  Trust..Government.Corruption.  Dystopia.Residual  year  \n",
       "0    0.362012                       0.315964           2.277027  2017  \n",
       "1    0.355280                       0.400770           2.313707  2017  \n",
       "2    0.475540                       0.153527           2.322715  2017  \n",
       "3    0.290549                       0.367007           2.276716  2017  \n",
       "4    0.245483                       0.382612           2.430182  2017  "
      ]
     },
     "metadata": {},
     "output_type": "display_data"
    },
    {
     "data": {
      "text/html": [
       "<div>\n",
       "<style scoped>\n",
       "    .dataframe tbody tr th:only-of-type {\n",
       "        vertical-align: middle;\n",
       "    }\n",
       "\n",
       "    .dataframe tbody tr th {\n",
       "        vertical-align: top;\n",
       "    }\n",
       "\n",
       "    .dataframe thead th {\n",
       "        text-align: right;\n",
       "    }\n",
       "</style>\n",
       "<table border=\"1\" class=\"dataframe\">\n",
       "  <thead>\n",
       "    <tr style=\"text-align: right;\">\n",
       "      <th></th>\n",
       "      <th>Overall rank</th>\n",
       "      <th>Country or region</th>\n",
       "      <th>Score</th>\n",
       "      <th>GDP per capita</th>\n",
       "      <th>Social support</th>\n",
       "      <th>Healthy life expectancy</th>\n",
       "      <th>Freedom to make life choices</th>\n",
       "      <th>Generosity</th>\n",
       "      <th>Perceptions of corruption</th>\n",
       "      <th>year</th>\n",
       "    </tr>\n",
       "  </thead>\n",
       "  <tbody>\n",
       "    <tr>\n",
       "      <th>0</th>\n",
       "      <td>1</td>\n",
       "      <td>Finland</td>\n",
       "      <td>7.632</td>\n",
       "      <td>1.305</td>\n",
       "      <td>1.592</td>\n",
       "      <td>0.874</td>\n",
       "      <td>0.681</td>\n",
       "      <td>0.202</td>\n",
       "      <td>0.393</td>\n",
       "      <td>2018</td>\n",
       "    </tr>\n",
       "    <tr>\n",
       "      <th>1</th>\n",
       "      <td>2</td>\n",
       "      <td>Norway</td>\n",
       "      <td>7.594</td>\n",
       "      <td>1.456</td>\n",
       "      <td>1.582</td>\n",
       "      <td>0.861</td>\n",
       "      <td>0.686</td>\n",
       "      <td>0.286</td>\n",
       "      <td>0.340</td>\n",
       "      <td>2018</td>\n",
       "    </tr>\n",
       "    <tr>\n",
       "      <th>2</th>\n",
       "      <td>3</td>\n",
       "      <td>Denmark</td>\n",
       "      <td>7.555</td>\n",
       "      <td>1.351</td>\n",
       "      <td>1.590</td>\n",
       "      <td>0.868</td>\n",
       "      <td>0.683</td>\n",
       "      <td>0.284</td>\n",
       "      <td>0.408</td>\n",
       "      <td>2018</td>\n",
       "    </tr>\n",
       "    <tr>\n",
       "      <th>3</th>\n",
       "      <td>4</td>\n",
       "      <td>Iceland</td>\n",
       "      <td>7.495</td>\n",
       "      <td>1.343</td>\n",
       "      <td>1.644</td>\n",
       "      <td>0.914</td>\n",
       "      <td>0.677</td>\n",
       "      <td>0.353</td>\n",
       "      <td>0.138</td>\n",
       "      <td>2018</td>\n",
       "    </tr>\n",
       "    <tr>\n",
       "      <th>4</th>\n",
       "      <td>5</td>\n",
       "      <td>Switzerland</td>\n",
       "      <td>7.487</td>\n",
       "      <td>1.420</td>\n",
       "      <td>1.549</td>\n",
       "      <td>0.927</td>\n",
       "      <td>0.660</td>\n",
       "      <td>0.256</td>\n",
       "      <td>0.357</td>\n",
       "      <td>2018</td>\n",
       "    </tr>\n",
       "  </tbody>\n",
       "</table>\n",
       "</div>"
      ],
      "text/plain": [
       "   Overall rank Country or region  Score  GDP per capita  Social support  \\\n",
       "0             1           Finland  7.632           1.305           1.592   \n",
       "1             2            Norway  7.594           1.456           1.582   \n",
       "2             3           Denmark  7.555           1.351           1.590   \n",
       "3             4           Iceland  7.495           1.343           1.644   \n",
       "4             5       Switzerland  7.487           1.420           1.549   \n",
       "\n",
       "   Healthy life expectancy  Freedom to make life choices  Generosity  \\\n",
       "0                    0.874                         0.681       0.202   \n",
       "1                    0.861                         0.686       0.286   \n",
       "2                    0.868                         0.683       0.284   \n",
       "3                    0.914                         0.677       0.353   \n",
       "4                    0.927                         0.660       0.256   \n",
       "\n",
       "   Perceptions of corruption  year  \n",
       "0                      0.393  2018  \n",
       "1                      0.340  2018  \n",
       "2                      0.408  2018  \n",
       "3                      0.138  2018  \n",
       "4                      0.357  2018  "
      ]
     },
     "metadata": {},
     "output_type": "display_data"
    },
    {
     "data": {
      "text/html": [
       "<div>\n",
       "<style scoped>\n",
       "    .dataframe tbody tr th:only-of-type {\n",
       "        vertical-align: middle;\n",
       "    }\n",
       "\n",
       "    .dataframe tbody tr th {\n",
       "        vertical-align: top;\n",
       "    }\n",
       "\n",
       "    .dataframe thead th {\n",
       "        text-align: right;\n",
       "    }\n",
       "</style>\n",
       "<table border=\"1\" class=\"dataframe\">\n",
       "  <thead>\n",
       "    <tr style=\"text-align: right;\">\n",
       "      <th></th>\n",
       "      <th>Overall rank</th>\n",
       "      <th>Country or region</th>\n",
       "      <th>Score</th>\n",
       "      <th>GDP per capita</th>\n",
       "      <th>Social support</th>\n",
       "      <th>Healthy life expectancy</th>\n",
       "      <th>Freedom to make life choices</th>\n",
       "      <th>Generosity</th>\n",
       "      <th>Perceptions of corruption</th>\n",
       "      <th>year</th>\n",
       "    </tr>\n",
       "  </thead>\n",
       "  <tbody>\n",
       "    <tr>\n",
       "      <th>0</th>\n",
       "      <td>1</td>\n",
       "      <td>Finland</td>\n",
       "      <td>7.769</td>\n",
       "      <td>1.340</td>\n",
       "      <td>1.587</td>\n",
       "      <td>0.986</td>\n",
       "      <td>0.596</td>\n",
       "      <td>0.153</td>\n",
       "      <td>0.393</td>\n",
       "      <td>2019</td>\n",
       "    </tr>\n",
       "    <tr>\n",
       "      <th>1</th>\n",
       "      <td>2</td>\n",
       "      <td>Denmark</td>\n",
       "      <td>7.600</td>\n",
       "      <td>1.383</td>\n",
       "      <td>1.573</td>\n",
       "      <td>0.996</td>\n",
       "      <td>0.592</td>\n",
       "      <td>0.252</td>\n",
       "      <td>0.410</td>\n",
       "      <td>2019</td>\n",
       "    </tr>\n",
       "    <tr>\n",
       "      <th>2</th>\n",
       "      <td>3</td>\n",
       "      <td>Norway</td>\n",
       "      <td>7.554</td>\n",
       "      <td>1.488</td>\n",
       "      <td>1.582</td>\n",
       "      <td>1.028</td>\n",
       "      <td>0.603</td>\n",
       "      <td>0.271</td>\n",
       "      <td>0.341</td>\n",
       "      <td>2019</td>\n",
       "    </tr>\n",
       "    <tr>\n",
       "      <th>3</th>\n",
       "      <td>4</td>\n",
       "      <td>Iceland</td>\n",
       "      <td>7.494</td>\n",
       "      <td>1.380</td>\n",
       "      <td>1.624</td>\n",
       "      <td>1.026</td>\n",
       "      <td>0.591</td>\n",
       "      <td>0.354</td>\n",
       "      <td>0.118</td>\n",
       "      <td>2019</td>\n",
       "    </tr>\n",
       "    <tr>\n",
       "      <th>4</th>\n",
       "      <td>5</td>\n",
       "      <td>Netherlands</td>\n",
       "      <td>7.488</td>\n",
       "      <td>1.396</td>\n",
       "      <td>1.522</td>\n",
       "      <td>0.999</td>\n",
       "      <td>0.557</td>\n",
       "      <td>0.322</td>\n",
       "      <td>0.298</td>\n",
       "      <td>2019</td>\n",
       "    </tr>\n",
       "  </tbody>\n",
       "</table>\n",
       "</div>"
      ],
      "text/plain": [
       "   Overall rank Country or region  Score  GDP per capita  Social support  \\\n",
       "0             1           Finland  7.769           1.340           1.587   \n",
       "1             2           Denmark  7.600           1.383           1.573   \n",
       "2             3            Norway  7.554           1.488           1.582   \n",
       "3             4           Iceland  7.494           1.380           1.624   \n",
       "4             5       Netherlands  7.488           1.396           1.522   \n",
       "\n",
       "   Healthy life expectancy  Freedom to make life choices  Generosity  \\\n",
       "0                    0.986                         0.596       0.153   \n",
       "1                    0.996                         0.592       0.252   \n",
       "2                    1.028                         0.603       0.271   \n",
       "3                    1.026                         0.591       0.354   \n",
       "4                    0.999                         0.557       0.322   \n",
       "\n",
       "   Perceptions of corruption  year  \n",
       "0                      0.393  2019  \n",
       "1                      0.410  2019  \n",
       "2                      0.341  2019  \n",
       "3                      0.118  2019  \n",
       "4                      0.298  2019  "
      ]
     },
     "metadata": {},
     "output_type": "display_data"
    }
   ],
   "source": [
    "for df in dfs:\n",
    "    display(df.head())"
   ]
  },
  {
   "cell_type": "code",
   "execution_count": 5,
   "metadata": {},
   "outputs": [
    {
     "name": "stdout",
     "output_type": "stream",
     "text": [
      "Index(['Country', 'Region', 'Happiness Rank', 'Happiness Score',\n",
      "       'Standard Error', 'Economy (GDP per Capita)', 'Family',\n",
      "       'Health (Life Expectancy)', 'Freedom', 'Trust (Government Corruption)',\n",
      "       'Generosity', 'Dystopia Residual', 'year'],\n",
      "      dtype='object')\n",
      "Index(['Country', 'Region', 'Happiness Rank', 'Happiness Score',\n",
      "       'Lower Confidence Interval', 'Upper Confidence Interval',\n",
      "       'Economy (GDP per Capita)', 'Family', 'Health (Life Expectancy)',\n",
      "       'Freedom', 'Trust (Government Corruption)', 'Generosity',\n",
      "       'Dystopia Residual', 'year'],\n",
      "      dtype='object')\n",
      "Index(['Country', 'Happiness.Rank', 'Happiness.Score', 'Whisker.high',\n",
      "       'Whisker.low', 'Economy..GDP.per.Capita.', 'Family',\n",
      "       'Health..Life.Expectancy.', 'Freedom', 'Generosity',\n",
      "       'Trust..Government.Corruption.', 'Dystopia.Residual', 'year'],\n",
      "      dtype='object')\n",
      "Index(['Overall rank', 'Country or region', 'Score', 'GDP per capita',\n",
      "       'Social support', 'Healthy life expectancy',\n",
      "       'Freedom to make life choices', 'Generosity',\n",
      "       'Perceptions of corruption', 'year'],\n",
      "      dtype='object')\n",
      "Index(['Overall rank', 'Country or region', 'Score', 'GDP per capita',\n",
      "       'Social support', 'Healthy life expectancy',\n",
      "       'Freedom to make life choices', 'Generosity',\n",
      "       'Perceptions of corruption', 'year'],\n",
      "      dtype='object')\n"
     ]
    }
   ],
   "source": [
    "for df in dfs:\n",
    "    print(df.columns)"
   ]
  },
  {
   "cell_type": "markdown",
   "metadata": {},
   "source": [
    "> Inspecting the head of each of the datasets, shows incosistent and different columns names. This has to be handled for the merge step of the dataset."
   ]
  },
  {
   "cell_type": "markdown",
   "metadata": {},
   "source": [
    "Here is the renaming map that follows the convention of naming:"
   ]
  },
  {
   "cell_type": "code",
   "execution_count": 6,
   "metadata": {},
   "outputs": [],
   "source": [
    "rename_mapping = {\n",
    "    'Happiness.Rank': 'happiness_rank',\n",
    "    'Happiness.Score': 'happiness_score',\n",
    "    'Happiness Rank':'happiness_rank',\n",
    "    'Happiness Score':'happiness_score',\n",
    "    'Whisker.high': 'upper_confidence_interval',\n",
    "    'Upper Confidence Interval': 'upper_confidence_interval',\n",
    "    'Whisker.low': 'lower_confidence_interval',\n",
    "    'Lower Confidence Interval': 'lower_confidence_interval',\n",
    "    'Economy..GDP.per.Capita.': 'economy_gdp_per_capita',\n",
    "    'Economy (GDP per Capita)':'economy_gdp_per_capita',\n",
    "    'Health..Life.Expectancy.': 'health_life_expectancy',\n",
    "    'Trust..Government.Corruption.': 'trust_government_corruption',\n",
    "    'Dystopia.Residual': 'dystopia_residual',\n",
    "    'Dystopia Residual': 'dystopia_residual',\n",
    "    'Overall rank': 'happiness_rank',\n",
    "    'Country or region': 'country',\n",
    "    'Country':'country',\n",
    "    'Region':'region',\n",
    "    'Standard Error':'standard_error',\n",
    "    'Score': 'happiness_score',\n",
    "    'GDP per capita': 'economy_gdp_per_capita',\n",
    "    'Social support': 'family',\n",
    "    'Family':'family',\n",
    "    'Healthy life expectancy': 'health_life_expectancy',\n",
    "    'Health (Life Expectancy)': 'health_life_expectancy',\n",
    "    'Freedom to make life choices': 'freedom',\n",
    "    'Freedom': 'freedom',\n",
    "    'Perceptions of corruption': 'trust_government_corruption',\n",
    "    'Trust (Government Corruption)': 'trust_government_corruption'\n",
    "}"
   ]
  },
  {
   "cell_type": "code",
   "execution_count": 7,
   "metadata": {},
   "outputs": [],
   "source": [
    "def standardize_columns(dfs):\n",
    "    \"\"\"\n",
    "    Standardize the column names of the dataframes\n",
    "    Args:\n",
    "        dfs (list): list of dataframes\n",
    "    Returns:\n",
    "        (list): list of standardized (columns names) dataframes\n",
    "    \"\"\"\n",
    "    standardized_dfs = []\n",
    "    \n",
    "    for df in dfs:\n",
    "        df = df.rename(columns=rename_mapping)\n",
    "        standardized_dfs.append(df)\n",
    "    \n",
    "    return standardized_dfs"
   ]
  },
  {
   "cell_type": "markdown",
   "metadata": {},
   "source": [
    "> Since the datastes are standerized now we're able to concat them"
   ]
  },
  {
   "cell_type": "code",
   "execution_count": 8,
   "metadata": {},
   "outputs": [
    {
     "data": {
      "text/plain": [
       "Index(['country', 'region', 'happiness_rank', 'happiness_score',\n",
       "       'standard_error', 'economy_gdp_per_capita', 'family',\n",
       "       'health_life_expectancy', 'freedom', 'trust_government_corruption',\n",
       "       'Generosity', 'dystopia_residual', 'year', 'lower_confidence_interval',\n",
       "       'upper_confidence_interval'],\n",
       "      dtype='object')"
      ]
     },
     "execution_count": 8,
     "metadata": {},
     "output_type": "execute_result"
    }
   ],
   "source": [
    "merged_df = pd.concat(standardize_columns(dfs), axis=0, ignore_index=True)\n",
    "merged_df.columns"
   ]
  },
  {
   "cell_type": "code",
   "execution_count": 9,
   "metadata": {},
   "outputs": [
    {
     "data": {
      "text/plain": [
       "(782, 15)"
      ]
     },
     "execution_count": 9,
     "metadata": {},
     "output_type": "execute_result"
    }
   ],
   "source": [
    "merged_df.shape"
   ]
  },
  {
   "cell_type": "markdown",
   "metadata": {},
   "source": [
    "> Now the merged concatenated datsets have the shape of 782 and have 15 features. Let's work on the datatypes:"
   ]
  },
  {
   "cell_type": "code",
   "execution_count": 10,
   "metadata": {},
   "outputs": [
    {
     "name": "stdout",
     "output_type": "stream",
     "text": [
      "<class 'pandas.core.frame.DataFrame'>\n",
      "RangeIndex: 782 entries, 0 to 781\n",
      "Data columns (total 15 columns):\n",
      " #   Column                       Non-Null Count  Dtype  \n",
      "---  ------                       --------------  -----  \n",
      " 0   country                      782 non-null    object \n",
      " 1   region                       315 non-null    object \n",
      " 2   happiness_rank               782 non-null    int64  \n",
      " 3   happiness_score              782 non-null    float64\n",
      " 4   standard_error               158 non-null    float64\n",
      " 5   economy_gdp_per_capita       782 non-null    float64\n",
      " 6   family                       782 non-null    float64\n",
      " 7   health_life_expectancy       782 non-null    float64\n",
      " 8   freedom                      782 non-null    float64\n",
      " 9   trust_government_corruption  781 non-null    float64\n",
      " 10  Generosity                   782 non-null    float64\n",
      " 11  dystopia_residual            470 non-null    float64\n",
      " 12  year                         782 non-null    object \n",
      " 13  lower_confidence_interval    312 non-null    float64\n",
      " 14  upper_confidence_interval    312 non-null    float64\n",
      "dtypes: float64(11), int64(1), object(3)\n",
      "memory usage: 91.8+ KB\n"
     ]
    }
   ],
   "source": [
    "merged_df.info()"
   ]
  },
  {
   "cell_type": "code",
   "execution_count": 11,
   "metadata": {},
   "outputs": [
    {
     "data": {
      "text/plain": [
       "country                        170\n",
       "region                          10\n",
       "happiness_rank                 158\n",
       "happiness_score                716\n",
       "standard_error                 153\n",
       "economy_gdp_per_capita         742\n",
       "family                         732\n",
       "health_life_expectancy         705\n",
       "freedom                        697\n",
       "trust_government_corruption    635\n",
       "Generosity                     664\n",
       "dystopia_residual              470\n",
       "year                             5\n",
       "lower_confidence_interval      309\n",
       "upper_confidence_interval      309\n",
       "dtype: int64"
      ]
     },
     "execution_count": 11,
     "metadata": {},
     "output_type": "execute_result"
    }
   ],
   "source": [
    "merged_df.nunique()"
   ]
  },
  {
   "cell_type": "code",
   "execution_count": 12,
   "metadata": {},
   "outputs": [
    {
     "data": {
      "text/html": [
       "<div>\n",
       "<style scoped>\n",
       "    .dataframe tbody tr th:only-of-type {\n",
       "        vertical-align: middle;\n",
       "    }\n",
       "\n",
       "    .dataframe tbody tr th {\n",
       "        vertical-align: top;\n",
       "    }\n",
       "\n",
       "    .dataframe thead th {\n",
       "        text-align: right;\n",
       "    }\n",
       "</style>\n",
       "<table border=\"1\" class=\"dataframe\">\n",
       "  <thead>\n",
       "    <tr style=\"text-align: right;\">\n",
       "      <th></th>\n",
       "      <th>country</th>\n",
       "      <th>region</th>\n",
       "      <th>happiness_rank</th>\n",
       "      <th>happiness_score</th>\n",
       "      <th>standard_error</th>\n",
       "      <th>economy_gdp_per_capita</th>\n",
       "      <th>family</th>\n",
       "      <th>health_life_expectancy</th>\n",
       "      <th>freedom</th>\n",
       "      <th>trust_government_corruption</th>\n",
       "      <th>Generosity</th>\n",
       "      <th>dystopia_residual</th>\n",
       "      <th>year</th>\n",
       "      <th>lower_confidence_interval</th>\n",
       "      <th>upper_confidence_interval</th>\n",
       "    </tr>\n",
       "  </thead>\n",
       "  <tbody>\n",
       "    <tr>\n",
       "      <th>0</th>\n",
       "      <td>Switzerland</td>\n",
       "      <td>Western Europe</td>\n",
       "      <td>1</td>\n",
       "      <td>7.587</td>\n",
       "      <td>0.03411</td>\n",
       "      <td>1.39651</td>\n",
       "      <td>1.34951</td>\n",
       "      <td>0.94143</td>\n",
       "      <td>0.66557</td>\n",
       "      <td>0.41978</td>\n",
       "      <td>0.29678</td>\n",
       "      <td>2.51738</td>\n",
       "      <td>2015</td>\n",
       "      <td>NaN</td>\n",
       "      <td>NaN</td>\n",
       "    </tr>\n",
       "    <tr>\n",
       "      <th>1</th>\n",
       "      <td>Iceland</td>\n",
       "      <td>Western Europe</td>\n",
       "      <td>2</td>\n",
       "      <td>7.561</td>\n",
       "      <td>0.04884</td>\n",
       "      <td>1.30232</td>\n",
       "      <td>1.40223</td>\n",
       "      <td>0.94784</td>\n",
       "      <td>0.62877</td>\n",
       "      <td>0.14145</td>\n",
       "      <td>0.43630</td>\n",
       "      <td>2.70201</td>\n",
       "      <td>2015</td>\n",
       "      <td>NaN</td>\n",
       "      <td>NaN</td>\n",
       "    </tr>\n",
       "    <tr>\n",
       "      <th>2</th>\n",
       "      <td>Denmark</td>\n",
       "      <td>Western Europe</td>\n",
       "      <td>3</td>\n",
       "      <td>7.527</td>\n",
       "      <td>0.03328</td>\n",
       "      <td>1.32548</td>\n",
       "      <td>1.36058</td>\n",
       "      <td>0.87464</td>\n",
       "      <td>0.64938</td>\n",
       "      <td>0.48357</td>\n",
       "      <td>0.34139</td>\n",
       "      <td>2.49204</td>\n",
       "      <td>2015</td>\n",
       "      <td>NaN</td>\n",
       "      <td>NaN</td>\n",
       "    </tr>\n",
       "    <tr>\n",
       "      <th>3</th>\n",
       "      <td>Norway</td>\n",
       "      <td>Western Europe</td>\n",
       "      <td>4</td>\n",
       "      <td>7.522</td>\n",
       "      <td>0.03880</td>\n",
       "      <td>1.45900</td>\n",
       "      <td>1.33095</td>\n",
       "      <td>0.88521</td>\n",
       "      <td>0.66973</td>\n",
       "      <td>0.36503</td>\n",
       "      <td>0.34699</td>\n",
       "      <td>2.46531</td>\n",
       "      <td>2015</td>\n",
       "      <td>NaN</td>\n",
       "      <td>NaN</td>\n",
       "    </tr>\n",
       "    <tr>\n",
       "      <th>4</th>\n",
       "      <td>Canada</td>\n",
       "      <td>North America</td>\n",
       "      <td>5</td>\n",
       "      <td>7.427</td>\n",
       "      <td>0.03553</td>\n",
       "      <td>1.32629</td>\n",
       "      <td>1.32261</td>\n",
       "      <td>0.90563</td>\n",
       "      <td>0.63297</td>\n",
       "      <td>0.32957</td>\n",
       "      <td>0.45811</td>\n",
       "      <td>2.45176</td>\n",
       "      <td>2015</td>\n",
       "      <td>NaN</td>\n",
       "      <td>NaN</td>\n",
       "    </tr>\n",
       "  </tbody>\n",
       "</table>\n",
       "</div>"
      ],
      "text/plain": [
       "       country          region  happiness_rank  happiness_score  \\\n",
       "0  Switzerland  Western Europe               1            7.587   \n",
       "1      Iceland  Western Europe               2            7.561   \n",
       "2      Denmark  Western Europe               3            7.527   \n",
       "3       Norway  Western Europe               4            7.522   \n",
       "4       Canada   North America               5            7.427   \n",
       "\n",
       "   standard_error  economy_gdp_per_capita   family  health_life_expectancy  \\\n",
       "0         0.03411                 1.39651  1.34951                 0.94143   \n",
       "1         0.04884                 1.30232  1.40223                 0.94784   \n",
       "2         0.03328                 1.32548  1.36058                 0.87464   \n",
       "3         0.03880                 1.45900  1.33095                 0.88521   \n",
       "4         0.03553                 1.32629  1.32261                 0.90563   \n",
       "\n",
       "   freedom  trust_government_corruption  Generosity  dystopia_residual  year  \\\n",
       "0  0.66557                      0.41978     0.29678            2.51738  2015   \n",
       "1  0.62877                      0.14145     0.43630            2.70201  2015   \n",
       "2  0.64938                      0.48357     0.34139            2.49204  2015   \n",
       "3  0.66973                      0.36503     0.34699            2.46531  2015   \n",
       "4  0.63297                      0.32957     0.45811            2.45176  2015   \n",
       "\n",
       "   lower_confidence_interval  upper_confidence_interval  \n",
       "0                        NaN                        NaN  \n",
       "1                        NaN                        NaN  \n",
       "2                        NaN                        NaN  \n",
       "3                        NaN                        NaN  \n",
       "4                        NaN                        NaN  "
      ]
     },
     "execution_count": 12,
     "metadata": {},
     "output_type": "execute_result"
    }
   ],
   "source": [
    "merged_df['year'] = pd.to_datetime(merged_df['year'], format='%Y').dt.year\n",
    "merged_df.head()"
   ]
  },
  {
   "cell_type": "markdown",
   "metadata": {},
   "source": [
    "> Only the year was converted to an int and the memory usage was optimized."
   ]
  },
  {
   "cell_type": "code",
   "execution_count": 13,
   "metadata": {},
   "outputs": [
    {
     "name": "stdout",
     "output_type": "stream",
     "text": [
      "<class 'pandas.core.frame.DataFrame'>\n",
      "RangeIndex: 782 entries, 0 to 781\n",
      "Data columns (total 15 columns):\n",
      " #   Column                       Non-Null Count  Dtype  \n",
      "---  ------                       --------------  -----  \n",
      " 0   country                      782 non-null    object \n",
      " 1   region                       315 non-null    object \n",
      " 2   happiness_rank               782 non-null    int64  \n",
      " 3   happiness_score              782 non-null    float64\n",
      " 4   standard_error               158 non-null    float64\n",
      " 5   economy_gdp_per_capita       782 non-null    float64\n",
      " 6   family                       782 non-null    float64\n",
      " 7   health_life_expectancy       782 non-null    float64\n",
      " 8   freedom                      782 non-null    float64\n",
      " 9   trust_government_corruption  781 non-null    float64\n",
      " 10  Generosity                   782 non-null    float64\n",
      " 11  dystopia_residual            470 non-null    float64\n",
      " 12  year                         782 non-null    int32  \n",
      " 13  lower_confidence_interval    312 non-null    float64\n",
      " 14  upper_confidence_interval    312 non-null    float64\n",
      "dtypes: float64(11), int32(1), int64(1), object(2)\n",
      "memory usage: 88.7+ KB\n"
     ]
    }
   ],
   "source": [
    "## info after conversion\n",
    "merged_df.info()"
   ]
  },
  {
   "cell_type": "code",
   "execution_count": 14,
   "metadata": {},
   "outputs": [
    {
     "data": {
      "text/html": [
       "<div>\n",
       "<style scoped>\n",
       "    .dataframe tbody tr th:only-of-type {\n",
       "        vertical-align: middle;\n",
       "    }\n",
       "\n",
       "    .dataframe tbody tr th {\n",
       "        vertical-align: top;\n",
       "    }\n",
       "\n",
       "    .dataframe thead th {\n",
       "        text-align: right;\n",
       "    }\n",
       "</style>\n",
       "<table border=\"1\" class=\"dataframe\">\n",
       "  <thead>\n",
       "    <tr style=\"text-align: right;\">\n",
       "      <th></th>\n",
       "      <th>happiness_rank</th>\n",
       "      <th>happiness_score</th>\n",
       "      <th>standard_error</th>\n",
       "      <th>economy_gdp_per_capita</th>\n",
       "      <th>family</th>\n",
       "      <th>health_life_expectancy</th>\n",
       "      <th>freedom</th>\n",
       "      <th>trust_government_corruption</th>\n",
       "      <th>Generosity</th>\n",
       "      <th>dystopia_residual</th>\n",
       "      <th>year</th>\n",
       "      <th>lower_confidence_interval</th>\n",
       "      <th>upper_confidence_interval</th>\n",
       "    </tr>\n",
       "  </thead>\n",
       "  <tbody>\n",
       "    <tr>\n",
       "      <th>count</th>\n",
       "      <td>782.000000</td>\n",
       "      <td>782.000000</td>\n",
       "      <td>158.000000</td>\n",
       "      <td>782.000000</td>\n",
       "      <td>782.000000</td>\n",
       "      <td>782.000000</td>\n",
       "      <td>782.000000</td>\n",
       "      <td>781.000000</td>\n",
       "      <td>782.000000</td>\n",
       "      <td>470.000000</td>\n",
       "      <td>782.000000</td>\n",
       "      <td>312.000000</td>\n",
       "      <td>312.000000</td>\n",
       "    </tr>\n",
       "    <tr>\n",
       "      <th>mean</th>\n",
       "      <td>78.698210</td>\n",
       "      <td>5.379018</td>\n",
       "      <td>0.047885</td>\n",
       "      <td>0.916047</td>\n",
       "      <td>1.078392</td>\n",
       "      <td>0.612416</td>\n",
       "      <td>0.411091</td>\n",
       "      <td>0.125436</td>\n",
       "      <td>0.218576</td>\n",
       "      <td>2.092717</td>\n",
       "      <td>2016.993606</td>\n",
       "      <td>5.269139</td>\n",
       "      <td>5.467245</td>\n",
       "    </tr>\n",
       "    <tr>\n",
       "      <th>std</th>\n",
       "      <td>45.182384</td>\n",
       "      <td>1.127456</td>\n",
       "      <td>0.017146</td>\n",
       "      <td>0.407340</td>\n",
       "      <td>0.329548</td>\n",
       "      <td>0.248309</td>\n",
       "      <td>0.152880</td>\n",
       "      <td>0.105816</td>\n",
       "      <td>0.122321</td>\n",
       "      <td>0.565772</td>\n",
       "      <td>1.417364</td>\n",
       "      <td>1.144780</td>\n",
       "      <td>1.125895</td>\n",
       "    </tr>\n",
       "    <tr>\n",
       "      <th>min</th>\n",
       "      <td>1.000000</td>\n",
       "      <td>2.693000</td>\n",
       "      <td>0.018480</td>\n",
       "      <td>0.000000</td>\n",
       "      <td>0.000000</td>\n",
       "      <td>0.000000</td>\n",
       "      <td>0.000000</td>\n",
       "      <td>0.000000</td>\n",
       "      <td>0.000000</td>\n",
       "      <td>0.328580</td>\n",
       "      <td>2015.000000</td>\n",
       "      <td>2.521116</td>\n",
       "      <td>2.864884</td>\n",
       "    </tr>\n",
       "    <tr>\n",
       "      <th>25%</th>\n",
       "      <td>40.000000</td>\n",
       "      <td>4.509750</td>\n",
       "      <td>0.037268</td>\n",
       "      <td>0.606500</td>\n",
       "      <td>0.869363</td>\n",
       "      <td>0.440183</td>\n",
       "      <td>0.309768</td>\n",
       "      <td>0.054000</td>\n",
       "      <td>0.130000</td>\n",
       "      <td>1.737975</td>\n",
       "      <td>2016.000000</td>\n",
       "      <td>4.366000</td>\n",
       "      <td>4.551835</td>\n",
       "    </tr>\n",
       "    <tr>\n",
       "      <th>50%</th>\n",
       "      <td>79.000000</td>\n",
       "      <td>5.322000</td>\n",
       "      <td>0.043940</td>\n",
       "      <td>0.982205</td>\n",
       "      <td>1.124735</td>\n",
       "      <td>0.647310</td>\n",
       "      <td>0.431000</td>\n",
       "      <td>0.091000</td>\n",
       "      <td>0.201982</td>\n",
       "      <td>2.094640</td>\n",
       "      <td>2017.000000</td>\n",
       "      <td>5.211295</td>\n",
       "      <td>5.394889</td>\n",
       "    </tr>\n",
       "    <tr>\n",
       "      <th>75%</th>\n",
       "      <td>118.000000</td>\n",
       "      <td>6.189500</td>\n",
       "      <td>0.052300</td>\n",
       "      <td>1.236187</td>\n",
       "      <td>1.327250</td>\n",
       "      <td>0.808000</td>\n",
       "      <td>0.531000</td>\n",
       "      <td>0.156030</td>\n",
       "      <td>0.278832</td>\n",
       "      <td>2.455575</td>\n",
       "      <td>2018.000000</td>\n",
       "      <td>6.086750</td>\n",
       "      <td>6.382650</td>\n",
       "    </tr>\n",
       "    <tr>\n",
       "      <th>max</th>\n",
       "      <td>158.000000</td>\n",
       "      <td>7.769000</td>\n",
       "      <td>0.136930</td>\n",
       "      <td>2.096000</td>\n",
       "      <td>1.644000</td>\n",
       "      <td>1.141000</td>\n",
       "      <td>0.724000</td>\n",
       "      <td>0.551910</td>\n",
       "      <td>0.838075</td>\n",
       "      <td>3.837720</td>\n",
       "      <td>2019.000000</td>\n",
       "      <td>7.479556</td>\n",
       "      <td>7.669000</td>\n",
       "    </tr>\n",
       "  </tbody>\n",
       "</table>\n",
       "</div>"
      ],
      "text/plain": [
       "       happiness_rank  happiness_score  standard_error  \\\n",
       "count      782.000000       782.000000      158.000000   \n",
       "mean        78.698210         5.379018        0.047885   \n",
       "std         45.182384         1.127456        0.017146   \n",
       "min          1.000000         2.693000        0.018480   \n",
       "25%         40.000000         4.509750        0.037268   \n",
       "50%         79.000000         5.322000        0.043940   \n",
       "75%        118.000000         6.189500        0.052300   \n",
       "max        158.000000         7.769000        0.136930   \n",
       "\n",
       "       economy_gdp_per_capita      family  health_life_expectancy     freedom  \\\n",
       "count              782.000000  782.000000              782.000000  782.000000   \n",
       "mean                 0.916047    1.078392                0.612416    0.411091   \n",
       "std                  0.407340    0.329548                0.248309    0.152880   \n",
       "min                  0.000000    0.000000                0.000000    0.000000   \n",
       "25%                  0.606500    0.869363                0.440183    0.309768   \n",
       "50%                  0.982205    1.124735                0.647310    0.431000   \n",
       "75%                  1.236187    1.327250                0.808000    0.531000   \n",
       "max                  2.096000    1.644000                1.141000    0.724000   \n",
       "\n",
       "       trust_government_corruption  Generosity  dystopia_residual  \\\n",
       "count                   781.000000  782.000000         470.000000   \n",
       "mean                      0.125436    0.218576           2.092717   \n",
       "std                       0.105816    0.122321           0.565772   \n",
       "min                       0.000000    0.000000           0.328580   \n",
       "25%                       0.054000    0.130000           1.737975   \n",
       "50%                       0.091000    0.201982           2.094640   \n",
       "75%                       0.156030    0.278832           2.455575   \n",
       "max                       0.551910    0.838075           3.837720   \n",
       "\n",
       "              year  lower_confidence_interval  upper_confidence_interval  \n",
       "count   782.000000                 312.000000                 312.000000  \n",
       "mean   2016.993606                   5.269139                   5.467245  \n",
       "std       1.417364                   1.144780                   1.125895  \n",
       "min    2015.000000                   2.521116                   2.864884  \n",
       "25%    2016.000000                   4.366000                   4.551835  \n",
       "50%    2017.000000                   5.211295                   5.394889  \n",
       "75%    2018.000000                   6.086750                   6.382650  \n",
       "max    2019.000000                   7.479556                   7.669000  "
      ]
     },
     "execution_count": 14,
     "metadata": {},
     "output_type": "execute_result"
    }
   ],
   "source": [
    "merged_df.describe()"
   ]
  },
  {
   "cell_type": "markdown",
   "metadata": {},
   "source": [
    "- It is noticed taht the happiness_rank column has a very high standard deviation of 45.182384.\n",
    "- The average happiness score is 5. 38, with a range of 2.69 to 7.77. Which shows quit a gap between the highest and lowest happiness score."
   ]
  },
  {
   "cell_type": "markdown",
   "metadata": {},
   "source": [
    "##### Assess and handle Duplicates\n",
    "Now let's check for duplicates and handle them"
   ]
  },
  {
   "cell_type": "code",
   "execution_count": 15,
   "metadata": {},
   "outputs": [
    {
     "data": {
      "text/plain": [
       "False"
      ]
     },
     "execution_count": 15,
     "metadata": {},
     "output_type": "execute_result"
    }
   ],
   "source": [
    "merged_df.duplicated().any()"
   ]
  },
  {
   "cell_type": "markdown",
   "metadata": {},
   "source": [
    "> There are no duplicates records found."
   ]
  },
  {
   "cell_type": "markdown",
   "metadata": {},
   "source": [
    "##### Assess and handle Missing Values\n",
    "This is the final section of cleaning the dataset, it is about detecting and handling the missing values."
   ]
  },
  {
   "cell_type": "code",
   "execution_count": 16,
   "metadata": {},
   "outputs": [
    {
     "data": {
      "text/plain": [
       "country                          0\n",
       "happiness_rank                   0\n",
       "happiness_score                  0\n",
       "economy_gdp_per_capita           0\n",
       "family                           0\n",
       "health_life_expectancy           0\n",
       "freedom                          0\n",
       "Generosity                       0\n",
       "year                             0\n",
       "trust_government_corruption      1\n",
       "dystopia_residual              312\n",
       "region                         467\n",
       "lower_confidence_interval      470\n",
       "upper_confidence_interval      470\n",
       "standard_error                 624\n",
       "dtype: int64"
      ]
     },
     "execution_count": 16,
     "metadata": {},
     "output_type": "execute_result"
    }
   ],
   "source": [
    "merged_df.isna().sum().sort_values()"
   ]
  },
  {
   "cell_type": "markdown",
   "metadata": {},
   "source": [
    "> It's noticed that the follwing columns have missing values:"
   ]
  },
  {
   "cell_type": "code",
   "execution_count": 17,
   "metadata": {},
   "outputs": [
    {
     "data": {
      "text/plain": [
       "Index(['region', 'standard_error', 'trust_government_corruption',\n",
       "       'dystopia_residual', 'lower_confidence_interval',\n",
       "       'upper_confidence_interval'],\n",
       "      dtype='object')"
      ]
     },
     "execution_count": 17,
     "metadata": {},
     "output_type": "execute_result"
    }
   ],
   "source": [
    "missing_vals_columns = merged_df[merged_df.columns[merged_df.isna().any()]].columns\n",
    "missing_vals_columns"
   ]
  },
  {
   "cell_type": "markdown",
   "metadata": {},
   "source": [
    "> For the region it will be imputed by the other value from the datasets. Since the country would always be in the same region"
   ]
  },
  {
   "cell_type": "code",
   "execution_count": 18,
   "metadata": {},
   "outputs": [
    {
     "name": "stdout",
     "output_type": "stream",
     "text": [
      "{'Switzerland': 'Western Europe', 'Iceland': 'Western Europe', 'Denmark': 'Western Europe', 'Norway': 'Western Europe', 'Canada': 'North America', 'Finland': 'Western Europe', 'Netherlands': 'Western Europe', 'Sweden': 'Western Europe', 'New Zealand': 'Australia and New Zealand', 'Australia': 'Australia and New Zealand', 'Israel': 'Middle East and Northern Africa', 'Costa Rica': 'Latin America and Caribbean', 'Austria': 'Western Europe', 'Mexico': 'Latin America and Caribbean', 'United States': 'North America', 'Brazil': 'Latin America and Caribbean', 'Luxembourg': 'Western Europe', 'Ireland': 'Western Europe', 'Belgium': 'Western Europe', 'United Arab Emirates': 'Middle East and Northern Africa', 'United Kingdom': 'Western Europe', 'Oman': 'Middle East and Northern Africa', 'Venezuela': 'Latin America and Caribbean', 'Singapore': 'Southeastern Asia', 'Panama': 'Latin America and Caribbean', 'Germany': 'Western Europe', 'Chile': 'Latin America and Caribbean', 'Qatar': 'Middle East and Northern Africa', 'France': 'Western Europe', 'Argentina': 'Latin America and Caribbean', 'Czech Republic': 'Central and Eastern Europe', 'Uruguay': 'Latin America and Caribbean', 'Colombia': 'Latin America and Caribbean', 'Thailand': 'Southeastern Asia', 'Saudi Arabia': 'Middle East and Northern Africa', 'Spain': 'Western Europe', 'Malta': 'Western Europe', 'Taiwan': 'Eastern Asia', 'Kuwait': 'Middle East and Northern Africa', 'Suriname': 'Latin America and Caribbean', 'Trinidad and Tobago': 'Latin America and Caribbean', 'El Salvador': 'Latin America and Caribbean', 'Guatemala': 'Latin America and Caribbean', 'Uzbekistan': 'Central and Eastern Europe', 'Slovakia': 'Central and Eastern Europe', 'Japan': 'Eastern Asia', 'South Korea': 'Eastern Asia', 'Ecuador': 'Latin America and Caribbean', 'Bahrain': 'Middle East and Northern Africa', 'Italy': 'Western Europe', 'Bolivia': 'Latin America and Caribbean', 'Moldova': 'Central and Eastern Europe', 'Paraguay': 'Latin America and Caribbean', 'Kazakhstan': 'Central and Eastern Europe', 'Slovenia': 'Central and Eastern Europe', 'Lithuania': 'Central and Eastern Europe', 'Nicaragua': 'Latin America and Caribbean', 'Peru': 'Latin America and Caribbean', 'Belarus': 'Central and Eastern Europe', 'Poland': 'Central and Eastern Europe', 'Malaysia': 'Southeastern Asia', 'Croatia': 'Central and Eastern Europe', 'Libya': 'Middle East and Northern Africa', 'Russia': 'Central and Eastern Europe', 'Jamaica': 'Latin America and Caribbean', 'North Cyprus': 'Western Europe', 'Cyprus': 'Western Europe', 'Algeria': 'Middle East and Northern Africa', 'Kosovo': 'Central and Eastern Europe', 'Turkmenistan': 'Central and Eastern Europe', 'Mauritius': 'Sub-Saharan Africa', 'Hong Kong': 'Eastern Asia', 'Estonia': 'Central and Eastern Europe', 'Indonesia': 'Southeastern Asia', 'Vietnam': 'Southeastern Asia', 'Turkey': 'Middle East and Northern Africa', 'Kyrgyzstan': 'Central and Eastern Europe', 'Nigeria': 'Sub-Saharan Africa', 'Bhutan': 'Southern Asia', 'Azerbaijan': 'Central and Eastern Europe', 'Pakistan': 'Southern Asia', 'Jordan': 'Middle East and Northern Africa', 'Montenegro': 'Central and Eastern Europe', 'China': 'Eastern Asia', 'Zambia': 'Sub-Saharan Africa', 'Romania': 'Central and Eastern Europe', 'Serbia': 'Central and Eastern Europe', 'Portugal': 'Western Europe', 'Latvia': 'Central and Eastern Europe', 'Philippines': 'Southeastern Asia', 'Somaliland region': 'Sub-Saharan Africa', 'Morocco': 'Middle East and Northern Africa', 'Macedonia': 'Central and Eastern Europe', 'Mozambique': 'Sub-Saharan Africa', 'Albania': 'Central and Eastern Europe', 'Bosnia and Herzegovina': 'Central and Eastern Europe', 'Lesotho': 'Sub-Saharan Africa', 'Dominican Republic': 'Latin America and Caribbean', 'Laos': 'Southeastern Asia', 'Mongolia': 'Eastern Asia', 'Swaziland': 'Sub-Saharan Africa', 'Greece': 'Western Europe', 'Lebanon': 'Middle East and Northern Africa', 'Hungary': 'Central and Eastern Europe', 'Honduras': 'Latin America and Caribbean', 'Tajikistan': 'Central and Eastern Europe', 'Tunisia': 'Middle East and Northern Africa', 'Palestinian Territories': 'Middle East and Northern Africa', 'Bangladesh': 'Southern Asia', 'Iran': 'Middle East and Northern Africa', 'Ukraine': 'Central and Eastern Europe', 'Iraq': 'Middle East and Northern Africa', 'South Africa': 'Sub-Saharan Africa', 'Ghana': 'Sub-Saharan Africa', 'Zimbabwe': 'Sub-Saharan Africa', 'Liberia': 'Sub-Saharan Africa', 'India': 'Southern Asia', 'Sudan': 'Sub-Saharan Africa', 'Haiti': 'Latin America and Caribbean', 'Congo (Kinshasa)': 'Sub-Saharan Africa', 'Nepal': 'Southern Asia', 'Ethiopia': 'Sub-Saharan Africa', 'Sierra Leone': 'Sub-Saharan Africa', 'Mauritania': 'Sub-Saharan Africa', 'Kenya': 'Sub-Saharan Africa', 'Djibouti': 'Sub-Saharan Africa', 'Armenia': 'Central and Eastern Europe', 'Botswana': 'Sub-Saharan Africa', 'Myanmar': 'Southeastern Asia', 'Georgia': 'Central and Eastern Europe', 'Malawi': 'Sub-Saharan Africa', 'Sri Lanka': 'Southern Asia', 'Cameroon': 'Sub-Saharan Africa', 'Bulgaria': 'Central and Eastern Europe', 'Egypt': 'Middle East and Northern Africa', 'Yemen': 'Middle East and Northern Africa', 'Angola': 'Sub-Saharan Africa', 'Mali': 'Sub-Saharan Africa', 'Congo (Brazzaville)': 'Sub-Saharan Africa', 'Comoros': 'Sub-Saharan Africa', 'Uganda': 'Sub-Saharan Africa', 'Senegal': 'Sub-Saharan Africa', 'Gabon': 'Sub-Saharan Africa', 'Niger': 'Sub-Saharan Africa', 'Cambodia': 'Southeastern Asia', 'Tanzania': 'Sub-Saharan Africa', 'Madagascar': 'Sub-Saharan Africa', 'Central African Republic': 'Sub-Saharan Africa', 'Chad': 'Sub-Saharan Africa', 'Guinea': 'Sub-Saharan Africa', 'Ivory Coast': 'Sub-Saharan Africa', 'Burkina Faso': 'Sub-Saharan Africa', 'Afghanistan': 'Southern Asia', 'Rwanda': 'Sub-Saharan Africa', 'Benin': 'Sub-Saharan Africa', 'Syria': 'Middle East and Northern Africa', 'Burundi': 'Sub-Saharan Africa', 'Togo': 'Sub-Saharan Africa', 'Puerto Rico': 'Latin America and Caribbean', 'Belize': 'Latin America and Caribbean', 'Somalia': 'Sub-Saharan Africa', 'Somaliland Region': 'Sub-Saharan Africa', 'Namibia': 'Sub-Saharan Africa', 'South Sudan': 'Sub-Saharan Africa'}\n"
     ]
    }
   ],
   "source": [
    "## Extracting the region, country pairs\n",
    "country_to_region = {}\n",
    "\n",
    "for index, row in merged_df.iterrows():\n",
    "    country = row['country']\n",
    "    region = row['region']\n",
    "    if pd.notna(region):\n",
    "        if country not in country_to_region:\n",
    "            country_to_region[country] = region\n",
    "\n",
    "print(country_to_region)"
   ]
  },
  {
   "cell_type": "code",
   "execution_count": 19,
   "metadata": {},
   "outputs": [
    {
     "name": "stdout",
     "output_type": "stream",
     "text": [
      "Missing regions after imputation:  8\n"
     ]
    }
   ],
   "source": [
    "merged_df['region'] = merged_df.apply(lambda row: country_to_region.get(row['country'], row['region']), axis=1)\n",
    "print(\"Missing regions after imputation: \", merged_df['region'].isna().sum())"
   ]
  },
  {
   "cell_type": "markdown",
   "metadata": {},
   "source": [
    "> After the applying of imputing the region, there is still 8 rows of missing values in that column so let's drop them\n",
    "\n",
    "also \n",
    "\n",
    "> For the trust_government_corruption column let's drop that missing value since it's only one mssing vales."
   ]
  },
  {
   "cell_type": "code",
   "execution_count": 22,
   "metadata": {},
   "outputs": [],
   "source": [
    "merged_df.dropna(inplace=True)"
   ]
  },
  {
   "cell_type": "markdown",
   "metadata": {},
   "source": [
    "> The folwing columns are dropped for having high missing values and for not being related to the task and requiremnt."
   ]
  },
  {
   "cell_type": "code",
   "execution_count": null,
   "metadata": {},
   "outputs": [],
   "source": [
    "to_drop_col= ['dystopia_residual', 'lower_confidence_interval', 'upper_confidence_interval','standard_error']\n",
    "merged_df.drop(columns=to_drop_col, inplace=True)"
   ]
  },
  {
   "cell_type": "markdown",
   "metadata": {},
   "source": [
    "> Finally the misisng values on the whole dataste are zeros:"
   ]
  },
  {
   "cell_type": "code",
   "execution_count": 24,
   "metadata": {},
   "outputs": [
    {
     "data": {
      "text/plain": [
       "country                        0\n",
       "region                         0\n",
       "happiness_rank                 0\n",
       "happiness_score                0\n",
       "economy_gdp_per_capita         0\n",
       "family                         0\n",
       "health_life_expectancy         0\n",
       "freedom                        0\n",
       "trust_government_corruption    0\n",
       "Generosity                     0\n",
       "year                           0\n",
       "dtype: int64"
      ]
     },
     "execution_count": 24,
     "metadata": {},
     "output_type": "execute_result"
    }
   ],
   "source": [
    "merged_df.isna().sum().sort_values()"
   ]
  },
  {
   "cell_type": "code",
   "execution_count": 26,
   "metadata": {},
   "outputs": [
    {
     "data": {
      "text/plain": [
       "(773, 11)"
      ]
     },
     "execution_count": 26,
     "metadata": {},
     "output_type": "execute_result"
    }
   ],
   "source": [
    "merged_df.shape"
   ]
  },
  {
   "cell_type": "markdown",
   "metadata": {},
   "source": [
    "##### Assess and handle Outliers\n",
    "Now let's check for outliers with visualization using boxplot."
   ]
  },
  {
   "cell_type": "code",
   "execution_count": 27,
   "metadata": {},
   "outputs": [
    {
     "data": {
      "image/png": "[encoded data removed]",
      "text/plain": [
       "<Figure size 1500x600 with 1 Axes>"
      ]
     },
     "metadata": {},
     "output_type": "display_data"
    }
   ],
   "source": [
    "merged_df.plot(kind='box',figsize=(15, 6));\n",
    "plt.xlabel('Columns')  \n",
    "plt.ylabel('Values') \n",
    "plt.grid(True, alpha=0.2)\n",
    "plt.minorticks_on()\n",
    "plt.title('Boxlotting the Dataset')\n",
    "plt.tick_params(axis='x', rotation=70) \n",
    "plt.show()"
   ]
  },
  {
   "cell_type": "markdown",
   "metadata": {},
   "source": [
    "> These columns have outliers values, let's visualize the ones that does and take a lot closer to it"
   ]
  },
  {
   "cell_type": "code",
   "execution_count": 28,
   "metadata": {},
   "outputs": [],
   "source": [
    "outliers_cols = ['Generosity', 'family', 'trust_government_corruption']"
   ]
  },
  {
   "cell_type": "markdown",
   "metadata": {},
   "source": [
    "Let's now check for which regions have countries with extream (**outliers**) happiness score. Let's also check the  'happiness_score' column (Requiremnt 1)"
   ]
  },
  {
   "cell_type": "code",
   "execution_count": 36,
   "metadata": {},
   "outputs": [
    {
     "data": {
      "image/png": "[encoded data removed]",
      "text/plain": [
       "<Figure size 1500x500 with 4 Axes>"
      ]
     },
     "metadata": {},
     "output_type": "display_data"
    }
   ],
   "source": [
    "fig, axes = plt.subplots(1, 4, figsize=(15, 5))\n",
    "axes_flat = axes.ravel() \n",
    "\n",
    "for i, col in enumerate(outliers_cols):\n",
    "    ax = axes_flat[i] \n",
    "    merged_df[col].plot(kind='box', ax=ax)\n",
    "    ax.set_ylabel('Values')\n",
    "    ax.set_title(col + ' Boxplot')\n",
    "    if i == 2:\n",
    "      ax = axes_flat[3] \n",
    "      merged_df['happiness_score'].plot(kind='box', ax=ax)\n",
    "      ax.set_ylabel('Values')\n",
    "      ax.set_title('happiness_score' + ' Boxplot')\n",
    "\n",
    "plt.show()"
   ]
  },
  {
   "cell_type": "markdown",
   "metadata": {},
   "source": [
    "> In this visualization, it is noticed that these comlumns show high numerical values, except the family column has outliers that are lowe.\n",
    "\n",
    "> The happiness score column has no outliers on it."
   ]
  },
  {
   "cell_type": "markdown",
   "metadata": {},
   "source": [
    "> The outliers were handled using"
   ]
  },
  {
   "cell_type": "markdown",
   "metadata": {},
   "source": [
    "<hr>"
   ]
  },
  {
   "cell_type": "markdown",
   "metadata": {},
   "source": [
    "### Exploratory Data Analysis (EDA)"
   ]
  },
  {
   "cell_type": "markdown",
   "metadata": {},
   "source": [
    "#### Highest and Lowest happiness Scores across all years\n",
    "\n",
    "Let's show the happiness scores based on the regions, aggreagted by the median."
   ]
  },
  {
   "cell_type": "code",
   "execution_count": 37,
   "metadata": {},
   "outputs": [
    {
     "data": {
      "image/png": "[encoded data removed]",
      "text/plain": [
       "<Figure size 1500x600 with 1 Axes>"
      ]
     },
     "metadata": {},
     "output_type": "display_data"
    }
   ],
   "source": [
    "merged_df.groupby('region')['happiness_score'].median().sort_values().plot(kind='barh', color='orange',  figsize=(15, 6))\n",
    "plt.title('Regions Vs. happiness scores median')\n",
    "plt.xlabel('Happiness Score')\n",
    "plt.ylabel('Regions');\n",
    "plt.grid(True, alpha=0.3)"
   ]
  },
  {
   "cell_type": "markdown",
   "metadata": {},
   "source": [
    "> The region that has highest happiness score across all years is Australia and New Zealand.\n",
    "\n",
    "> The region that has lowest happiness score across all years is Sub-Saharan Africa."
   ]
  },
  {
   "cell_type": "markdown",
   "metadata": {},
   "source": [
    "<hr>"
   ]
  },
  {
   "cell_type": "markdown",
   "metadata": {},
   "source": [
    "#### Global Happiness cahge Over years\n",
    "\n",
    "Let's look into the global happiness score chnage over years."
   ]
  },
  {
   "cell_type": "code",
   "execution_count": 38,
   "metadata": {},
   "outputs": [
    {
     "data": {
      "image/png": "[encoded data removed]",
      "text/plain": [
       "<Figure size 1500x600 with 1 Axes>"
      ]
     },
     "metadata": {},
     "output_type": "display_data"
    }
   ],
   "source": [
    "merged_df.groupby('year')['happiness_score'].median().plot(kind='line', color='red', figsize=(15, 6))\n",
    "plt.xticks(merged_df['year'].unique());\n",
    "plt.title('Global happiness scores over the years')\n",
    "plt.ylabel('Happiness Score')\n",
    "plt.xlabel('Years')\n",
    "plt.grid(True, alpha=0.3)"
   ]
  },
  {
   "cell_type": "markdown",
   "metadata": {},
   "source": [
    "> It is noticed that the global happiness over the year is changing and following a positive slightly higher changes. Even though the changes are slow.\n",
    "\n",
    "> It is also noticed that in the year 2017 it got lower than the year before."
   ]
  },
  {
   "cell_type": "markdown",
   "metadata": {},
   "source": [
    "<hr>"
   ]
  },
  {
   "cell_type": "markdown",
   "metadata": {},
   "source": [
    "#### The years 2020-2022 Global Happiness scores\n",
    "\n",
    "A question is raised about the next years of global happiness scores, what will the change be?"
   ]
  },
  {
   "cell_type": "markdown",
   "metadata": {},
   "source": [
    "> Based on my experience and the context of 2020-2022 it was the yeasr were Covid-19 epedimic was rising, there had been so much suffer around the world and distrust in the goverments. I would say that the global happiness was getting lower in those next years. The econmic was going to collapse and a lot of people have lost their jobs."
   ]
  },
  {
   "cell_type": "markdown",
   "metadata": {},
   "source": [
    "- Based on the Data:"
   ]
  },
  {
   "cell_type": "markdown",
   "metadata": {},
   "source": [
    "> Also, based on the figure above that shows the changes over the years between (2015-2019), it is following a slight trend of going up, so based on the data the more we go by years the higher the global happiness score is going to be, it seems that 2017 was an exception."
   ]
  },
  {
   "cell_type": "markdown",
   "metadata": {},
   "source": [
    "> Let's take a look into the correlation with the happiness scores:"
   ]
  },
  {
   "cell_type": "code",
   "execution_count": 39,
   "metadata": {},
   "outputs": [
    {
     "data": {
      "text/html": [
       "<div>\n",
       "<style scoped>\n",
       "    .dataframe tbody tr th:only-of-type {\n",
       "        vertical-align: middle;\n",
       "    }\n",
       "\n",
       "    .dataframe tbody tr th {\n",
       "        vertical-align: top;\n",
       "    }\n",
       "\n",
       "    .dataframe thead th {\n",
       "        text-align: right;\n",
       "    }\n",
       "</style>\n",
       "<table border=\"1\" class=\"dataframe\">\n",
       "  <thead>\n",
       "    <tr style=\"text-align: right;\">\n",
       "      <th></th>\n",
       "      <th>happiness_score</th>\n",
       "    </tr>\n",
       "  </thead>\n",
       "  <tbody>\n",
       "    <tr>\n",
       "      <th>happiness_rank</th>\n",
       "      <td>-0.992083</td>\n",
       "    </tr>\n",
       "    <tr>\n",
       "      <th>year</th>\n",
       "      <td>0.004610</td>\n",
       "    </tr>\n",
       "    <tr>\n",
       "      <th>Generosity</th>\n",
       "      <td>0.139316</td>\n",
       "    </tr>\n",
       "    <tr>\n",
       "      <th>trust_government_corruption</th>\n",
       "      <td>0.403120</td>\n",
       "    </tr>\n",
       "    <tr>\n",
       "      <th>freedom</th>\n",
       "      <td>0.553490</td>\n",
       "    </tr>\n",
       "    <tr>\n",
       "      <th>family</th>\n",
       "      <td>0.650386</td>\n",
       "    </tr>\n",
       "    <tr>\n",
       "      <th>health_life_expectancy</th>\n",
       "      <td>0.745010</td>\n",
       "    </tr>\n",
       "    <tr>\n",
       "      <th>economy_gdp_per_capita</th>\n",
       "      <td>0.790333</td>\n",
       "    </tr>\n",
       "    <tr>\n",
       "      <th>happiness_score</th>\n",
       "      <td>1.000000</td>\n",
       "    </tr>\n",
       "  </tbody>\n",
       "</table>\n",
       "</div>"
      ],
      "text/plain": [
       "                             happiness_score\n",
       "happiness_rank                     -0.992083\n",
       "year                                0.004610\n",
       "Generosity                          0.139316\n",
       "trust_government_corruption         0.403120\n",
       "freedom                             0.553490\n",
       "family                              0.650386\n",
       "health_life_expectancy              0.745010\n",
       "economy_gdp_per_capita              0.790333\n",
       "happiness_score                     1.000000"
      ]
     },
     "execution_count": 39,
     "metadata": {},
     "output_type": "execute_result"
    }
   ],
   "source": [
    "merged_df.corr(numeric_only=True)[['happiness_score']].sort_values(by='happiness_score')"
   ]
  },
  {
   "cell_type": "markdown",
   "metadata": {},
   "source": [
    "> These factors have high positive correlation with the target happiness score: \n",
    "- freedom: was contrained in quarantins while 2020-2022.\n",
    "- family\n",
    "- health_life_expectancy\n",
    "- economy_gdp_per_capita."
   ]
  },
  {
   "cell_type": "markdown",
   "metadata": {},
   "source": [
    "<hr>"
   ]
  },
  {
   "cell_type": "markdown",
   "metadata": {},
   "source": [
    "#### Happiness score change by Region\n",
    "\n",
    "Let's see how does the Happiness score change by each region."
   ]
  },
  {
   "cell_type": "code",
   "execution_count": 40,
   "metadata": {},
   "outputs": [],
   "source": [
    "grouped_year_region = merged_df.groupby(by=['year', 'region'])['happiness_score'].median()\n",
    "unstacked_df = grouped_year_region.unstack()"
   ]
  },
  {
   "cell_type": "code",
   "execution_count": 41,
   "metadata": {},
   "outputs": [
    {
     "data": {
      "image/png": "[encoded data removed]",
      "text/plain": [
       "<Figure size 1500x600 with 1 Axes>"
      ]
     },
     "metadata": {},
     "output_type": "display_data"
    }
   ],
   "source": [
    "unstacked_df.plot(kind='line', marker='o',  figsize=(15, 6))\n",
    "plt.xlabel('Year')  \n",
    "plt.ylabel('Median Happiness Score')\n",
    "plt.title('Comparison of Median Happiness Scores by Region Over years')\n",
    "plt.xticks(rotation=45)  \n",
    "plt.grid(True, alpha=0.3)\n",
    "plt.legend(loc='upper left', bbox_to_anchor=(1, 1))\n",
    "plt.xticks(merged_df['year'].unique());\n",
    "plt.legend(labels=merged_df['region'].unique());\n",
    "plt.show()"
   ]
  },
  {
   "cell_type": "markdown",
   "metadata": {},
   "source": [
    "> It is noticed that the regions had kept the same levels of happiness scores, which is expected if the world has been stable during the 2015-2019. Even the changes over the years were slow and slightly changing.\n",
    "\n",
    "> It is noticed that western europe had kept the same value of happiness scores. Sub-Saharan Africa had been the lowest region with happiness scores.\n",
    "\n",
    "> Even though most of the region had witnessed a lower happiness scores in 2017, the region of Central and Eastern Europe had had higher happiness scores from the year before."
   ]
  },
  {
   "cell_type": "markdown",
   "metadata": {},
   "source": [
    "<hr>"
   ]
  },
  {
   "cell_type": "markdown",
   "metadata": {},
   "source": [
    "## Insights and Conclusion"
   ]
  },
  {
   "cell_type": "markdown",
   "metadata": {},
   "source": []
  },
  {
   "cell_type": "markdown",
   "metadata": {},
   "source": [
    "<hr>"
   ]
  },
  {
   "cell_type": "markdown",
   "metadata": {},
   "source": [
    "Refrences:\n",
    "- [1] https://worldhappiness.report/"
   ]
  },
  {
   "cell_type": "markdown",
   "metadata": {},
   "source": [
    "> Export the report into html format"
   ]
  },
  {
   "cell_type": "code",
   "execution_count": null,
   "metadata": {},
   "outputs": [],
   "source": [
    "!python -m nbconvert --to html 1190652_A6.ipynb"
   ]
  }
 ],
 "metadata": {
  "kernelspec": {
   "display_name": "Python 3",
   "language": "python",
   "name": "python3"
  },
  "language_info": {
   "codemirror_mode": {
    "name": "ipython",
    "version": 3
   },
   "file_extension": ".py",
   "mimetype": "text/x-python",
   "name": "python",
   "nbconvert_exporter": "python",
   "pygments_lexer": "ipython3",
   "version": "3.11.0"
  }
 },
 "nbformat": 4,
 "nbformat_minor": 2
}
