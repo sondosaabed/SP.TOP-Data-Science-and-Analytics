{
 "cells": [
  {
   "cell_type": "markdown",
   "metadata": {},
   "source": [
    "    Department Of Computer Science\n",
    "    COMP4381, SP.TOP: DATA SCIENCE AND ANALYTICS\n",
    "    Dr. Hussein Soboh\n",
    "    COMP4381 | Section 1 "
   ]
  },
  {
   "cell_type": "markdown",
   "metadata": {},
   "source": [
    "## <div align=center> Assignment #4 </div>\n",
    "<div align=center><b>Coffee Reviews Dataset Exploration</b></div>\n",
    "<div align=center>Bean to Cup: Coffee rankings from around the world</div>\n",
    "\n",
    "    Prepeared by: Sondos Aabed\n",
    "    ID: 1190652"
   ]
  },
  {
   "cell_type": "markdown",
   "metadata": {},
   "source": [
    "#### <b>Abstract</b>\n",
    "This notebook is written as part of the Data Science and Analytics coursework By Dr. Hussein Suboh. Were a Coffee Reviews Dataset is explored. The method is structured starting with data loading and description, then general attributes as data shape, missing values, outliers, and data types are presented. Numerical and categorical features are analyzed, correlation is studeied too, and Finally the index feature is also discussed. Throughout the analysis, interpretations are presented highlighting any notable patterns or trends observed. Overall, this notebook offers an exploration into the Coffee Reviews Dataset."
   ]
  },
  {
   "cell_type": "markdown",
   "metadata": {},
   "source": [
    "#### <b>Table of Contents</b>\n",
    "- <b>Introduction</b>\n",
    "    - About this dataset\n",
    "- <b>Objectives</b>\n",
    "- <b>Theory</b>\n",
    "    - Pandas Dataframe\n",
    "    - Data types\n",
    "    - Correlation\n",
    "    - Index Feature\n",
    "- <b>Software Versions</b>\n",
    "- <b>Analysis</b>\n",
    "    - Data Loading\n",
    "    - Data Description and Columns\n",
    "    - Data Exploratuin\n",
    "        - Shape\n",
    "        - Missing Values\n",
    "        - Outliers\n",
    "        - Data types\n",
    "    - Numerical Features Analysis\n",
    "    - Categorical Feature Analysis\n",
    "    - Correlation Analysis\n",
    "    - Index Feature\n",
    "- <b>Discussion</b>\n",
    "\n",
    "- <b>Conclusion</b>"
   ]
  },
  {
   "cell_type": "markdown",
   "metadata": {},
   "source": [
    "#### <b>List of Figures</b>\n",
    "- Figure 1: \n",
    "- Figure 2: \n",
    "- Figure 3: \n",
    "- Figure 4: "
   ]
  },
  {
   "cell_type": "markdown",
   "metadata": {},
   "source": [
    "#### <b>List of Tables</b>\n",
    "- Table 1: \n",
    "- Table 2: \n",
    "- Table 3: \n",
    "- Table 4: \n",
    "- Table 5: \n",
    "- Table 6: \n",
    "- Table 7: "
   ]
  },
  {
   "cell_type": "markdown",
   "metadata": {},
   "source": [
    "#### <b>Introduction</b>\n",
    "<p>The primary aim of this assignment is </p>"
   ]
  },
  {
   "cell_type": "markdown",
   "metadata": {},
   "source": [
    "##### <b>About this dataset [1]</b>\n",
    "<p>Scrapped from https://www.coffeereview.com/ </p>\n",
    "show the dictionary of the columns (for each column provide the name, data type, and description)"
   ]
  },
  {
   "cell_type": "markdown",
   "metadata": {},
   "source": [
    "#### <b>Objectives</b>\n",
    "- To select a Kaggle dataset and describe it.\n",
    "- To load the data files and explore it.\n",
    "- To analyze numerical features.\n",
    "- To analyze categgorical features.\n",
    "- To make a correlation assumption and test it.\n",
    "- To identify possible index."
   ]
  },
  {
   "cell_type": "markdown",
   "metadata": {},
   "source": [
    "#### <b>Theory</b>"
   ]
  },
  {
   "cell_type": "markdown",
   "metadata": {},
   "source": [
    "##### <i><b>Pandas Dataframe</b></i>\n",
    "<p></p>"
   ]
  },
  {
   "cell_type": "markdown",
   "metadata": {},
   "source": [
    "##### <i><b>Data types</b></i>\n",
    "<p></p>"
   ]
  },
  {
   "cell_type": "markdown",
   "metadata": {},
   "source": [
    "##### <i><b>Correlation</b></i>\n",
    "Correlation between features could be tested using correlation mesurments or visulaization:\n",
    "\n",
    "<b>a. Measurments</b>\n",
    "Using mathmatical equations there are three main correlations: pearson, spearman, and kendal.\n",
    "- Peasrson: computes linear correlation (strong assumption).\n",
    "\n",
    "Table: [3]\n",
    "|Scale of Correlation| Value|\n",
    "|-----|-----|\n",
    "|0<r<=0.19|Very Low correlation|\n",
    "|0.2<=r <0.39|Low Correlation|\n",
    "|0.4<=r <=0.59|Moderate|\n",
    "|0.6<=r <=0.79|High Correlation|\n",
    "|0.8<=r <=1.|Very Hight|\n",
    "\n",
    "- kendal: It assesses how well the relationship between two variables can be described using a monotonic function\n",
    "- Kendal: used to measure the ordinal association between two measured quantities.\n",
    "\n",
    "<b>b. visualization</b>\n",
    "To plot scatter plots between two features and analyze the trend that the scatter follwos.\n",
    "\n",
    "![Scatter Plot Interpretation](./attachments/scatterInterpretation.png)\n",
    "\n",
    "<b>Figure : Scatter Plot Correlation Interpretation"
   ]
  },
  {
   "cell_type": "markdown",
   "metadata": {},
   "source": [
    "##### <i><b>Index Feature</b></i>\n",
    "\n",
    "\"When we talk about metric cardinality, we mean the number of unique time series that are produced by a combination of metric names and their associated labels [dimensions]. The total number of combinations with data that exist are cardinalities. The more combinations there are, the greater a metric’s cardinality is.\" [4]\n",
    "\n",
    "<b> the higher cardinality -> better selectivity -> faster scans -> increased performance </b>\n",
    "\n",
    "Columns with high selectivity are good candidates for indexing as they can efficiently filter data. \n",
    "Using the above logic the Selectivity is mesured by the follwing equatuin:\n",
    "\n",
    "`selectivity = cardinality/(number of records) * 100` [6]"
   ]
  },
  {
   "cell_type": "markdown",
   "metadata": {},
   "source": [
    "#### <b>Software Tools and Versions</b>\n",
    "\n",
    "The followning table shows the software tools and versions used in this experimnet.\n",
    "\n",
    "Table 2: Software Listenings\n",
    "|Tool | Version |\n",
    "|-----|---------|\n",
    "|Python|3.12.2|\n",
    "|Numpy|1.26.4|\n",
    "|Matplotlib|3.8.2|\n",
    "|Pandas|2.2.1|\n",
    "|Visual Studio Code |Updated|\n",
    "|Git & github|[Repo.](https://github.com/sondosaabed/SP.TOP-Data-Science-and-Analytics/blob/main/Assignments/A4/1190652_A4.ipynb)|"
   ]
  },
  {
   "cell_type": "markdown",
   "metadata": {},
   "source": [
    "#### <b>Analysis</b>\n",
    "In this section the objectives are met using python, were the analysis of the data, results and graphs are presented."
   ]
  },
  {
   "cell_type": "markdown",
   "metadata": {},
   "source": [
    "##### <b>Necessary imports</b>\n",
    "- First we import necessary libraries  "
   ]
  },
  {
   "cell_type": "code",
   "execution_count": 4,
   "metadata": {},
   "outputs": [],
   "source": [
    "import numpy as np\n",
    "from matplotlib import pyplot as plt\n",
    "import numpy.random as random\n",
    "import pandas as pd\n",
    "from sklearn.preprocessing import StandardScaler  "
   ]
  },
  {
   "cell_type": "markdown",
   "metadata": {},
   "source": [
    "##### <b>Data Loading </b>\n",
    "- This is the first step of the experiment, is to load the dataset from kaggle."
   ]
  },
  {
   "cell_type": "code",
   "execution_count": 5,
   "metadata": {},
   "outputs": [],
   "source": [
    "def load_dataset(path =\"./coffee_analysis.csv\"):\n",
    "    \"\"\"\n",
    "    This is a wrap function that calls the pandas loading file and returns \n",
    "    the dataframe of it.\n",
    "    Args:\n",
    "        path (str): contains reltive path of the data file\n",
    "    Returns:\n",
    "        (panda.Dataaframe) contains the loaded data\n",
    "    \"\"\"\n",
    "    return pd.read_csv(path)"
   ]
  },
  {
   "cell_type": "code",
   "execution_count": 6,
   "metadata": {},
   "outputs": [
    {
     "data": {
      "text/html": [
       "<div>\n",
       "<style scoped>\n",
       "    .dataframe tbody tr th:only-of-type {\n",
       "        vertical-align: middle;\n",
       "    }\n",
       "\n",
       "    .dataframe tbody tr th {\n",
       "        vertical-align: top;\n",
       "    }\n",
       "\n",
       "    .dataframe thead th {\n",
       "        text-align: right;\n",
       "    }\n",
       "</style>\n",
       "<table border=\"1\" class=\"dataframe\">\n",
       "  <thead>\n",
       "    <tr style=\"text-align: right;\">\n",
       "      <th></th>\n",
       "      <th>name</th>\n",
       "      <th>roaster</th>\n",
       "      <th>roast</th>\n",
       "      <th>loc_country</th>\n",
       "      <th>origin_1</th>\n",
       "      <th>origin_2</th>\n",
       "      <th>100g_USD</th>\n",
       "      <th>rating</th>\n",
       "      <th>review_date</th>\n",
       "      <th>desc_1</th>\n",
       "      <th>desc_2</th>\n",
       "      <th>desc_3</th>\n",
       "    </tr>\n",
       "  </thead>\n",
       "  <tbody>\n",
       "    <tr>\n",
       "      <th>0</th>\n",
       "      <td>“Sweety” Espresso Blend</td>\n",
       "      <td>A.R.C.</td>\n",
       "      <td>Medium-Light</td>\n",
       "      <td>Hong Kong</td>\n",
       "      <td>Panama</td>\n",
       "      <td>Ethiopia</td>\n",
       "      <td>14.32</td>\n",
       "      <td>95</td>\n",
       "      <td>November 2017</td>\n",
       "      <td>Evaluated as espresso. Sweet-toned, deeply ric...</td>\n",
       "      <td>An espresso blend comprised of coffees from Pa...</td>\n",
       "      <td>A radiant espresso blend that shines equally i...</td>\n",
       "    </tr>\n",
       "    <tr>\n",
       "      <th>1</th>\n",
       "      <td>Flora Blend Espresso</td>\n",
       "      <td>A.R.C.</td>\n",
       "      <td>Medium-Light</td>\n",
       "      <td>Hong Kong</td>\n",
       "      <td>Africa</td>\n",
       "      <td>Asia Pacific</td>\n",
       "      <td>9.05</td>\n",
       "      <td>94</td>\n",
       "      <td>November 2017</td>\n",
       "      <td>Evaluated as espresso. Sweetly tart, floral-to...</td>\n",
       "      <td>An espresso blend comprised of coffees from Af...</td>\n",
       "      <td>A floral-driven straight shot, amplified with ...</td>\n",
       "    </tr>\n",
       "    <tr>\n",
       "      <th>2</th>\n",
       "      <td>Ethiopia Shakiso Mormora</td>\n",
       "      <td>Revel Coffee</td>\n",
       "      <td>Medium-Light</td>\n",
       "      <td>United States</td>\n",
       "      <td>Guji Zone</td>\n",
       "      <td>Southern Ethiopia</td>\n",
       "      <td>4.70</td>\n",
       "      <td>92</td>\n",
       "      <td>November 2017</td>\n",
       "      <td>Crisply sweet, cocoa-toned. Lemon blossom, roa...</td>\n",
       "      <td>This coffee tied for the third-highest rating ...</td>\n",
       "      <td>A gently spice-toned, floral- driven wet-proce...</td>\n",
       "    </tr>\n",
       "    <tr>\n",
       "      <th>3</th>\n",
       "      <td>Ethiopia Suke Quto</td>\n",
       "      <td>Roast House</td>\n",
       "      <td>Medium-Light</td>\n",
       "      <td>United States</td>\n",
       "      <td>Guji Zone</td>\n",
       "      <td>Oromia Region</td>\n",
       "      <td>4.19</td>\n",
       "      <td>92</td>\n",
       "      <td>November 2017</td>\n",
       "      <td>Delicate, sweetly spice-toned. Pink peppercorn...</td>\n",
       "      <td>This coffee tied for the third-highest rating ...</td>\n",
       "      <td>Lavender-like flowers and hints of zesty pink ...</td>\n",
       "    </tr>\n",
       "    <tr>\n",
       "      <th>4</th>\n",
       "      <td>Ethiopia Gedeb Halo Beriti</td>\n",
       "      <td>Big Creek Coffee Roasters</td>\n",
       "      <td>Medium</td>\n",
       "      <td>United States</td>\n",
       "      <td>Gedeb District</td>\n",
       "      <td>Gedeo Zone</td>\n",
       "      <td>4.85</td>\n",
       "      <td>94</td>\n",
       "      <td>November 2017</td>\n",
       "      <td>Deeply sweet, subtly pungent. Honey, pear, tan...</td>\n",
       "      <td>Southern Ethiopia coffees like this one are pr...</td>\n",
       "      <td>A deeply and generously lush cup saved from se...</td>\n",
       "    </tr>\n",
       "  </tbody>\n",
       "</table>\n",
       "</div>"
      ],
      "text/plain": [
       "                         name                    roaster         roast  \\\n",
       "0     “Sweety” Espresso Blend                     A.R.C.  Medium-Light   \n",
       "1        Flora Blend Espresso                     A.R.C.  Medium-Light   \n",
       "2    Ethiopia Shakiso Mormora               Revel Coffee  Medium-Light   \n",
       "3          Ethiopia Suke Quto                Roast House  Medium-Light   \n",
       "4  Ethiopia Gedeb Halo Beriti  Big Creek Coffee Roasters        Medium   \n",
       "\n",
       "     loc_country        origin_1           origin_2  100g_USD  rating  \\\n",
       "0      Hong Kong          Panama           Ethiopia     14.32      95   \n",
       "1      Hong Kong          Africa       Asia Pacific      9.05      94   \n",
       "2  United States       Guji Zone  Southern Ethiopia      4.70      92   \n",
       "3  United States       Guji Zone      Oromia Region      4.19      92   \n",
       "4  United States  Gedeb District         Gedeo Zone      4.85      94   \n",
       "\n",
       "     review_date                                             desc_1  \\\n",
       "0  November 2017  Evaluated as espresso. Sweet-toned, deeply ric...   \n",
       "1  November 2017  Evaluated as espresso. Sweetly tart, floral-to...   \n",
       "2  November 2017  Crisply sweet, cocoa-toned. Lemon blossom, roa...   \n",
       "3  November 2017  Delicate, sweetly spice-toned. Pink peppercorn...   \n",
       "4  November 2017  Deeply sweet, subtly pungent. Honey, pear, tan...   \n",
       "\n",
       "                                              desc_2  \\\n",
       "0  An espresso blend comprised of coffees from Pa...   \n",
       "1  An espresso blend comprised of coffees from Af...   \n",
       "2  This coffee tied for the third-highest rating ...   \n",
       "3  This coffee tied for the third-highest rating ...   \n",
       "4  Southern Ethiopia coffees like this one are pr...   \n",
       "\n",
       "                                              desc_3  \n",
       "0  A radiant espresso blend that shines equally i...  \n",
       "1  A floral-driven straight shot, amplified with ...  \n",
       "2  A gently spice-toned, floral- driven wet-proce...  \n",
       "3  Lavender-like flowers and hints of zesty pink ...  \n",
       "4  A deeply and generously lush cup saved from se...  "
      ]
     },
     "execution_count": 6,
     "metadata": {},
     "output_type": "execute_result"
    }
   ],
   "source": [
    "df = load_dataset() # call on deafult path\n",
    "df.head()"
   ]
  },
  {
   "cell_type": "markdown",
   "metadata": {},
   "source": [
    "##### <b>Columns Dictionary</b>\n",
    "- This is the second step of the analysis, a more detailed look into the dataset is done, such as datatypes and descriptions."
   ]
  },
  {
   "cell_type": "code",
   "execution_count": 7,
   "metadata": {},
   "outputs": [
    {
     "name": "stdout",
     "output_type": "stream",
     "text": [
      "<class 'pandas.core.frame.DataFrame'>\n",
      "RangeIndex: 2095 entries, 0 to 2094\n",
      "Data columns (total 12 columns):\n",
      " #   Column       Non-Null Count  Dtype  \n",
      "---  ------       --------------  -----  \n",
      " 0   name         2095 non-null   object \n",
      " 1   roaster      2095 non-null   object \n",
      " 2   roast        2080 non-null   object \n",
      " 3   loc_country  2095 non-null   object \n",
      " 4   origin_1     2095 non-null   object \n",
      " 5   origin_2     2095 non-null   object \n",
      " 6   100g_USD     2095 non-null   float64\n",
      " 7   rating       2095 non-null   int64  \n",
      " 8   review_date  2095 non-null   object \n",
      " 9   desc_1       2095 non-null   object \n",
      " 10  desc_2       2095 non-null   object \n",
      " 11  desc_3       2093 non-null   object \n",
      "dtypes: float64(1), int64(1), object(10)\n",
      "memory usage: 196.5+ KB\n"
     ]
    }
   ],
   "source": [
    "df.info()"
   ]
  },
  {
   "cell_type": "markdown",
   "metadata": {},
   "source": [
    "##### <b>Data Exploratoin </b>\n",
    "Now that the data is loaded and initiallly explored, let's go to further analysis and deeper look."
   ]
  },
  {
   "cell_type": "markdown",
   "metadata": {},
   "source": [
    "<b>Shape </b>"
   ]
  },
  {
   "cell_type": "code",
   "execution_count": 9,
   "metadata": {},
   "outputs": [
    {
     "data": {
      "text/plain": [
       "(2095, 12)"
      ]
     },
     "execution_count": 9,
     "metadata": {},
     "output_type": "execute_result"
    }
   ],
   "source": [
    "df.shape"
   ]
  },
  {
   "cell_type": "markdown",
   "metadata": {},
   "source": [
    "<b>Missing Values </b>"
   ]
  },
  {
   "cell_type": "code",
   "execution_count": 10,
   "metadata": {},
   "outputs": [],
   "source": [
    "def missing_values(df):\n",
    "    \"\"\"\n",
    "    This is to get the percetages of missing data\n",
    "    Args:\n",
    "        df (pd.Dataframe): contains the data\n",
    "    Returns:\n",
    "        missing_percetanges(pd.Dataframe): contains Column,\tCounts, and\tPercentage\n",
    "            of the missing values for eah colmn\n",
    "    \"\"\"\n",
    "    missing_count = df.isnull().sum()\n",
    "    missing_percetanges = pd.DataFrame({\n",
    "        'Column': missing_count.index,\n",
    "        'Counts': missing_count.values,\n",
    "        'Percentage': missing_count.values / len(df) * 100  \n",
    "    })\n",
    "    return  missing_percetanges"
   ]
  },
  {
   "cell_type": "code",
   "execution_count": 11,
   "metadata": {},
   "outputs": [
    {
     "name": "stdout",
     "output_type": "stream",
     "text": [
      "Total Sum of Missing Percetange:  0.8114558472553699\n"
     ]
    },
    {
     "data": {
      "text/html": [
       "<div>\n",
       "<style scoped>\n",
       "    .dataframe tbody tr th:only-of-type {\n",
       "        vertical-align: middle;\n",
       "    }\n",
       "\n",
       "    .dataframe tbody tr th {\n",
       "        vertical-align: top;\n",
       "    }\n",
       "\n",
       "    .dataframe thead th {\n",
       "        text-align: right;\n",
       "    }\n",
       "</style>\n",
       "<table border=\"1\" class=\"dataframe\">\n",
       "  <thead>\n",
       "    <tr style=\"text-align: right;\">\n",
       "      <th></th>\n",
       "      <th>Column</th>\n",
       "      <th>Counts</th>\n",
       "      <th>Percentage</th>\n",
       "    </tr>\n",
       "  </thead>\n",
       "  <tbody>\n",
       "    <tr>\n",
       "      <th>0</th>\n",
       "      <td>name</td>\n",
       "      <td>0</td>\n",
       "      <td>0.000000</td>\n",
       "    </tr>\n",
       "    <tr>\n",
       "      <th>1</th>\n",
       "      <td>roaster</td>\n",
       "      <td>0</td>\n",
       "      <td>0.000000</td>\n",
       "    </tr>\n",
       "    <tr>\n",
       "      <th>2</th>\n",
       "      <td>roast</td>\n",
       "      <td>15</td>\n",
       "      <td>0.715990</td>\n",
       "    </tr>\n",
       "    <tr>\n",
       "      <th>3</th>\n",
       "      <td>loc_country</td>\n",
       "      <td>0</td>\n",
       "      <td>0.000000</td>\n",
       "    </tr>\n",
       "    <tr>\n",
       "      <th>4</th>\n",
       "      <td>origin_1</td>\n",
       "      <td>0</td>\n",
       "      <td>0.000000</td>\n",
       "    </tr>\n",
       "    <tr>\n",
       "      <th>5</th>\n",
       "      <td>origin_2</td>\n",
       "      <td>0</td>\n",
       "      <td>0.000000</td>\n",
       "    </tr>\n",
       "    <tr>\n",
       "      <th>6</th>\n",
       "      <td>100g_USD</td>\n",
       "      <td>0</td>\n",
       "      <td>0.000000</td>\n",
       "    </tr>\n",
       "    <tr>\n",
       "      <th>7</th>\n",
       "      <td>rating</td>\n",
       "      <td>0</td>\n",
       "      <td>0.000000</td>\n",
       "    </tr>\n",
       "    <tr>\n",
       "      <th>8</th>\n",
       "      <td>review_date</td>\n",
       "      <td>0</td>\n",
       "      <td>0.000000</td>\n",
       "    </tr>\n",
       "    <tr>\n",
       "      <th>9</th>\n",
       "      <td>desc_1</td>\n",
       "      <td>0</td>\n",
       "      <td>0.000000</td>\n",
       "    </tr>\n",
       "    <tr>\n",
       "      <th>10</th>\n",
       "      <td>desc_2</td>\n",
       "      <td>0</td>\n",
       "      <td>0.000000</td>\n",
       "    </tr>\n",
       "    <tr>\n",
       "      <th>11</th>\n",
       "      <td>desc_3</td>\n",
       "      <td>2</td>\n",
       "      <td>0.095465</td>\n",
       "    </tr>\n",
       "  </tbody>\n",
       "</table>\n",
       "</div>"
      ],
      "text/plain": [
       "         Column  Counts  Percentage\n",
       "0          name       0    0.000000\n",
       "1       roaster       0    0.000000\n",
       "2         roast      15    0.715990\n",
       "3   loc_country       0    0.000000\n",
       "4      origin_1       0    0.000000\n",
       "5      origin_2       0    0.000000\n",
       "6      100g_USD       0    0.000000\n",
       "7        rating       0    0.000000\n",
       "8   review_date       0    0.000000\n",
       "9        desc_1       0    0.000000\n",
       "10       desc_2       0    0.000000\n",
       "11       desc_3       2    0.095465"
      ]
     },
     "execution_count": 11,
     "metadata": {},
     "output_type": "execute_result"
    }
   ],
   "source": [
    "missing_percetanges = missing_values(df)\n",
    "print(\"Total Sum of Missing Percetange: \", missing_percetanges['Percentage'].sum())\n",
    "missing_percetanges"
   ]
  },
  {
   "cell_type": "markdown",
   "metadata": {},
   "source": [
    "<b>Data types</b>"
   ]
  },
  {
   "cell_type": "markdown",
   "metadata": {},
   "source": [
    "- In this section a question is asked: Which features are numerical, and which are nominal, and which are ordinal ?"
   ]
  },
  {
   "cell_type": "code",
   "execution_count": 12,
   "metadata": {},
   "outputs": [],
   "source": [
    "def get_data_byType(df):\n",
    "    \"\"\"\n",
    "    To get the columns by their types wether nominal or numerical\n",
    "    Args:\n",
    "        df(pd.Dataframe): dataset\n",
    "    Returns:\n",
    "        nominal\n",
    "        numerical\n",
    "    \"\"\"\n",
    "    nominal = pd.DataFrame()\n",
    "    numerical = pd.DataFrame()\n",
    "    for col in df.columns:\n",
    "        if df[col].dtype == 'object':\n",
    "            nominal[col] = df[col]\n",
    "        else:\n",
    "            numerical[col] = df[col]\n",
    "    return nominal, numerical"
   ]
  },
  {
   "cell_type": "code",
   "execution_count": 13,
   "metadata": {},
   "outputs": [
    {
     "name": "stdout",
     "output_type": "stream",
     "text": [
      "Nominal Columns:  Index(['name', 'roaster', 'roast', 'loc_country', 'origin_1', 'origin_2',\n",
      "       'review_date', 'desc_1', 'desc_2', 'desc_3'],\n",
      "      dtype='object')\n",
      "Numerical Columns:  Index(['100g_USD', 'rating'], dtype='object')\n"
     ]
    }
   ],
   "source": [
    "nominal, numerical = get_data_byType(df)\n",
    "print(\"Nominal Columns: \", nominal.columns)\n",
    "print(\"Numerical Columns: \", numerical.columns)"
   ]
  },
  {
   "cell_type": "markdown",
   "metadata": {},
   "source": [
    "which are ordinal?"
   ]
  },
  {
   "cell_type": "markdown",
   "metadata": {},
   "source": [
    "<b>Handle date high cardenality:</b>\n",
    "- Since the date Column has many unique values it is said to have high carenality. The idea in mind is to seprate it into two columns: review_year, review_month."
   ]
  },
  {
   "cell_type": "code",
   "execution_count": 14,
   "metadata": {},
   "outputs": [
    {
     "name": "stdout",
     "output_type": "stream",
     "text": [
      "Length of unique date values:  61\n",
      "Unique date Values:  ['November 2017' 'December 2017' 'January 2018' 'February 2018'\n",
      " 'March 2018' 'April 2018' 'May 2018' 'June 2018' 'July 2018'\n",
      " 'August 2018' 'September 2018' 'October 2018' 'November 2018'\n",
      " 'December 2018' 'February 2019' 'January 2019' 'March 2019' 'April 2019'\n",
      " 'May 2019' 'June 2019' 'July 2019' 'August 2019' 'September 2019'\n",
      " 'October 2019' 'November 2019' 'December 2019' 'January 2020'\n",
      " 'February 2020' 'March 2020' 'April 2020' 'May 2020' 'June 2020'\n",
      " 'July 2020' 'August 2020' 'September 2020' 'October 2020' 'November 2020'\n",
      " 'December 2020' 'January 2021' 'February 2021' 'March 2021' 'April 2021'\n",
      " 'May 2021' 'June 2021' 'July 2021' 'August 2021' 'September 2021'\n",
      " 'October 2021' 'November 2021' 'December 2021' 'January 2022'\n",
      " 'February 2022' 'March 2022' 'April 2022' 'May 2022' 'June 2022'\n",
      " 'July 2022' 'August 2022' 'September 2022' 'October 2022' 'November 2022']\n"
     ]
    }
   ],
   "source": [
    "print(\"Length of unique date values: \", len(df['review_date'].unique()))\n",
    "print(\"Unique date Values: \",df['review_date'].unique())"
   ]
  },
  {
   "cell_type": "code",
   "execution_count": 15,
   "metadata": {},
   "outputs": [],
   "source": [
    "def handle_date(df):\n",
    "    \"\"\"\n",
    "    Args:\n",
    "        df (pd.Dataframe): dataframe with high date cardenality\n",
    "    Returns:\n",
    "        df (pd.Dataframe): with two new colmns, and dropped date\n",
    "    \"\"\"\n",
    "    df['review_date'] = pd.to_datetime(df['review_date'])\n",
    "    df['review_year'] = df['review_date'].dt.year\n",
    "    df['review_month'] = df['review_date'].dt.month\n",
    "    df = df.drop('review_date', axis = 1)\n",
    "    return df"
   ]
  },
  {
   "cell_type": "code",
   "execution_count": 16,
   "metadata": {},
   "outputs": [
    {
     "name": "stderr",
     "output_type": "stream",
     "text": [
      "C:\\Users\\SS\\AppData\\Local\\Temp\\ipykernel_16504\\1020651580.py:8: UserWarning: Could not infer format, so each element will be parsed individually, falling back to `dateutil`. To ensure parsing is consistent and as-expected, please specify a format.\n",
      "  df['review_date'] = pd.to_datetime(df['review_date'])\n"
     ]
    },
    {
     "data": {
      "text/html": [
       "<div>\n",
       "<style scoped>\n",
       "    .dataframe tbody tr th:only-of-type {\n",
       "        vertical-align: middle;\n",
       "    }\n",
       "\n",
       "    .dataframe tbody tr th {\n",
       "        vertical-align: top;\n",
       "    }\n",
       "\n",
       "    .dataframe thead th {\n",
       "        text-align: right;\n",
       "    }\n",
       "</style>\n",
       "<table border=\"1\" class=\"dataframe\">\n",
       "  <thead>\n",
       "    <tr style=\"text-align: right;\">\n",
       "      <th></th>\n",
       "      <th>name</th>\n",
       "      <th>roaster</th>\n",
       "      <th>roast</th>\n",
       "      <th>loc_country</th>\n",
       "      <th>origin_1</th>\n",
       "      <th>origin_2</th>\n",
       "      <th>100g_USD</th>\n",
       "      <th>rating</th>\n",
       "      <th>desc_1</th>\n",
       "      <th>desc_2</th>\n",
       "      <th>desc_3</th>\n",
       "      <th>review_year</th>\n",
       "      <th>review_month</th>\n",
       "    </tr>\n",
       "  </thead>\n",
       "  <tbody>\n",
       "    <tr>\n",
       "      <th>0</th>\n",
       "      <td>“Sweety” Espresso Blend</td>\n",
       "      <td>A.R.C.</td>\n",
       "      <td>Medium-Light</td>\n",
       "      <td>Hong Kong</td>\n",
       "      <td>Panama</td>\n",
       "      <td>Ethiopia</td>\n",
       "      <td>14.32</td>\n",
       "      <td>95</td>\n",
       "      <td>Evaluated as espresso. Sweet-toned, deeply ric...</td>\n",
       "      <td>An espresso blend comprised of coffees from Pa...</td>\n",
       "      <td>A radiant espresso blend that shines equally i...</td>\n",
       "      <td>2017</td>\n",
       "      <td>11</td>\n",
       "    </tr>\n",
       "    <tr>\n",
       "      <th>1</th>\n",
       "      <td>Flora Blend Espresso</td>\n",
       "      <td>A.R.C.</td>\n",
       "      <td>Medium-Light</td>\n",
       "      <td>Hong Kong</td>\n",
       "      <td>Africa</td>\n",
       "      <td>Asia Pacific</td>\n",
       "      <td>9.05</td>\n",
       "      <td>94</td>\n",
       "      <td>Evaluated as espresso. Sweetly tart, floral-to...</td>\n",
       "      <td>An espresso blend comprised of coffees from Af...</td>\n",
       "      <td>A floral-driven straight shot, amplified with ...</td>\n",
       "      <td>2017</td>\n",
       "      <td>11</td>\n",
       "    </tr>\n",
       "    <tr>\n",
       "      <th>2</th>\n",
       "      <td>Ethiopia Shakiso Mormora</td>\n",
       "      <td>Revel Coffee</td>\n",
       "      <td>Medium-Light</td>\n",
       "      <td>United States</td>\n",
       "      <td>Guji Zone</td>\n",
       "      <td>Southern Ethiopia</td>\n",
       "      <td>4.70</td>\n",
       "      <td>92</td>\n",
       "      <td>Crisply sweet, cocoa-toned. Lemon blossom, roa...</td>\n",
       "      <td>This coffee tied for the third-highest rating ...</td>\n",
       "      <td>A gently spice-toned, floral- driven wet-proce...</td>\n",
       "      <td>2017</td>\n",
       "      <td>11</td>\n",
       "    </tr>\n",
       "    <tr>\n",
       "      <th>3</th>\n",
       "      <td>Ethiopia Suke Quto</td>\n",
       "      <td>Roast House</td>\n",
       "      <td>Medium-Light</td>\n",
       "      <td>United States</td>\n",
       "      <td>Guji Zone</td>\n",
       "      <td>Oromia Region</td>\n",
       "      <td>4.19</td>\n",
       "      <td>92</td>\n",
       "      <td>Delicate, sweetly spice-toned. Pink peppercorn...</td>\n",
       "      <td>This coffee tied for the third-highest rating ...</td>\n",
       "      <td>Lavender-like flowers and hints of zesty pink ...</td>\n",
       "      <td>2017</td>\n",
       "      <td>11</td>\n",
       "    </tr>\n",
       "    <tr>\n",
       "      <th>4</th>\n",
       "      <td>Ethiopia Gedeb Halo Beriti</td>\n",
       "      <td>Big Creek Coffee Roasters</td>\n",
       "      <td>Medium</td>\n",
       "      <td>United States</td>\n",
       "      <td>Gedeb District</td>\n",
       "      <td>Gedeo Zone</td>\n",
       "      <td>4.85</td>\n",
       "      <td>94</td>\n",
       "      <td>Deeply sweet, subtly pungent. Honey, pear, tan...</td>\n",
       "      <td>Southern Ethiopia coffees like this one are pr...</td>\n",
       "      <td>A deeply and generously lush cup saved from se...</td>\n",
       "      <td>2017</td>\n",
       "      <td>11</td>\n",
       "    </tr>\n",
       "  </tbody>\n",
       "</table>\n",
       "</div>"
      ],
      "text/plain": [
       "                         name                    roaster         roast  \\\n",
       "0     “Sweety” Espresso Blend                     A.R.C.  Medium-Light   \n",
       "1        Flora Blend Espresso                     A.R.C.  Medium-Light   \n",
       "2    Ethiopia Shakiso Mormora               Revel Coffee  Medium-Light   \n",
       "3          Ethiopia Suke Quto                Roast House  Medium-Light   \n",
       "4  Ethiopia Gedeb Halo Beriti  Big Creek Coffee Roasters        Medium   \n",
       "\n",
       "     loc_country        origin_1           origin_2  100g_USD  rating  \\\n",
       "0      Hong Kong          Panama           Ethiopia     14.32      95   \n",
       "1      Hong Kong          Africa       Asia Pacific      9.05      94   \n",
       "2  United States       Guji Zone  Southern Ethiopia      4.70      92   \n",
       "3  United States       Guji Zone      Oromia Region      4.19      92   \n",
       "4  United States  Gedeb District         Gedeo Zone      4.85      94   \n",
       "\n",
       "                                              desc_1  \\\n",
       "0  Evaluated as espresso. Sweet-toned, deeply ric...   \n",
       "1  Evaluated as espresso. Sweetly tart, floral-to...   \n",
       "2  Crisply sweet, cocoa-toned. Lemon blossom, roa...   \n",
       "3  Delicate, sweetly spice-toned. Pink peppercorn...   \n",
       "4  Deeply sweet, subtly pungent. Honey, pear, tan...   \n",
       "\n",
       "                                              desc_2  \\\n",
       "0  An espresso blend comprised of coffees from Pa...   \n",
       "1  An espresso blend comprised of coffees from Af...   \n",
       "2  This coffee tied for the third-highest rating ...   \n",
       "3  This coffee tied for the third-highest rating ...   \n",
       "4  Southern Ethiopia coffees like this one are pr...   \n",
       "\n",
       "                                              desc_3  review_year  \\\n",
       "0  A radiant espresso blend that shines equally i...         2017   \n",
       "1  A floral-driven straight shot, amplified with ...         2017   \n",
       "2  A gently spice-toned, floral- driven wet-proce...         2017   \n",
       "3  Lavender-like flowers and hints of zesty pink ...         2017   \n",
       "4  A deeply and generously lush cup saved from se...         2017   \n",
       "\n",
       "   review_month  \n",
       "0            11  \n",
       "1            11  \n",
       "2            11  \n",
       "3            11  \n",
       "4            11  "
      ]
     },
     "execution_count": 16,
     "metadata": {},
     "output_type": "execute_result"
    }
   ],
   "source": [
    "df = handle_date(df)\n",
    "df.head()"
   ]
  },
  {
   "cell_type": "markdown",
   "metadata": {},
   "source": [
    "- Now let's get the nominal and numerical again:"
   ]
  },
  {
   "cell_type": "code",
   "execution_count": 17,
   "metadata": {},
   "outputs": [
    {
     "name": "stdout",
     "output_type": "stream",
     "text": [
      "Nominal Columns:  Index(['name', 'roaster', 'roast', 'loc_country', 'origin_1', 'origin_2',\n",
      "       'desc_1', 'desc_2', 'desc_3'],\n",
      "      dtype='object')\n",
      "Numerical Columns:  Index(['100g_USD', 'rating', 'review_year', 'review_month'], dtype='object')\n"
     ]
    },
    {
     "data": {
      "text/plain": [
       "name            1909\n",
       "roaster          424\n",
       "roast              5\n",
       "loc_country       19\n",
       "origin_1         614\n",
       "origin_2         357\n",
       "100g_USD         473\n",
       "rating            15\n",
       "desc_1          2092\n",
       "desc_2          2029\n",
       "desc_3          2090\n",
       "review_year        6\n",
       "review_month      12\n",
       "dtype: int64"
      ]
     },
     "execution_count": 17,
     "metadata": {},
     "output_type": "execute_result"
    }
   ],
   "source": [
    "nominal, numerical = get_data_byType(df)\n",
    "print(\"Nominal Columns: \", nominal.columns)\n",
    "print(\"Numerical Columns: \", numerical.columns)\n",
    "df.nunique()"
   ]
  },
  {
   "cell_type": "markdown",
   "metadata": {},
   "source": [
    "Now the numbers of unique values for review_year is 6 and for review_month is 12"
   ]
  },
  {
   "cell_type": "markdown",
   "metadata": {},
   "source": [
    "##### <b>Numerical Features Analysis</b>"
   ]
  },
  {
   "cell_type": "markdown",
   "metadata": {},
   "source": [
    "- It is required to select two numerical features, `'100g_USD', 'rating'` are chosen "
   ]
  },
  {
   "cell_type": "code",
   "execution_count": 18,
   "metadata": {},
   "outputs": [
    {
     "data": {
      "text/html": [
       "<div>\n",
       "<style scoped>\n",
       "    .dataframe tbody tr th:only-of-type {\n",
       "        vertical-align: middle;\n",
       "    }\n",
       "\n",
       "    .dataframe tbody tr th {\n",
       "        vertical-align: top;\n",
       "    }\n",
       "\n",
       "    .dataframe thead th {\n",
       "        text-align: right;\n",
       "    }\n",
       "</style>\n",
       "<table border=\"1\" class=\"dataframe\">\n",
       "  <thead>\n",
       "    <tr style=\"text-align: right;\">\n",
       "      <th></th>\n",
       "      <th>100g_USD</th>\n",
       "      <th>rating</th>\n",
       "      <th>review_year</th>\n",
       "      <th>review_month</th>\n",
       "    </tr>\n",
       "  </thead>\n",
       "  <tbody>\n",
       "    <tr>\n",
       "      <th>count</th>\n",
       "      <td>2095.000000</td>\n",
       "      <td>2095.000000</td>\n",
       "      <td>2095.000000</td>\n",
       "      <td>2095.000000</td>\n",
       "    </tr>\n",
       "    <tr>\n",
       "      <th>mean</th>\n",
       "      <td>9.323313</td>\n",
       "      <td>93.114081</td>\n",
       "      <td>2020.188067</td>\n",
       "      <td>6.905489</td>\n",
       "    </tr>\n",
       "    <tr>\n",
       "      <th>std</th>\n",
       "      <td>11.430659</td>\n",
       "      <td>1.563024</td>\n",
       "      <td>1.456124</td>\n",
       "      <td>3.393015</td>\n",
       "    </tr>\n",
       "    <tr>\n",
       "      <th>min</th>\n",
       "      <td>0.120000</td>\n",
       "      <td>84.000000</td>\n",
       "      <td>2017.000000</td>\n",
       "      <td>1.000000</td>\n",
       "    </tr>\n",
       "    <tr>\n",
       "      <th>25%</th>\n",
       "      <td>4.930000</td>\n",
       "      <td>92.000000</td>\n",
       "      <td>2019.000000</td>\n",
       "      <td>4.000000</td>\n",
       "    </tr>\n",
       "    <tr>\n",
       "      <th>50%</th>\n",
       "      <td>5.860000</td>\n",
       "      <td>93.000000</td>\n",
       "      <td>2020.000000</td>\n",
       "      <td>7.000000</td>\n",
       "    </tr>\n",
       "    <tr>\n",
       "      <th>75%</th>\n",
       "      <td>8.785000</td>\n",
       "      <td>94.000000</td>\n",
       "      <td>2021.000000</td>\n",
       "      <td>10.000000</td>\n",
       "    </tr>\n",
       "    <tr>\n",
       "      <th>max</th>\n",
       "      <td>132.280000</td>\n",
       "      <td>98.000000</td>\n",
       "      <td>2022.000000</td>\n",
       "      <td>12.000000</td>\n",
       "    </tr>\n",
       "  </tbody>\n",
       "</table>\n",
       "</div>"
      ],
      "text/plain": [
       "          100g_USD       rating  review_year  review_month\n",
       "count  2095.000000  2095.000000  2095.000000   2095.000000\n",
       "mean      9.323313    93.114081  2020.188067      6.905489\n",
       "std      11.430659     1.563024     1.456124      3.393015\n",
       "min       0.120000    84.000000  2017.000000      1.000000\n",
       "25%       4.930000    92.000000  2019.000000      4.000000\n",
       "50%       5.860000    93.000000  2020.000000      7.000000\n",
       "75%       8.785000    94.000000  2021.000000     10.000000\n",
       "max     132.280000    98.000000  2022.000000     12.000000"
      ]
     },
     "execution_count": 18,
     "metadata": {},
     "output_type": "execute_result"
    }
   ],
   "source": [
    "numerical.describe()"
   ]
  },
  {
   "cell_type": "code",
   "execution_count": 19,
   "metadata": {},
   "outputs": [
    {
     "data": {
      "text/plain": [
       "array([[<Axes: title={'center': '100g_USD'}>,\n",
       "        <Axes: title={'center': 'rating'}>],\n",
       "       [<Axes: title={'center': 'review_year'}>,\n",
       "        <Axes: title={'center': 'review_month'}>]], dtype=object)"
      ]
     },
     "execution_count": 19,
     "metadata": {},
     "output_type": "execute_result"
    },
    {
     "data": {
      "image/png": "[encoded data removed]",
      "text/plain": [
       "<Figure size 640x480 with 4 Axes>"
      ]
     },
     "metadata": {},
     "output_type": "display_data"
    }
   ],
   "source": [
    "numerical.hist()"
   ]
  },
  {
   "cell_type": "markdown",
   "metadata": {},
   "source": [
    "##### <b>Categorical Feature Analysis</b>"
   ]
  },
  {
   "cell_type": "markdown",
   "metadata": {},
   "source": [
    "- There are many ways to verify if the data is balanced or not: such as numerically (using value_counts method) and visulaly using frequecy histogram."
   ]
  },
  {
   "cell_type": "code",
   "execution_count": 20,
   "metadata": {},
   "outputs": [
    {
     "name": "stdout",
     "output_type": "stream",
     "text": [
      "roast\n",
      "Medium-Light    1490\n",
      "Light            287\n",
      "Medium           259\n",
      "Medium-Dark       39\n",
      "Dark               5\n",
      "Name: count, dtype: int64\n"
     ]
    },
    {
     "data": {
      "text/plain": [
       "Text(0.5, 1.0, 'Roast counts')"
      ]
     },
     "execution_count": 20,
     "metadata": {},
     "output_type": "execute_result"
    },
    {
     "data": {
      "image/png": "[encoded data removed]",
      "text/plain": [
       "<Figure size 640x480 with 1 Axes>"
      ]
     },
     "metadata": {},
     "output_type": "display_data"
    }
   ],
   "source": [
    "roast_counts = df['roast'].value_counts()\n",
    "print(roast_counts)\n",
    "plt.pie(roast_counts, labels=['Medium-Light', 'Light','Medium', 'Medium-Dark', 'Dark']) # labels are obtained using .unique()\n",
    "plt.title(\"Roast counts\")"
   ]
  },
  {
   "cell_type": "code",
   "execution_count": 21,
   "metadata": {},
   "outputs": [
    {
     "name": "stdout",
     "output_type": "stream",
     "text": [
      "loc_country\n",
      "United States              1336\n",
      "Taiwan                      554\n",
      "Hawai'i                      87\n",
      "Canada                       31\n",
      "Guatemala                    29\n",
      "Hong Kong                    20\n",
      "Japan                        12\n",
      "England                       7\n",
      "China                         4\n",
      "Malaysia                      3\n",
      "Australia                     2\n",
      "Mexico                        2\n",
      "Peru                          2\n",
      "Kenya                         1\n",
      "Belgium                       1\n",
      "Honduras                      1\n",
      "United States And Floyd       1\n",
      "Uganda                        1\n",
      "New Taiwan                    1\n",
      "Name: count, dtype: int64\n"
     ]
    },
    {
     "data": {
      "text/plain": [
       "Text(0.5, 1.0, 'Location country counts')"
      ]
     },
     "execution_count": 21,
     "metadata": {},
     "output_type": "execute_result"
    },
    {
     "data": {
      "image/png": "[encoded data removed]",
      "text/plain": [
       "<Figure size 640x480 with 1 Axes>"
      ]
     },
     "metadata": {},
     "output_type": "display_data"
    }
   ],
   "source": [
    "loc_counts = df['loc_country'].value_counts()\n",
    "print(loc_counts)\n",
    "plt.pie(loc_counts, labels=[ 'United States', 'Taiwan', \"Hawai'i\", 'Canada','Guatemala', 'Hong Kong','Japan','England',\n",
    "'China', 'Malaysia','Australia','Mexico','Peru', 'Kenya','Belgium', 'Honduras', 'United States And Floyd','Uganda', 'New Taiwan']) # labels are obtained using .unique()\n",
    "plt.title(\"Location country counts\")"
   ]
  },
  {
   "cell_type": "markdown",
   "metadata": {},
   "source": [
    "##### <b>Correlation Analysis</b>"
   ]
  },
  {
   "cell_type": "markdown",
   "metadata": {},
   "source": [
    "The two fetaure selected to be tested for correlation are the `100g_USD` and the `Rating` by intuition (More in discussion part about the reason). To test this assumption there are two ways:"
   ]
  },
  {
   "cell_type": "markdown",
   "metadata": {},
   "source": [
    "1. To test if `100g_USD` influencing `Rating`:\n",
    "- `100g_USD` is the independent variable\n",
    "- `Rating` is the dependent variable.\n",
    "\n",
    "2. To test if `Rating` influencing `100g_USD`:\n",
    "- `Rating` is the independent variable\n",
    "- `100g_USD` is the dependent variable."
   ]
  },
  {
   "cell_type": "markdown",
   "metadata": {},
   "source": [
    "<b>Feature Scaling</b>"
   ]
  },
  {
   "cell_type": "markdown",
   "metadata": {},
   "source": [
    "- As discussed in theory, pearson correlation is distance based (there is a measurement of diffrences) so the diffrent scalling of features will give misleading results.. the Standard Scaling technique is prefered (elaborated in discussion)"
   ]
  },
  {
   "cell_type": "code",
   "execution_count": 57,
   "metadata": {},
   "outputs": [
    {
     "data": {
      "text/html": [
       "<div>\n",
       "<style scoped>\n",
       "    .dataframe tbody tr th:only-of-type {\n",
       "        vertical-align: middle;\n",
       "    }\n",
       "\n",
       "    .dataframe tbody tr th {\n",
       "        vertical-align: top;\n",
       "    }\n",
       "\n",
       "    .dataframe thead th {\n",
       "        text-align: right;\n",
       "    }\n",
       "</style>\n",
       "<table border=\"1\" class=\"dataframe\">\n",
       "  <thead>\n",
       "    <tr style=\"text-align: right;\">\n",
       "      <th></th>\n",
       "      <th>name</th>\n",
       "      <th>roaster</th>\n",
       "      <th>roast</th>\n",
       "      <th>loc_country</th>\n",
       "      <th>origin_1</th>\n",
       "      <th>origin_2</th>\n",
       "      <th>100g_USD</th>\n",
       "      <th>rating</th>\n",
       "      <th>desc_1</th>\n",
       "      <th>desc_2</th>\n",
       "      <th>desc_3</th>\n",
       "      <th>review_year</th>\n",
       "      <th>review_month</th>\n",
       "    </tr>\n",
       "  </thead>\n",
       "  <tbody>\n",
       "    <tr>\n",
       "      <th>0</th>\n",
       "      <td>“Sweety” Espresso Blend</td>\n",
       "      <td>A.R.C.</td>\n",
       "      <td>Medium-Light</td>\n",
       "      <td>Hong Kong</td>\n",
       "      <td>Panama</td>\n",
       "      <td>Ethiopia</td>\n",
       "      <td>0.437235</td>\n",
       "      <td>1.206871</td>\n",
       "      <td>Evaluated as espresso. Sweet-toned, deeply ric...</td>\n",
       "      <td>An espresso blend comprised of coffees from Pa...</td>\n",
       "      <td>A radiant espresso blend that shines equally i...</td>\n",
       "      <td>2017</td>\n",
       "      <td>11</td>\n",
       "    </tr>\n",
       "    <tr>\n",
       "      <th>1</th>\n",
       "      <td>Flora Blend Espresso</td>\n",
       "      <td>A.R.C.</td>\n",
       "      <td>Medium-Light</td>\n",
       "      <td>Hong Kong</td>\n",
       "      <td>Africa</td>\n",
       "      <td>Asia Pacific</td>\n",
       "      <td>-0.023916</td>\n",
       "      <td>0.566933</td>\n",
       "      <td>Evaluated as espresso. Sweetly tart, floral-to...</td>\n",
       "      <td>An espresso blend comprised of coffees from Af...</td>\n",
       "      <td>A floral-driven straight shot, amplified with ...</td>\n",
       "      <td>2017</td>\n",
       "      <td>11</td>\n",
       "    </tr>\n",
       "    <tr>\n",
       "      <th>2</th>\n",
       "      <td>Ethiopia Shakiso Mormora</td>\n",
       "      <td>Revel Coffee</td>\n",
       "      <td>Medium-Light</td>\n",
       "      <td>United States</td>\n",
       "      <td>Guji Zone</td>\n",
       "      <td>Southern Ethiopia</td>\n",
       "      <td>-0.404563</td>\n",
       "      <td>-0.712943</td>\n",
       "      <td>Crisply sweet, cocoa-toned. Lemon blossom, roa...</td>\n",
       "      <td>This coffee tied for the third-highest rating ...</td>\n",
       "      <td>A gently spice-toned, floral- driven wet-proce...</td>\n",
       "      <td>2017</td>\n",
       "      <td>11</td>\n",
       "    </tr>\n",
       "    <tr>\n",
       "      <th>3</th>\n",
       "      <td>Ethiopia Suke Quto</td>\n",
       "      <td>Roast House</td>\n",
       "      <td>Medium-Light</td>\n",
       "      <td>United States</td>\n",
       "      <td>Guji Zone</td>\n",
       "      <td>Oromia Region</td>\n",
       "      <td>-0.449190</td>\n",
       "      <td>-0.712943</td>\n",
       "      <td>Delicate, sweetly spice-toned. Pink peppercorn...</td>\n",
       "      <td>This coffee tied for the third-highest rating ...</td>\n",
       "      <td>Lavender-like flowers and hints of zesty pink ...</td>\n",
       "      <td>2017</td>\n",
       "      <td>11</td>\n",
       "    </tr>\n",
       "    <tr>\n",
       "      <th>4</th>\n",
       "      <td>Ethiopia Gedeb Halo Beriti</td>\n",
       "      <td>Big Creek Coffee Roasters</td>\n",
       "      <td>Medium</td>\n",
       "      <td>United States</td>\n",
       "      <td>Gedeb District</td>\n",
       "      <td>Gedeo Zone</td>\n",
       "      <td>-0.391437</td>\n",
       "      <td>0.566933</td>\n",
       "      <td>Deeply sweet, subtly pungent. Honey, pear, tan...</td>\n",
       "      <td>Southern Ethiopia coffees like this one are pr...</td>\n",
       "      <td>A deeply and generously lush cup saved from se...</td>\n",
       "      <td>2017</td>\n",
       "      <td>11</td>\n",
       "    </tr>\n",
       "  </tbody>\n",
       "</table>\n",
       "</div>"
      ],
      "text/plain": [
       "                         name                    roaster         roast  \\\n",
       "0     “Sweety” Espresso Blend                     A.R.C.  Medium-Light   \n",
       "1        Flora Blend Espresso                     A.R.C.  Medium-Light   \n",
       "2    Ethiopia Shakiso Mormora               Revel Coffee  Medium-Light   \n",
       "3          Ethiopia Suke Quto                Roast House  Medium-Light   \n",
       "4  Ethiopia Gedeb Halo Beriti  Big Creek Coffee Roasters        Medium   \n",
       "\n",
       "     loc_country        origin_1           origin_2  100g_USD    rating  \\\n",
       "0      Hong Kong          Panama           Ethiopia  0.437235  1.206871   \n",
       "1      Hong Kong          Africa       Asia Pacific -0.023916  0.566933   \n",
       "2  United States       Guji Zone  Southern Ethiopia -0.404563 -0.712943   \n",
       "3  United States       Guji Zone      Oromia Region -0.449190 -0.712943   \n",
       "4  United States  Gedeb District         Gedeo Zone -0.391437  0.566933   \n",
       "\n",
       "                                              desc_1  \\\n",
       "0  Evaluated as espresso. Sweet-toned, deeply ric...   \n",
       "1  Evaluated as espresso. Sweetly tart, floral-to...   \n",
       "2  Crisply sweet, cocoa-toned. Lemon blossom, roa...   \n",
       "3  Delicate, sweetly spice-toned. Pink peppercorn...   \n",
       "4  Deeply sweet, subtly pungent. Honey, pear, tan...   \n",
       "\n",
       "                                              desc_2  \\\n",
       "0  An espresso blend comprised of coffees from Pa...   \n",
       "1  An espresso blend comprised of coffees from Af...   \n",
       "2  This coffee tied for the third-highest rating ...   \n",
       "3  This coffee tied for the third-highest rating ...   \n",
       "4  Southern Ethiopia coffees like this one are pr...   \n",
       "\n",
       "                                              desc_3  review_year  \\\n",
       "0  A radiant espresso blend that shines equally i...         2017   \n",
       "1  A floral-driven straight shot, amplified with ...         2017   \n",
       "2  A gently spice-toned, floral- driven wet-proce...         2017   \n",
       "3  Lavender-like flowers and hints of zesty pink ...         2017   \n",
       "4  A deeply and generously lush cup saved from se...         2017   \n",
       "\n",
       "   review_month  \n",
       "0            11  \n",
       "1            11  \n",
       "2            11  \n",
       "3            11  \n",
       "4            11  "
      ]
     },
     "execution_count": 57,
     "metadata": {},
     "output_type": "execute_result"
    }
   ],
   "source": [
    "scaler = StandardScaler()\n",
    "df[['rating', '100g_USD']] = scaler.fit_transform(df[['rating', '100g_USD']])\n",
    "df.head()"
   ]
  },
  {
   "cell_type": "markdown",
   "metadata": {},
   "source": [
    "1. <b>By visulization</b>"
   ]
  },
  {
   "cell_type": "code",
   "execution_count": 60,
   "metadata": {},
   "outputs": [
    {
     "data": {
      "image/png": "[encoded data removed]",
      "text/plain": [
       "<Figure size 640x480 with 1 Axes>"
      ]
     },
     "metadata": {},
     "output_type": "display_data"
    }
   ],
   "source": [
    "plt.scatter(x='rating', y='100g_USD', data=df)\n",
    "plt.title('Scatter Plot of Price (100g_USD) vs Rating')\n",
    "plt.xlabel('rating')\n",
    "plt.ylabel('100g_USD')\n",
    "plt.show()"
   ]
  },
  {
   "cell_type": "markdown",
   "metadata": {},
   "source": [
    "2. <b>By Prearson Correlation Coefficient</b>"
   ]
  },
  {
   "cell_type": "code",
   "execution_count": 55,
   "metadata": {},
   "outputs": [
    {
     "data": {
      "text/plain": [
       "0.2598802004584387"
      ]
     },
     "execution_count": 55,
     "metadata": {},
     "output_type": "execute_result"
    }
   ],
   "source": [
    "df['rating'].corr(df['100g_USD'], method='pearson')"
   ]
  },
  {
   "cell_type": "markdown",
   "metadata": {},
   "source": [
    "##### <b>Index Feature</b>\n",
    "Are their features that can be used as index?"
   ]
  },
  {
   "cell_type": "code",
   "execution_count": 56,
   "metadata": {},
   "outputs": [
    {
     "data": {
      "text/plain": [
       "RangeIndex(start=0, stop=2095, step=1)"
      ]
     },
     "execution_count": 56,
     "metadata": {},
     "output_type": "execute_result"
    }
   ],
   "source": [
    "df.index"
   ]
  },
  {
   "cell_type": "markdown",
   "metadata": {},
   "source": [
    "<b>Data Cardenality</b>\n",
    "\n",
    "As presented in theory part the Index is related to the Cardenality (uniquness metric) of the data."
   ]
  },
  {
   "cell_type": "code",
   "execution_count": 61,
   "metadata": {},
   "outputs": [
    {
     "data": {
      "text/plain": [
       "name            1909\n",
       "roaster          424\n",
       "roast              5\n",
       "loc_country       19\n",
       "origin_1         614\n",
       "origin_2         357\n",
       "100g_USD         473\n",
       "rating            15\n",
       "desc_1          2092\n",
       "desc_2          2029\n",
       "desc_3          2090\n",
       "review_year        6\n",
       "review_month      12\n",
       "dtype: int64"
      ]
     },
     "execution_count": 61,
     "metadata": {},
     "output_type": "execute_result"
    }
   ],
   "source": [
    "df.nunique()"
   ]
  },
  {
   "cell_type": "markdown",
   "metadata": {},
   "source": [
    "<b>Data Selectivity</b>\n",
    "\n",
    "`selectivity = cardinality/(number of records) * 100` [6]"
   ]
  },
  {
   "cell_type": "code",
   "execution_count": 80,
   "metadata": {},
   "outputs": [],
   "source": [
    "def calculate_selectivity(df):\n",
    "    \"\"\"\n",
    "    Calculate the selectivity of columns in the DataFrame.\n",
    "    Args:\n",
    "        df (pd.Dataframe): dataset\n",
    "    Returns:\n",
    "        (pd.Dataframe): Selectivity values for each column\n",
    "    \"\"\"\n",
    "    selectivities = {}\n",
    "    total_rows = len(df)\n",
    "    \n",
    "    for column in df.columns:\n",
    "        cardinality = df[column].nunique()\n",
    "        selectivity = (cardinality / total_rows) * 100\n",
    "        selectivities[column] = selectivity\n",
    "    \n",
    "    return pd.DataFrame(selectivities, index=[\"Selectivity\"])"
   ]
  },
  {
   "cell_type": "code",
   "execution_count": 81,
   "metadata": {},
   "outputs": [
    {
     "data": {
      "text/html": [
       "<div>\n",
       "<style scoped>\n",
       "    .dataframe tbody tr th:only-of-type {\n",
       "        vertical-align: middle;\n",
       "    }\n",
       "\n",
       "    .dataframe tbody tr th {\n",
       "        vertical-align: top;\n",
       "    }\n",
       "\n",
       "    .dataframe thead th {\n",
       "        text-align: right;\n",
       "    }\n",
       "</style>\n",
       "<table border=\"1\" class=\"dataframe\">\n",
       "  <thead>\n",
       "    <tr style=\"text-align: right;\">\n",
       "      <th></th>\n",
       "      <th>Selectivity</th>\n",
       "    </tr>\n",
       "  </thead>\n",
       "  <tbody>\n",
       "    <tr>\n",
       "      <th>name</th>\n",
       "      <td>91.121718</td>\n",
       "    </tr>\n",
       "    <tr>\n",
       "      <th>roaster</th>\n",
       "      <td>20.238663</td>\n",
       "    </tr>\n",
       "    <tr>\n",
       "      <th>roast</th>\n",
       "      <td>0.238663</td>\n",
       "    </tr>\n",
       "    <tr>\n",
       "      <th>loc_country</th>\n",
       "      <td>0.906921</td>\n",
       "    </tr>\n",
       "    <tr>\n",
       "      <th>origin_1</th>\n",
       "      <td>29.307876</td>\n",
       "    </tr>\n",
       "    <tr>\n",
       "      <th>origin_2</th>\n",
       "      <td>17.040573</td>\n",
       "    </tr>\n",
       "    <tr>\n",
       "      <th>100g_USD</th>\n",
       "      <td>22.577566</td>\n",
       "    </tr>\n",
       "    <tr>\n",
       "      <th>rating</th>\n",
       "      <td>0.715990</td>\n",
       "    </tr>\n",
       "    <tr>\n",
       "      <th>desc_1</th>\n",
       "      <td>99.856802</td>\n",
       "    </tr>\n",
       "    <tr>\n",
       "      <th>desc_2</th>\n",
       "      <td>96.849642</td>\n",
       "    </tr>\n",
       "    <tr>\n",
       "      <th>desc_3</th>\n",
       "      <td>99.761337</td>\n",
       "    </tr>\n",
       "    <tr>\n",
       "      <th>review_year</th>\n",
       "      <td>0.286396</td>\n",
       "    </tr>\n",
       "    <tr>\n",
       "      <th>review_month</th>\n",
       "      <td>0.572792</td>\n",
       "    </tr>\n",
       "  </tbody>\n",
       "</table>\n",
       "</div>"
      ],
      "text/plain": [
       "              Selectivity\n",
       "name            91.121718\n",
       "roaster         20.238663\n",
       "roast            0.238663\n",
       "loc_country      0.906921\n",
       "origin_1        29.307876\n",
       "origin_2        17.040573\n",
       "100g_USD        22.577566\n",
       "rating           0.715990\n",
       "desc_1          99.856802\n",
       "desc_2          96.849642\n",
       "desc_3          99.761337\n",
       "review_year      0.286396\n",
       "review_month     0.572792"
      ]
     },
     "execution_count": 81,
     "metadata": {},
     "output_type": "execute_result"
    }
   ],
   "source": [
    "calculate_selectivity(df).T"
   ]
  },
  {
   "cell_type": "code",
   "execution_count": 82,
   "metadata": {},
   "outputs": [
    {
     "data": {
      "text/html": [
       "<div>\n",
       "<style scoped>\n",
       "    .dataframe tbody tr th:only-of-type {\n",
       "        vertical-align: middle;\n",
       "    }\n",
       "\n",
       "    .dataframe tbody tr th {\n",
       "        vertical-align: top;\n",
       "    }\n",
       "\n",
       "    .dataframe thead th {\n",
       "        text-align: right;\n",
       "    }\n",
       "</style>\n",
       "<table border=\"1\" class=\"dataframe\">\n",
       "  <thead>\n",
       "    <tr style=\"text-align: right;\">\n",
       "      <th></th>\n",
       "      <th>Selectivity</th>\n",
       "    </tr>\n",
       "  </thead>\n",
       "  <tbody>\n",
       "    <tr>\n",
       "      <th>name</th>\n",
       "      <td>True</td>\n",
       "    </tr>\n",
       "    <tr>\n",
       "      <th>roaster</th>\n",
       "      <td>False</td>\n",
       "    </tr>\n",
       "    <tr>\n",
       "      <th>roast</th>\n",
       "      <td>False</td>\n",
       "    </tr>\n",
       "    <tr>\n",
       "      <th>loc_country</th>\n",
       "      <td>False</td>\n",
       "    </tr>\n",
       "    <tr>\n",
       "      <th>origin_1</th>\n",
       "      <td>False</td>\n",
       "    </tr>\n",
       "    <tr>\n",
       "      <th>origin_2</th>\n",
       "      <td>False</td>\n",
       "    </tr>\n",
       "    <tr>\n",
       "      <th>100g_USD</th>\n",
       "      <td>False</td>\n",
       "    </tr>\n",
       "    <tr>\n",
       "      <th>rating</th>\n",
       "      <td>False</td>\n",
       "    </tr>\n",
       "    <tr>\n",
       "      <th>desc_1</th>\n",
       "      <td>True</td>\n",
       "    </tr>\n",
       "    <tr>\n",
       "      <th>desc_2</th>\n",
       "      <td>True</td>\n",
       "    </tr>\n",
       "    <tr>\n",
       "      <th>desc_3</th>\n",
       "      <td>True</td>\n",
       "    </tr>\n",
       "    <tr>\n",
       "      <th>review_year</th>\n",
       "      <td>False</td>\n",
       "    </tr>\n",
       "    <tr>\n",
       "      <th>review_month</th>\n",
       "      <td>False</td>\n",
       "    </tr>\n",
       "  </tbody>\n",
       "</table>\n",
       "</div>"
      ],
      "text/plain": [
       "              Selectivity\n",
       "name                 True\n",
       "roaster             False\n",
       "roast               False\n",
       "loc_country         False\n",
       "origin_1            False\n",
       "origin_2            False\n",
       "100g_USD            False\n",
       "rating              False\n",
       "desc_1               True\n",
       "desc_2               True\n",
       "desc_3               True\n",
       "review_year         False\n",
       "review_month        False"
      ]
     },
     "execution_count": 82,
     "metadata": {},
     "output_type": "execute_result"
    }
   ],
   "source": [
    "calculate_selectivity(df).T > 50"
   ]
  },
  {
   "cell_type": "markdown",
   "metadata": {},
   "source": [
    "#### <b>Discussion</b>"
   ]
  },
  {
   "cell_type": "markdown",
   "metadata": {},
   "source": [
    "In the initial look on the dataset, there is 12 columns of diffrent types of values such as date, names, floats and integers. The first instance represnts a Type of coffee with it's details alongside the review and teh first, secomd, third description. There is also the date (Month year) of the review."
   ]
  },
  {
   "cell_type": "markdown",
   "metadata": {},
   "source": [
    "There are in total 12 columns, 10 of witch has the Dtype of Object, one is int64 the last is float64. The dictionary of columns indicates that there exists null values, since the non-null counts have diffrente values. Also the entreis are from 0 to 2094 (it has 2095 instances)."
   ]
  },
  {
   "cell_type": "markdown",
   "metadata": {},
   "source": [
    "- The Shape of the data is (2095, 12) that is there is 2095 instances and 12 features of them."
   ]
  },
  {
   "cell_type": "markdown",
   "metadata": {},
   "source": [
    "- The initial look into the dictionary of columns indicated that there are missing values in the data. To look how vital the missing of these values is the idea in mind is to get the percentages of each missing counts in regrads to the length of the dataframe. "
   ]
  },
  {
   "cell_type": "markdown",
   "metadata": {},
   "source": [
    "There is a Total Sum of Missing Percetange = 0.8114558472553699 that is a very low percetnage, given the context which is the coffee review. However there might be an issue regarding the roast type (being missing) becuase the roast value has a great value in the review rating (by assumption) and will be detected in the other sections."
   ]
  },
  {
   "cell_type": "markdown",
   "metadata": {},
   "source": [
    "Nominal Columns:  Index(['name', 'roaster', 'roast', 'loc_country', 'origin_1', 'origin_2',\n",
    "       'review_date', 'desc_1', 'desc_2', 'desc_3'],\n",
    "      dtype='object')\n",
    "Numerical Columns:  Index(['100g_USD', 'rating'], dtype='object')"
   ]
  },
  {
   "cell_type": "markdown",
   "metadata": {},
   "source": [
    "- Since the date Column has many unique values it is said to have high carenality. That is more benfitial to handle that high cardenlaity, the idea in mind is to seprate it into two columns: review_year, review_month. Instead of 61 values it will be filtered easlity (2017-2022) and the months (Jan-Dec)"
   ]
  },
  {
   "cell_type": "markdown",
   "metadata": {},
   "source": [
    "Nominal Columns:  Index(['name', 'roaster', 'roast', 'loc_country', 'origin_1', 'origin_2',\n",
    "       'desc_1', 'desc_2', 'desc_3'],\n",
    "      dtype='object')\n",
    "Numerical Columns:  Index(['100g_USD', 'rating', 'review_year', 'review_month'], dtype='object')"
   ]
  },
  {
   "cell_type": "markdown",
   "metadata": {},
   "source": [
    "The highets value has a rating of 98 wihch is a great rating, the lowest rating is 84 across all reviews whih is relativly high. The second quartile is 93...\n",
    "\n",
    "For the prices the highest price for 100g is 132.28  dolar and the minimum is less than a dollar 0.12"
   ]
  },
  {
   "cell_type": "markdown",
   "metadata": {},
   "source": [
    "Fisrt of, the 100g_USD represnts the price per 100g, there is indeed outliers. These however outliers numerically (IQR), they represnt real life values. For instance, the Brands of the coffee has an added value to the price and some of the famous brands has high prices in Coffee industry. The prices are skweed to the left that is normally the 100g of coffee starts at low prices.\n",
    "\n",
    "Second of, the Ratings, as expected the Ratings are personal veiws and represnts the real world. They are skewed to the right that represnts how people loves coffeee and most of the ratings ate between 85-95.\n"
   ]
  },
  {
   "cell_type": "markdown",
   "metadata": {},
   "source": [
    " It is noticed that the distrbution in this feature is not balanced looking at the value_counts. It is noticed that Medium-Light roast has the highest value count. These counts are decending and the lowest is the Dark Roast. As for visually using the piechart it also shows the imbalance in distuibution among Roast values."
   ]
  },
  {
   "cell_type": "markdown",
   "metadata": {},
   "source": [
    "The location country doesn't have a abalanced distribution. Obviuosly the United States has the highest values counts of 1336 that is almost half of the data collected from the United states. Otehr countries in the contrast have a very low count such as the counts of 1, 2,3, or 4 times. Now visually it is noticed that the pie chart has an imbalanced distrubtion among categories. The dominant is the United States, then comes Taiwan.. Others have monir representation."
   ]
  },
  {
   "cell_type": "markdown",
   "metadata": {},
   "source": [
    "By intuition, two features that could be correlated are the `100g_USD` and the `Rating` of that Coffee. That is due to higher prices sometimes indicate either (Good Brand) and Great Quality. However it might not be one way correlation, that is psychologically established the Rating is influnced by the price (Cognitive Biases and the Halo effect). [2]. And the price is infulned by the rate."
   ]
  },
  {
   "cell_type": "markdown",
   "metadata": {},
   "source": [
    "As discussed in theory, pearson correlation is distance based (measure diffrences) so the diffrent scalling of features will give misleading results.. Here comes the Standard Scaling that is prefred because of the outliers (Minmax is sensetive to outliers)."
   ]
  },
  {
   "cell_type": "markdown",
   "metadata": {},
   "source": [
    "At first, the scatter plot seem to follow a constant trend, but then it starts to form a postivite correlation or a positive trend. That is a partial correltaion. As the higher the rating is the higher the price per 100g goes. However, it's not a very strong correlation it's actually relativly weak. The data is relativly small and may not actually represnt the real life correlation.\n",
    "\n",
    "As for the other way By Prearson Correlation Coefficient the corr is 0.2598802004584387 which is said to be a poistive low corrrelation."
   ]
  },
  {
   "cell_type": "markdown",
   "metadata": {},
   "source": [
    "The current index of the dataframe is a RangeIndex that starts at 0 and stops at 2095 (excluded)."
   ]
  },
  {
   "cell_type": "markdown",
   "metadata": {},
   "source": [
    "When calculating selectivity for each column, obviously the texts values that conatins reviews (desc_1, desc_2, desc_3) have high values (99.856802, 96.849642, 99.761337) but they don't actually work as Index features it will be challenging to filter by texts. The candidate index features are the ones that have values larger than 50% (in the writer perspective) except for  (desc_1, desc_2, desc_3). so that leaves us with the `name` feature."
   ]
  },
  {
   "cell_type": "markdown",
   "metadata": {},
   "source": [
    "#### <b>Conclusion</b>\n",
    "\n",
    "In conclusion, this notebook explores "
   ]
  },
  {
   "cell_type": "markdown",
   "metadata": {},
   "source": [
    "#### <b>Resources</b>\n",
    "- [1] Coffee Reviews Dataset by https://www.kaggle.com/datasets/schmoyote/coffee-reviews-dataset?select=coffee_analysis.csv\n",
    "- [2] The halo effect, https://en.wikipedia.org/wiki/Halo_effect\n",
    "- [3] Pearson Correlation interpretation, https://www.researchgate.net/figure/The-scale-of-Pearsons-Correlation-Coefficient_tbl1_345693737\n",
    "- [4] what is high cardinality?, https://chronosphere.io/learn/what-is-high-cardinality/\n",
    "- [5] Scatter Plot interpretation 2010, https://www.slideshare.net/shrey8916/scatter-diagram-39314392\n",
    "- [6] understanding cardinality and selectivity, https://developer.couchbase.com/tutorial-understanding-cardinality-and-selectivity\n",
    "- [3] Statics unplugged"
   ]
  }
 ],
 "metadata": {
  "kernelspec": {
   "display_name": "Python 3 (ipykernel)",
   "language": "python",
   "name": "python3"
  },
  "language_info": {
   "codemirror_mode": {
    "name": "ipython",
    "version": 3
   },
   "file_extension": ".py",
   "mimetype": "text/x-python",
   "name": "python",
   "nbconvert_exporter": "python",
   "pygments_lexer": "ipython3",
   "version": "3.12.2"
  }
 },
 "nbformat": 4,
 "nbformat_minor": 2
}
