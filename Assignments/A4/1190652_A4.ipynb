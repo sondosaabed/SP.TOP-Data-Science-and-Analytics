{
 "cells": [
  {
   "cell_type": "markdown",
   "metadata": {},
   "source": [
    "    Department Of Computer Science\n",
    "    COMP4381, SP.TOP: DATA SCIENCE AND ANALYTICS\n",
    "    Dr. Hussein Soboh\n",
    "    COMP4381 | Section 1 "
   ]
  },
  {
   "cell_type": "markdown",
   "metadata": {},
   "source": [
    "## <div align=center> Assignment #4 </div>\n",
    "\n",
    "<div align=center>Title</div>\n",
    "\n",
    "    Prepeared by: Sondos Aabed\n",
    "    ID: 1190652"
   ]
  },
  {
   "cell_type": "markdown",
   "metadata": {},
   "source": [
    "#### <b>Abstract</b>\n",
    "This notebook is written as part of the Data Science and Analytics coursework By Dr. Hussein Suboh. Were a "
   ]
  },
  {
   "cell_type": "markdown",
   "metadata": {},
   "source": [
    "#### <b>Table of Contents</b>\n",
    "- <b>Introduction</b>\n",
    "    - About this dataset\n",
    "- <b>Objectives</b>\n",
    "- <b>Theory</b>\n",
    "    - Pandas Dataframe\n",
    "    - Data types\n",
    "    - Correlation\n",
    "    - Index Feature\n",
    "- <b>Software Versions</b>\n",
    "- <b>Analysis</b>\n",
    "    - Data Loading\n",
    "    - Data Description and Columns\n",
    "    - Data Exploratuin\n",
    "        - Shape\n",
    "        - Missing Values\n",
    "        - Outliers\n",
    "        - Data types\n",
    "    - Numerical Features Analysis\n",
    "    - Categorical Feature Analysis\n",
    "    - Correlation Analysis\n",
    "    - Index Feature\n",
    "- <b>Discussion</b>\n",
    "\n",
    "- <b>Conclusion</b>"
   ]
  },
  {
   "cell_type": "markdown",
   "metadata": {},
   "source": [
    "#### <b>List of Figures</b>\n",
    "- Figure 1: \n",
    "- Figure 2: \n",
    "- Figure 3: \n",
    "- Figure 4: "
   ]
  },
  {
   "cell_type": "markdown",
   "metadata": {},
   "source": [
    "#### <b>List of Tables</b>\n",
    "- Table 1: \n",
    "- Table 2: \n",
    "- Table 3: \n",
    "- Table 4: \n",
    "- Table 5: \n",
    "- Table 6: \n",
    "- Table 7: "
   ]
  },
  {
   "cell_type": "markdown",
   "metadata": {},
   "source": [
    "#### <b>Introduction</b>\n",
    "<p>The primary aim of this assignment is </p>"
   ]
  },
  {
   "cell_type": "markdown",
   "metadata": {},
   "source": [
    "##### <b>About this dataset</b>\n",
    "<p>T </p>"
   ]
  },
  {
   "cell_type": "markdown",
   "metadata": {},
   "source": [
    "#### <b>Objectives</b>\n",
    "- To select a Kaggle dataset and describe it.\n",
    "- To load the data files and explore it.\n",
    "- To analyze numerical features.\n",
    "- To analyze categgorical features.\n",
    "- To analyze correlation.\n",
    "- To identify index."
   ]
  },
  {
   "cell_type": "markdown",
   "metadata": {},
   "source": [
    "#### <b>Theory</b>"
   ]
  },
  {
   "cell_type": "markdown",
   "metadata": {},
   "source": [
    "##### <i><b>Data types</b></i>\n",
    "<p></p>"
   ]
  },
  {
   "cell_type": "markdown",
   "metadata": {},
   "source": [
    "##### <i><b>Correlation</b></i>\n",
    "<p></p>"
   ]
  },
  {
   "cell_type": "markdown",
   "metadata": {},
   "source": [
    "##### <i><b>Index Feature</b></i>\n",
    "<p></p>"
   ]
  },
  {
   "cell_type": "markdown",
   "metadata": {},
   "source": [
    "#### <b>Software Tools and Versions</b>\n",
    "\n",
    "The followning table shows the software tools and versions used in this experimnet.\n",
    "\n",
    "Table 2: Software Listenings\n",
    "|Tool | Version |\n",
    "|-----|---------|\n",
    "|Python|3.12.2|\n",
    "|Numpy|1.26.4|\n",
    "|Matplotlib|3.8.2|\n",
    "|Pandas|2.2.1|\n",
    "|Visual Studio Code |Updated|\n",
    "|Git & github|[Repo.](https://github.com/sondosaabed/SP.TOP-Data-Science-and-Analytics/blob/main/Assignments/A4/1190652_A4.ipynb)|"
   ]
  },
  {
   "cell_type": "markdown",
   "metadata": {},
   "source": [
    "#### <b>Analysis</b>\n",
    "In this section the objectives are met using python, were the analysis of the data, results and graphs are presented."
   ]
  },
  {
   "cell_type": "markdown",
   "metadata": {},
   "source": [
    "##### <b>Necessary imports</b>\n",
    "- First we import necessary libraries  "
   ]
  },
  {
   "cell_type": "code",
   "execution_count": 1,
   "metadata": {},
   "outputs": [],
   "source": [
    "import numpy as np\n",
    "from matplotlib import pyplot as plt\n",
    "import numpy.random as random"
   ]
  },
  {
   "cell_type": "markdown",
   "metadata": {},
   "source": [
    "##### <b>Data Loading </b>\n",
    "- This is the first step of the experiment, is to load the dataset from kaggle."
   ]
  },
  {
   "cell_type": "code",
   "execution_count": 2,
   "metadata": {},
   "outputs": [],
   "source": [
    "def load_dataset():\n",
    "    \"\"\"\n",
    "    This is a wrap function that calls the pandas loading file and returns \n",
    "    the dataframe of it.\n",
    "    Args:\n",
    "        \n",
    "    Returns:\n",
    "        (panda.Dataaframe) contains the loaded data\n",
    "    \"\"\"\n",
    "    return 7"
   ]
  },
  {
   "cell_type": "markdown",
   "metadata": {},
   "source": [
    "##### <b>Data Description and Columns </b>\n",
    "- This is the second step of the analysis, "
   ]
  },
  {
   "cell_type": "code",
   "execution_count": null,
   "metadata": {},
   "outputs": [],
   "source": []
  },
  {
   "cell_type": "markdown",
   "metadata": {},
   "source": [
    "##### <b>Data Exploratoin </b>\n",
    "This is the second step of the analysis, "
   ]
  },
  {
   "cell_type": "markdown",
   "metadata": {},
   "source": [
    "- Shape: What is the shape of the data?"
   ]
  },
  {
   "cell_type": "code",
   "execution_count": null,
   "metadata": {},
   "outputs": [],
   "source": []
  },
  {
   "cell_type": "markdown",
   "metadata": {},
   "source": [
    "- Missing values: Does it contain missing values?"
   ]
  },
  {
   "cell_type": "code",
   "execution_count": null,
   "metadata": {},
   "outputs": [],
   "source": []
  },
  {
   "cell_type": "markdown",
   "metadata": {},
   "source": [
    "- Outliers: Does it have outliers"
   ]
  },
  {
   "cell_type": "code",
   "execution_count": null,
   "metadata": {},
   "outputs": [],
   "source": []
  },
  {
   "cell_type": "markdown",
   "metadata": {},
   "source": [
    "- Data types: Which features are numerical, and which are nominal, and which are ordinal ?"
   ]
  },
  {
   "cell_type": "code",
   "execution_count": null,
   "metadata": {},
   "outputs": [],
   "source": []
  },
  {
   "cell_type": "markdown",
   "metadata": {},
   "source": [
    "- Visulaization of "
   ]
  },
  {
   "cell_type": "code",
   "execution_count": null,
   "metadata": {},
   "outputs": [],
   "source": [
    "def relationship_plot(x_data, y_data, x_label, y_label):\n",
    "    \"\"\"\n",
    "    This function plots the relationship between two varailes.\n",
    "    Args:\n",
    "        x_data (1D array): conatins y data\n",
    "        y_data (1D array): conatins x data\n",
    "        x_label (str): \n",
    "        y_label (str):\n",
    "    Returns:\n",
    "        Nothing, plots the relationship using line plot\n",
    "    \"\"\"\n",
    "    plt.plot(x_data, y_data)\n",
    "    plt.xlabel(x_label)\n",
    "    plt.ylabel(y_label)\n",
    "    title = x_label + \"Vs.\" + y_label\n",
    "    plt.title(title) \n",
    "    plt.show()\n",
    "    plt.show()"
   ]
  },
  {
   "cell_type": "markdown",
   "metadata": {},
   "source": [
    "##### <b>Numerical Features Analysis</b>"
   ]
  },
  {
   "cell_type": "code",
   "execution_count": null,
   "metadata": {},
   "outputs": [],
   "source": []
  },
  {
   "cell_type": "markdown",
   "metadata": {},
   "source": [
    "##### <b>Categorical Feature Analysis</b>"
   ]
  },
  {
   "cell_type": "code",
   "execution_count": null,
   "metadata": {},
   "outputs": [],
   "source": []
  },
  {
   "cell_type": "markdown",
   "metadata": {},
   "source": [
    "##### <b>Correlation Analysis</b>"
   ]
  },
  {
   "cell_type": "code",
   "execution_count": null,
   "metadata": {},
   "outputs": [],
   "source": []
  },
  {
   "cell_type": "markdown",
   "metadata": {},
   "source": [
    "##### <b>Index Feature</b>"
   ]
  },
  {
   "cell_type": "code",
   "execution_count": null,
   "metadata": {},
   "outputs": [],
   "source": []
  },
  {
   "cell_type": "markdown",
   "metadata": {},
   "source": [
    "#### <b>Discussion</b>"
   ]
  },
  {
   "cell_type": "markdown",
   "metadata": {},
   "source": [
    "<p><b>Insights on </b></p>\n"
   ]
  },
  {
   "cell_type": "markdown",
   "metadata": {},
   "source": [
    "<p><b>Insights on :</b></p> \n"
   ]
  },
  {
   "cell_type": "markdown",
   "metadata": {},
   "source": [
    "#### <b>Conclusion</b>\n",
    "\n",
    "In conclusion, this notebook explores "
   ]
  },
  {
   "cell_type": "markdown",
   "metadata": {},
   "source": [
    "#### <b>Resources</b>\n",
    "- [2] Markdown table: How to Create a Great Looking Table, by Markdown land, https://markdown.land/markdown-table \n",
    "- [3] Statics unplugged"
   ]
  }
 ],
 "metadata": {
  "kernelspec": {
   "display_name": "Python 3 (ipykernel)",
   "language": "python",
   "name": "python3"
  },
  "language_info": {
   "codemirror_mode": {
    "name": "ipython",
    "version": 3
   },
   "file_extension": ".py",
   "mimetype": "text/x-python",
   "name": "python",
   "nbconvert_exporter": "python",
   "pygments_lexer": "ipython3",
   "version": "3.12.2"
  }
 },
 "nbformat": 4,
 "nbformat_minor": 2
}
