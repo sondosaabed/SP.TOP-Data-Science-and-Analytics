{
 "cells": [
  {
   "cell_type": "markdown",
   "id": "24f7fda5",
   "metadata": {
    "papermill": {
     "duration": 0.01835,
     "end_time": "2024-06-09T21:15:59.598204",
     "exception": false,
     "start_time": "2024-06-09T21:15:59.579854",
     "status": "completed"
    },
    "tags": []
   },
   "source": [
    "    Department Of Computer Science\n",
    "    COMP4381, SP.TOP: DATA SCIENCE AND ANALYTICS\n",
    "    Dr. Hussein Soboh\n",
    "    COMP4381 | Section 1 \n",
    "\n",
    "\n",
    "## <div align=center> Assignment #5 </div>\n",
    "<div align=center><b>Analyis of a UK-based online retail transactions </b></div>\n",
    "<div align=center>Occurring between 01/12/2009 and 09/12/2011</div>\n",
    "\n",
    "<a href=\"https://www.kaggle.com/datasets/mashlyn/online-retail-ii-uci\">https://www.kaggle.com/datasets/mashlyn/online-retail-ii-uci</a>\n",
    "\n",
    "    Prepeared by: Sondos Aabed   \n",
    "    ID: 1190652\n",
    "<a id='intro'></a>\n",
    "<hr>"
   ]
  },
  {
   "cell_type": "markdown",
   "id": "86d3b00c",
   "metadata": {
    "papermill": {
     "duration": 0.017732,
     "end_time": "2024-06-09T21:15:59.634973",
     "exception": false,
     "start_time": "2024-06-09T21:15:59.617241",
     "status": "completed"
    },
    "tags": []
   },
   "source": [
    "**Dear Online Retail company representative,**\n",
    "\n",
    "The follwing report is written to inform you about the analysis results condocted on the data collected between 01/12/2009 and 09/12/2011 from your UK-based online retail transactions. \n",
    "\n",
    "In this analysis report, several key aspects based on your requirements provided earlier are addressed:\n",
    "\n",
    "1. **Top 5 invoices based on their Total sales**\n",
    "2. **Top 5 customers based on their Total buying**\n",
    "3. **Top 5 Selling Items during that Period**\n",
    "4. **Top 20 Pairs, Most Frequently Purchased Item Pairs by Customers**\n",
    "5. **Recommendations for a New Promotion Targeting Items with Low Sales Volume**\n",
    "\n",
    "Please note that this report follows the follwing structure, and you are able to get back up within the notebook.\n",
    "\n",
    "- Your question and its corresponding number.\n",
    "- Code cell(s) implementing the necessary calculations and data manipulations. (as a non-technincal reveiwer you can look at the results and the onterpretation)\n",
    "- Markdown cell presenting the results obtained and providing interpretation.\n",
    "- You can also check the table of contents, list of figures, and list of tables.\n",
    "\n",
    "For your information, a random sample of 200k rows from the dataset using (1190652) as the seed to ensure reproducibility.\n",
    "\n",
    "Insights of this analysis will help in strategic decisions for optimizing sales and customer satisfaction.\n",
    "\n",
    "Should you have any further queries or require additional clarifications, please do not hesitate to reach out.\n",
    "\n",
    "Best regards,\n",
    "\n",
    "<i>Sondos Aabed,</i>\n",
    "\n",
    "<hr>"
   ]
  },
  {
   "cell_type": "markdown",
   "id": "a12b5a8a",
   "metadata": {
    "papermill": {
     "duration": 0.018766,
     "end_time": "2024-06-09T21:15:59.671342",
     "exception": false,
     "start_time": "2024-06-09T21:15:59.652576",
     "status": "completed"
    },
    "tags": []
   },
   "source": [
    "#### <b>Table of Contents</b>\n",
    "- <b>Introduction</b>\n",
    "- <b>Objectives</b>\n",
    "- <b>Software Listings</b>\n",
    "- <b>Dataset Analysis</b>\n",
    "    - Load and Sample Data\n",
    "    - Dataset Initial Exploration\n",
    "    - Date and total price handling\n",
    "    - Visualization\n",
    "    - Queries\n",
    "- <b>Conclusion</b>\n",
    "- <b>Refrences</b>\n",
    "\n",
    "#### <b>List of Figures</b>\n",
    "- Figure 1: Total Sales and Canceled Invoices\n",
    "- Figure 2: Number of Invoices Over Months\n",
    "- Figure 3: Word Cloud of Product Descriptions\n",
    "\n",
    "#### <b>List of Tables</b>\n",
    "- Table 0: Attributes Information\n",
    "- Table 1: Software Litening\n",
    "- Table 2: Standard Error of Means for numerical columns\n",
    "- Table 3: Dataset Head\n",
    "- Table 4: Dataset Tail\n",
    "- Table 5: Dataset Numerical Describtion\n",
    "- Table 6: Missing Values By Percentage \n",
    "- Table 7: Dataset Columns Data types\n",
    "- Table 8: Number of uniques in the datasets\n",
    "- Table 9: Top 5 invoices\n",
    "- Table 10: Top 5 customers\n",
    "<hr>"
   ]
  },
  {
   "cell_type": "markdown",
   "id": "2a0fa547",
   "metadata": {
    "papermill": {
     "duration": 0.017235,
     "end_time": "2024-06-09T21:15:59.706592",
     "exception": false,
     "start_time": "2024-06-09T21:15:59.689357",
     "status": "completed"
    },
    "tags": []
   },
   "source": [
    "#### <b>Introduction</b>\n",
    "\n",
    "Understanding customer behavior and transactional patterns in this evolving era of online retail, is essential for driving strategic decision-making and optimizing sales strategies. This analysis notebook to explore UK-based online retail transactions from December 1st, 2009, to December 9th, 2011. The dataset has all-occasion gift-ware sales, providing consumer preferences, purchasing habits, and market trends within the specified timeframe.\n",
    "\n",
    "<b>Table 0:</b> Attribute Information: [3]\n",
    "\n",
    "|Attribute |Data Type| Describtion |\n",
    "|-----|------|------|\n",
    "|InvoiceNo|Nominal|A 6-digit integral number uniquely assigned to each transaction. If this code starts with the letter 'c', it indicates a cancellation.|\n",
    "|StockCode|Nominal|A 5-digit integral number uniquely assigned to each distinct product|\n",
    "|Description|Nominal|Product (item) name|\n",
    "|Quantity|Numeric|The quantities of each product (item) per transaction|\n",
    "|InvoiceDate|Numeric|The day and time when a transaction was generated|\n",
    "|UnitPrice|Numeric|Product price per unit in sterling (Â£)|\n",
    "|CustomerID|Nominal|A 5-digit integral number uniquely assigned to each customer|\n",
    "|Country|Nominal|The name of the country where a customer resides|\n",
    "\n",
    "<hr>"
   ]
  },
  {
   "cell_type": "markdown",
   "id": "ca2f43e9",
   "metadata": {
    "papermill": {
     "duration": 0.017184,
     "end_time": "2024-06-09T21:15:59.741867",
     "exception": false,
     "start_time": "2024-06-09T21:15:59.724683",
     "status": "completed"
    },
    "tags": []
   },
   "source": [
    "#### <b>Objectives</b>\n",
    "[Back](#intro)\n",
    "\n",
    "- Randomly sample 200k rows from the dataset.\n",
    "- Explore the dataset.\n",
    "- Get insights from queries:\n",
    "    - Get total sales per invoice and identify the top 5 invoices.\n",
    "    - Compute total sales per customer and list the top 5 customers.\n",
    "    - Identify the top 5 selling items during the specified period.\n",
    "    - Determine the most frequently purchased item pairs by customers and display the top 20 pairs.\n",
    "    - Recommend 10 pairs of items for a new promotion targeting items with low sales volume.\n",
    "    \n",
    "<hr>"
   ]
  },
  {
   "cell_type": "markdown",
   "id": "128bafd8",
   "metadata": {
    "papermill": {
     "duration": 0.017087,
     "end_time": "2024-06-09T21:15:59.776332",
     "exception": false,
     "start_time": "2024-06-09T21:15:59.759245",
     "status": "completed"
    },
    "tags": []
   },
   "source": [
    "#### <b>Software Listing</b>\n",
    "[Back](#intro)\n",
    "\n",
    "The followning table shows the software tools and versions used in this experimnet.\n",
    "\n",
    "Table 1: Software Listenings\n",
    "\n",
    "|Tool | Version |\n",
    "|-----|---------|\n",
    "|Python|3.12.2|\n",
    "|Numpy|1.26.4|\n",
    "|Matplotlib|3.8.2|\n",
    "|Pandas|2.2.1|\n",
    "|Visual Studio Code |Updated|\n",
    "|Git & github|[Repo.](https://github.com/sondosaabed/SP.TOP-Data-Science-and-Analytics/blob/main/Assignments/A4/1190652_A4.ipynb)|\n",
    "\n",
    "<hr>"
   ]
  },
  {
   "cell_type": "markdown",
   "id": "e411987b",
   "metadata": {
    "papermill": {
     "duration": 0.01885,
     "end_time": "2024-06-09T21:15:59.814424",
     "exception": false,
     "start_time": "2024-06-09T21:15:59.795574",
     "status": "completed"
    },
    "tags": []
   },
   "source": [
    "#### <b>Dataset Analysis</b>\n",
    "[Back](#intro)"
   ]
  },
  {
   "cell_type": "markdown",
   "id": "4acb568e",
   "metadata": {
    "papermill": {
     "duration": 0.017163,
     "end_time": "2024-06-09T21:15:59.849295",
     "exception": false,
     "start_time": "2024-06-09T21:15:59.832132",
     "status": "completed"
    },
    "tags": []
   },
   "source": [
    "- Neccessary Imports"
   ]
  },
  {
   "cell_type": "code",
   "execution_count": 1,
   "id": "56d67b81",
   "metadata": {
    "execution": {
     "iopub.execute_input": "2024-06-09T21:15:59.889022Z",
     "iopub.status.busy": "2024-06-09T21:15:59.888511Z",
     "iopub.status.idle": "2024-06-09T21:16:02.709824Z",
     "shell.execute_reply": "2024-06-09T21:16:02.708649Z"
    },
    "papermill": {
     "duration": 2.844447,
     "end_time": "2024-06-09T21:16:02.712689",
     "exception": false,
     "start_time": "2024-06-09T21:15:59.868242",
     "status": "completed"
    },
    "tags": []
   },
   "outputs": [],
   "source": [
    "import pandas as pd\n",
    "import numpy as np\n",
    "import matplotlib.pyplot as plt\n",
    "from IPython.display import display\n",
    "import seaborn as sns\n",
    "from wordcloud import WordCloud"
   ]
  },
  {
   "cell_type": "markdown",
   "id": "62992365",
   "metadata": {
    "papermill": {
     "duration": 0.017499,
     "end_time": "2024-06-09T21:16:02.747855",
     "exception": false,
     "start_time": "2024-06-09T21:16:02.730356",
     "status": "completed"
    },
    "tags": []
   },
   "source": [
    "><b>Loading Data and Sampling</b>"
   ]
  },
  {
   "cell_type": "markdown",
   "id": "b11f2c21",
   "metadata": {
    "papermill": {
     "duration": 0.01757,
     "end_time": "2024-06-09T21:16:02.783645",
     "exception": false,
     "start_time": "2024-06-09T21:16:02.766075",
     "status": "completed"
    },
    "tags": []
   },
   "source": [
    "- Read a 200k sample with 1190652 random seed, and calculate sample error"
   ]
  },
  {
   "cell_type": "code",
   "execution_count": 2,
   "id": "d6c95359",
   "metadata": {
    "execution": {
     "iopub.execute_input": "2024-06-09T21:16:02.822381Z",
     "iopub.status.busy": "2024-06-09T21:16:02.821824Z",
     "iopub.status.idle": "2024-06-09T21:16:02.829510Z",
     "shell.execute_reply": "2024-06-09T21:16:02.828196Z"
    },
    "papermill": {
     "duration": 0.030652,
     "end_time": "2024-06-09T21:16:02.832249",
     "exception": false,
     "start_time": "2024-06-09T21:16:02.801597",
     "status": "completed"
    },
    "tags": []
   },
   "outputs": [],
   "source": [
    "def read_sample(sample_size = 200000, path='/kaggle/input/online-retail-ii-uci/online_retail_II.csv', seed = 1190652):\n",
    "    \"\"\"\n",
    "    Read a csv file into dataframe and take a sample\n",
    "    Args:\n",
    "        path (str): the path of the dataset takes a deafult value (relative path)\n",
    "        seed (int): the seed for randomness so each time it have the same random selcetd\n",
    "    Returns:\n",
    "        sample (pd.Dataframe): sample taken from the read df with specific seed\n",
    "    \"\"\"\n",
    "    df = pd.read_csv(path)\n",
    "    sample = df.sample(sample_size, random_state=seed)\n",
    "    return df, sample"
   ]
  },
  {
   "cell_type": "code",
   "execution_count": 3,
   "id": "6225dd4f",
   "metadata": {
    "execution": {
     "iopub.execute_input": "2024-06-09T21:16:02.870132Z",
     "iopub.status.busy": "2024-06-09T21:16:02.869217Z",
     "iopub.status.idle": "2024-06-09T21:16:06.290448Z",
     "shell.execute_reply": "2024-06-09T21:16:06.289044Z"
    },
    "papermill": {
     "duration": 3.443972,
     "end_time": "2024-06-09T21:16:06.293902",
     "exception": false,
     "start_time": "2024-06-09T21:16:02.849930",
     "status": "completed"
    },
    "tags": []
   },
   "outputs": [
    {
     "name": "stdout",
     "output_type": "stream",
     "text": [
      "Table 2: Standard Error of Means for numerical columns:\n"
     ]
    },
    {
     "data": {
      "text/html": [
       "<div>\n",
       "<style scoped>\n",
       "    .dataframe tbody tr th:only-of-type {\n",
       "        vertical-align: middle;\n",
       "    }\n",
       "\n",
       "    .dataframe tbody tr th {\n",
       "        vertical-align: top;\n",
       "    }\n",
       "\n",
       "    .dataframe thead th {\n",
       "        text-align: right;\n",
       "    }\n",
       "</style>\n",
       "<table border=\"1\" class=\"dataframe\">\n",
       "  <thead>\n",
       "    <tr style=\"text-align: right;\">\n",
       "      <th></th>\n",
       "      <th>SEM</th>\n",
       "    </tr>\n",
       "  </thead>\n",
       "  <tbody>\n",
       "    <tr>\n",
       "      <th>Quantity</th>\n",
       "      <td>0.413771</td>\n",
       "    </tr>\n",
       "    <tr>\n",
       "      <th>Price</th>\n",
       "      <td>0.287015</td>\n",
       "    </tr>\n",
       "    <tr>\n",
       "      <th>Customer ID</th>\n",
       "      <td>4.313394</td>\n",
       "    </tr>\n",
       "  </tbody>\n",
       "</table>\n",
       "</div>"
      ],
      "text/plain": [
       "                  SEM\n",
       "Quantity     0.413771\n",
       "Price        0.287015\n",
       "Customer ID  4.313394"
      ]
     },
     "metadata": {},
     "output_type": "display_data"
    }
   ],
   "source": [
    "df, sample = read_sample()\n",
    "sem = pd.DataFrame(sample.sem(numeric_only= True), columns=['SEM'])\n",
    "print(\"Table 2: Standard Error of Means for numerical columns:\")\n",
    "display(sem)"
   ]
  },
  {
   "cell_type": "markdown",
   "id": "6b5af598",
   "metadata": {
    "papermill": {
     "duration": 0.018394,
     "end_time": "2024-06-09T21:16:06.331354",
     "exception": false,
     "start_time": "2024-06-09T21:16:06.312960",
     "status": "completed"
    },
    "tags": []
   },
   "source": [
    "***Interpretaion***\n",
    "\n",
    "A sample of 200k is taken from 1,067,371 population. To quantize how accurate the sample represnts the population the standard error of means measurment is taken. For the Quantity Column the SEM is 0.413771 and it is relativly low and it is accepted. As for the Price coulmn it has 0.287015 SEM and it is relativly low and accepted. Finalyy the Customer ID column (the customer ID has unique values) this is the highest SEM it's value is 4.313394 this might affect the for example (loyalty analysis) and personalized marketing. \n",
    "\n",
    "> This might not be the best way to get Top 5 cutomers and Top 5 items, hence some queries will be called on the whole population.\n"
   ]
  },
  {
   "cell_type": "markdown",
   "id": "359cf559",
   "metadata": {
    "papermill": {
     "duration": 0.01785,
     "end_time": "2024-06-09T21:16:06.368165",
     "exception": false,
     "start_time": "2024-06-09T21:16:06.350315",
     "status": "completed"
    },
    "tags": []
   },
   "source": [
    "> <b>Dataset Exploration</b>"
   ]
  },
  {
   "cell_type": "markdown",
   "id": "e9f6695a",
   "metadata": {
    "papermill": {
     "duration": 0.018729,
     "end_time": "2024-06-09T21:16:06.405664",
     "exception": false,
     "start_time": "2024-06-09T21:16:06.386935",
     "status": "completed"
    },
    "tags": []
   },
   "source": [
    "- Get the missing Values percentages"
   ]
  },
  {
   "cell_type": "code",
   "execution_count": 4,
   "id": "9f62d574",
   "metadata": {
    "execution": {
     "iopub.execute_input": "2024-06-09T21:16:06.446298Z",
     "iopub.status.busy": "2024-06-09T21:16:06.445888Z",
     "iopub.status.idle": "2024-06-09T21:16:06.453072Z",
     "shell.execute_reply": "2024-06-09T21:16:06.451820Z"
    },
    "papermill": {
     "duration": 0.031323,
     "end_time": "2024-06-09T21:16:06.455683",
     "exception": false,
     "start_time": "2024-06-09T21:16:06.424360",
     "status": "completed"
    },
    "tags": []
   },
   "outputs": [],
   "source": [
    "def missing_values(df):\n",
    "    \"\"\"\n",
    "    This is to get the percetages of missing data\n",
    "    Args:\n",
    "        df (pd.Dataframe): contains the data\n",
    "    Returns:\n",
    "        missing_percetanges(pd.Dataframe): contains Column,\tCounts, and\tPercentage\n",
    "            of the missing values for eah colmn\n",
    "    \"\"\"\n",
    "    missing_count = df.isnull().sum()\n",
    "    missing_percetanges = pd.DataFrame({\n",
    "        'Column': missing_count.index,\n",
    "        'Counts': missing_count.values,\n",
    "        'Percentage': missing_count.values / len(df) * 100  \n",
    "    })\n",
    "    return  missing_percetanges"
   ]
  },
  {
   "cell_type": "markdown",
   "id": "eb6b49e1",
   "metadata": {
    "papermill": {
     "duration": 0.019122,
     "end_time": "2024-06-09T21:16:06.493905",
     "exception": false,
     "start_time": "2024-06-09T21:16:06.474783",
     "status": "completed"
    },
    "tags": []
   },
   "source": [
    "- Explore the data including: head, tail, number of uniques, number of NA, statistical describtion for numerical, and data types"
   ]
  },
  {
   "cell_type": "code",
   "execution_count": 5,
   "id": "c78ea4cf",
   "metadata": {
    "execution": {
     "iopub.execute_input": "2024-06-09T21:16:06.532299Z",
     "iopub.status.busy": "2024-06-09T21:16:06.531736Z",
     "iopub.status.idle": "2024-06-09T21:16:06.540158Z",
     "shell.execute_reply": "2024-06-09T21:16:06.539129Z"
    },
    "papermill": {
     "duration": 0.030842,
     "end_time": "2024-06-09T21:16:06.542927",
     "exception": false,
     "start_time": "2024-06-09T21:16:06.512085",
     "status": "completed"
    },
    "tags": []
   },
   "outputs": [],
   "source": [
    "def explore_sample(sample):\n",
    "    \"\"\"\n",
    "    Exploring a dataset sample\n",
    "    Args:\n",
    "        sample (pd.Dataframe): the dataset sample to explore.\n",
    "    Returns:\n",
    "        results (dict): containing results of each exploration with the title as key\n",
    "    \"\"\"\n",
    "    head = pd.DataFrame(sample.head())\n",
    "    tail = pd.DataFrame(sample.tail())\n",
    "    nunique = pd.DataFrame(sample.nunique(), columns=[\"#_of_Unique\"])\n",
    "    describe = pd.DataFrame(sample.describe())\n",
    "    dtypes =  pd.DataFrame(sample.dtypes, columns=[\"Datatype\"])\n",
    "    results = {\n",
    "        'Table 3: Dataset Head:':head,\n",
    "        'Table 4: Dataset Tail:':tail,\n",
    "        'Table 5: Dataset Numerical Describtion: ':describe,\n",
    "        'Table 6: Missing Values By Percentage': missing_values(sample), \n",
    "        'Table 7: Dataset Columns Data types: ':dtypes,\n",
    "        'Table 8: Number of uniques in the datasets:':nunique}\n",
    "    return results"
   ]
  },
  {
   "cell_type": "markdown",
   "id": "7e92ff2c",
   "metadata": {
    "papermill": {
     "duration": 0.017835,
     "end_time": "2024-06-09T21:16:06.578870",
     "exception": false,
     "start_time": "2024-06-09T21:16:06.561035",
     "status": "completed"
    },
    "tags": []
   },
   "source": [
    "- Print the dataframes of exploration results."
   ]
  },
  {
   "cell_type": "code",
   "execution_count": 6,
   "id": "782ac96d",
   "metadata": {
    "execution": {
     "iopub.execute_input": "2024-06-09T21:16:06.616865Z",
     "iopub.status.busy": "2024-06-09T21:16:06.616469Z",
     "iopub.status.idle": "2024-06-09T21:16:06.622994Z",
     "shell.execute_reply": "2024-06-09T21:16:06.621866Z"
    },
    "papermill": {
     "duration": 0.028732,
     "end_time": "2024-06-09T21:16:06.625593",
     "exception": false,
     "start_time": "2024-06-09T21:16:06.596861",
     "status": "completed"
    },
    "tags": []
   },
   "outputs": [],
   "source": [
    "def print_sample_exploration(results):\n",
    "    \"\"\"\n",
    "    Prints a beautufil display of each of the exploration dataframe\n",
    "    Args:\n",
    "        results (dict): contains exploration outputs with the title as key\n",
    "    Returns:\n",
    "        nothing\n",
    "    \"\"\"\n",
    "    for operation, dataframe in results.items():\n",
    "        print(f\"{operation}\")\n",
    "        if operation == 'Table 6: Missing Values By Percentage':\n",
    "            print(\"Total Sum of Missing Percetange: \", dataframe['Percentage'].sum())\n",
    "        display(dataframe)"
   ]
  },
  {
   "cell_type": "code",
   "execution_count": 7,
   "id": "1730e270",
   "metadata": {
    "execution": {
     "iopub.execute_input": "2024-06-09T21:16:06.664189Z",
     "iopub.status.busy": "2024-06-09T21:16:06.663745Z",
     "iopub.status.idle": "2024-06-09T21:16:07.064639Z",
     "shell.execute_reply": "2024-06-09T21:16:07.063356Z"
    },
    "papermill": {
     "duration": 0.424362,
     "end_time": "2024-06-09T21:16:07.068250",
     "exception": false,
     "start_time": "2024-06-09T21:16:06.643888",
     "status": "completed"
    },
    "tags": []
   },
   "outputs": [
    {
     "name": "stdout",
     "output_type": "stream",
     "text": [
      "Table 3: Dataset Head:\n"
     ]
    },
    {
     "data": {
      "text/html": [
       "<div>\n",
       "<style scoped>\n",
       "    .dataframe tbody tr th:only-of-type {\n",
       "        vertical-align: middle;\n",
       "    }\n",
       "\n",
       "    .dataframe tbody tr th {\n",
       "        vertical-align: top;\n",
       "    }\n",
       "\n",
       "    .dataframe thead th {\n",
       "        text-align: right;\n",
       "    }\n",
       "</style>\n",
       "<table border=\"1\" class=\"dataframe\">\n",
       "  <thead>\n",
       "    <tr style=\"text-align: right;\">\n",
       "      <th></th>\n",
       "      <th>Invoice</th>\n",
       "      <th>StockCode</th>\n",
       "      <th>Description</th>\n",
       "      <th>Quantity</th>\n",
       "      <th>InvoiceDate</th>\n",
       "      <th>Price</th>\n",
       "      <th>Customer ID</th>\n",
       "      <th>Country</th>\n",
       "    </tr>\n",
       "  </thead>\n",
       "  <tbody>\n",
       "    <tr>\n",
       "      <th>803443</th>\n",
       "      <td>561203</td>\n",
       "      <td>22953</td>\n",
       "      <td>BIRTHDAY PARTY CORDON BARRIER TAPE</td>\n",
       "      <td>12</td>\n",
       "      <td>2011-07-25 15:17:00</td>\n",
       "      <td>1.25</td>\n",
       "      <td>14232.0</td>\n",
       "      <td>United Kingdom</td>\n",
       "    </tr>\n",
       "    <tr>\n",
       "      <th>607418</th>\n",
       "      <td>543182</td>\n",
       "      <td>22726</td>\n",
       "      <td>ALARM CLOCK BAKELIKE GREEN</td>\n",
       "      <td>3</td>\n",
       "      <td>2011-02-04 10:40:00</td>\n",
       "      <td>7.46</td>\n",
       "      <td>NaN</td>\n",
       "      <td>United Kingdom</td>\n",
       "    </tr>\n",
       "    <tr>\n",
       "      <th>117428</th>\n",
       "      <td>500567</td>\n",
       "      <td>47586A</td>\n",
       "      <td>PINK FAIRY CAKE CUSHION COVER</td>\n",
       "      <td>24</td>\n",
       "      <td>2010-03-08 15:49:00</td>\n",
       "      <td>0.85</td>\n",
       "      <td>13694.0</td>\n",
       "      <td>United Kingdom</td>\n",
       "    </tr>\n",
       "    <tr>\n",
       "      <th>299616</th>\n",
       "      <td>518570</td>\n",
       "      <td>35961</td>\n",
       "      <td>FOLKART ZINC HEART CHRISTMAS DEC</td>\n",
       "      <td>1</td>\n",
       "      <td>2010-08-10 11:49:00</td>\n",
       "      <td>1.66</td>\n",
       "      <td>NaN</td>\n",
       "      <td>United Kingdom</td>\n",
       "    </tr>\n",
       "    <tr>\n",
       "      <th>613909</th>\n",
       "      <td>543803</td>\n",
       "      <td>22525</td>\n",
       "      <td>CHILDRENS GARDEN GLOVES PINK</td>\n",
       "      <td>5</td>\n",
       "      <td>2011-02-13 12:05:00</td>\n",
       "      <td>1.25</td>\n",
       "      <td>17126.0</td>\n",
       "      <td>United Kingdom</td>\n",
       "    </tr>\n",
       "  </tbody>\n",
       "</table>\n",
       "</div>"
      ],
      "text/plain": [
       "       Invoice StockCode                         Description  Quantity  \\\n",
       "803443  561203     22953  BIRTHDAY PARTY CORDON BARRIER TAPE        12   \n",
       "607418  543182     22726          ALARM CLOCK BAKELIKE GREEN         3   \n",
       "117428  500567    47586A       PINK FAIRY CAKE CUSHION COVER        24   \n",
       "299616  518570     35961    FOLKART ZINC HEART CHRISTMAS DEC         1   \n",
       "613909  543803     22525        CHILDRENS GARDEN GLOVES PINK         5   \n",
       "\n",
       "                InvoiceDate  Price  Customer ID         Country  \n",
       "803443  2011-07-25 15:17:00   1.25      14232.0  United Kingdom  \n",
       "607418  2011-02-04 10:40:00   7.46          NaN  United Kingdom  \n",
       "117428  2010-03-08 15:49:00   0.85      13694.0  United Kingdom  \n",
       "299616  2010-08-10 11:49:00   1.66          NaN  United Kingdom  \n",
       "613909  2011-02-13 12:05:00   1.25      17126.0  United Kingdom  "
      ]
     },
     "metadata": {},
     "output_type": "display_data"
    },
    {
     "name": "stdout",
     "output_type": "stream",
     "text": [
      "Table 4: Dataset Tail:\n"
     ]
    },
    {
     "data": {
      "text/html": [
       "<div>\n",
       "<style scoped>\n",
       "    .dataframe tbody tr th:only-of-type {\n",
       "        vertical-align: middle;\n",
       "    }\n",
       "\n",
       "    .dataframe tbody tr th {\n",
       "        vertical-align: top;\n",
       "    }\n",
       "\n",
       "    .dataframe thead th {\n",
       "        text-align: right;\n",
       "    }\n",
       "</style>\n",
       "<table border=\"1\" class=\"dataframe\">\n",
       "  <thead>\n",
       "    <tr style=\"text-align: right;\">\n",
       "      <th></th>\n",
       "      <th>Invoice</th>\n",
       "      <th>StockCode</th>\n",
       "      <th>Description</th>\n",
       "      <th>Quantity</th>\n",
       "      <th>InvoiceDate</th>\n",
       "      <th>Price</th>\n",
       "      <th>Customer ID</th>\n",
       "      <th>Country</th>\n",
       "    </tr>\n",
       "  </thead>\n",
       "  <tbody>\n",
       "    <tr>\n",
       "      <th>107865</th>\n",
       "      <td>499765</td>\n",
       "      <td>21916</td>\n",
       "      <td>SET 12 RETRO WHITE CHALK STICKS</td>\n",
       "      <td>1</td>\n",
       "      <td>2010-03-02 13:15:00</td>\n",
       "      <td>0.81</td>\n",
       "      <td>NaN</td>\n",
       "      <td>United Kingdom</td>\n",
       "    </tr>\n",
       "    <tr>\n",
       "      <th>1000423</th>\n",
       "      <td>576857</td>\n",
       "      <td>23102</td>\n",
       "      <td>SILVER HEARTS TABLE DECORATION</td>\n",
       "      <td>2</td>\n",
       "      <td>2011-11-16 15:52:00</td>\n",
       "      <td>0.83</td>\n",
       "      <td>12748.0</td>\n",
       "      <td>United Kingdom</td>\n",
       "    </tr>\n",
       "    <tr>\n",
       "      <th>827091</th>\n",
       "      <td>563350</td>\n",
       "      <td>22111</td>\n",
       "      <td>SCOTTIE DOG HOT WATER BOTTLE</td>\n",
       "      <td>2</td>\n",
       "      <td>2011-08-15 14:10:00</td>\n",
       "      <td>4.95</td>\n",
       "      <td>14498.0</td>\n",
       "      <td>United Kingdom</td>\n",
       "    </tr>\n",
       "    <tr>\n",
       "      <th>553404</th>\n",
       "      <td>538576</td>\n",
       "      <td>21187</td>\n",
       "      <td>WHITE BELL HONEYCOMB PAPER GARLAND</td>\n",
       "      <td>2</td>\n",
       "      <td>2010-12-13 11:29:00</td>\n",
       "      <td>1.65</td>\n",
       "      <td>14498.0</td>\n",
       "      <td>United Kingdom</td>\n",
       "    </tr>\n",
       "    <tr>\n",
       "      <th>47491</th>\n",
       "      <td>493817</td>\n",
       "      <td>21306</td>\n",
       "      <td>SET/4 DAISY MIRROR MAGNETS</td>\n",
       "      <td>6</td>\n",
       "      <td>2010-01-07 12:22:00</td>\n",
       "      <td>2.10</td>\n",
       "      <td>16641.0</td>\n",
       "      <td>United Kingdom</td>\n",
       "    </tr>\n",
       "  </tbody>\n",
       "</table>\n",
       "</div>"
      ],
      "text/plain": [
       "        Invoice StockCode                          Description  Quantity  \\\n",
       "107865   499765     21916      SET 12 RETRO WHITE CHALK STICKS         1   \n",
       "1000423  576857     23102       SILVER HEARTS TABLE DECORATION         2   \n",
       "827091   563350     22111         SCOTTIE DOG HOT WATER BOTTLE         2   \n",
       "553404   538576     21187  WHITE BELL HONEYCOMB PAPER GARLAND          2   \n",
       "47491    493817     21306           SET/4 DAISY MIRROR MAGNETS         6   \n",
       "\n",
       "                 InvoiceDate  Price  Customer ID         Country  \n",
       "107865   2010-03-02 13:15:00   0.81          NaN  United Kingdom  \n",
       "1000423  2011-11-16 15:52:00   0.83      12748.0  United Kingdom  \n",
       "827091   2011-08-15 14:10:00   4.95      14498.0  United Kingdom  \n",
       "553404   2010-12-13 11:29:00   1.65      14498.0  United Kingdom  \n",
       "47491    2010-01-07 12:22:00   2.10      16641.0  United Kingdom  "
      ]
     },
     "metadata": {},
     "output_type": "display_data"
    },
    {
     "name": "stdout",
     "output_type": "stream",
     "text": [
      "Table 5: Dataset Numerical Describtion: \n"
     ]
    },
    {
     "data": {
      "text/html": [
       "<div>\n",
       "<style scoped>\n",
       "    .dataframe tbody tr th:only-of-type {\n",
       "        vertical-align: middle;\n",
       "    }\n",
       "\n",
       "    .dataframe tbody tr th {\n",
       "        vertical-align: top;\n",
       "    }\n",
       "\n",
       "    .dataframe thead th {\n",
       "        text-align: right;\n",
       "    }\n",
       "</style>\n",
       "<table border=\"1\" class=\"dataframe\">\n",
       "  <thead>\n",
       "    <tr style=\"text-align: right;\">\n",
       "      <th></th>\n",
       "      <th>Quantity</th>\n",
       "      <th>Price</th>\n",
       "      <th>Customer ID</th>\n",
       "    </tr>\n",
       "  </thead>\n",
       "  <tbody>\n",
       "    <tr>\n",
       "      <th>count</th>\n",
       "      <td>200000.000000</td>\n",
       "      <td>200000.000000</td>\n",
       "      <td>154545.000000</td>\n",
       "    </tr>\n",
       "    <tr>\n",
       "      <th>mean</th>\n",
       "      <td>9.487405</td>\n",
       "      <td>4.505168</td>\n",
       "      <td>15324.988269</td>\n",
       "    </tr>\n",
       "    <tr>\n",
       "      <th>std</th>\n",
       "      <td>185.044141</td>\n",
       "      <td>128.357150</td>\n",
       "      <td>1695.690684</td>\n",
       "    </tr>\n",
       "    <tr>\n",
       "      <th>min</th>\n",
       "      <td>-74215.000000</td>\n",
       "      <td>-44031.790000</td>\n",
       "      <td>12346.000000</td>\n",
       "    </tr>\n",
       "    <tr>\n",
       "      <th>25%</th>\n",
       "      <td>1.000000</td>\n",
       "      <td>1.250000</td>\n",
       "      <td>13975.000000</td>\n",
       "    </tr>\n",
       "    <tr>\n",
       "      <th>50%</th>\n",
       "      <td>3.000000</td>\n",
       "      <td>2.100000</td>\n",
       "      <td>15251.000000</td>\n",
       "    </tr>\n",
       "    <tr>\n",
       "      <th>75%</th>\n",
       "      <td>10.000000</td>\n",
       "      <td>4.130000</td>\n",
       "      <td>16797.000000</td>\n",
       "    </tr>\n",
       "    <tr>\n",
       "      <th>max</th>\n",
       "      <td>12960.000000</td>\n",
       "      <td>18910.690000</td>\n",
       "      <td>18287.000000</td>\n",
       "    </tr>\n",
       "  </tbody>\n",
       "</table>\n",
       "</div>"
      ],
      "text/plain": [
       "            Quantity          Price    Customer ID\n",
       "count  200000.000000  200000.000000  154545.000000\n",
       "mean        9.487405       4.505168   15324.988269\n",
       "std       185.044141     128.357150    1695.690684\n",
       "min    -74215.000000  -44031.790000   12346.000000\n",
       "25%         1.000000       1.250000   13975.000000\n",
       "50%         3.000000       2.100000   15251.000000\n",
       "75%        10.000000       4.130000   16797.000000\n",
       "max     12960.000000   18910.690000   18287.000000"
      ]
     },
     "metadata": {},
     "output_type": "display_data"
    },
    {
     "name": "stdout",
     "output_type": "stream",
     "text": [
      "Table 6: Missing Values By Percentage\n",
      "Total Sum of Missing Percetange:  23.136499999999998\n"
     ]
    },
    {
     "data": {
      "text/html": [
       "<div>\n",
       "<style scoped>\n",
       "    .dataframe tbody tr th:only-of-type {\n",
       "        vertical-align: middle;\n",
       "    }\n",
       "\n",
       "    .dataframe tbody tr th {\n",
       "        vertical-align: top;\n",
       "    }\n",
       "\n",
       "    .dataframe thead th {\n",
       "        text-align: right;\n",
       "    }\n",
       "</style>\n",
       "<table border=\"1\" class=\"dataframe\">\n",
       "  <thead>\n",
       "    <tr style=\"text-align: right;\">\n",
       "      <th></th>\n",
       "      <th>Column</th>\n",
       "      <th>Counts</th>\n",
       "      <th>Percentage</th>\n",
       "    </tr>\n",
       "  </thead>\n",
       "  <tbody>\n",
       "    <tr>\n",
       "      <th>0</th>\n",
       "      <td>Invoice</td>\n",
       "      <td>0</td>\n",
       "      <td>0.0000</td>\n",
       "    </tr>\n",
       "    <tr>\n",
       "      <th>1</th>\n",
       "      <td>StockCode</td>\n",
       "      <td>0</td>\n",
       "      <td>0.0000</td>\n",
       "    </tr>\n",
       "    <tr>\n",
       "      <th>2</th>\n",
       "      <td>Description</td>\n",
       "      <td>818</td>\n",
       "      <td>0.4090</td>\n",
       "    </tr>\n",
       "    <tr>\n",
       "      <th>3</th>\n",
       "      <td>Quantity</td>\n",
       "      <td>0</td>\n",
       "      <td>0.0000</td>\n",
       "    </tr>\n",
       "    <tr>\n",
       "      <th>4</th>\n",
       "      <td>InvoiceDate</td>\n",
       "      <td>0</td>\n",
       "      <td>0.0000</td>\n",
       "    </tr>\n",
       "    <tr>\n",
       "      <th>5</th>\n",
       "      <td>Price</td>\n",
       "      <td>0</td>\n",
       "      <td>0.0000</td>\n",
       "    </tr>\n",
       "    <tr>\n",
       "      <th>6</th>\n",
       "      <td>Customer ID</td>\n",
       "      <td>45455</td>\n",
       "      <td>22.7275</td>\n",
       "    </tr>\n",
       "    <tr>\n",
       "      <th>7</th>\n",
       "      <td>Country</td>\n",
       "      <td>0</td>\n",
       "      <td>0.0000</td>\n",
       "    </tr>\n",
       "  </tbody>\n",
       "</table>\n",
       "</div>"
      ],
      "text/plain": [
       "        Column  Counts  Percentage\n",
       "0      Invoice       0      0.0000\n",
       "1    StockCode       0      0.0000\n",
       "2  Description     818      0.4090\n",
       "3     Quantity       0      0.0000\n",
       "4  InvoiceDate       0      0.0000\n",
       "5        Price       0      0.0000\n",
       "6  Customer ID   45455     22.7275\n",
       "7      Country       0      0.0000"
      ]
     },
     "metadata": {},
     "output_type": "display_data"
    },
    {
     "name": "stdout",
     "output_type": "stream",
     "text": [
      "Table 7: Dataset Columns Data types: \n"
     ]
    },
    {
     "data": {
      "text/html": [
       "<div>\n",
       "<style scoped>\n",
       "    .dataframe tbody tr th:only-of-type {\n",
       "        vertical-align: middle;\n",
       "    }\n",
       "\n",
       "    .dataframe tbody tr th {\n",
       "        vertical-align: top;\n",
       "    }\n",
       "\n",
       "    .dataframe thead th {\n",
       "        text-align: right;\n",
       "    }\n",
       "</style>\n",
       "<table border=\"1\" class=\"dataframe\">\n",
       "  <thead>\n",
       "    <tr style=\"text-align: right;\">\n",
       "      <th></th>\n",
       "      <th>Datatype</th>\n",
       "    </tr>\n",
       "  </thead>\n",
       "  <tbody>\n",
       "    <tr>\n",
       "      <th>Invoice</th>\n",
       "      <td>object</td>\n",
       "    </tr>\n",
       "    <tr>\n",
       "      <th>StockCode</th>\n",
       "      <td>object</td>\n",
       "    </tr>\n",
       "    <tr>\n",
       "      <th>Description</th>\n",
       "      <td>object</td>\n",
       "    </tr>\n",
       "    <tr>\n",
       "      <th>Quantity</th>\n",
       "      <td>int64</td>\n",
       "    </tr>\n",
       "    <tr>\n",
       "      <th>InvoiceDate</th>\n",
       "      <td>object</td>\n",
       "    </tr>\n",
       "    <tr>\n",
       "      <th>Price</th>\n",
       "      <td>float64</td>\n",
       "    </tr>\n",
       "    <tr>\n",
       "      <th>Customer ID</th>\n",
       "      <td>float64</td>\n",
       "    </tr>\n",
       "    <tr>\n",
       "      <th>Country</th>\n",
       "      <td>object</td>\n",
       "    </tr>\n",
       "  </tbody>\n",
       "</table>\n",
       "</div>"
      ],
      "text/plain": [
       "            Datatype\n",
       "Invoice       object\n",
       "StockCode     object\n",
       "Description   object\n",
       "Quantity       int64\n",
       "InvoiceDate   object\n",
       "Price        float64\n",
       "Customer ID  float64\n",
       "Country       object"
      ]
     },
     "metadata": {},
     "output_type": "display_data"
    },
    {
     "name": "stdout",
     "output_type": "stream",
     "text": [
      "Table 8: Number of uniques in the datasets:\n"
     ]
    },
    {
     "data": {
      "text/html": [
       "<div>\n",
       "<style scoped>\n",
       "    .dataframe tbody tr th:only-of-type {\n",
       "        vertical-align: middle;\n",
       "    }\n",
       "\n",
       "    .dataframe tbody tr th {\n",
       "        vertical-align: top;\n",
       "    }\n",
       "\n",
       "    .dataframe thead th {\n",
       "        text-align: right;\n",
       "    }\n",
       "</style>\n",
       "<table border=\"1\" class=\"dataframe\">\n",
       "  <thead>\n",
       "    <tr style=\"text-align: right;\">\n",
       "      <th></th>\n",
       "      <th>#_of_Unique</th>\n",
       "    </tr>\n",
       "  </thead>\n",
       "  <tbody>\n",
       "    <tr>\n",
       "      <th>Invoice</th>\n",
       "      <td>36313</td>\n",
       "    </tr>\n",
       "    <tr>\n",
       "      <th>StockCode</th>\n",
       "      <td>4698</td>\n",
       "    </tr>\n",
       "    <tr>\n",
       "      <th>Description</th>\n",
       "      <td>5043</td>\n",
       "    </tr>\n",
       "    <tr>\n",
       "      <th>Quantity</th>\n",
       "      <td>533</td>\n",
       "    </tr>\n",
       "    <tr>\n",
       "      <th>InvoiceDate</th>\n",
       "      <td>33985</td>\n",
       "    </tr>\n",
       "    <tr>\n",
       "      <th>Price</th>\n",
       "      <td>1009</td>\n",
       "    </tr>\n",
       "    <tr>\n",
       "      <th>Customer ID</th>\n",
       "      <td>5575</td>\n",
       "    </tr>\n",
       "    <tr>\n",
       "      <th>Country</th>\n",
       "      <td>43</td>\n",
       "    </tr>\n",
       "  </tbody>\n",
       "</table>\n",
       "</div>"
      ],
      "text/plain": [
       "             #_of_Unique\n",
       "Invoice            36313\n",
       "StockCode           4698\n",
       "Description         5043\n",
       "Quantity             533\n",
       "InvoiceDate        33985\n",
       "Price               1009\n",
       "Customer ID         5575\n",
       "Country               43"
      ]
     },
     "metadata": {},
     "output_type": "display_data"
    }
   ],
   "source": [
    "results = explore_sample(sample)\n",
    "print_sample_exploration(results)"
   ]
  },
  {
   "cell_type": "markdown",
   "id": "ce5af8bd",
   "metadata": {
    "papermill": {
     "duration": 0.084381,
     "end_time": "2024-06-09T21:16:07.173592",
     "exception": false,
     "start_time": "2024-06-09T21:16:07.089211",
     "status": "completed"
    },
    "tags": []
   },
   "source": [
    "***Interpretaion***\n",
    "\n",
    "Showing the head and tail of the data presnts diffrent initial looks on the data such that all of the 10 rows are in United Kingdom, prices varies, dates have also time stamps, description of item is capetalized, the first column (index) is not serial (because it's a sample). Customer IDs could be NaN (not all consumers are regestiered with Ids.)\n",
    "\n",
    "Numerical columns of Price and Quantity have negative values, these were canceled invocies for some reason. The average of Price per unit is relativly low (4.505168) however the maximum price reached (18910.690000). Quantites have also 12960 as the highest value. For the Customers IDs there is (154,545) IDs.\n",
    "\n",
    "As expected from vewiing the head and tails, teh missing data percentages are relativly high. The total Sum of Missing Percetange:  23.136499999999998 in which 22.7275 of are Customers IDs the others are missing from Item Description column.\n",
    "\n",
    "> This is accepted since some of the customers (Buyers) are not registered they can still consume from the store.\n",
    "\n",
    "Dataset have diffrent datatypes, but the date column had object type. \n",
    "\n",
    "> Date could be separted to time, months etc\n",
    "\n",
    "> The price is only for one unit of that item must be multipled by quantity.\n",
    "\n",
    "Finally for the unique values, there is 4698 unique Stock Codes (items) but 5043 describtions that is some items might have multiple descriptions. \n",
    "\n",
    "> 36313 unique inovices (transacations) in 3 years\n",
    "\n",
    "> 5575 Unique customers.\n",
    "\n",
    "> The transaction occured from 43 diffrent countries with UK dominanta.\n"
   ]
  },
  {
   "cell_type": "markdown",
   "id": "78b4d6d3",
   "metadata": {
    "papermill": {
     "duration": 0.020444,
     "end_time": "2024-06-09T21:16:07.214693",
     "exception": false,
     "start_time": "2024-06-09T21:16:07.194249",
     "status": "completed"
    },
    "tags": []
   },
   "source": [
    "> <b>Handle Date and Get total Price per inovice</b>\n",
    "\n",
    "[Back](#intro)\n",
    "\n",
    " Date was handled and lowered it's cardenality into four columns (InvoiceYear, InvoiceMonth, InvoiceDay and InvoiceTime). In addition, a new column is added which is the `total_price = Quanitity * price ` since the price is provided per unit, the column is added fpr conveinecy later on."
   ]
  },
  {
   "cell_type": "markdown",
   "id": "8286cee4",
   "metadata": {
    "papermill": {
     "duration": 0.020506,
     "end_time": "2024-06-09T21:16:07.257127",
     "exception": false,
     "start_time": "2024-06-09T21:16:07.236621",
     "status": "completed"
    },
    "tags": []
   },
   "source": [
    "- Get year, day, month and time seprate columns"
   ]
  },
  {
   "cell_type": "code",
   "execution_count": 8,
   "id": "20685a15",
   "metadata": {
    "execution": {
     "iopub.execute_input": "2024-06-09T21:16:07.301213Z",
     "iopub.status.busy": "2024-06-09T21:16:07.300803Z",
     "iopub.status.idle": "2024-06-09T21:16:07.309776Z",
     "shell.execute_reply": "2024-06-09T21:16:07.308369Z"
    },
    "papermill": {
     "duration": 0.034427,
     "end_time": "2024-06-09T21:16:07.312539",
     "exception": false,
     "start_time": "2024-06-09T21:16:07.278112",
     "status": "completed"
    },
    "tags": []
   },
   "outputs": [],
   "source": [
    "def handle_date(sample):\n",
    "    \"\"\" \n",
    "    Handles date high cardenality\n",
    "    Args: \n",
    "        sample (pd.Dataframe): contains datset\n",
    "    Return:\n",
    "        (pd.Dataframe) handeled with day, month, year and time columns added\n",
    "    \"\"\"    \n",
    "    sample['InvoiceDate'] = pd.to_datetime(sample['InvoiceDate'])\n",
    "    sample['InvoiceYear'] = sample['InvoiceDate'].dt.year\n",
    "    sample['InvoiceMonth'] = sample['InvoiceDate'].dt.month\n",
    "    sample['InvoiceDay'] = sample['InvoiceDate'].dt.day\n",
    "    sample['InvoiceTime'] = sample['InvoiceDate'].dt.time\n",
    "    sample = sample.drop('InvoiceDate', axis=1)\n",
    "    return sample"
   ]
  },
  {
   "cell_type": "markdown",
   "id": "bb42bbd5",
   "metadata": {
    "papermill": {
     "duration": 0.020396,
     "end_time": "2024-06-09T21:16:07.354244",
     "exception": false,
     "start_time": "2024-06-09T21:16:07.333848",
     "status": "completed"
    },
    "tags": []
   },
   "source": [
    "- Get the total price. "
   ]
  },
  {
   "cell_type": "code",
   "execution_count": 9,
   "id": "cd062e3d",
   "metadata": {
    "execution": {
     "iopub.execute_input": "2024-06-09T21:16:07.397809Z",
     "iopub.status.busy": "2024-06-09T21:16:07.397384Z",
     "iopub.status.idle": "2024-06-09T21:16:07.403587Z",
     "shell.execute_reply": "2024-06-09T21:16:07.402186Z"
    },
    "papermill": {
     "duration": 0.031017,
     "end_time": "2024-06-09T21:16:07.406147",
     "exception": false,
     "start_time": "2024-06-09T21:16:07.375130",
     "status": "completed"
    },
    "tags": []
   },
   "outputs": [],
   "source": [
    "def get_total(row):\n",
    "    \"\"\"\n",
    "    Calcualtes the total prices by multiplication and considering quantity\n",
    "    Args:\n",
    "        row of the dataframe\n",
    "    Returns:\n",
    "        Total price  that is calculated by multiplication of Quantity*Price \n",
    "    \"\"\"\n",
    "    return row[\"Quantity\"] * row[\"Price\"]"
   ]
  },
  {
   "cell_type": "code",
   "execution_count": 10,
   "id": "24ec4a33",
   "metadata": {
    "execution": {
     "iopub.execute_input": "2024-06-09T21:16:07.452142Z",
     "iopub.status.busy": "2024-06-09T21:16:07.451740Z",
     "iopub.status.idle": "2024-06-09T21:16:11.539840Z",
     "shell.execute_reply": "2024-06-09T21:16:11.538632Z"
    },
    "papermill": {
     "duration": 4.114785,
     "end_time": "2024-06-09T21:16:11.542868",
     "exception": false,
     "start_time": "2024-06-09T21:16:07.428083",
     "status": "completed"
    },
    "tags": []
   },
   "outputs": [
    {
     "data": {
      "text/html": [
       "<div>\n",
       "<style scoped>\n",
       "    .dataframe tbody tr th:only-of-type {\n",
       "        vertical-align: middle;\n",
       "    }\n",
       "\n",
       "    .dataframe tbody tr th {\n",
       "        vertical-align: top;\n",
       "    }\n",
       "\n",
       "    .dataframe thead th {\n",
       "        text-align: right;\n",
       "    }\n",
       "</style>\n",
       "<table border=\"1\" class=\"dataframe\">\n",
       "  <thead>\n",
       "    <tr style=\"text-align: right;\">\n",
       "      <th></th>\n",
       "      <th>Invoice</th>\n",
       "      <th>StockCode</th>\n",
       "      <th>Description</th>\n",
       "      <th>Quantity</th>\n",
       "      <th>Price</th>\n",
       "      <th>Customer ID</th>\n",
       "      <th>Country</th>\n",
       "      <th>InvoiceYear</th>\n",
       "      <th>InvoiceMonth</th>\n",
       "      <th>InvoiceDay</th>\n",
       "      <th>InvoiceTime</th>\n",
       "      <th>total_price</th>\n",
       "    </tr>\n",
       "  </thead>\n",
       "  <tbody>\n",
       "    <tr>\n",
       "      <th>803443</th>\n",
       "      <td>561203</td>\n",
       "      <td>22953</td>\n",
       "      <td>BIRTHDAY PARTY CORDON BARRIER TAPE</td>\n",
       "      <td>12</td>\n",
       "      <td>1.25</td>\n",
       "      <td>14232.0</td>\n",
       "      <td>United Kingdom</td>\n",
       "      <td>2011</td>\n",
       "      <td>7</td>\n",
       "      <td>25</td>\n",
       "      <td>15:17:00</td>\n",
       "      <td>15.00</td>\n",
       "    </tr>\n",
       "    <tr>\n",
       "      <th>607418</th>\n",
       "      <td>543182</td>\n",
       "      <td>22726</td>\n",
       "      <td>ALARM CLOCK BAKELIKE GREEN</td>\n",
       "      <td>3</td>\n",
       "      <td>7.46</td>\n",
       "      <td>NaN</td>\n",
       "      <td>United Kingdom</td>\n",
       "      <td>2011</td>\n",
       "      <td>2</td>\n",
       "      <td>4</td>\n",
       "      <td>10:40:00</td>\n",
       "      <td>22.38</td>\n",
       "    </tr>\n",
       "    <tr>\n",
       "      <th>117428</th>\n",
       "      <td>500567</td>\n",
       "      <td>47586A</td>\n",
       "      <td>PINK FAIRY CAKE CUSHION COVER</td>\n",
       "      <td>24</td>\n",
       "      <td>0.85</td>\n",
       "      <td>13694.0</td>\n",
       "      <td>United Kingdom</td>\n",
       "      <td>2010</td>\n",
       "      <td>3</td>\n",
       "      <td>8</td>\n",
       "      <td>15:49:00</td>\n",
       "      <td>20.40</td>\n",
       "    </tr>\n",
       "    <tr>\n",
       "      <th>299616</th>\n",
       "      <td>518570</td>\n",
       "      <td>35961</td>\n",
       "      <td>FOLKART ZINC HEART CHRISTMAS DEC</td>\n",
       "      <td>1</td>\n",
       "      <td>1.66</td>\n",
       "      <td>NaN</td>\n",
       "      <td>United Kingdom</td>\n",
       "      <td>2010</td>\n",
       "      <td>8</td>\n",
       "      <td>10</td>\n",
       "      <td>11:49:00</td>\n",
       "      <td>1.66</td>\n",
       "    </tr>\n",
       "    <tr>\n",
       "      <th>613909</th>\n",
       "      <td>543803</td>\n",
       "      <td>22525</td>\n",
       "      <td>CHILDRENS GARDEN GLOVES PINK</td>\n",
       "      <td>5</td>\n",
       "      <td>1.25</td>\n",
       "      <td>17126.0</td>\n",
       "      <td>United Kingdom</td>\n",
       "      <td>2011</td>\n",
       "      <td>2</td>\n",
       "      <td>13</td>\n",
       "      <td>12:05:00</td>\n",
       "      <td>6.25</td>\n",
       "    </tr>\n",
       "  </tbody>\n",
       "</table>\n",
       "</div>"
      ],
      "text/plain": [
       "       Invoice StockCode                         Description  Quantity  Price  \\\n",
       "803443  561203     22953  BIRTHDAY PARTY CORDON BARRIER TAPE        12   1.25   \n",
       "607418  543182     22726          ALARM CLOCK BAKELIKE GREEN         3   7.46   \n",
       "117428  500567    47586A       PINK FAIRY CAKE CUSHION COVER        24   0.85   \n",
       "299616  518570     35961    FOLKART ZINC HEART CHRISTMAS DEC         1   1.66   \n",
       "613909  543803     22525        CHILDRENS GARDEN GLOVES PINK         5   1.25   \n",
       "\n",
       "        Customer ID         Country  InvoiceYear  InvoiceMonth  InvoiceDay  \\\n",
       "803443      14232.0  United Kingdom         2011             7          25   \n",
       "607418          NaN  United Kingdom         2011             2           4   \n",
       "117428      13694.0  United Kingdom         2010             3           8   \n",
       "299616          NaN  United Kingdom         2010             8          10   \n",
       "613909      17126.0  United Kingdom         2011             2          13   \n",
       "\n",
       "       InvoiceTime  total_price  \n",
       "803443    15:17:00        15.00  \n",
       "607418    10:40:00        22.38  \n",
       "117428    15:49:00        20.40  \n",
       "299616    11:49:00         1.66  \n",
       "613909    12:05:00         6.25  "
      ]
     },
     "execution_count": 10,
     "metadata": {},
     "output_type": "execute_result"
    }
   ],
   "source": [
    "sample = handle_date(sample)\n",
    "sample['total_price'] = sample.apply(get_total, axis=1)\n",
    "sample.head()"
   ]
  },
  {
   "cell_type": "markdown",
   "id": "720f8861",
   "metadata": {
    "papermill": {
     "duration": 0.020933,
     "end_time": "2024-06-09T21:16:11.585781",
     "exception": false,
     "start_time": "2024-06-09T21:16:11.564848",
     "status": "completed"
    },
    "tags": []
   },
   "source": [
    "- Other intresting statics."
   ]
  },
  {
   "cell_type": "code",
   "execution_count": 11,
   "id": "e17b975f",
   "metadata": {
    "execution": {
     "iopub.execute_input": "2024-06-09T21:16:11.630959Z",
     "iopub.status.busy": "2024-06-09T21:16:11.630574Z",
     "iopub.status.idle": "2024-06-09T21:16:12.737324Z",
     "shell.execute_reply": "2024-06-09T21:16:12.735759Z"
    },
    "papermill": {
     "duration": 1.132342,
     "end_time": "2024-06-09T21:16:12.740159",
     "exception": false,
     "start_time": "2024-06-09T21:16:11.607817",
     "status": "completed"
    },
    "tags": []
   },
   "outputs": [
    {
     "name": "stdout",
     "output_type": "stream",
     "text": [
      "The peak sales hour is at 15:28:00 o'clock.\n",
      "Total Sales for Regular Invoices: 3858108.3240000005\n",
      "Total Sales for Canceled Invoices: -313185.53\n",
      "Ratio of Total Sales (Canceled/Total inovices): 0.10263541982210228\n"
     ]
    }
   ],
   "source": [
    "regular_invoices = sample[~sample['Invoice'].str.startswith('C')]\n",
    "canceled_invoices = sample[sample['Invoice'].str.startswith('C')]\n",
    "hourly_sales = sample.groupby('InvoiceTime')['total_price'].sum()\n",
    "\n",
    "regular_sum = regular_invoices['total_price'].sum()\n",
    "canceled_sum = canceled_invoices['total_price'].sum()\n",
    "sales_ratio = canceled_sum / 3727\n",
    "peak_sales_hour = hourly_sales.idxmax()\n",
    "\n",
    "print(f\"The peak sales hour is at {peak_sales_hour} o'clock.\")\n",
    "print(\"Total Sales for Regular Invoices:\", regular_sum)\n",
    "print(\"Total Sales for Canceled Invoices:\", canceled_sum)\n",
    "print(\"Ratio of Total Sales (Canceled/Total inovices):\", canceled_invoices.shape[0]/len(sample.groupby(sample['Invoice'])))"
   ]
  },
  {
   "cell_type": "markdown",
   "id": "fa1ba1cd",
   "metadata": {
    "papermill": {
     "duration": 0.023157,
     "end_time": "2024-06-09T21:16:12.785613",
     "exception": false,
     "start_time": "2024-06-09T21:16:12.762456",
     "status": "completed"
    },
    "tags": []
   },
   "source": [
    "> <b>Visualization</b>\n",
    "\n",
    "[Back](#intro)"
   ]
  },
  {
   "cell_type": "code",
   "execution_count": 12,
   "id": "e77a7e8f",
   "metadata": {
    "execution": {
     "iopub.execute_input": "2024-06-09T21:16:12.830646Z",
     "iopub.status.busy": "2024-06-09T21:16:12.830230Z",
     "iopub.status.idle": "2024-06-09T21:16:13.140334Z",
     "shell.execute_reply": "2024-06-09T21:16:13.138822Z"
    },
    "papermill": {
     "duration": 0.336103,
     "end_time": "2024-06-09T21:16:13.143426",
     "exception": false,
     "start_time": "2024-06-09T21:16:12.807323",
     "status": "completed"
    },
    "tags": []
   },
   "outputs": [
    {
     "data": {
      "image/png": "[encoded data removed]",
      "text/plain": [
       "<Figure size 640x480 with 1 Axes>"
      ]
     },
     "metadata": {},
     "output_type": "display_data"
    }
   ],
   "source": [
    "plt.bar(['Sold Invoices', 'Canceled Invoices'], [regular_sum, canceled_sum*-1], color=['lightblue', 'red'])\n",
    "plt.xlabel('Invoice Type')\n",
    "plt.ylabel('Total Sales')\n",
    "plt.title('Figure 1: Total Sales and Canceled Invoices')\n",
    "plt.show()"
   ]
  },
  {
   "cell_type": "markdown",
   "id": "4c64e0b0",
   "metadata": {
    "papermill": {
     "duration": 0.021892,
     "end_time": "2024-06-09T21:16:13.187584",
     "exception": false,
     "start_time": "2024-06-09T21:16:13.165692",
     "status": "completed"
    },
    "tags": []
   },
   "source": [
    "***Interpretaion***\n",
    "\n",
    "The visualization shows a comparison bewteen the total sales of inocices that have been paid and the others that have been cancelled which were low. This insight will help you on the overall sales situation within your company. "
   ]
  },
  {
   "cell_type": "code",
   "execution_count": 13,
   "id": "6f8303ef",
   "metadata": {
    "execution": {
     "iopub.execute_input": "2024-06-09T21:16:13.234181Z",
     "iopub.status.busy": "2024-06-09T21:16:13.233769Z",
     "iopub.status.idle": "2024-06-09T21:16:13.599084Z",
     "shell.execute_reply": "2024-06-09T21:16:13.597845Z"
    },
    "papermill": {
     "duration": 0.391802,
     "end_time": "2024-06-09T21:16:13.602037",
     "exception": false,
     "start_time": "2024-06-09T21:16:13.210235",
     "status": "completed"
    },
    "tags": []
   },
   "outputs": [
    {
     "data": {
      "text/plain": [
       "Text(0, 0.5, 'Number of Invoices')"
      ]
     },
     "execution_count": 13,
     "metadata": {},
     "output_type": "execute_result"
    },
    {
     "data": {
      "image/png": "[encoded data removed]",
      "text/plain": [
       "<Figure size 640x480 with 1 Axes>"
      ]
     },
     "metadata": {},
     "output_type": "display_data"
    }
   ],
   "source": [
    "sample.groupby('InvoiceMonth')['Invoice'].count().plot(marker='o')\n",
    "plt.title('Figure 2: Number of Invoices Over Months')\n",
    "plt.xlabel('Month')\n",
    "plt.ylabel('Number of Invoices')"
   ]
  },
  {
   "cell_type": "markdown",
   "id": "dae692b1",
   "metadata": {
    "papermill": {
     "duration": 0.022932,
     "end_time": "2024-06-09T21:16:13.648011",
     "exception": false,
     "start_time": "2024-06-09T21:16:13.625079",
     "status": "completed"
    },
    "tags": []
   },
   "source": [
    "***Interpretaion***\n",
    "\n",
    "The visualization shows number of invoces over the year for each month, from August until december your store have the hoghest sales. From January until July it's not very good.\n",
    "This insight might help with deciding dates on launching your campain to target the highest customers posiible."
   ]
  },
  {
   "cell_type": "code",
   "execution_count": 14,
   "id": "79affca4",
   "metadata": {
    "execution": {
     "iopub.execute_input": "2024-06-09T21:16:13.696781Z",
     "iopub.status.busy": "2024-06-09T21:16:13.696319Z",
     "iopub.status.idle": "2024-06-09T21:16:19.025369Z",
     "shell.execute_reply": "2024-06-09T21:16:19.023507Z"
    },
    "papermill": {
     "duration": 5.357329,
     "end_time": "2024-06-09T21:16:19.028441",
     "exception": false,
     "start_time": "2024-06-09T21:16:13.671112",
     "status": "completed"
    },
    "tags": []
   },
   "outputs": [
    {
     "data": {
      "text/plain": [
       "(-0.5, 399.5, 199.5, -0.5)"
      ]
     },
     "execution_count": 14,
     "metadata": {},
     "output_type": "execute_result"
    },
    {
     "data": {
      "image/png": "[encoded data removed]",
      "text/plain": [
       "<Figure size 640x480 with 1 Axes>"
      ]
     },
     "metadata": {},
     "output_type": "display_data"
    }
   ],
   "source": [
    "words = ' '.join(sample['Description'].dropna())\n",
    "wordcloud = WordCloud(background_color='white').generate(words)\n",
    "plt.imshow(wordcloud)\n",
    "plt.title('Figure 3: Word Cloud of Product Descriptions')\n",
    "plt.axis('off')"
   ]
  },
  {
   "cell_type": "markdown",
   "id": "c47a2f1d",
   "metadata": {
    "papermill": {
     "duration": 0.026391,
     "end_time": "2024-06-09T21:16:19.080522",
     "exception": false,
     "start_time": "2024-06-09T21:16:19.054131",
     "status": "completed"
    },
    "tags": []
   },
   "source": [
    "><b>Data Insights</b>\n",
    "\n",
    "[Back](#intro)"
   ]
  },
  {
   "cell_type": "markdown",
   "id": "c0e64c4d",
   "metadata": {
    "papermill": {
     "duration": 0.026655,
     "end_time": "2024-06-09T21:16:19.133524",
     "exception": false,
     "start_time": "2024-06-09T21:16:19.106869",
     "status": "completed"
    },
    "tags": []
   },
   "source": [
    "#### Top 5 Total sales of Inovice:\n",
    "\n",
    "1. Determine the total sales per invoice and identify the top 5 invoices."
   ]
  },
  {
   "cell_type": "code",
   "execution_count": 15,
   "id": "d426f818",
   "metadata": {
    "execution": {
     "iopub.execute_input": "2024-06-09T21:16:19.188533Z",
     "iopub.status.busy": "2024-06-09T21:16:19.188112Z",
     "iopub.status.idle": "2024-06-09T21:16:19.310432Z",
     "shell.execute_reply": "2024-06-09T21:16:19.308976Z"
    },
    "papermill": {
     "duration": 0.153456,
     "end_time": "2024-06-09T21:16:19.313130",
     "exception": false,
     "start_time": "2024-06-09T21:16:19.159674",
     "status": "completed"
    },
    "tags": []
   },
   "outputs": [
    {
     "name": "stdout",
     "output_type": "stream",
     "text": [
      "The top 5 total Sales and their invovice:\n"
     ]
    },
    {
     "data": {
      "text/plain": [
       "Invoice\n",
       "556444    38970.00\n",
       "530715    15818.40\n",
       "537632    13541.33\n",
       "574941    11318.40\n",
       "572209     9855.00\n",
       "Name: total_price, dtype: float64"
      ]
     },
     "execution_count": 15,
     "metadata": {},
     "output_type": "execute_result"
    }
   ],
   "source": [
    "print(\"The top 5 total Sales and their invovice:\")\n",
    "sample.groupby(sample['Invoice'])['total_price'].sum().nlargest(5)"
   ]
  },
  {
   "cell_type": "markdown",
   "id": "4b4c6a3f",
   "metadata": {
    "papermill": {
     "duration": 0.026009,
     "end_time": "2024-06-09T21:16:19.366488",
     "exception": false,
     "start_time": "2024-06-09T21:16:19.340479",
     "status": "completed"
    },
    "tags": []
   },
   "source": [
    "#### Top 5 Customers with Total sales:\n",
    "\n",
    "2. Compute the total sales per customer and list the top 5 customers."
   ]
  },
  {
   "cell_type": "code",
   "execution_count": 16,
   "id": "d2666f1d",
   "metadata": {
    "execution": {
     "iopub.execute_input": "2024-06-09T21:16:19.420889Z",
     "iopub.status.busy": "2024-06-09T21:16:19.420492Z",
     "iopub.status.idle": "2024-06-09T21:16:19.441748Z",
     "shell.execute_reply": "2024-06-09T21:16:19.440612Z"
    },
    "papermill": {
     "duration": 0.051808,
     "end_time": "2024-06-09T21:16:19.444233",
     "exception": false,
     "start_time": "2024-06-09T21:16:19.392425",
     "status": "completed"
    },
    "tags": []
   },
   "outputs": [
    {
     "name": "stdout",
     "output_type": "stream",
     "text": [
      "The top 5 buyers by Id:\n"
     ]
    },
    {
     "data": {
      "text/plain": [
       "Customer ID\n",
       "18102.0    103610.73\n",
       "14646.0     94118.39\n",
       "17450.0     53062.80\n",
       "14156.0     48606.45\n",
       "14911.0     46425.48\n",
       "Name: total_price, dtype: float64"
      ]
     },
     "execution_count": 16,
     "metadata": {},
     "output_type": "execute_result"
    }
   ],
   "source": [
    "print(\"The top 5 buyers by Id:\")\n",
    "sample.groupby(sample['Customer ID'])['total_price'].sum().nlargest(5)"
   ]
  },
  {
   "cell_type": "markdown",
   "id": "81dfa45c",
   "metadata": {
    "papermill": {
     "duration": 0.028548,
     "end_time": "2024-06-09T21:16:19.499753",
     "exception": false,
     "start_time": "2024-06-09T21:16:19.471205",
     "status": "completed"
    },
    "tags": []
   },
   "source": [
    "#### Top 5 Selling Items:\n",
    "\n",
    "3. Identify the top 5 selling items during this period."
   ]
  },
  {
   "cell_type": "code",
   "execution_count": 17,
   "id": "0586eea8",
   "metadata": {
    "execution": {
     "iopub.execute_input": "2024-06-09T21:16:19.557079Z",
     "iopub.status.busy": "2024-06-09T21:16:19.556636Z",
     "iopub.status.idle": "2024-06-09T21:16:19.563891Z",
     "shell.execute_reply": "2024-06-09T21:16:19.562679Z"
    },
    "papermill": {
     "duration": 0.038414,
     "end_time": "2024-06-09T21:16:19.566573",
     "exception": false,
     "start_time": "2024-06-09T21:16:19.528159",
     "status": "completed"
    },
    "tags": []
   },
   "outputs": [],
   "source": [
    "def print_top_items(sample, top5):\n",
    "    \"\"\"\n",
    "    Get top5 series and print the descriptions for each stockItem\n",
    "    Args:\n",
    "        sample (pd.Dataframe): sample of the dataset\n",
    "        top5 (pd.Series): top 5 indexed by the Stockcode\n",
    "    Returns:\n",
    "        Nothing but displays teh outputs\n",
    "    \"\"\"\n",
    "    print(\"The top selling items:\")\n",
    "    for stockcode in top5.index:\n",
    "        print(\"Stock Code: \", stockcode)\n",
    "        descriptions = sample[sample['StockCode'] == stockcode]['Description'].unique() #SOme items have multiple descriptions\n",
    "        print(\"     Descriptions:\", descriptions)"
   ]
  },
  {
   "cell_type": "code",
   "execution_count": 18,
   "id": "94fde7fa",
   "metadata": {
    "execution": {
     "iopub.execute_input": "2024-06-09T21:16:19.623010Z",
     "iopub.status.busy": "2024-06-09T21:16:19.622582Z",
     "iopub.status.idle": "2024-06-09T21:16:19.899932Z",
     "shell.execute_reply": "2024-06-09T21:16:19.898353Z"
    },
    "papermill": {
     "duration": 0.309103,
     "end_time": "2024-06-09T21:16:19.903004",
     "exception": false,
     "start_time": "2024-06-09T21:16:19.593901",
     "status": "completed"
    },
    "tags": []
   },
   "outputs": [
    {
     "name": "stdout",
     "output_type": "stream",
     "text": [
      "The top selling items:\n",
      "Stock Code:  DOT\n",
      "     Descriptions: ['DOTCOM POSTAGE']\n",
      "Stock Code:  22423\n",
      "     Descriptions: ['REGENCY CAKESTAND 3 TIER' 'faulty' 'damages']\n",
      "Stock Code:  85123A\n",
      "     Descriptions: ['WHITE HANGING HEART T-LIGHT HOLDER' 'CREAM HANGING HEART T-LIGHT HOLDER']\n",
      "Stock Code:  22502\n",
      "     Descriptions: ['PICNIC BASKET WICKER SMALL' 'reverse 21/5/10 adjustment' nan\n",
      " 'PICNIC BASKET WICKER 60 PIECES']\n",
      "Stock Code:  85099B\n",
      "     Descriptions: ['JUMBO BAG RED RETROSPOT' 'JUMBO BAG RED WHITE SPOTTY '\n",
      " 'RED RETROSPOT JUMBO BAG ' 'missing']\n"
     ]
    }
   ],
   "source": [
    "top5 = sample.groupby('StockCode')['total_price'].sum().nlargest(5)\n",
    "print_top_items(sample, top5)"
   ]
  },
  {
   "cell_type": "markdown",
   "id": "d244b10d",
   "metadata": {
    "papermill": {
     "duration": 0.026702,
     "end_time": "2024-06-09T21:16:19.957993",
     "exception": false,
     "start_time": "2024-06-09T21:16:19.931291",
     "status": "completed"
    },
    "tags": []
   },
   "source": [
    "#### Most 20 Frequent Items Pairs:\n",
    "\n",
    "4. Determine the most frequently purchased item pairs by customers and display the top 20 pairs.\n",
    "\n",
    "> To approach this first lets group by customer ID and the INovice to get each innovice that is purchused by that same customer. Then that inovice it is made as lists of items (in that inovice). Finally since (Pairs it required) then the only_pairs function gets the shopped lists that has only two items."
   ]
  },
  {
   "cell_type": "code",
   "execution_count": 19,
   "id": "5d258323",
   "metadata": {
    "execution": {
     "iopub.execute_input": "2024-06-09T21:16:20.013859Z",
     "iopub.status.busy": "2024-06-09T21:16:20.013442Z",
     "iopub.status.idle": "2024-06-09T21:16:20.019512Z",
     "shell.execute_reply": "2024-06-09T21:16:20.018229Z"
    },
    "papermill": {
     "duration": 0.037295,
     "end_time": "2024-06-09T21:16:20.022172",
     "exception": false,
     "start_time": "2024-06-09T21:16:19.984877",
     "status": "completed"
    },
    "tags": []
   },
   "outputs": [],
   "source": [
    "def only_pairs(row):\n",
    "    \"\"\"\n",
    "    Make the row into a list and keeps the pairs\n",
    "    Args:\n",
    "        row: (np.array): the row in the df\n",
    "    Rturns:\n",
    "        list of row and None if len is larger than 2\n",
    "    \"\"\"\n",
    "    if len(list(row)) == 2:\n",
    "        return list(row)\n",
    "    else:\n",
    "        return None"
   ]
  },
  {
   "cell_type": "code",
   "execution_count": 20,
   "id": "70e78c9c",
   "metadata": {
    "execution": {
     "iopub.execute_input": "2024-06-09T21:16:20.077513Z",
     "iopub.status.busy": "2024-06-09T21:16:20.077111Z",
     "iopub.status.idle": "2024-06-09T21:16:20.085181Z",
     "shell.execute_reply": "2024-06-09T21:16:20.083901Z"
    },
    "papermill": {
     "duration": 0.038786,
     "end_time": "2024-06-09T21:16:20.087725",
     "exception": false,
     "start_time": "2024-06-09T21:16:20.048939",
     "status": "completed"
    },
    "tags": []
   },
   "outputs": [],
   "source": [
    "def print_top_20(sample, top20):\n",
    "    \"\"\"\n",
    "    Get top10 series and print the descriptions for each\n",
    "    Args:\n",
    "        sample (pd.Dataframe): sample of the dataset\n",
    "        top5 (pd.Series): top 20 indexed by the Stockcode\n",
    "    Returns:\n",
    "        Nothing but displays the outputs\n",
    "    \"\"\"\n",
    "    print(\"The most frequently purchased item pairs are:\")\n",
    "    i = 0\n",
    "    for stockcode in top20.index:\n",
    "        print(\"Pairs # : \", i)\n",
    "        print(\"Stock Codes: \", stockcode)\n",
    "        for code in stockcode:\n",
    "            descriptions = sample[sample['StockCode'] == code]['Description'].unique() #SOme items have multiple descriptions\n",
    "            print(\"     Descriptions:\", descriptions)\n",
    "        print(\"\\n\")\n",
    "        i = i+1"
   ]
  },
  {
   "cell_type": "markdown",
   "id": "b8d61745",
   "metadata": {
    "papermill": {
     "duration": 0.026518,
     "end_time": "2024-06-09T21:16:20.141546",
     "exception": false,
     "start_time": "2024-06-09T21:16:20.115028",
     "status": "completed"
    },
    "tags": []
   },
   "source": [
    "- Get the transactions that are on pairs (customer purchsed two items)"
   ]
  },
  {
   "cell_type": "code",
   "execution_count": 21,
   "id": "92f012a8",
   "metadata": {
    "execution": {
     "iopub.execute_input": "2024-06-09T21:16:20.197600Z",
     "iopub.status.busy": "2024-06-09T21:16:20.197135Z",
     "iopub.status.idle": "2024-06-09T21:16:21.649690Z",
     "shell.execute_reply": "2024-06-09T21:16:21.648413Z"
    },
    "papermill": {
     "duration": 1.484256,
     "end_time": "2024-06-09T21:16:21.652951",
     "exception": false,
     "start_time": "2024-06-09T21:16:20.168695",
     "status": "completed"
    },
    "tags": []
   },
   "outputs": [
    {
     "data": {
      "text/html": [
       "<div>\n",
       "<style scoped>\n",
       "    .dataframe tbody tr th:only-of-type {\n",
       "        vertical-align: middle;\n",
       "    }\n",
       "\n",
       "    .dataframe tbody tr th {\n",
       "        vertical-align: top;\n",
       "    }\n",
       "\n",
       "    .dataframe thead th {\n",
       "        text-align: right;\n",
       "    }\n",
       "</style>\n",
       "<table border=\"1\" class=\"dataframe\">\n",
       "  <thead>\n",
       "    <tr style=\"text-align: right;\">\n",
       "      <th></th>\n",
       "      <th></th>\n",
       "      <th>StockCode</th>\n",
       "    </tr>\n",
       "    <tr>\n",
       "      <th>Customer ID</th>\n",
       "      <th>Invoice</th>\n",
       "      <th></th>\n",
       "    </tr>\n",
       "  </thead>\n",
       "  <tbody>\n",
       "    <tr>\n",
       "      <th>12346.0</th>\n",
       "      <th>513774</th>\n",
       "      <td>[20685, 22689]</td>\n",
       "    </tr>\n",
       "    <tr>\n",
       "      <th rowspan=\"2\" valign=\"top\">12347.0</th>\n",
       "      <th>556201</th>\n",
       "      <td>[22375, 23146]</td>\n",
       "    </tr>\n",
       "    <tr>\n",
       "      <th>562032</th>\n",
       "      <td>[23297, 23146]</td>\n",
       "    </tr>\n",
       "    <tr>\n",
       "      <th>12348.0</th>\n",
       "      <th>539318</th>\n",
       "      <td>[22952, 21211]</td>\n",
       "    </tr>\n",
       "    <tr>\n",
       "      <th>12352.0</th>\n",
       "      <th>535838</th>\n",
       "      <td>[21181, 21756]</td>\n",
       "    </tr>\n",
       "  </tbody>\n",
       "</table>\n",
       "</div>"
      ],
      "text/plain": [
       "                          StockCode\n",
       "Customer ID Invoice                \n",
       "12346.0     513774   [20685, 22689]\n",
       "12347.0     556201   [22375, 23146]\n",
       "            562032   [23297, 23146]\n",
       "12348.0     539318   [22952, 21211]\n",
       "12352.0     535838   [21181, 21756]"
      ]
     },
     "execution_count": 21,
     "metadata": {},
     "output_type": "execute_result"
    }
   ],
   "source": [
    "pairs_transactions = pd.DataFrame(sample.groupby(['Customer ID', 'Invoice'])['StockCode'].apply(only_pairs).dropna())\n",
    "pairs_transactions.head()"
   ]
  },
  {
   "cell_type": "markdown",
   "id": "0177176e",
   "metadata": {
    "papermill": {
     "duration": 0.027103,
     "end_time": "2024-06-09T21:16:21.708672",
     "exception": false,
     "start_time": "2024-06-09T21:16:21.681569",
     "status": "completed"
    },
    "tags": []
   },
   "source": [
    "- count values (occurences of that pair) and then get the top 20 using head"
   ]
  },
  {
   "cell_type": "code",
   "execution_count": 22,
   "id": "4861e113",
   "metadata": {
    "execution": {
     "iopub.execute_input": "2024-06-09T21:16:21.766115Z",
     "iopub.status.busy": "2024-06-09T21:16:21.765694Z",
     "iopub.status.idle": "2024-06-09T21:16:24.429619Z",
     "shell.execute_reply": "2024-06-09T21:16:24.428317Z"
    },
    "papermill": {
     "duration": 2.695688,
     "end_time": "2024-06-09T21:16:24.432413",
     "exception": false,
     "start_time": "2024-06-09T21:16:21.736725",
     "status": "completed"
    },
    "tags": []
   },
   "outputs": [
    {
     "data": {
      "text/plain": [
       "StockCode\n",
       "[22698, 22423]    3\n",
       "[20727, 20725]    3\n",
       "[21977, 21212]    3\n",
       "[22625, 22624]    3\n",
       "[21175, 21181]    3\n",
       "Name: count, dtype: int64"
      ]
     },
     "execution_count": 22,
     "metadata": {},
     "output_type": "execute_result"
    }
   ],
   "source": [
    "top20 = pairs_transactions['StockCode'].value_counts().head(20)\n",
    "top20.head()"
   ]
  },
  {
   "cell_type": "markdown",
   "id": "eeea5a1b",
   "metadata": {
    "papermill": {
     "duration": 0.027335,
     "end_time": "2024-06-09T21:16:24.488591",
     "exception": false,
     "start_time": "2024-06-09T21:16:24.461256",
     "status": "completed"
    },
    "tags": []
   },
   "source": [
    "- Print the top 20 pairs with their descriptions:"
   ]
  },
  {
   "cell_type": "code",
   "execution_count": 23,
   "id": "1f7dd9f4",
   "metadata": {
    "execution": {
     "iopub.execute_input": "2024-06-09T21:16:24.548336Z",
     "iopub.status.busy": "2024-06-09T21:16:24.547938Z",
     "iopub.status.idle": "2024-06-09T21:16:26.490949Z",
     "shell.execute_reply": "2024-06-09T21:16:26.489690Z"
    },
    "papermill": {
     "duration": 1.9749,
     "end_time": "2024-06-09T21:16:26.493707",
     "exception": false,
     "start_time": "2024-06-09T21:16:24.518807",
     "status": "completed"
    },
    "tags": []
   },
   "outputs": [
    {
     "name": "stdout",
     "output_type": "stream",
     "text": [
      "The most frequently purchased item pairs are:\n",
      "Pairs # :  0\n",
      "Stock Codes:  ['22698', '22423']\n",
      "     Descriptions: ['PINK REGENCY TEACUP AND SAUCER' nan 'TEACUP AND SAUCER REGENCY PINK']\n",
      "     Descriptions: ['REGENCY CAKESTAND 3 TIER' 'faulty' 'damages']\n",
      "\n",
      "\n",
      "Pairs # :  1\n",
      "Stock Codes:  ['20727', '20725']\n",
      "     Descriptions: ['LUNCH BAG  BLACK SKULL.']\n",
      "     Descriptions: ['LUNCH BAG RED RETROSPOT' 'LUNCH BAG RED SPOTTY']\n",
      "\n",
      "\n",
      "Pairs # :  2\n",
      "Stock Codes:  ['21977', '21212']\n",
      "     Descriptions: ['PACK OF 60 PINK PAISLEY CAKE CASES']\n",
      "     Descriptions: ['PACK OF 72 RETRO SPOT CAKE CASES' 'PACK OF 72 RETROSPOT CAKE CASES']\n",
      "\n",
      "\n",
      "Pairs # :  3\n",
      "Stock Codes:  ['22625', '22624']\n",
      "     Descriptions: ['RED KITCHEN SCALES']\n",
      "     Descriptions: ['IVORY KITCHEN SCALES']\n",
      "\n",
      "\n",
      "Pairs # :  4\n",
      "Stock Codes:  ['21175', '21181']\n",
      "     Descriptions: ['GIN + TONIC DIET METAL SIGN' 'GIN AND TONIC DIET METAL SIGN']\n",
      "     Descriptions: ['PLEASE ONE PERSON METAL SIGN' nan 'PLEASE ONE PERSON  METAL SIGN']\n",
      "\n",
      "\n",
      "Pairs # :  5\n",
      "Stock Codes:  ['22041', '21137']\n",
      "     Descriptions: ['RECORD FRAME 7\" SINGLE SIZE ']\n",
      "     Descriptions: ['BLACK RECORD COVER FRAME']\n",
      "\n",
      "\n",
      "Pairs # :  6\n",
      "Stock Codes:  ['85123A', '82484']\n",
      "     Descriptions: ['WHITE HANGING HEART T-LIGHT HOLDER' 'CREAM HANGING HEART T-LIGHT HOLDER']\n",
      "     Descriptions: ['WOOD BLACK BOARD ANT WHITE FINISH']\n",
      "\n",
      "\n",
      "Pairs # :  7\n",
      "Stock Codes:  ['POST', '21086']\n",
      "     Descriptions: ['POSTAGE' nan]\n",
      "     Descriptions: ['SET/6 RED SPOTTY PAPER CUPS']\n",
      "\n",
      "\n",
      "Pairs # :  8\n",
      "Stock Codes:  ['22303', '22301']\n",
      "     Descriptions: ['COFFEE MUG APPLES DESIGN']\n",
      "     Descriptions: ['COFFEE MUG CAT + BIRD DESIGN']\n",
      "\n",
      "\n",
      "Pairs # :  9\n",
      "Stock Codes:  ['21238', '21239']\n",
      "     Descriptions: ['RED RETROSPOT CUP' 'RED SPOTTY CUP']\n",
      "     Descriptions: ['PINK  SPOTTY CUP' 'PINK  POLKADOT CUP']\n",
      "\n",
      "\n",
      "Pairs # :  10\n",
      "Stock Codes:  ['85123A', '22139']\n",
      "     Descriptions: ['WHITE HANGING HEART T-LIGHT HOLDER' 'CREAM HANGING HEART T-LIGHT HOLDER']\n",
      "     Descriptions: ['RETRO SPOT TEA SET CERAMIC 11 PC ' 'RETROSPOT TEA SET CERAMIC 11 PC '\n",
      " nan]\n",
      "\n",
      "\n",
      "Pairs # :  11\n",
      "Stock Codes:  ['82578', '22219']\n",
      "     Descriptions: ['KITCHEN METAL SIGN']\n",
      "     Descriptions: ['LOVEBIRD HANGING DECORATION WHITE ']\n",
      "\n",
      "\n",
      "Pairs # :  12\n",
      "Stock Codes:  ['21524', '48138']\n",
      "     Descriptions: ['DOORMAT SPOTTY HOME SWEET HOME' 'DOOR MAT SPOTTY HOME SWEET HOME'\n",
      " 'SPOTTY  HOME SWEET HOME DOORMAT']\n",
      "     Descriptions: ['DOOR MAT UNION FLAG' 'DOORMAT UNION FLAG']\n",
      "\n",
      "\n",
      "Pairs # :  13\n",
      "Stock Codes:  ['20971', '21790']\n",
      "     Descriptions: ['PINK BLUE FELT CRAFT TRINKET BOX']\n",
      "     Descriptions: ['VINTAGE SNAP CARDS']\n",
      "\n",
      "\n",
      "Pairs # :  14\n",
      "Stock Codes:  ['22570', '22568']\n",
      "     Descriptions: ['FELTCRAFT CUSHION RABBIT' '?']\n",
      "     Descriptions: ['FELTCRAFT CUSHION OWL']\n",
      "\n",
      "\n",
      "Pairs # :  15\n",
      "Stock Codes:  ['82494L', '84029G']\n",
      "     Descriptions: ['WOODEN FRAME ANTIQUE WHITE ' nan]\n",
      "     Descriptions: ['KNITTED UNION FLAG HOT WATER BOTTLE' nan]\n",
      "\n",
      "\n",
      "Pairs # :  16\n",
      "Stock Codes:  ['20972', '22149']\n",
      "     Descriptions: ['PINK CREAM FELT CRAFT TRINKET BOX ']\n",
      "     Descriptions: ['FELTCRAFT 6 FLOWER FRIENDS' 'damages']\n",
      "\n",
      "\n",
      "Pairs # :  17\n",
      "Stock Codes:  ['84970L', '84970S']\n",
      "     Descriptions: ['SINGLE HEART ZINC T-LIGHT HOLDER']\n",
      "     Descriptions: ['HANGING HEART ZINC T-LIGHT HOLDER']\n",
      "\n",
      "\n",
      "Pairs # :  18\n",
      "Stock Codes:  ['22697', '22698']\n",
      "     Descriptions: ['GREEN REGENCY TEACUP AND SAUCER' 'TEACUP AND SAUCER REGENCY GREEN']\n",
      "     Descriptions: ['PINK REGENCY TEACUP AND SAUCER' nan 'TEACUP AND SAUCER REGENCY PINK']\n",
      "\n",
      "\n",
      "Pairs # :  19\n",
      "Stock Codes:  ['22367', '22383']\n",
      "     Descriptions: ['CHILDRENS APRON SPACEBOY DESIGN' 'CHILDS APRON SPACEBOY DESIGN']\n",
      "     Descriptions: ['LUNCH BAG SUKI DESIGN ' 'LUNCH BAG SUKI  DESIGN '\n",
      " 'LUNCHBAG SUKI  DESIGN ']\n",
      "\n",
      "\n"
     ]
    }
   ],
   "source": [
    "print_top_20(sample,top20)"
   ]
  },
  {
   "cell_type": "markdown",
   "id": "e5a326f4",
   "metadata": {
    "papermill": {
     "duration": 0.027818,
     "end_time": "2024-06-09T21:16:26.551937",
     "exception": false,
     "start_time": "2024-06-09T21:16:26.524119",
     "status": "completed"
    },
    "tags": []
   },
   "source": [
    "- For your convience, the top 20 pairs are extracted into a csv file"
   ]
  },
  {
   "cell_type": "code",
   "execution_count": 24,
   "id": "0cf64eb1",
   "metadata": {
    "execution": {
     "iopub.execute_input": "2024-06-09T21:16:26.613931Z",
     "iopub.status.busy": "2024-06-09T21:16:26.613478Z",
     "iopub.status.idle": "2024-06-09T21:16:26.623926Z",
     "shell.execute_reply": "2024-06-09T21:16:26.622275Z"
    },
    "papermill": {
     "duration": 0.046717,
     "end_time": "2024-06-09T21:16:26.627009",
     "exception": false,
     "start_time": "2024-06-09T21:16:26.580292",
     "status": "completed"
    },
    "tags": []
   },
   "outputs": [],
   "source": [
    "pd.DataFrame(top20.index.to_flat_index()).to_csv('top_20_pairs.csv', header='StockCode')"
   ]
  },
  {
   "cell_type": "markdown",
   "id": "936bdb65",
   "metadata": {
    "papermill": {
     "duration": 0.028055,
     "end_time": "2024-06-09T21:16:26.684281",
     "exception": false,
     "start_time": "2024-06-09T21:16:26.656226",
     "status": "completed"
    },
    "tags": []
   },
   "source": [
    "#### Items for the promotion plan:\n",
    "\n",
    "5. The retail store aims to introduce a new promotion targeting items with low sales volume. \n",
    "This promotion entails offering a discounted price for a pair of two different items, \n",
    "Customers who purchase these two items together will qualify for the special pricing. \n",
    "\n",
    "- One item being among the top 10 best sellers \n",
    "- The other from the bottom 10 sellers. \n",
    "- Your task is to recommend 10 pairs of items to kickstart this campaign.\n",
    "\n",
    "> The plan is to get the top 10 sellers items, then get the top 10 bottm and pair them. (the pairing will be with review)"
   ]
  },
  {
   "cell_type": "code",
   "execution_count": 25,
   "id": "37a0c6e3",
   "metadata": {
    "execution": {
     "iopub.execute_input": "2024-06-09T21:16:26.742875Z",
     "iopub.status.busy": "2024-06-09T21:16:26.742491Z",
     "iopub.status.idle": "2024-06-09T21:16:27.253258Z",
     "shell.execute_reply": "2024-06-09T21:16:27.251958Z"
    },
    "papermill": {
     "duration": 0.544376,
     "end_time": "2024-06-09T21:16:27.256857",
     "exception": false,
     "start_time": "2024-06-09T21:16:26.712481",
     "status": "completed"
    },
    "tags": []
   },
   "outputs": [
    {
     "name": "stdout",
     "output_type": "stream",
     "text": [
      "The top selling items:\n",
      "Stock Code:  DOT\n",
      "     Descriptions: ['DOTCOM POSTAGE']\n",
      "Stock Code:  22423\n",
      "     Descriptions: ['REGENCY CAKESTAND 3 TIER' 'faulty' 'damages']\n",
      "Stock Code:  85123A\n",
      "     Descriptions: ['WHITE HANGING HEART T-LIGHT HOLDER' 'CREAM HANGING HEART T-LIGHT HOLDER']\n",
      "Stock Code:  22502\n",
      "     Descriptions: ['PICNIC BASKET WICKER SMALL' 'reverse 21/5/10 adjustment' nan\n",
      " 'PICNIC BASKET WICKER 60 PIECES']\n",
      "Stock Code:  85099B\n",
      "     Descriptions: ['JUMBO BAG RED RETROSPOT' 'JUMBO BAG RED WHITE SPOTTY '\n",
      " 'RED RETROSPOT JUMBO BAG ' 'missing']\n",
      "Stock Code:  47566\n",
      "     Descriptions: ['PARTY BUNTING' nan]\n",
      "Stock Code:  84347\n",
      "     Descriptions: ['ROTATING SILVER ANGELS T-LIGHT HLDR' nan]\n",
      "Stock Code:  84879\n",
      "     Descriptions: ['ASSORTED COLOUR BIRD ORNAMENT']\n",
      "Stock Code:  22086\n",
      "     Descriptions: [\"PAPER CHAIN KIT 50'S CHRISTMAS \"]\n",
      "Stock Code:  22197\n",
      "     Descriptions: ['POPCORN HOLDER' 'SMALL POPCORN HOLDER' 'POPCORN HOLDER , SMALL ']\n"
     ]
    }
   ],
   "source": [
    "top10 = sample.groupby('StockCode')['total_price'].sum().nlargest(10)\n",
    "print_top_items(sample, top10)"
   ]
  },
  {
   "cell_type": "code",
   "execution_count": 26,
   "id": "04588cdc",
   "metadata": {
    "execution": {
     "iopub.execute_input": "2024-06-09T21:16:27.316509Z",
     "iopub.status.busy": "2024-06-09T21:16:27.316050Z",
     "iopub.status.idle": "2024-06-09T21:16:28.274067Z",
     "shell.execute_reply": "2024-06-09T21:16:28.272604Z"
    },
    "papermill": {
     "duration": 0.991109,
     "end_time": "2024-06-09T21:16:28.276894",
     "exception": false,
     "start_time": "2024-06-09T21:16:27.285785",
     "status": "completed"
    },
    "tags": []
   },
   "outputs": [
    {
     "name": "stdout",
     "output_type": "stream",
     "text": [
      "The top selling items:\n",
      "Stock Code:  23166\n",
      "     Descriptions: ['MEDIUM CERAMIC TOP STORAGE JAR']\n",
      "Stock Code:  B\n",
      "     Descriptions: ['Adjust bad debt']\n",
      "Stock Code:  AMAZONFEE\n",
      "     Descriptions: ['AMAZON FEE']\n",
      "Stock Code:  M\n",
      "     Descriptions: ['Manual']\n",
      "Stock Code:  BANK CHARGES\n",
      "     Descriptions: ['Bank Charges' ' Bank Charges']\n",
      "Stock Code:  D\n",
      "     Descriptions: ['Discount']\n",
      "Stock Code:  CRUK\n",
      "     Descriptions: ['CRUK Commission']\n",
      "Stock Code:  S\n",
      "     Descriptions: ['SAMPLES']\n",
      "Stock Code:  21096\n",
      "     Descriptions: ['SET/6 FRUIT SALAD  PAPER PLATES']\n",
      "Stock Code:  85160A\n",
      "     Descriptions: ['WHITE BIRD GARDEN DESIGN MUG']\n",
      "Stock Code:  21088\n",
      "     Descriptions: ['SET/6 FRUIT SALAD PAPER CUPS']\n",
      "Stock Code:  20840\n",
      "     Descriptions: ['FRENCH FLORAL CUSHION COVER ']\n",
      "Stock Code:  22102\n",
      "     Descriptions: ['MIRROR MOSAIC T-LIGHT HOLDER ']\n",
      "Stock Code:  20893\n",
      "     Descriptions: ['HANGING BAUBLE T-LIGHT HOLDER SMALL' 'damages']\n",
      "Stock Code:  79323G\n",
      "     Descriptions: ['GOLD  CHERRY LIGHTS' nan]\n",
      "Stock Code:  85109\n",
      "     Descriptions: ['PINK BOUDOIR T-LIGHT HOLDER' nan]\n",
      "Stock Code:  47351B\n",
      "     Descriptions: ['BLUE  VOILE LAMPSHADE']\n",
      "Stock Code:  79323B\n",
      "     Descriptions: ['BLACK CHERRY LIGHTS']\n",
      "Stock Code:  16053\n",
      "     Descriptions: ['POPART COL BALLPOINT PEN ASST' nan]\n",
      "Stock Code:  10138\n",
      "     Descriptions: ['ASSORTED COLOUR JUMBO PEN' nan]\n"
     ]
    }
   ],
   "source": [
    "topBottom10 = sample.groupby('StockCode')['total_price'].sum().nsmallest(20)\n",
    "print_top_items(sample, topBottom10)"
   ]
  },
  {
   "cell_type": "markdown",
   "id": "f7ece53f",
   "metadata": {
    "papermill": {
     "duration": 0.030103,
     "end_time": "2024-06-09T21:16:28.336618",
     "exception": false,
     "start_time": "2024-06-09T21:16:28.306515",
     "status": "completed"
    },
    "tags": []
   },
   "source": [
    "> On printing the least sell items the follwing wil not be included as they are not items but appears for inventory reasons they have been included.\n",
    "\n",
    "Their Stock Codes are:  \n",
    "- B, AMAZONFEE, M, BANK CHARGES, D, CRUK, S\n",
    "- Adjust bad debt, AMAZON FEE, Manual, Bank Charges, Bank Charges, Discount, CRUK Commission, SAMPLES."
   ]
  },
  {
   "cell_type": "markdown",
   "id": "5fb4ef1c",
   "metadata": {
    "papermill": {
     "duration": 0.0297,
     "end_time": "2024-06-09T21:16:28.395592",
     "exception": false,
     "start_time": "2024-06-09T21:16:28.365892",
     "status": "completed"
    },
    "tags": []
   },
   "source": [
    "<hr>"
   ]
  },
  {
   "cell_type": "code",
   "execution_count": 27,
   "id": "cd38eea4",
   "metadata": {
    "execution": {
     "iopub.execute_input": "2024-06-09T21:16:28.456782Z",
     "iopub.status.busy": "2024-06-09T21:16:28.456363Z",
     "iopub.status.idle": "2024-06-09T21:16:28.465192Z",
     "shell.execute_reply": "2024-06-09T21:16:28.463985Z"
    },
    "papermill": {
     "duration": 0.042096,
     "end_time": "2024-06-09T21:16:28.467753",
     "exception": false,
     "start_time": "2024-06-09T21:16:28.425657",
     "status": "completed"
    },
    "tags": []
   },
   "outputs": [
    {
     "data": {
      "text/plain": [
       "['21088',\n",
       " '10138',\n",
       " '79323B',\n",
       " '85160A',\n",
       " '20893',\n",
       " '47351B',\n",
       " '85109',\n",
       " '21096',\n",
       " '23166',\n",
       " '20840']"
      ]
     },
     "execution_count": 27,
     "metadata": {},
     "output_type": "execute_result"
    }
   ],
   "source": [
    "topBottom10set = set(topBottom10.index) - set(['B', 'AMAZONFEE', 'M', 'BANK CHARGES', 'D', 'CRUK', 'S'])\n",
    "topBottom10List = list(topBottom10set)[:10]\n",
    "topBottom10List"
   ]
  },
  {
   "cell_type": "code",
   "execution_count": 28,
   "id": "98d44038",
   "metadata": {
    "execution": {
     "iopub.execute_input": "2024-06-09T21:16:28.530849Z",
     "iopub.status.busy": "2024-06-09T21:16:28.530436Z",
     "iopub.status.idle": "2024-06-09T21:16:28.538207Z",
     "shell.execute_reply": "2024-06-09T21:16:28.537027Z"
    },
    "papermill": {
     "duration": 0.042224,
     "end_time": "2024-06-09T21:16:28.540638",
     "exception": false,
     "start_time": "2024-06-09T21:16:28.498414",
     "status": "completed"
    },
    "tags": []
   },
   "outputs": [
    {
     "data": {
      "text/plain": [
       "['DOT',\n",
       " '22423',\n",
       " '85123A',\n",
       " '22502',\n",
       " '85099B',\n",
       " '47566',\n",
       " '84347',\n",
       " '84879',\n",
       " '22086',\n",
       " '22197']"
      ]
     },
     "execution_count": 28,
     "metadata": {},
     "output_type": "execute_result"
    }
   ],
   "source": [
    "top10List = list(top10.index)\n",
    "top10List"
   ]
  },
  {
   "cell_type": "markdown",
   "id": "fdf36091",
   "metadata": {
    "papermill": {
     "duration": 0.030037,
     "end_time": "2024-06-09T21:16:28.601497",
     "exception": false,
     "start_time": "2024-06-09T21:16:28.571460",
     "status": "completed"
    },
    "tags": []
   },
   "source": [
    "> now we have top 10 list and top bottom list let's pair them:\n",
    "\n",
    "Well given the non-experience in pairing gifts for people that might get them together, the pairs are chosen randomly."
   ]
  },
  {
   "cell_type": "code",
   "execution_count": 29,
   "id": "1db07e95",
   "metadata": {
    "execution": {
     "iopub.execute_input": "2024-06-09T21:16:28.663708Z",
     "iopub.status.busy": "2024-06-09T21:16:28.663306Z",
     "iopub.status.idle": "2024-06-09T21:16:28.677941Z",
     "shell.execute_reply": "2024-06-09T21:16:28.676700Z"
    },
    "papermill": {
     "duration": 0.048838,
     "end_time": "2024-06-09T21:16:28.681083",
     "exception": false,
     "start_time": "2024-06-09T21:16:28.632245",
     "status": "completed"
    },
    "tags": []
   },
   "outputs": [
    {
     "name": "stdout",
     "output_type": "stream",
     "text": [
      "The Promotion pairs:\n"
     ]
    },
    {
     "data": {
      "text/html": [
       "<div>\n",
       "<style scoped>\n",
       "    .dataframe tbody tr th:only-of-type {\n",
       "        vertical-align: middle;\n",
       "    }\n",
       "\n",
       "    .dataframe tbody tr th {\n",
       "        vertical-align: top;\n",
       "    }\n",
       "\n",
       "    .dataframe thead th {\n",
       "        text-align: right;\n",
       "    }\n",
       "</style>\n",
       "<table border=\"1\" class=\"dataframe\">\n",
       "  <thead>\n",
       "    <tr style=\"text-align: right;\">\n",
       "      <th></th>\n",
       "      <th>0</th>\n",
       "      <th>1</th>\n",
       "    </tr>\n",
       "  </thead>\n",
       "  <tbody>\n",
       "    <tr>\n",
       "      <th>0</th>\n",
       "      <td>22423</td>\n",
       "      <td>20893</td>\n",
       "    </tr>\n",
       "    <tr>\n",
       "      <th>1</th>\n",
       "      <td>22502</td>\n",
       "      <td>85160A</td>\n",
       "    </tr>\n",
       "    <tr>\n",
       "      <th>2</th>\n",
       "      <td>85099B</td>\n",
       "      <td>21096</td>\n",
       "    </tr>\n",
       "    <tr>\n",
       "      <th>3</th>\n",
       "      <td>DOT</td>\n",
       "      <td>21088</td>\n",
       "    </tr>\n",
       "    <tr>\n",
       "      <th>4</th>\n",
       "      <td>47566</td>\n",
       "      <td>10138</td>\n",
       "    </tr>\n",
       "    <tr>\n",
       "      <th>5</th>\n",
       "      <td>85123A</td>\n",
       "      <td>47351B</td>\n",
       "    </tr>\n",
       "    <tr>\n",
       "      <th>6</th>\n",
       "      <td>84347</td>\n",
       "      <td>79323B</td>\n",
       "    </tr>\n",
       "    <tr>\n",
       "      <th>7</th>\n",
       "      <td>22197</td>\n",
       "      <td>23166</td>\n",
       "    </tr>\n",
       "    <tr>\n",
       "      <th>8</th>\n",
       "      <td>84879</td>\n",
       "      <td>85109</td>\n",
       "    </tr>\n",
       "    <tr>\n",
       "      <th>9</th>\n",
       "      <td>22086</td>\n",
       "      <td>20840</td>\n",
       "    </tr>\n",
       "  </tbody>\n",
       "</table>\n",
       "</div>"
      ],
      "text/plain": [
       "        0       1\n",
       "0   22423   20893\n",
       "1   22502  85160A\n",
       "2  85099B   21096\n",
       "3     DOT   21088\n",
       "4   47566   10138\n",
       "5  85123A  47351B\n",
       "6   84347  79323B\n",
       "7   22197   23166\n",
       "8   84879   85109\n",
       "9   22086   20840"
      ]
     },
     "execution_count": 29,
     "metadata": {},
     "output_type": "execute_result"
    }
   ],
   "source": [
    "np.random.seed(1190652)\n",
    "np.random.shuffle(top10List)\n",
    "np.random.shuffle(topBottom10List)\n",
    "\n",
    "promotion_pairs = pd.DataFrame((zip(top10List, topBottom10List)))\n",
    "\n",
    "print(\"The Promotion pairs:\")\n",
    "promotion_pairs"
   ]
  },
  {
   "cell_type": "markdown",
   "id": "a2fb4370",
   "metadata": {
    "papermill": {
     "duration": 0.030996,
     "end_time": "2024-06-09T21:16:28.741970",
     "exception": false,
     "start_time": "2024-06-09T21:16:28.710974",
     "status": "completed"
    },
    "tags": []
   },
   "source": [
    "- For your conveince the pairs are extracted into csv file"
   ]
  },
  {
   "cell_type": "code",
   "execution_count": 30,
   "id": "305923f0",
   "metadata": {
    "execution": {
     "iopub.execute_input": "2024-06-09T21:16:28.805819Z",
     "iopub.status.busy": "2024-06-09T21:16:28.805384Z",
     "iopub.status.idle": "2024-06-09T21:16:28.813017Z",
     "shell.execute_reply": "2024-06-09T21:16:28.811877Z"
    },
    "papermill": {
     "duration": 0.042629,
     "end_time": "2024-06-09T21:16:28.815978",
     "exception": false,
     "start_time": "2024-06-09T21:16:28.773349",
     "status": "completed"
    },
    "tags": []
   },
   "outputs": [],
   "source": [
    "promotion_pairs.to_csv('promotion_pairs.csv')"
   ]
  },
  {
   "cell_type": "markdown",
   "id": "b6c68d8c",
   "metadata": {
    "papermill": {
     "duration": 0.031789,
     "end_time": "2024-06-09T21:16:28.879514",
     "exception": false,
     "start_time": "2024-06-09T21:16:28.847725",
     "status": "completed"
    },
    "tags": []
   },
   "source": [
    "#### <b>Recommendations</b>\n",
    "[Back](#intro)\n",
    "\n",
    "In conclusion, we shall recmmoend you to launch the promotion campaign starting from mid of octobur, since you seem to have a high number of inovices between [September - Decemer] you will be more likely to sell those with higher numbers of cutomers. We shall also recommend using the peack sales hours and around to promote which is at at 15:28:00 o'clock.\n",
    "\n",
    "It is worth mentioning that the percentages of canceling an innovice is (Canceled/Total inovices): 0.10263541982210228 which is relativly great. You have a total sum of -313,185.53 of canceld inovices in the time given, this is worth further investigation. \n",
    "\n",
    "You also have high non-registered customer, we recommned starting a campain since almost 23 percetage of the buyers are not registered. \n",
    "\n",
    "More details for your promotions campain based on your requiremnts:"
   ]
  },
  {
   "cell_type": "markdown",
   "id": "b994f9f4",
   "metadata": {
    "papermill": {
     "duration": 0.031005,
     "end_time": "2024-06-09T21:16:28.943005",
     "exception": false,
     "start_time": "2024-06-09T21:16:28.912000",
     "status": "completed"
    },
    "tags": []
   },
   "source": [
    "**The Top 5 invoices based on their Total sales** are found to be very high such:\n",
    "\n",
    "Table 9: Top 5 invoices\n",
    "\n",
    "|Invoice|total price|\n",
    "|-----|---|\n",
    "|556444|    38,970.00|\n",
    "|530715    |15,818.40|\n",
    "|537632 |   13,541.33|\n",
    "|574941  |  11,318.40|\n",
    "|572209   |  9,855.00|"
   ]
  },
  {
   "cell_type": "markdown",
   "id": "bc26a2b0",
   "metadata": {
    "papermill": {
     "duration": 0.031491,
     "end_time": "2024-06-09T21:16:29.005714",
     "exception": false,
     "start_time": "2024-06-09T21:16:28.974223",
     "status": "completed"
    },
    "tags": []
   },
   "source": [
    "**Top 5 customers based on their Total buying**\n",
    "\n",
    "Table 10: Top 5 customers\n",
    "\n",
    "|Customer ID| total price|\n",
    "|---|--|\n",
    "|18102.0 |   103610.73|\n",
    "|14646.0  |   94118.39|\n",
    "|17450.0   |  53062.80|\n",
    "|14156.0    | 48606.45|\n",
    "|14911.0     |46425.48|"
   ]
  },
  {
   "cell_type": "markdown",
   "id": "1cd154c5",
   "metadata": {
    "papermill": {
     "duration": 0.030496,
     "end_time": "2024-06-09T21:16:29.066251",
     "exception": false,
     "start_time": "2024-06-09T21:16:29.035755",
     "status": "completed"
    },
    "tags": []
   },
   "source": [
    "**Top 5 Selling Items during that Period**\n",
    "\n",
    "1. DOTCOM POSTAGE\n",
    "2. REGENCY CAKESTAND 3 TIER\n",
    "3. WHITE HANGING HEART T-LIGHT HOLDER\n",
    "4. PICNIC BASKET WICKER SMALL\n",
    "5. 'JUMBO BAG RED RETROSPOT"
   ]
  },
  {
   "cell_type": "markdown",
   "id": "08a726fa",
   "metadata": {
    "papermill": {
     "duration": 0.029941,
     "end_time": "2024-06-09T21:16:29.126617",
     "exception": false,
     "start_time": "2024-06-09T21:16:29.096676",
     "status": "completed"
    },
    "tags": []
   },
   "source": [
    "**Top 20 Pairs, Most Frequently Purchased Item Pairs by Customers**\n",
    "\n",
    "1. pink regency teacup and saucer and regency cakestand 3 tier\n",
    "2. lunch bag black skull. and lunch bag red retrospot\n",
    "3. pack of 60 pink paisley cake cases and pack of 72 retro spot cake cases\n",
    "4. red kitchen scales and ivory kitchen scales\n",
    "5. gin + tonic diet metal sign and please one person metal sign\n",
    "6. record frame 7\" single size and black record cover frame\n",
    "7. white hanging heart t-light holder and wood black board ant white finish\n",
    "8. postage and set/6 red spotty paper cups\n",
    "9. coffee mug apples design and coffee mug cat + bird design\n",
    "10. red retrospot cup and pink spotty cup\n",
    "11. white hanging heart t-light holder and retro spot tea set ceramic 11 pc\n",
    "12. kitchen metal sign and lovebird hanging decoration white\n",
    "13. doormat spotty home sweet home and door mat union flag\n",
    "14. pink blue felt craft trinket box and vintage snap cards\n",
    "15. feltcraft cushion rabbit and feltcraft cushion owl\n",
    "16. wooden frame antique white and knitted union flag hot water bottle\n",
    "17. pink cream felt craft trinket box and feltcraft 6 flower friends\n",
    "18. SINGLE HEART ZINC T-LIGHT HOLDER and HANGING HEART ZINC T-LIGHT HOLDER\n",
    "19. green regency teacup and saucer and pink regency teacup and saucer\n",
    "20. childrens apron spaceboy design and lunch bag suki design"
   ]
  },
  {
   "cell_type": "markdown",
   "id": "323f1e90",
   "metadata": {
    "papermill": {
     "duration": 0.030154,
     "end_time": "2024-06-09T21:16:29.187265",
     "exception": false,
     "start_time": "2024-06-09T21:16:29.157111",
     "status": "completed"
    },
    "tags": []
   },
   "source": [
    "**Recommendations for a New Promotion Targeting Items with Low Sales Volume**\n"
   ]
  },
  {
   "cell_type": "code",
   "execution_count": 31,
   "id": "93505cc6",
   "metadata": {
    "execution": {
     "iopub.execute_input": "2024-06-09T21:16:29.250905Z",
     "iopub.status.busy": "2024-06-09T21:16:29.250517Z",
     "iopub.status.idle": "2024-06-09T21:16:29.262772Z",
     "shell.execute_reply": "2024-06-09T21:16:29.261251Z"
    },
    "papermill": {
     "duration": 0.048053,
     "end_time": "2024-06-09T21:16:29.266139",
     "exception": false,
     "start_time": "2024-06-09T21:16:29.218086",
     "status": "completed"
    },
    "tags": []
   },
   "outputs": [
    {
     "name": "stdout",
     "output_type": "stream",
     "text": [
      "The Promotion pairs:\n"
     ]
    },
    {
     "data": {
      "text/html": [
       "<div>\n",
       "<style scoped>\n",
       "    .dataframe tbody tr th:only-of-type {\n",
       "        vertical-align: middle;\n",
       "    }\n",
       "\n",
       "    .dataframe tbody tr th {\n",
       "        vertical-align: top;\n",
       "    }\n",
       "\n",
       "    .dataframe thead th {\n",
       "        text-align: right;\n",
       "    }\n",
       "</style>\n",
       "<table border=\"1\" class=\"dataframe\">\n",
       "  <thead>\n",
       "    <tr style=\"text-align: right;\">\n",
       "      <th></th>\n",
       "      <th>0</th>\n",
       "      <th>1</th>\n",
       "    </tr>\n",
       "  </thead>\n",
       "  <tbody>\n",
       "    <tr>\n",
       "      <th>0</th>\n",
       "      <td>22423</td>\n",
       "      <td>20893</td>\n",
       "    </tr>\n",
       "    <tr>\n",
       "      <th>1</th>\n",
       "      <td>22502</td>\n",
       "      <td>85160A</td>\n",
       "    </tr>\n",
       "    <tr>\n",
       "      <th>2</th>\n",
       "      <td>85099B</td>\n",
       "      <td>21096</td>\n",
       "    </tr>\n",
       "    <tr>\n",
       "      <th>3</th>\n",
       "      <td>DOT</td>\n",
       "      <td>21088</td>\n",
       "    </tr>\n",
       "    <tr>\n",
       "      <th>4</th>\n",
       "      <td>47566</td>\n",
       "      <td>10138</td>\n",
       "    </tr>\n",
       "    <tr>\n",
       "      <th>5</th>\n",
       "      <td>85123A</td>\n",
       "      <td>47351B</td>\n",
       "    </tr>\n",
       "    <tr>\n",
       "      <th>6</th>\n",
       "      <td>84347</td>\n",
       "      <td>79323B</td>\n",
       "    </tr>\n",
       "    <tr>\n",
       "      <th>7</th>\n",
       "      <td>22197</td>\n",
       "      <td>23166</td>\n",
       "    </tr>\n",
       "    <tr>\n",
       "      <th>8</th>\n",
       "      <td>84879</td>\n",
       "      <td>85109</td>\n",
       "    </tr>\n",
       "    <tr>\n",
       "      <th>9</th>\n",
       "      <td>22086</td>\n",
       "      <td>20840</td>\n",
       "    </tr>\n",
       "  </tbody>\n",
       "</table>\n",
       "</div>"
      ],
      "text/plain": [
       "        0       1\n",
       "0   22423   20893\n",
       "1   22502  85160A\n",
       "2  85099B   21096\n",
       "3     DOT   21088\n",
       "4   47566   10138\n",
       "5  85123A  47351B\n",
       "6   84347  79323B\n",
       "7   22197   23166\n",
       "8   84879   85109\n",
       "9   22086   20840"
      ]
     },
     "execution_count": 31,
     "metadata": {},
     "output_type": "execute_result"
    }
   ],
   "source": [
    "print(\"The Promotion pairs:\")\n",
    "promotion_pairs"
   ]
  },
  {
   "cell_type": "markdown",
   "id": "7f4cd850",
   "metadata": {
    "papermill": {
     "duration": 0.03119,
     "end_time": "2024-06-09T21:16:29.328997",
     "exception": false,
     "start_time": "2024-06-09T21:16:29.297807",
     "status": "completed"
    },
    "tags": []
   },
   "source": [
    "You can also refer to the csv results files"
   ]
  },
  {
   "cell_type": "markdown",
   "id": "bd689abd",
   "metadata": {
    "papermill": {
     "duration": 0.030016,
     "end_time": "2024-06-09T21:16:29.389437",
     "exception": false,
     "start_time": "2024-06-09T21:16:29.359421",
     "status": "completed"
    },
    "tags": []
   },
   "source": [
    "<hr>"
   ]
  },
  {
   "cell_type": "markdown",
   "id": "19d7c277",
   "metadata": {
    "papermill": {
     "duration": 0.031358,
     "end_time": "2024-06-09T21:16:29.451490",
     "exception": false,
     "start_time": "2024-06-09T21:16:29.420132",
     "status": "completed"
    },
    "tags": []
   },
   "source": [
    "#### <b>Refrences</b>\n",
    "[Back](#intro)\n",
    "\n",
    "- [1] https://pandas.pydata.org/pandas-docs/stable/reference/api/pandas.DataFrame.nlargest.html\n",
    "- [2] https://stackoverflow.com/questions/26873127/show-dataframe-as-table-in-ipython-notebook\n",
    "- [3] https://www.kaggle.com/datasets/mashlyn/online-retail-ii-uci\n",
    "- [4] https://pandas.pydata.org/pandas-docs/stable/reference/api/pandas.MultiIndex.to_flat_index.html\n",
    "<hr>"
   ]
  }
 ],
 "metadata": {
  "kaggle": {
   "accelerator": "none",
   "dataSources": [
    {
     "datasetId": 430934,
     "sourceId": 821251,
     "sourceType": "datasetVersion"
    }
   ],
   "isGpuEnabled": false,
   "isInternetEnabled": true,
   "language": "python",
   "sourceType": "notebook"
  },
  "kernelspec": {
   "display_name": ".venv",
   "language": "python",
   "name": "python3"
  },
  "language_info": {
   "codemirror_mode": {
    "name": "ipython",
    "version": 3
   },
   "file_extension": ".py",
   "mimetype": "text/x-python",
   "name": "python",
   "nbconvert_exporter": "python",
   "pygments_lexer": "ipython3",
   "version": "3.10.13"
  },
  "papermill": {
   "default_parameters": {},
   "duration": 34.032522,
   "end_time": "2024-06-09T21:16:30.206251",
   "environment_variables": {},
   "exception": null,
   "input_path": "__notebook__.ipynb",
   "output_path": "__notebook__.ipynb",
   "parameters": {},
   "start_time": "2024-06-09T21:15:56.173729",
   "version": "2.5.0"
  }
 },
 "nbformat": 4,
 "nbformat_minor": 5
}
